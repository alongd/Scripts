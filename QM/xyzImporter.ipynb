{
 "cells": [
  {
   "cell_type": "code",
   "execution_count": 1,
   "metadata": {
    "collapsed": true
   },
   "outputs": [],
   "source": [
    "string = \"\"\"19\n",
    "W1\n",
    "C                   0.397013   -0.371153   -0.299297\n",
    "C                   1.455304   -1.239729   -0.023651\n",
    "C                   2.733062   -0.747880    0.241302\n",
    "C                   2.968224    0.623923    0.233702\n",
    "C                   1.918366    1.500763   -0.038884\n",
    "C                   0.644306    1.006660   -0.300367\n",
    "C                  -1.000420   -0.900298   -0.582712\n",
    "C                  -1.983549   -0.553980    0.504820\n",
    "C                  -3.167554    0.100501    0.279867\n",
    "C                  -4.219722    0.684869    0.068407\n",
    "H                   1.280046   -2.310977   -0.020116\n",
    "H                   3.543057   -1.437726    0.451240\n",
    "H                   3.961098    1.008682    0.437598\n",
    "H                   2.093572    2.570947   -0.047949\n",
    "H                  -0.169717    1.693847   -0.506892\n",
    "H                  -0.947191   -1.991703   -0.688913\n",
    "H                  -1.364723   -0.510433   -1.537004\n",
    "H                  -1.730318   -0.836280    1.522429\n",
    "H                  -5.136008    1.191581   -0.109512\n",
    "\"\"\""
   ]
  },
  {
   "cell_type": "code",
   "execution_count": 2,
   "metadata": {
    "collapsed": true
   },
   "outputs": [],
   "source": [
    "import pybel\n",
    "molecule = pybel.readstring('xyz', string)"
   ]
  },
  {
   "cell_type": "code",
   "execution_count": 3,
   "metadata": {},
   "outputs": [
    {
     "data": {
      "image/png": "[encoded data removed]",
      "text/plain": [
       "Molecule(SMILES=\"C#C[CH]CC1C=CC=CC=1\")"
      ]
     },
     "execution_count": 3,
     "metadata": {},
     "output_type": "execute_result"
    }
   ],
   "source": [
    "from rmgpy.molecule.parser import fromOBMol\n",
    "from rmgpy.molecule.molecule import Molecule\n",
    "mol = Molecule()\n",
    "fromOBMol(mol, molecule.OBMol)"
   ]
  },
  {
   "cell_type": "code",
   "execution_count": 4,
   "metadata": {},
   "outputs": [
    {
     "name": "stdout",
     "output_type": "stream",
     "text": [
      "multiplicity 2\n",
      "1  C u0 p0 c0 {2,S} {8,S} {11,S} {12,S}\n",
      "2  C u0 p0 c0 {1,S} {3,S} {4,D}\n",
      "3  C u0 p0 c0 {2,S} {5,D} {13,S}\n",
      "4  C u0 p0 c0 {2,D} {7,S} {17,S}\n",
      "5  C u0 p0 c0 {3,D} {6,S} {14,S}\n",
      "6  C u0 p0 c0 {5,S} {7,D} {15,S}\n",
      "7  C u0 p0 c0 {4,S} {6,D} {16,S}\n",
      "8  C u1 p0 c0 {1,S} {9,S} {18,S}\n",
      "9  C u0 p0 c0 {8,S} {10,T}\n",
      "10 C u0 p0 c0 {9,T} {19,S}\n",
      "11 H u0 p0 c0 {1,S}\n",
      "12 H u0 p0 c0 {1,S}\n",
      "13 H u0 p0 c0 {3,S}\n",
      "14 H u0 p0 c0 {5,S}\n",
      "15 H u0 p0 c0 {6,S}\n",
      "16 H u0 p0 c0 {7,S}\n",
      "17 H u0 p0 c0 {4,S}\n",
      "18 H u0 p0 c0 {8,S}\n",
      "19 H u0 p0 c0 {10,S}\n",
      "\n"
     ]
    }
   ],
   "source": [
    "print mol.toAdjacencyList()"
   ]
  },
  {
   "cell_type": "code",
   "execution_count": null,
   "metadata": {
    "collapsed": true
   },
   "outputs": [],
   "source": []
  }
 ],
 "metadata": {
  "kernelspec": {
   "display_name": "rmg_env",
   "language": "python",
   "name": "rmg_env"
  },
  "language_info": {
   "codemirror_mode": {
    "name": "ipython",
    "version": 2
   },
   "file_extension": ".py",
   "mimetype": "text/x-python",
   "name": "python",
   "nbconvert_exporter": "python",
   "pygments_lexer": "ipython2",
   "version": "2.7.13"
  }
 },
 "nbformat": 4,
 "nbformat_minor": 2
}
