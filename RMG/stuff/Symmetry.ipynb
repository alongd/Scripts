{
 "cells": [
  {
   "cell_type": "code",
   "execution_count": 6,
   "metadata": {},
   "outputs": [],
   "source": [
    "import logging, os\n",
    "from rmgpy.molecule import Molecule\n",
    "from rmgpy.qm.molecule import QMMolecule\n",
    "from rmgpy.qm.main import QMSettings\n",
    "from rmgpy.qm.symmetry import SymmetryJob\n",
    "from rmgpy.qm import symmetry\n",
    "from rmgpy.qm.qmdata import QMdata"
   ]
  },
  {
   "cell_type": "code",
   "execution_count": 7,
   "metadata": {},
   "outputs": [
    {
     "name": "stdout",
     "output_type": "stream",
     "text": [
      "4\n"
     ]
    }
   ],
   "source": [
    "smiles = \"[CH3]\"\n",
    "mol = Molecule().fromSMILES(smiles)\n",
    "\n"
   ]
  },
  {
   "cell_type": "code",
   "execution_count": null,
   "metadata": {
    "collapsed": true
   },
   "outputs": [],
   "source": [
    "\n",
    "\n",
    "\n",
    "qmData = QMdata(groundStateDegeneracy = -1,\n",
    "                 numberOfAtoms = len(mol.vertices),\n",
    "                 stericEnergy = None,\n",
    "                 molecularMass = None,\n",
    "                 energy = 0,\n",
    "                 atomicNumbers = None,\n",
    "                 rotationalConstants = None,\n",
    "                 atomCoords = None,\n",
    "                 frequencies = None,\n",
    "                 source = None,\n",
    "                 )\n",
    "\n",
    "pgc.calculator = SymmetryJob(settings, uniqueID, qmData)\n",
    "\n",
    "symmetry = pgc.calculator.calculate()\n",
    "print symmetry"
   ]
  },
  {
   "cell_type": "code",
   "execution_count": 5,
   "metadata": {},
   "outputs": [
    {
     "ename": "AttributeError",
     "evalue": "QMMolecule instance has no attribute 'qmData'",
     "output_type": "error",
     "traceback": [
      "\u001b[0;31m---------------------------------------------------------------------------\u001b[0m",
      "\u001b[0;31mAttributeError\u001b[0m                            Traceback (most recent call last)",
      "\u001b[0;32m<ipython-input-5-c56a39fe5b03>\u001b[0m in \u001b[0;36m<module>\u001b[0;34m()\u001b[0m\n\u001b[1;32m     11\u001b[0m \u001b[0mqmmol\u001b[0m \u001b[0;34m=\u001b[0m \u001b[0mQMMolecule\u001b[0m\u001b[0;34m(\u001b[0m\u001b[0mmol\u001b[0m\u001b[0;34m,\u001b[0m\u001b[0msettings\u001b[0m\u001b[0;34m)\u001b[0m\u001b[0;34m\u001b[0m\u001b[0m\n\u001b[1;32m     12\u001b[0m \u001b[0;34m\u001b[0m\u001b[0m\n\u001b[0;32m---> 13\u001b[0;31m \u001b[0mqmmol\u001b[0m\u001b[0;34m.\u001b[0m\u001b[0mdeterminePointGroup\u001b[0m\u001b[0;34m(\u001b[0m\u001b[0;34m)\u001b[0m\u001b[0;34m\u001b[0m\u001b[0m\n\u001b[0m\u001b[1;32m     14\u001b[0m \u001b[0;34m\u001b[0m\u001b[0m\n\u001b[1;32m     15\u001b[0m \u001b[0;32mprint\u001b[0m \u001b[0mqmmol\u001b[0m\u001b[0;34m.\u001b[0m\u001b[0mpointGroup\u001b[0m\u001b[0;34m\u001b[0m\u001b[0m\n",
      "\u001b[0;32m/home/alongd/Code/RMG-Py/rmgpy/qm/molecule.pyc\u001b[0m in \u001b[0;36mdeterminePointGroup\u001b[0;34m(self)\u001b[0m\n\u001b[1;32m    436\u001b[0m         \u001b[0mStores\u001b[0m \u001b[0mthe\u001b[0m \u001b[0mresulting\u001b[0m \u001b[0;34m:\u001b[0m\u001b[0;32mclass\u001b[0m\u001b[0;34m:\u001b[0m\u001b[0;34m`\u001b[0m\u001b[0mPointGroup\u001b[0m\u001b[0;34m`\u001b[0m \u001b[0;32min\u001b[0m \u001b[0mself\u001b[0m\u001b[0;34m.\u001b[0m\u001b[0mpointGroup\u001b[0m\u001b[0;34m\u001b[0m\u001b[0m\n\u001b[1;32m    437\u001b[0m         \"\"\"\n\u001b[0;32m--> 438\u001b[0;31m         \u001b[0;32massert\u001b[0m \u001b[0mself\u001b[0m\u001b[0;34m.\u001b[0m\u001b[0mqmData\u001b[0m\u001b[0;34m,\u001b[0m \u001b[0;34m\"Need QM Data first in order to calculate point group.\"\u001b[0m\u001b[0;34m\u001b[0m\u001b[0m\n\u001b[0m\u001b[1;32m    439\u001b[0m         \u001b[0mpgc\u001b[0m \u001b[0;34m=\u001b[0m \u001b[0msymmetry\u001b[0m\u001b[0;34m.\u001b[0m\u001b[0mPointGroupCalculator\u001b[0m\u001b[0;34m(\u001b[0m\u001b[0mself\u001b[0m\u001b[0;34m.\u001b[0m\u001b[0msettings\u001b[0m\u001b[0;34m,\u001b[0m \u001b[0mself\u001b[0m\u001b[0;34m.\u001b[0m\u001b[0muniqueID\u001b[0m\u001b[0;34m,\u001b[0m \u001b[0mself\u001b[0m\u001b[0;34m.\u001b[0m\u001b[0mqmData\u001b[0m\u001b[0;34m)\u001b[0m\u001b[0;34m\u001b[0m\u001b[0m\n\u001b[1;32m    440\u001b[0m         \u001b[0mself\u001b[0m\u001b[0;34m.\u001b[0m\u001b[0mpointGroup\u001b[0m \u001b[0;34m=\u001b[0m \u001b[0mpgc\u001b[0m\u001b[0;34m.\u001b[0m\u001b[0mcalculate\u001b[0m\u001b[0;34m(\u001b[0m\u001b[0;34m)\u001b[0m\u001b[0;34m\u001b[0m\u001b[0m\n",
      "\u001b[0;31mAttributeError\u001b[0m: QMMolecule instance has no attribute 'qmData'"
     ]
    }
   ],
   "source": [
    "RMGpy_path = ''\n",
    "\n",
    "settings = QMSettings(software = 'mopac',\n",
    "                 method = 'pm3',\n",
    "                 fileStore = os.path.join(RMGpy_path, 'testing', 'qm', 'QMfiles'),\n",
    "                 scratchDirectory = None,\n",
    "                 onlyCyclics = False,\n",
    "                 maxRadicalNumber = mol.multiplicity - 1,\n",
    "                 )\n",
    "\n",
    "qmmol = QMMolecule(mol,settings)\n",
    "\n",
    "qmmol.determinePointGroup()\n",
    "\n",
    "print qmmol.pointGroup"
   ]
  },
  {
   "cell_type": "code",
   "execution_count": null,
   "metadata": {
    "collapsed": true
   },
   "outputs": [],
   "source": []
  }
 ],
 "metadata": {
  "kernelspec": {
   "display_name": "rmg_env",
   "language": "python",
   "name": "rmg_env"
  },
  "language_info": {
   "codemirror_mode": {
    "name": "ipython",
    "version": 2
   },
   "file_extension": ".py",
   "mimetype": "text/x-python",
   "name": "python",
   "nbconvert_exporter": "python",
   "pygments_lexer": "ipython2",
   "version": "2.7.13"
  }
 },
 "nbformat": 4,
 "nbformat_minor": 2
}
