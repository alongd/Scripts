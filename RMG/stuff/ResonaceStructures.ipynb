{
 "cells": [
  {
   "cell_type": "code",
   "execution_count": 1,
   "metadata": {},
   "outputs": [],
   "source": [
    "from rmgpy.species import Species\n",
    "from IPython.display import display\n",
    "from rmgpy.molecule.resonance import *\n",
    "from rmgpy.molecule import Molecule"
   ]
  },
  {
   "cell_type": "code",
   "execution_count": 2,
   "metadata": {},
   "outputs": [
    {
     "name": "stdout",
     "output_type": "stream",
     "text": [
      "species has 3 resonance structures:\n",
      "\n",
      "<Molecule \"S#N\">\n"
     ]
    },
    {
     "data": {
      "image/png": "[encoded data removed]",
      "text/plain": [
       "Molecule(SMILES=\"S#N\")"
      ]
     },
     "metadata": {},
     "output_type": "display_data"
    },
    {
     "name": "stdout",
     "output_type": "stream",
     "text": [
      "<Molecule \"[SH+]=[N-]\">\n"
     ]
    },
    {
     "data": {
      "image/png": "[encoded data removed]",
      "text/plain": [
       "Molecule(SMILES=\"[SH+]=[N-]\")"
      ]
     },
     "metadata": {},
     "output_type": "display_data"
    },
    {
     "name": "stdout",
     "output_type": "stream",
     "text": [
      "<Molecule \"S[N]\">\n"
     ]
    },
    {
     "data": {
      "image/png": "[encoded data removed]",
      "text/plain": [
       "Molecule(SMILES=\"S[N]\")"
      ]
     },
     "metadata": {},
     "output_type": "display_data"
    }
   ],
   "source": [
    "molList = generateResonanceStructures(Molecule(SMILES=\"N#S\"))\n",
    "print \"species has {0} resonance structures:\\n\".format(len(molList))\n",
    "for struc in molList:\n",
    "    print \"{0}\".format(struc)\n",
    "    display(struc)"
   ]
  },
  {
   "cell_type": "code",
   "execution_count": 3,
   "metadata": {},
   "outputs": [
    {
     "ename": "AtomTypeError",
     "evalue": "Unable to determine atom type for atom S--, which has 1 single bonds, 0 double bonds to C, 1 double bonds to O, 0 double bonds to S, 1 triple bonds, 0 benzene bonds, 1 lone pairs, and -2 charge.",
     "output_type": "error",
     "traceback": [
      "\u001b[0;31m---------------------------------------------------------------------------\u001b[0m",
      "\u001b[0;31mAtomTypeError\u001b[0m                             Traceback (most recent call last)",
      "\u001b[0;32m<ipython-input-3-7ba60fc399c7>\u001b[0m in \u001b[0;36m<module>\u001b[0;34m()\u001b[0m\n\u001b[0;32m----> 1\u001b[0;31m \u001b[0mmolList\u001b[0m \u001b[0;34m=\u001b[0m \u001b[0mgenerateResonanceStructures\u001b[0m\u001b[0;34m(\u001b[0m\u001b[0mMolecule\u001b[0m\u001b[0;34m(\u001b[0m\u001b[0mSMILES\u001b[0m\u001b[0;34m=\u001b[0m\u001b[0;34m\"OS(=O)[O]\"\u001b[0m\u001b[0;34m)\u001b[0m\u001b[0;34m)\u001b[0m\u001b[0;34m\u001b[0m\u001b[0m\n\u001b[0m\u001b[1;32m      2\u001b[0m \u001b[0;32mprint\u001b[0m \u001b[0;34m\"species has {0} resonance structures:\\n\"\u001b[0m\u001b[0;34m.\u001b[0m\u001b[0mformat\u001b[0m\u001b[0;34m(\u001b[0m\u001b[0mlen\u001b[0m\u001b[0;34m(\u001b[0m\u001b[0mmolList\u001b[0m\u001b[0;34m)\u001b[0m\u001b[0;34m)\u001b[0m\u001b[0;34m\u001b[0m\u001b[0m\n\u001b[1;32m      3\u001b[0m \u001b[0;32mfor\u001b[0m \u001b[0mstruc\u001b[0m \u001b[0;32min\u001b[0m \u001b[0mmolList\u001b[0m\u001b[0;34m:\u001b[0m\u001b[0;34m\u001b[0m\u001b[0m\n\u001b[1;32m      4\u001b[0m     \u001b[0;32mprint\u001b[0m \u001b[0;34m\"{0}\"\u001b[0m\u001b[0;34m.\u001b[0m\u001b[0mformat\u001b[0m\u001b[0;34m(\u001b[0m\u001b[0mstruc\u001b[0m\u001b[0;34m)\u001b[0m\u001b[0;34m\u001b[0m\u001b[0m\n\u001b[1;32m      5\u001b[0m     \u001b[0mdisplay\u001b[0m\u001b[0;34m(\u001b[0m\u001b[0mstruc\u001b[0m\u001b[0;34m)\u001b[0m\u001b[0;34m\u001b[0m\u001b[0m\n",
      "\u001b[0;32m/home/alongd/Code/RMG-Py/rmgpy/molecule/resonance.so\u001b[0m in \u001b[0;36mrmgpy.molecule.resonance.generateResonanceStructures\u001b[0;34m()\u001b[0m\n",
      "\u001b[0;32m/home/alongd/Code/RMG-Py/rmgpy/molecule/resonance.so\u001b[0m in \u001b[0;36mrmgpy.molecule.resonance.generateResonanceStructures\u001b[0;34m()\u001b[0m\n",
      "\u001b[0;32m/home/alongd/Code/RMG-Py/rmgpy/molecule/resonance.so\u001b[0m in \u001b[0;36mrmgpy.molecule.resonance._generateResonanceStructures\u001b[0;34m()\u001b[0m\n",
      "\u001b[0;32m/home/alongd/Code/RMG-Py/rmgpy/molecule/resonance.so\u001b[0m in \u001b[0;36mrmgpy.molecule.resonance.generateLonePairResonanceMultipleBondStructures\u001b[0;34m()\u001b[0m\n",
      "\u001b[0;32m/home/alongd/Code/RMG-Py/rmgpy/molecule/molecule.so\u001b[0m in \u001b[0;36mrmgpy.molecule.molecule.Molecule.updateAtomTypes\u001b[0;34m()\u001b[0m\n",
      "\u001b[0;32m/home/alongd/Code/RMG-Py/rmgpy/molecule/molecule.so\u001b[0m in \u001b[0;36mrmgpy.molecule.molecule.Molecule.updateAtomTypes\u001b[0;34m()\u001b[0m\n",
      "\u001b[0;32m/home/alongd/Code/RMG-Py/rmgpy/molecule/atomtype.so\u001b[0m in \u001b[0;36mrmgpy.molecule.atomtype.getAtomType\u001b[0;34m()\u001b[0m\n",
      "\u001b[0;32m/home/alongd/Code/RMG-Py/rmgpy/molecule/atomtype.so\u001b[0m in \u001b[0;36mrmgpy.molecule.atomtype.getAtomType\u001b[0;34m()\u001b[0m\n",
      "\u001b[0;31mAtomTypeError\u001b[0m: Unable to determine atom type for atom S--, which has 1 single bonds, 0 double bonds to C, 1 double bonds to O, 0 double bonds to S, 1 triple bonds, 0 benzene bonds, 1 lone pairs, and -2 charge."
     ]
    }
   ],
   "source": [
    "molList = generateResonanceStructures(Molecule(SMILES=\"OS(=O)[O]\"))\n",
    "print \"species has {0} resonance structures:\\n\".format(len(molList))\n",
    "for struc in molList:\n",
    "    print \"{0}\".format(struc)\n",
    "    display(struc)"
   ]
  },
  {
   "cell_type": "code",
   "execution_count": 5,
   "metadata": {
    "collapsed": true
   },
   "outputs": [],
   "source": [
    "def res(mol):\n",
    "    count = 0\n",
    "    isomers = generateResonanceStructures(mol)\n",
    "    overallIsomers = len(isomers)\n",
    "    print \"species has {0} resonance structures:\\n\".format(overallIsomers)\n",
    "\n",
    "    # start here when copying to resonance.py\n",
    "    firstIsomerFlag = True\n",
    "    span = []\n",
    "    missOctetList = []\n",
    "    for isomer in isomers:\n",
    "        missOctet = 0\n",
    "        for atom in isomer.vertices:\n",
    "            if atom.isOxygen() or atom.isNitrogen() or atom.isSulfur():\n",
    "                val = 2 * (int(atom.getBondOrdersForAtom()) + atom.lonePairs) + atom.radicalElectrons - atom.charge\n",
    "                if val != 8:\n",
    "                    missOctet += abs(8 - val)\n",
    "        missOctetList.append(missOctet)\n",
    "        if firstIsomerFlag:\n",
    "            minMissOctet = abs(missOctet)\n",
    "            firstIsomerFlag = False\n",
    "        else:\n",
    "            if missOctet < minMissOctet: minMissOctet = missOctet\n",
    "    \n",
    "    filteredIsomers = []\n",
    "    i = 0\n",
    "    for i in xrange(len(isomers)):\n",
    "        print \"{0}\".format(isomers[i])\n",
    "        if missOctetList[i] == minMissOctet:\n",
    "            filteredIsomers.append(isomers[i])\n",
    "            count += 1\n",
    "            print \"missOctet: {0}\".format(\n",
    "                missOctetList[i])\n",
    "        else:\n",
    "            print \"missOctet: {0} (REMOVED!)\".format(\n",
    "                missOctetList[i])\n",
    "        display(isomers[i])\n",
    "\n",
    "    print \"Passed: {0}/{1} ({2}%)\".format(count,overallIsomers,100.0*count/overallIsomers)"
   ]
  },
  {
   "cell_type": "code",
   "execution_count": null,
   "metadata": {
    "collapsed": true
   },
   "outputs": [],
   "source": [
    "mol=Molecule(SMILES='N[NH]')\n",
    "\n",
    "res(mol)"
   ]
  },
  {
   "cell_type": "code",
   "execution_count": 3,
   "metadata": {
    "scrolled": true
   },
   "outputs": [
    {
     "ename": "NameError",
     "evalue": "name 'res' is not defined",
     "output_type": "error",
     "traceback": [
      "\u001b[0;31m---------------------------------------------------------------------------\u001b[0m",
      "\u001b[0;31mNameError\u001b[0m                                 Traceback (most recent call last)",
      "\u001b[0;32m<ipython-input-3-0a09f37e2ae9>\u001b[0m in \u001b[0;36m<module>\u001b[0;34m()\u001b[0m\n\u001b[1;32m      9\u001b[0m \u001b[0mmol\u001b[0m \u001b[0;34m=\u001b[0m \u001b[0mMolecule\u001b[0m\u001b[0;34m(\u001b[0m\u001b[0;34m)\u001b[0m\u001b[0;34m.\u001b[0m\u001b[0mfromAdjacencyList\u001b[0m\u001b[0;34m(\u001b[0m\u001b[0mAdj\u001b[0m\u001b[0;34m)\u001b[0m\u001b[0;34m\u001b[0m\u001b[0m\n\u001b[1;32m     10\u001b[0m \u001b[0;34m\u001b[0m\u001b[0m\n\u001b[0;32m---> 11\u001b[0;31m \u001b[0mres\u001b[0m\u001b[0;34m(\u001b[0m\u001b[0mmol\u001b[0m\u001b[0;34m)\u001b[0m\u001b[0;34m\u001b[0m\u001b[0m\n\u001b[0m",
      "\u001b[0;31mNameError\u001b[0m: name 'res' is not defined"
     ]
    }
   ],
   "source": [
    "Adj=\"\"\"\n",
    "multiplicity 2\n",
    "1 O u0 p2 c0 {2,S} {4,S}\n",
    "2 N u0 p1 c0 {1,S} {3,D}\n",
    "3 O u0 p2 c0 {2,D}\n",
    "4 N u0 p1 c0 {1,S} {5,D}\n",
    "5 N u1 p1 c0 {4,D}\n",
    "\"\"\"\n",
    "mol = Molecule().fromAdjacencyList(Adj)\n",
    "\n",
    "res(mol)"
   ]
  },
  {
   "cell_type": "code",
   "execution_count": null,
   "metadata": {
    "collapsed": true,
    "scrolled": true
   },
   "outputs": [],
   "source": [
    "mol=Molecule(SMILES='OS(=O)[O]')\n",
    "\n",
    "res(mol)"
   ]
  },
  {
   "cell_type": "code",
   "execution_count": null,
   "metadata": {
    "collapsed": true
   },
   "outputs": [],
   "source": [
    "mol=Molecule(SMILES='N#[S]')\n",
    "\n",
    "res(mol)"
   ]
  },
  {
   "cell_type": "code",
   "execution_count": null,
   "metadata": {
    "collapsed": true
   },
   "outputs": [],
   "source": []
  },
  {
   "cell_type": "code",
   "execution_count": null,
   "metadata": {
    "collapsed": true
   },
   "outputs": [],
   "source": []
  },
  {
   "cell_type": "code",
   "execution_count": null,
   "metadata": {
    "collapsed": true
   },
   "outputs": [],
   "source": []
  },
  {
   "cell_type": "code",
   "execution_count": null,
   "metadata": {
    "collapsed": true,
    "scrolled": false
   },
   "outputs": [],
   "source": [
    "Adj=\"\"\"\n",
    "multiplicity 2\n",
    "1 O u0 p2 c0 {2,S} {4,S}\n",
    "2 N u0 p1 c0 {1,S} {3,D}\n",
    "3 O u0 p2 c0 {2,D}\n",
    "4 N u0 p1 c0 {1,S} {5,D}\n",
    "5 N u1 p1 c0 {4,D}\n",
    "\"\"\"\n",
    "mol2=Molecule(SMILES='S#N')\n",
    "mol = Molecule().fromAdjacencyList(Adj)\n",
    "count = 0\n",
    "molList = generateResonanceStructures(mol)\n",
    "print \"species has {0} resonance structures:\\n\".format(len(molList))\n",
    "for struc in molList:\n",
    "    chargeSpan = sum([abs(atom.charge) for atom in struc.vertices])\n",
    "    bondSpan = ('=' in struc.toSMILES()) + ('#' in struc.toSMILES())\n",
    "    if bondSpan <= 10 and chargeSpan <=20:\n",
    "        print \"{0}\".format(struc)\n",
    "        print \"chargeSpan: {0}, bondSpan: {1}\".format(chargeSpan,bondSpan)\n",
    "        display(struc)\n",
    "        count += 1\n",
    "count"
   ]
  },
  {
   "cell_type": "code",
   "execution_count": null,
   "metadata": {
    "collapsed": true,
    "scrolled": false
   },
   "outputs": [],
   "source": [
    "count = 0\n",
    "isomers = generateResonanceStructures(mol2)\n",
    "print \"species has {0} resonance structures:\\n\".format(len(isomers))\n",
    "\n",
    "# start here when copying to resonance.py\n",
    "firstIsomerFlag = True\n",
    "span = []\n",
    "for isomer in isomers:\n",
    "    isomerChargeSpan = int(sum([abs(atom.charge) for atom in isomer.vertices]))\n",
    "    isomerBondSpan = 2 * isomer.toSMILES().count('=') + 3 * isomer.toSMILES().count('#')\n",
    "    isomerValanceSpan = 0\n",
    "    for atom in isomer.vertices:\n",
    "        if ((atom.isNitrogen() and atom.lonePairs >= 2)\n",
    "                or (atom.isOxygen() and atom.lonePairs == 1)):\n",
    "            isomerValanceSpan += 1\n",
    "    if firstIsomerFlag: # initialize the min values\n",
    "        minIsomerChargeSpan = isomerChargeSpan\n",
    "        minIsomerBondSpan = isomerBondSpan\n",
    "        minIsomerValanceSpan = isomerValanceSpan\n",
    "        firstIsomerFlag = False\n",
    "    else:\n",
    "        if isomerChargeSpan < minIsomerChargeSpan: minIsomerChargeSpan = isomerChargeSpan\n",
    "        if isomerBondSpan < minIsomerBondSpan: minIsomerBondSpan = isomerBondSpan\n",
    "        if isomerValanceSpan < minIsomerValanceSpan: minIsomerValanceSpan = isomerValanceSpan\n",
    "    span.append((isomerChargeSpan,isomerBondSpan,isomerValanceSpan))\n",
    "filteredSpan = []\n",
    "filteredIsomers = []\n",
    "i = 0\n",
    "for i in xrange(len(isomers)):\n",
    "    added = False\n",
    "    if (span[i][0] <= minIsomerChargeSpan + 1) and (span[i][1] <= minIsomerBondSpan + 2) and (span[i][2] <= minIsomerValanceSpan + 1):\n",
    "        filteredSpan.append(span[i])\n",
    "        filteredIsomers.append(isomers[i])\n",
    "        added = True\n",
    "        count += 1\n",
    "    if added:\n",
    "        print \"{0}\".format(isomers[i])\n",
    "        print \"isomerChargeSpan: {0}, isomerBondSpan: {1}, isomerValanceSpan: {2}\".format(\n",
    "            span[i][0],span[i][1],span[i][2])\n",
    "    else:\n",
    "        print \"REMOVED: {0}\".format(isomers[i])\n",
    "        print \"isomerChargeSpan: {0}, isomerBondSpan: {1}, isomerValanceSpan: {2} REMOVED!\".format(\n",
    "            span[i][0],span[i][1],span[i][2])\n",
    "    display(isomers[i])\n",
    "\n",
    "print \"Passed: {0}\".format(count)"
   ]
  },
  {
   "cell_type": "code",
   "execution_count": null,
   "metadata": {
    "collapsed": true
   },
   "outputs": [],
   "source": [
    "Adj=\"\"\"\n",
    "multiplicity 2\n",
    "1 O u0 p2 c0 {2,S} {4,S}\n",
    "2 N u0 p1 c0 {1,S} {3,D}\n",
    "3 O u0 p2 c0 {2,D}\n",
    "4 N u0 p1 c0 {1,S} {5,D}\n",
    "5 N u1 p1 c0 {4,D}\n",
    "\"\"\"\n",
    "mol = Molecule().fromAdjacencyList(Adj)\n",
    "for atom in mol.vertices:\n",
    "    print atom"
   ]
  },
  {
   "cell_type": "code",
   "execution_count": null,
   "metadata": {
    "collapsed": true
   },
   "outputs": [],
   "source": [
    "mol = Molecule().fromAdjacencyList(Adj)\n",
    "for atom in mol.vertices:\n",
    "    print atom"
   ]
  },
  {
   "cell_type": "code",
   "execution_count": null,
   "metadata": {
    "collapsed": true
   },
   "outputs": [],
   "source": [
    "list = []\n",
    "list.append((2,4))\n",
    "list.append((4,8))\n",
    "list[0][0]"
   ]
  },
  {
   "cell_type": "code",
   "execution_count": null,
   "metadata": {
    "collapsed": true
   },
   "outputs": [],
   "source": [
    "inf\n",
    "molList = generateResonanceStructures(Molecule(SMILES=\"[N+]=[S-]=O\"))\n",
    "print \"species has {0} resonance structures:\\n\".format(len(molList))\n",
    "for struc in molList:\n",
    "    print \"{0}\".format(struc)\n",
    "    display(struc)"
   ]
  },
  {
   "cell_type": "code",
   "execution_count": null,
   "metadata": {
    "collapsed": true,
    "scrolled": false
   },
   "outputs": [],
   "source": [
    "molList = generateResonanceStructures(Molecule(SMILES=\"O(N=O)[N]#N\"))\n",
    "print \"species has {0} resonance structures:\\n\".format(len(molList))\n",
    "for struc in molList:\n",
    "    print \"{0}\".format(struc)\n",
    "    display(struc)"
   ]
  },
  {
   "cell_type": "code",
   "execution_count": null,
   "metadata": {
    "collapsed": true
   },
   "outputs": [],
   "source": [
    "molList = generateResonanceStructures(Molecule(SMILES=\"[S]O\"))\n",
    "print \"species has {0} resonance structures:\\n\".format(len(molList))\n",
    "for struc in molList:\n",
    "    print \"{0}\".format(struc)\n",
    "    display(struc)"
   ]
  },
  {
   "cell_type": "code",
   "execution_count": null,
   "metadata": {
    "collapsed": true
   },
   "outputs": [],
   "source": [
    "molList = generateResonanceStructures(Molecule(SMILES=\"O[S]\"))\n",
    "print \"species has {0} resonance structures:\\n\".format(len(molList))\n",
    "for struc in molList:\n",
    "    print \"{0}\".format(struc)\n",
    "    display(struc)"
   ]
  },
  {
   "cell_type": "code",
   "execution_count": null,
   "metadata": {
    "collapsed": true
   },
   "outputs": [],
   "source": [
    "spc = Species().fromSMILES(\"O=S=O\")\n",
    "display(spc)\n",
    "print spc.toAdjacencyList()\n",
    "spc.generateResonanceIsomers()\n",
    "print \"species has {0} resonance structures:\\n\".format(len(spc.molecule))\n",
    "\n",
    "for struc in spc.molecule:\n",
    "    print \"{0}\".format(struc)\n",
    "    display(struc)\n",
    "    \n"
   ]
  },
  {
   "cell_type": "code",
   "execution_count": null,
   "metadata": {
    "collapsed": true,
    "scrolled": false
   },
   "outputs": [],
   "source": [
    "molList = generateResonanceStructures(Molecule(SMILES=\"[N+]=[S-]=O\"))\n",
    "print \"species has {0} resonance structures:\\n\".format(len(molList))\n",
    "for struc in molList:\n",
    "    print \"{0}\".format(struc)\n",
    "    display(struc)"
   ]
  },
  {
   "cell_type": "code",
   "execution_count": null,
   "metadata": {
    "collapsed": true
   },
   "outputs": [],
   "source": [
    "spc = Species().fromSMILES(\"CC=S[S]\")\n",
    "spc.generateResonanceIsomers()\n",
    "print \"species has {0} resonance structures:\\n\".format(len(spc.molecule))\n",
    "\n",
    "for struc in spc.molecule:\n",
    "    print \"{0}\".format(struc)\n",
    "    display(struc)"
   ]
  },
  {
   "cell_type": "code",
   "execution_count": null,
   "metadata": {
    "collapsed": true
   },
   "outputs": [],
   "source": [
    "spc = Species().fromAdjacencyList(\n",
    "                \"\"\"\n",
    "multiplicity 2\n",
    "1 S u1 p0 c+1 {2,S} {3,D} {4,S}\n",
    "2 O u0 p2 c0 {1,S} {5,S}\n",
    "3 O u0 p2 c0 {1,D}\n",
    "4 O u0 p3 c-1 {1,S}\n",
    "5 H u0 p0 c0 {2,S}\n",
    "                \"\"\")\n",
    "spc.generateResonanceIsomers()\n",
    "print \"species has {0} resonance structures:\\n\".format(len(spc.molecule))\n",
    "\n",
    "for struc in spc.molecule:\n",
    "    print \"{0}\".format(struc)\n",
    "    display(struc)\n",
    "\n",
    "spc.molecule[0].atoms[0].atomType"
   ]
  },
  {
   "cell_type": "code",
   "execution_count": null,
   "metadata": {
    "collapsed": true
   },
   "outputs": [],
   "source": [
    "spc = Species().fromAdjacencyList(\n",
    "                \"\"\"\n",
    "                1 S u0 p0 c0 {2,D} {3,D} {4,S} {5,S}\n",
    "2 O u0 p2 c0 {1,D}\n",
    "3 O u0 p2 c0 {1,D}\n",
    "4 O u0 p2 c0 {1,S} {6,S}\n",
    "5 O u0 p2 c0 {1,S} {7,S}\n",
    "6 H u0 p0 c0 {4,S}\n",
    "7 H u0 p0 c0 {5,S}\n",
    "                \"\"\")\n",
    "spc.generateResonanceIsomers()\n",
    "print \"species has {0} resonance structures:\\n\".format(len(spc.molecule))\n",
    "\n",
    "for struc in spc.molecule:\n",
    "    print \"{0}\".format(struc)\n",
    "    display(struc)"
   ]
  },
  {
   "cell_type": "code",
   "execution_count": null,
   "metadata": {
    "collapsed": true
   },
   "outputs": [],
   "source": [
    "spc = Species().fromSMILES(\"C[N+](=N)[O-]\")\n",
    "spc.generateResonanceIsomers()\n",
    "print \"species has {0} resonance structures:\\n\".format(len(spc.molecule))\n",
    "\n",
    "for struc in spc.molecule:\n",
    "    print \"{0}\".format(struc)\n",
    "    display(struc)"
   ]
  },
  {
   "cell_type": "code",
   "execution_count": null,
   "metadata": {
    "collapsed": true
   },
   "outputs": [],
   "source": [
    "spc = Species().fromSMILES(\"C[N+]([NH-])=O\")\n",
    "spc.generateResonanceIsomers()\n",
    "print \"species has {0} resonance structures:\\n\".format(len(spc.molecule))\n",
    "\n",
    "for struc in spc.molecule:\n",
    "    print \"{0}\".format(struc)\n",
    "    display(struc)"
   ]
  },
  {
   "cell_type": "code",
   "execution_count": null,
   "metadata": {
    "collapsed": true
   },
   "outputs": [],
   "source": [
    "spc = Species().fromSMILES(\"[CH2]C=O\")\n",
    "spc.generateResonanceIsomers()\n",
    "print \"species has {0} resonance structures:\\n\".format(len(spc.molecule))\n",
    "\n",
    "for struc in spc.molecule:\n",
    "    print \"{0}\".format(struc)\n",
    "    display(struc)"
   ]
  },
  {
   "cell_type": "code",
   "execution_count": null,
   "metadata": {
    "collapsed": true
   },
   "outputs": [],
   "source": [
    "spc = Species().fromSMILES(\"[CH]C=O\")\n",
    "spc.generateResonanceIsomers()\n",
    "print \"species has {0} resonance structures:\\n\".format(len(spc.molecule))\n",
    "\n",
    "for struc in spc.molecule:\n",
    "    print \"{0}\".format(struc)\n",
    "    display(struc)"
   ]
  },
  {
   "cell_type": "code",
   "execution_count": null,
   "metadata": {
    "collapsed": true
   },
   "outputs": [],
   "source": [
    "def res(mol):\n",
    "    count = 0\n",
    "    isomers = generateResonanceStructures(mol)\n",
    "    overallIsomers = len(isomers)\n",
    "    print \"species has {0} resonance structures:\\n\".format(overallIsomers)\n",
    "\n",
    "    # start here when copying to resonance.py\n",
    "    firstIsomerFlag = True\n",
    "    span = []\n",
    "    missingOctet = []\n",
    "    for isomer in isomers:\n",
    "        isomerChargeSpan = int(sum([abs(atom.charge) for atom in isomer.vertices]))\n",
    "        isomerBondSpan = 2 * isomer.toSMILES().count('=') + 3 * isomer.toSMILES().count('#')\n",
    "        isomerValanceSpan = 0\n",
    "        for atom in isomer.vertices:\n",
    "            if atom.isNitrogen():\n",
    "                isomerValanceSpan += abs(atom.lonePairs -1)\n",
    "                if atom.lonePairs == 2: # extra penalty for N::\n",
    "                    isomerValanceSpan += 1\n",
    "            elif atom.isOxygen():\n",
    "                isomerValanceSpan += abs(atom.lonePairs -2)\n",
    "                #if atom.lonePairs == 1: # extra penalty for O:\n",
    "                #    isomerValanceSpan += 1\n",
    "            elif atom.isSulfur():\n",
    "                isomerValanceSpan += abs(atom.lonePairs -2)\n",
    "                if atom.lonePairs == 3: # extra penalty for S:::\n",
    "                    isomerValanceSpan += 1\n",
    "        isomerSpanScore = 1 + isomerChargeSpan + isomerBondSpan + isomerValanceSpan\n",
    "        if firstIsomerFlag: # initialize the min values\n",
    "            minIsomerSpanScore = isomerSpanScore\n",
    "            firstIsomerFlag = False\n",
    "        else:\n",
    "            if isomerSpanScore < minIsomerSpanScore: minIsomerSpanScore = isomerSpanScore\n",
    "        span.append((isomerSpanScore,isomerChargeSpan,isomerBondSpan,isomerValanceSpan))\n",
    "    \n",
    "    filteredSpan = []\n",
    "    filteredIsomers = []\n",
    "    i = 0\n",
    "    for i in xrange(len(isomers)):\n",
    "        added = False\n",
    "        if span[i][0] <= 2 * minIsomerSpanScore:\n",
    "            filteredSpan.append(span[i])\n",
    "            filteredIsomers.append(isomers[i])\n",
    "            added = True\n",
    "            count += 1\n",
    "        if added:\n",
    "            print \"{0}\".format(isomers[i])\n",
    "            print \"isomerChargeSpan: {0}, isomerBondSpan: {1}, isomerValanceSpan: {2}, score: {3}\".format(\n",
    "                span[i][1],span[i][2],span[i][3],span[i][0])\n",
    "        else:\n",
    "            print \"REMOVED: {0}\".format(isomers[i])\n",
    "            print \"isomerChargeSpan: {0}, isomerBondSpan: {1}, isomerValanceSpan: {2}, score: {3} REMOVED!\".format(\n",
    "                span[i][1],span[i][2],span[i][3],span[i][0])\n",
    "        display(isomers[i])\n",
    "\n",
    "    print \"Passed: {0}/{1} ({2}%)\".format(count,overallIsomers,100.0*count/overallIsomers)"
   ]
  }
 ],
 "metadata": {
  "anaconda-cloud": {},
  "kernelspec": {
   "display_name": "rmg_env",
   "language": "python",
   "name": "rmg_env"
  },
  "language_info": {
   "codemirror_mode": {
    "name": "ipython",
    "version": 2
   },
   "file_extension": ".py",
   "mimetype": "text/x-python",
   "name": "python",
   "nbconvert_exporter": "python",
   "pygments_lexer": "ipython2",
   "version": "2.7.13"
  }
 },
 "nbformat": 4,
 "nbformat_minor": 1
}
