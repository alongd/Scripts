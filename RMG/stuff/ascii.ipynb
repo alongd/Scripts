{
 "cells": [
  {
   "cell_type": "code",
   "execution_count": 27,
   "metadata": {
    "collapsed": true
   },
   "outputs": [],
   "source": [
    "import os\n",
    "from tempfile import mkstemp\n",
    "from shutil import move\n",
    "from os import fdopen, remove\n",
    "\n",
    "def get_filepaths(directory):\n",
    "    \"\"\"\n",
    "    This function will generate the file names in a directory \n",
    "    tree by walking the tree either top-down or bottom-up. For each \n",
    "    directory in the tree rooted at directory top (including top itself), \n",
    "    it yields a 3-tuple (dirpath, dirnames, filenames).\n",
    "    \"\"\"\n",
    "    file_paths = []  # List which will store all of the full filepaths\n",
    "\n",
    "    # Walk the tree.\n",
    "    for root, directories, files in os.walk(directory):\n",
    "        for filename in files:\n",
    "            # Join the two strings in order to form the full filepath\n",
    "            filepath = os.path.join(root, filename)\n",
    "            file_paths.append(filepath)\n",
    "\n",
    "    return file_paths\n",
    "\n",
    "def replace(file_path, pattern, subst):\n",
    "    #Create temp file\n",
    "    fh, abs_path = mkstemp()\n",
    "    with fdopen(fh,'w') as new_file:\n",
    "        with open(file_path) as old_file:\n",
    "            for line in old_file:\n",
    "                new_file.write(line.replace(pattern, subst))\n",
    "    #Remove original file\n",
    "    remove(file_path)\n",
    "    #Move new file\n",
    "    move(abs_path, file_path)\n",
    "\n",
    "ascii = [' qwertyuiop[]asdfghjkl;zxcvbnm,./QWERTYUIOP{}ASDFGHJKL:|ZXCVBNM<>?1234567890~!@#$%^&*()_+-=`\"',\"'\",'\\\\']\n",
    "dotA = ['ä','a']\n",
    "dotO = ['ö','o']\n",
    "dotU = ['ü','u']\n",
    "dash = ['–','-']\n",
    "\n",
    "cwd = os.getcwd()\n",
    "#files = [f for f in os.listdir(cwd) if os.path.isfile(os.path.join(cwd, f))]\n",
    "path = os.path.join(cwd, '/input')\n",
    "files = get_filepaths('/home/alongd/Code/RMG-database/input/')\n"
   ]
  },
  {
   "cell_type": "code",
   "execution_count": 29,
   "metadata": {
    "collapsed": true
   },
   "outputs": [],
   "source": [
    "old = '→'\n",
    "new = '=>'\n",
    "\n",
    "for f in files:\n",
    "    replace(f,old,new)\n",
    "            "
   ]
  },
  {
   "cell_type": "code",
   "execution_count": 30,
   "metadata": {},
   "outputs": [],
   "source": [
    "for f in files:\n",
    "    lines = open(f,'r').readlines()\n",
    "    for line in xrange(len(lines)):\n",
    "        for char in xrange(len(lines[line])):\n",
    "            if not lines[line][char] in ascii[0] and not lines[line][char] in ascii[1]\\\n",
    "            and not lines[line][char] in ascii[2] and lines[line][char] != '\\n' and lines[line][char] != ' '\\\n",
    "            and lines[line][char] != '\t'and lines[line][char] != '\\r':\n",
    "                print('''found {0}\\nchar {1} in line {2}: {3}\\nfile: {4}\\n\\n'''.format(lines[line][char],char,line, lines[line],f))"
   ]
  },
  {
   "cell_type": "code",
   "execution_count": null,
   "metadata": {
    "collapsed": true
   },
   "outputs": [],
   "source": []
  }
 ],
 "metadata": {
  "kernelspec": {
   "display_name": "Python 2",
   "language": "python",
   "name": "python2"
  },
  "language_info": {
   "codemirror_mode": {
    "name": "ipython",
    "version": 2
   },
   "file_extension": ".py",
   "mimetype": "text/x-python",
   "name": "python",
   "nbconvert_exporter": "python",
   "pygments_lexer": "ipython2",
   "version": "2.7.13"
  }
 },
 "nbformat": 4,
 "nbformat_minor": 2
}
