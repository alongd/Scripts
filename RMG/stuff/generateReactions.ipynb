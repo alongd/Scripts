{
 "cells": [
  {
   "cell_type": "markdown",
   "metadata": {
    "collapsed": false
   },
   "source": [
    "## Generate reactions"
   ]
  },
  {
   "cell_type": "code",
   "execution_count": 1,
   "metadata": {
    "collapsed": false
   },
   "outputs": [],
   "source": [
    "from rmgpy.species import Species, TransitionState\n",
    "from rmgpy.reaction import Reaction\n",
    "from rmgpy.statmech.translation import Translation, IdealGasTranslation\n",
    "from rmgpy.statmech.rotation import Rotation, LinearRotor, NonlinearRotor, KRotor, SphericalTopRotor\n",
    "from rmgpy.statmech.vibration import Vibration, HarmonicOscillator\n",
    "from rmgpy.statmech.torsion import Torsion, HinderedRotor\n",
    "from rmgpy.statmech.conformer import Conformer\n",
    "from rmgpy.kinetics import Arrhenius\n",
    "from rmgpy.thermo import Wilhoit\n",
    "import rmgpy.constants as constants\n",
    "from rmgpy.rmg.main import RMG\n",
    "from rmgpy.rmg.model import CoreEdgeReactionModel\n",
    "from rmgpy import settings\n",
    "from IPython.display import display\n",
    "from rmgpy.cantherm.output import prettify"
   ]
  },
  {
   "cell_type": "markdown",
   "metadata": {},
   "source": [
    "#### Declare database variables here by changing the thermo and reaction libraries, or restrict to certain reaction families."
   ]
  },
  {
   "cell_type": "code",
   "execution_count": 10,
   "metadata": {
    "collapsed": true
   },
   "outputs": [],
   "source": [
    "database = \"\"\"\n",
    "database(\n",
    "    thermoLibraries = ['KlippensteinH2O2','NitrogenCurran','primaryThermoLibrary','thermo_DFT_CCSDTF12_BAC','DFT_QCI_thermo','CHN','GRI-Mech3.0-N'],\n",
    "    reactionLibraries = [],\n",
    "    seedMechanisms = [],\n",
    "    kineticsDepositories = 'default', \n",
    "#   kineticsFamilies = ['Intra_R_Add_Exocyclic'],  # Select a few families\n",
    "    kineticsFamilies = 'all',   # select 'all' or 'default' for the families\n",
    "    kineticsEstimator = 'rate rules',\n",
    ")\n",
    "\n",
    "options(\n",
    "    verboseComments=True,  # Set to True for detailed kinetics comments\n",
    ")\n",
    "\"\"\""
   ]
  },
  {
   "cell_type": "markdown",
   "metadata": {},
   "source": [
    "##### List all species you want reactions between"
   ]
  },
  {
   "cell_type": "code",
   "execution_count": 48,
   "metadata": {
    "collapsed": true
   },
   "outputs": [],
   "source": [
    "speciesList = \"\"\"\n",
    "species(\n",
    "    label = \"O\",\n",
    "    structure = SMILES(\"[O]\"))\n",
    "    \n",
    "species(\n",
    "    label = \"NNH\",\n",
    "    structure = SMILES(\"N=[N]\"))\n",
    "\"\"\""
   ]
  },
  {
   "cell_type": "code",
   "execution_count": 49,
   "metadata": {
    "collapsed": false
   },
   "outputs": [],
   "source": [
    "# Write input file to disk\n",
    "inputFile = open('temp/input.py','w')\n",
    "inputFile.write(database)\n",
    "inputFile.write(speciesList)\n",
    "inputFile.close()"
   ]
  },
  {
   "cell_type": "code",
   "execution_count": 50,
   "metadata": {
    "collapsed": false
   },
   "outputs": [
    {
     "name": "stderr",
     "output_type": "stream",
     "text": [
      "WARNING:root:Should only make one instance of RMGDatabase because it's stored as a module-level variable!\n",
      "WARNING:root:Unexpected behaviour may result!\n"
     ]
    }
   ],
   "source": [
    "# Execute generate reactions\n",
    "from rmgpy.tools.generate_reactions import *\n",
    "rmg = RMG(inputFile='temp/input.py', outputDirectory='temp')\n",
    "rmg = execute(rmg)"
   ]
  },
  {
   "cell_type": "code",
   "execution_count": 51,
   "metadata": {
    "collapsed": true
   },
   "outputs": [],
   "source": [
    "# Pick some temperature to evaluate the forward and reverse kinetics\n",
    "T = 623.0 # K"
   ]
  },
  {
   "cell_type": "code",
   "execution_count": 52,
   "metadata": {
    "collapsed": false
   },
   "outputs": [
    {
     "name": "stdout",
     "output_type": "stream",
     "text": [
      "=========================\n"
     ]
    },
    {
     "data": {
      "image/png": "[encoded data removed]",
      "text/plain": [
       "Reaction(index=1, reactants=[Species(label=\"N2\", thermo=NASA(polynomials=[NASAPolynomial(coeffs=[3.53101,-0.000123661,-5.02999e-07,2.43531e-09,-1.40881e-12,-1046.98,2.96747], Tmin=(200,'K'), Tmax=(1000,'K')), NASAPolynomial(coeffs=[2.95258,0.0013969,-4.92632e-07,7.8601e-11,-4.60755e-15,-923.949,5.87189], Tmin=(1000,'K'), Tmax=(6000,'K'))], Tmin=(200,'K'), Tmax=(6000,'K'), E0=(-8.64289,'kJ/mol'), Cp0=(29.1007,'J/(mol*K)'), CpInf=(37.4151,'J/(mol*K)'), comment=\"\"\"Thermo library: primaryThermoLibrary\"\"\"), conformer=Conformer(E0=(-8.64289,'kJ/mol'), modes=[]), molecule=[Molecule(SMILES=\"N#N\")], reactive=False, molecularWeight=(28.0135,'amu'), energyTransferModel=SingleExponentialDown(alpha0=(3.5886,'kJ/mol'), T0=(300,'K'), n=0.85)), Species(index=3, label=\"[H]\", thermo=NASA(polynomials=[NASAPolynomial(coeffs=[2.5,-1.06333e-12,1.30802e-15,-5.21436e-19,6.38303e-23,25472.7,-0.454534], Tmin=(100,'K'), Tmax=(4950.76,'K')), NASAPolynomial(coeffs=[2.77499,-0.000212693,6.15681e-08,-7.90365e-12,3.79566e-16,25188.8,-2.23281], Tmin=(4950.76,'K'), Tmax=(5000,'K'))], Tmin=(100,'K'), Tmax=(5000,'K'), E0=(211.792,'kJ/mol'), Cp0=(20.7862,'J/(mol*K)'), CpInf=(20.7862,'J/(mol*K)'), comment=\"\"\"Thermo library: KlippensteinH2O2\"\"\"), conformer=Conformer(E0=(211.792,'kJ/mol'), modes=[]), molecule=[Molecule(SMILES=\"[H]\")], molecularWeight=(1.00794,'amu'), energyTransferModel=SingleExponentialDown(alpha0=(3.5886,'kJ/mol'), T0=(300,'K'), n=0.85))], products=[Species(index=2, label=\"NNH\", thermo=NASA(polynomials=[NASAPolynomial(coeffs=[4.05639,-0.0017313,9.19499e-06,-8.17656e-09,2.3515e-12,28798.9,4.03301], Tmin=(100,'K'), Tmax=(1085.7,'K')), NASAPolynomial(coeffs=[3.08742,0.00398309,-1.66274e-06,3.09807e-10,-2.15374e-14,28882.9,8.20537], Tmin=(1085.7,'K'), Tmax=(5000,'K'))], Tmin=(100,'K'), Tmax=(5000,'K'), E0=(239.461,'kJ/mol'), Cp0=(33.2579,'J/(mol*K)'), CpInf=(58.2013,'J/(mol*K)'), comment=\"\"\"Thermo library: thermo_DFT_CCSDTF12_BAC\"\"\"), conformer=Conformer(E0=(239.461,'kJ/mol'), modes=[]), molecule=[Molecule(SMILES=\"N=[N]\")], molecularWeight=(29.0214,'amu'), energyTransferModel=SingleExponentialDown(alpha0=(3.5886,'kJ/mol'), T0=(300,'K'), n=0.85))], kinetics=Arrhenius(A=(2.63636e+24,'m^3/(mol*s)'), n=-6.6625, Ea=(39.2355,'kJ/mol'), T0=(1,'K'), comment=\"\"\"Average of [Average of [Average of [N3t_Ct-H;HJ]] + Average of [Average of [N3t_N3t;CH2_triplet] + Average of [N3t_N3t;CH_quartet]]]\n",
       "Estimated using average of templates [N3t_R;HJ] + [N3t_N3t;YJ] for rate rule [N3t_N3t;HJ]\n",
       "Multiplied by reaction path degeneracy 2\"\"\"), degeneracy=2, pairs=[(Species(label=\"N2\", thermo=NASA(polynomials=[NASAPolynomial(coeffs=[3.53101,-0.000123661,-5.02999e-07,2.43531e-09,-1.40881e-12,-1046.98,2.96747], Tmin=(200,'K'), Tmax=(1000,'K')), NASAPolynomial(coeffs=[2.95258,0.0013969,-4.92632e-07,7.8601e-11,-4.60755e-15,-923.949,5.87189], Tmin=(1000,'K'), Tmax=(6000,'K'))], Tmin=(200,'K'), Tmax=(6000,'K'), E0=(-8.64289,'kJ/mol'), Cp0=(29.1007,'J/(mol*K)'), CpInf=(37.4151,'J/(mol*K)'), comment=\"\"\"Thermo library: primaryThermoLibrary\"\"\"), conformer=Conformer(E0=(-8.64289,'kJ/mol'), modes=[]), molecule=[Molecule(SMILES=\"N#N\")], reactive=False, molecularWeight=(28.0135,'amu'), energyTransferModel=SingleExponentialDown(alpha0=(3.5886,'kJ/mol'), T0=(300,'K'), n=0.85)), Species(index=2, label=\"NNH\", thermo=NASA(polynomials=[NASAPolynomial(coeffs=[4.05639,-0.0017313,9.19499e-06,-8.17656e-09,2.3515e-12,28798.9,4.03301], Tmin=(100,'K'), Tmax=(1085.7,'K')), NASAPolynomial(coeffs=[3.08742,0.00398309,-1.66274e-06,3.09807e-10,-2.15374e-14,28882.9,8.20537], Tmin=(1085.7,'K'), Tmax=(5000,'K'))], Tmin=(100,'K'), Tmax=(5000,'K'), E0=(239.461,'kJ/mol'), Cp0=(33.2579,'J/(mol*K)'), CpInf=(58.2013,'J/(mol*K)'), comment=\"\"\"Thermo library: thermo_DFT_CCSDTF12_BAC\"\"\"), conformer=Conformer(E0=(239.461,'kJ/mol'), modes=[]), molecule=[Molecule(SMILES=\"N=[N]\")], molecularWeight=(29.0214,'amu'), energyTransferModel=SingleExponentialDown(alpha0=(3.5886,'kJ/mol'), T0=(300,'K'), n=0.85))), (Species(index=3, label=\"[H]\", thermo=NASA(polynomials=[NASAPolynomial(coeffs=[2.5,-1.06333e-12,1.30802e-15,-5.21436e-19,6.38303e-23,25472.7,-0.454534], Tmin=(100,'K'), Tmax=(4950.76,'K')), NASAPolynomial(coeffs=[2.77499,-0.000212693,6.15681e-08,-7.90365e-12,3.79566e-16,25188.8,-2.23281], Tmin=(4950.76,'K'), Tmax=(5000,'K'))], Tmin=(100,'K'), Tmax=(5000,'K'), E0=(211.792,'kJ/mol'), Cp0=(20.7862,'J/(mol*K)'), CpInf=(20.7862,'J/(mol*K)'), comment=\"\"\"Thermo library: KlippensteinH2O2\"\"\"), conformer=Conformer(E0=(211.792,'kJ/mol'), modes=[]), molecule=[Molecule(SMILES=\"[H]\")], molecularWeight=(1.00794,'amu'), energyTransferModel=SingleExponentialDown(alpha0=(3.5886,'kJ/mol'), T0=(300,'K'), n=0.85)), Species(index=2, label=\"NNH\", thermo=NASA(polynomials=[NASAPolynomial(coeffs=[4.05639,-0.0017313,9.19499e-06,-8.17656e-09,2.3515e-12,28798.9,4.03301], Tmin=(100,'K'), Tmax=(1085.7,'K')), NASAPolynomial(coeffs=[3.08742,0.00398309,-1.66274e-06,3.09807e-10,-2.15374e-14,28882.9,8.20537], Tmin=(1085.7,'K'), Tmax=(5000,'K'))], Tmin=(100,'K'), Tmax=(5000,'K'), E0=(239.461,'kJ/mol'), Cp0=(33.2579,'J/(mol*K)'), CpInf=(58.2013,'J/(mol*K)'), comment=\"\"\"Thermo library: thermo_DFT_CCSDTF12_BAC\"\"\"), conformer=Conformer(E0=(239.461,'kJ/mol'), modes=[]), molecule=[Molecule(SMILES=\"N=[N]\")], molecularWeight=(29.0214,'amu'), energyTransferModel=SingleExponentialDown(alpha0=(3.5886,'kJ/mol'), T0=(300,'K'), n=0.85)))])"
      ]
     },
     "metadata": {},
     "output_type": "display_data"
    },
    {
     "name": "stdout",
     "output_type": "stream",
     "text": [
      "Reaction Family = R_Addition_MultipleBond\n",
      "\n",
      "Reactants\n",
      "Label: N2\n",
      "SMILES: N#N\n",
      "\n",
      "Label: [H]\n",
      "SMILES: [H]\n",
      "\n",
      "Products\n",
      "Label: NNH\n",
      "SMILES: N=[N]\n",
      "\n",
      "! Template reaction: R_Addition_MultipleBond\n",
      "! Flux pairs: N2, NNH(2); H(3), NNH(2); \n",
      "! Average of [Average of [Average of [N3t_Ct-H;HJ]] + Average of [Average of [N3t_N3t;CH2_triplet] + Average of [N3t_N3t;CH_quartet]]]\n",
      "! Estimated using average of templates [N3t_R;HJ] + [N3t_N3t;YJ] for rate rule [N3t_N3t;HJ]\n",
      "! Multiplied by reaction path degeneracy 2\n",
      "N2+H(3)=NNH(2)                                      2.636e+30 -6.662    9.378    \n",
      "\n",
      "\n",
      "Heat of Reaction = 6.53 kcal/mol\n",
      "Forward kinetics at 623.0 K: 3.26E+02\n",
      "Reverse kinetics at 623.0 K: 7.50E+10\n",
      "=========================\n"
     ]
    },
    {
     "data": {
      "image/png": "[encoded data removed]",
      "text/plain": [
       "Reaction(index=2, reactants=[Species(index=3, label=\"[H]\", thermo=NASA(polynomials=[NASAPolynomial(coeffs=[2.5,-1.06333e-12,1.30802e-15,-5.21436e-19,6.38303e-23,25472.7,-0.454534], Tmin=(100,'K'), Tmax=(4950.76,'K')), NASAPolynomial(coeffs=[2.77499,-0.000212693,6.15681e-08,-7.90365e-12,3.79566e-16,25188.8,-2.23281], Tmin=(4950.76,'K'), Tmax=(5000,'K'))], Tmin=(100,'K'), Tmax=(5000,'K'), E0=(211.792,'kJ/mol'), Cp0=(20.7862,'J/(mol*K)'), CpInf=(20.7862,'J/(mol*K)'), comment=\"\"\"Thermo library: KlippensteinH2O2\"\"\"), conformer=Conformer(E0=(211.792,'kJ/mol'), modes=[]), molecule=[Molecule(SMILES=\"[H]\")], molecularWeight=(1.00794,'amu'), energyTransferModel=SingleExponentialDown(alpha0=(3.5886,'kJ/mol'), T0=(300,'K'), n=0.85)), Species(index=4, label=\"[N]=[N]\", thermo=NASA(polynomials=[NASAPolynomial(coeffs=[4.00101,0.000401486,-3.47826e-07,1.23085e-10,-1.26335e-14,34818.2,4.81794], Tmin=(100,'K'), Tmax=(2149.92,'K')), NASAPolynomial(coeffs=[4.61875,-0.000597414,2.44151e-07,-2.79348e-11,1.14306e-15,34517.8,1.284], Tmin=(2149.92,'K'), Tmax=(5000,'K'))], Tmin=(100,'K'), Tmax=(5000,'K'), E0=(289.498,'kJ/mol'), Cp0=(33.2579,'J/(mol*K)'), CpInf=(83.1447,'J/(mol*K)'), comment=\"\"\"Thermo library: thermo_DFT_CCSDTF12_BAC + radical(N3dJ_N) + radical(N3dJ_N)\"\"\"), conformer=Conformer(E0=(289.498,'kJ/mol'), modes=[]), molecule=[Molecule(SMILES=\"[N]=[N]\")], molecularWeight=(28.0135,'amu'), energyTransferModel=SingleExponentialDown(alpha0=(3.5886,'kJ/mol'), T0=(300,'K'), n=0.85))], products=[Species(index=2, label=\"NNH\", thermo=NASA(polynomials=[NASAPolynomial(coeffs=[4.05639,-0.0017313,9.19499e-06,-8.17656e-09,2.3515e-12,28798.9,4.03301], Tmin=(100,'K'), Tmax=(1085.7,'K')), NASAPolynomial(coeffs=[3.08742,0.00398309,-1.66274e-06,3.09807e-10,-2.15374e-14,28882.9,8.20537], Tmin=(1085.7,'K'), Tmax=(5000,'K'))], Tmin=(100,'K'), Tmax=(5000,'K'), E0=(239.461,'kJ/mol'), Cp0=(33.2579,'J/(mol*K)'), CpInf=(58.2013,'J/(mol*K)'), comment=\"\"\"Thermo library: thermo_DFT_CCSDTF12_BAC\"\"\"), conformer=Conformer(E0=(239.461,'kJ/mol'), modes=[]), molecule=[Molecule(SMILES=\"N=[N]\")], molecularWeight=(29.0214,'amu'), energyTransferModel=SingleExponentialDown(alpha0=(3.5886,'kJ/mol'), T0=(300,'K'), n=0.85))], kinetics=Arrhenius(A=(2.64601e+07,'m^3/(mol*s)'), n=0.0686111, Ea=(-0.511378,'kJ/mol'), T0=(1,'K'), comment=\"\"\"Average of [Average of [Average of [Average of [Average of [N3d-OdOs;O_rad] + Average of [Average of [O_pri_rad;N3d-OdOs] + O_rad;N3d-OdOs]] + Average of [Average of [Average of [O_pri_rad;N3d-OdOs]] + Average of [Average of [O_pri_rad;N3d-OdOs] + O_rad;N3d-OdOs]]] + Average of [Average of [Average of [Average of [O_pri_rad;N3d-OdOs]]] + Average of [Average of [Average of [O_pri_rad;N3d-OdOs]] + Average of [Average of [O_pri_rad;N3d-OdOs] + O_rad;N3d-OdOs]]]] + Average of [H_rad;H_rad + Average of [Average of [H_rad;SsJ-H]] + Average of [H_rad;Ct_rad/Ct] + Average of [H_rad;O_pri_rad] + H_rad;O2_birad + Average of [H_rad;Cd_pri_rad + H_rad;Cd_allenic] + H_rad;Cb_rad + Average of [H_rad;CO_pri_rad] + H_rad;Cs_rad]]\n",
       "Estimated using average of templates [Y_rad;N3_rad] + [H_rad;Y_rad] for rate rule [H_rad;N3_rad]\n",
       "Multiplied by reaction path degeneracy 2\"\"\"), degeneracy=2, pairs=[(Species(index=3, label=\"[H]\", thermo=NASA(polynomials=[NASAPolynomial(coeffs=[2.5,-1.06333e-12,1.30802e-15,-5.21436e-19,6.38303e-23,25472.7,-0.454534], Tmin=(100,'K'), Tmax=(4950.76,'K')), NASAPolynomial(coeffs=[2.77499,-0.000212693,6.15681e-08,-7.90365e-12,3.79566e-16,25188.8,-2.23281], Tmin=(4950.76,'K'), Tmax=(5000,'K'))], Tmin=(100,'K'), Tmax=(5000,'K'), E0=(211.792,'kJ/mol'), Cp0=(20.7862,'J/(mol*K)'), CpInf=(20.7862,'J/(mol*K)'), comment=\"\"\"Thermo library: KlippensteinH2O2\"\"\"), conformer=Conformer(E0=(211.792,'kJ/mol'), modes=[]), molecule=[Molecule(SMILES=\"[H]\")], molecularWeight=(1.00794,'amu'), energyTransferModel=SingleExponentialDown(alpha0=(3.5886,'kJ/mol'), T0=(300,'K'), n=0.85)), Species(index=2, label=\"NNH\", thermo=NASA(polynomials=[NASAPolynomial(coeffs=[4.05639,-0.0017313,9.19499e-06,-8.17656e-09,2.3515e-12,28798.9,4.03301], Tmin=(100,'K'), Tmax=(1085.7,'K')), NASAPolynomial(coeffs=[3.08742,0.00398309,-1.66274e-06,3.09807e-10,-2.15374e-14,28882.9,8.20537], Tmin=(1085.7,'K'), Tmax=(5000,'K'))], Tmin=(100,'K'), Tmax=(5000,'K'), E0=(239.461,'kJ/mol'), Cp0=(33.2579,'J/(mol*K)'), CpInf=(58.2013,'J/(mol*K)'), comment=\"\"\"Thermo library: thermo_DFT_CCSDTF12_BAC\"\"\"), conformer=Conformer(E0=(239.461,'kJ/mol'), modes=[]), molecule=[Molecule(SMILES=\"N=[N]\")], molecularWeight=(29.0214,'amu'), energyTransferModel=SingleExponentialDown(alpha0=(3.5886,'kJ/mol'), T0=(300,'K'), n=0.85))), (Species(index=4, label=\"[N]=[N]\", thermo=NASA(polynomials=[NASAPolynomial(coeffs=[4.00101,0.000401486,-3.47826e-07,1.23085e-10,-1.26335e-14,34818.2,4.81794], Tmin=(100,'K'), Tmax=(2149.92,'K')), NASAPolynomial(coeffs=[4.61875,-0.000597414,2.44151e-07,-2.79348e-11,1.14306e-15,34517.8,1.284], Tmin=(2149.92,'K'), Tmax=(5000,'K'))], Tmin=(100,'K'), Tmax=(5000,'K'), E0=(289.498,'kJ/mol'), Cp0=(33.2579,'J/(mol*K)'), CpInf=(83.1447,'J/(mol*K)'), comment=\"\"\"Thermo library: thermo_DFT_CCSDTF12_BAC + radical(N3dJ_N) + radical(N3dJ_N)\"\"\"), conformer=Conformer(E0=(289.498,'kJ/mol'), modes=[]), molecule=[Molecule(SMILES=\"[N]=[N]\")], molecularWeight=(28.0135,'amu'), energyTransferModel=SingleExponentialDown(alpha0=(3.5886,'kJ/mol'), T0=(300,'K'), n=0.85)), Species(index=2, label=\"NNH\", thermo=NASA(polynomials=[NASAPolynomial(coeffs=[4.05639,-0.0017313,9.19499e-06,-8.17656e-09,2.3515e-12,28798.9,4.03301], Tmin=(100,'K'), Tmax=(1085.7,'K')), NASAPolynomial(coeffs=[3.08742,0.00398309,-1.66274e-06,3.09807e-10,-2.15374e-14,28882.9,8.20537], Tmin=(1085.7,'K'), Tmax=(5000,'K'))], Tmin=(100,'K'), Tmax=(5000,'K'), E0=(239.461,'kJ/mol'), Cp0=(33.2579,'J/(mol*K)'), CpInf=(58.2013,'J/(mol*K)'), comment=\"\"\"Thermo library: thermo_DFT_CCSDTF12_BAC\"\"\"), conformer=Conformer(E0=(239.461,'kJ/mol'), modes=[]), molecule=[Molecule(SMILES=\"N=[N]\")], molecularWeight=(29.0214,'amu'), energyTransferModel=SingleExponentialDown(alpha0=(3.5886,'kJ/mol'), T0=(300,'K'), n=0.85)))])"
      ]
     },
     "metadata": {},
     "output_type": "display_data"
    },
    {
     "name": "stdout",
     "output_type": "stream",
     "text": [
      "Reaction Family = R_Recombination\n",
      "\n",
      "Reactants\n",
      "Label: [H]\n",
      "SMILES: [H]\n",
      "\n",
      "Label: [N]=[N]\n",
      "SMILES: [N]=[N]\n",
      "\n",
      "Products\n",
      "Label: NNH\n",
      "SMILES: N=[N]\n",
      "\n",
      "! Template reaction: R_Recombination\n",
      "! Flux pairs: H(3), NNH(2); N2(4), NNH(2); \n",
      "! Average of [Average of [Average of [Average of [Average of [N3d-OdOs;O_rad] + Average of [Average of [O_pri_rad;N3d-OdOs] + O_rad;N3d-OdOs]] + Average\n",
      "! of [Average of [Average of [O_pri_rad;N3d-OdOs]] + Average of [Average of [O_pri_rad;N3d-OdOs] + O_rad;N3d-OdOs]]] + Average of [Average of [Average\n",
      "! of [Average of [O_pri_rad;N3d-OdOs]]] + Average of [Average of [Average of [O_pri_rad;N3d-OdOs]] + Average of [Average of [O_pri_rad;N3d-OdOs] + O_rad\n",
      "! ;N3d-OdOs]]]] + Average of [H_rad;H_rad + Average of [Average of [H_rad;SsJ-H]] + Average of [H_rad;Ct_rad/Ct] + Average of [H_rad;O_pri_rad] +\n",
      "! H_rad;O2_birad + Average of [H_rad;Cd_pri_rad + H_rad;Cd_allenic] + H_rad;Cb_rad + Average of [H_rad;CO_pri_rad] + H_rad;Cs_rad]]\n",
      "! Estimated using average of templates [Y_rad;N3_rad] + [H_rad;Y_rad] for rate rule [H_rad;N3_rad]\n",
      "! Multiplied by reaction path degeneracy 2\n",
      "H(3)+N2(4)=NNH(2)                                   2.646e+13 0.069     -0.122   \n",
      "\n",
      "\n",
      "Heat of Reaction = -65.43 kcal/mol\n",
      "Forward kinetics at 623.0 K: 4.54E+07\n",
      "Reverse kinetics at 623.0 K: 9.80E-08\n",
      "=========================\n"
     ]
    },
    {
     "data": {
      "image/png": "[encoded data removed]",
      "text/plain": [
       "Reaction(index=3, reactants=[Species(index=1, label=\"O\", thermo=NASA(polynomials=[NASAPolynomial(coeffs=[2.5,-1.06333e-12,1.30802e-15,-5.21436e-19,6.38303e-23,29246.9,5.1312], Tmin=(100,'K'), Tmax=(4950.76,'K')), NASAPolynomial(coeffs=[2.77499,-0.000212693,6.15681e-08,-7.90365e-12,3.79566e-16,28962.9,3.35293], Tmin=(4950.76,'K'), Tmax=(5000,'K'))], Tmin=(100,'K'), Tmax=(5000,'K'), E0=(243.172,'kJ/mol'), Cp0=(20.7862,'J/(mol*K)'), CpInf=(20.7862,'J/(mol*K)'), comment=\"\"\"Thermo library: KlippensteinH2O2\"\"\"), conformer=Conformer(E0=(243.172,'kJ/mol'), modes=[]), molecule=[Molecule(SMILES=\"[O]\")], molecularWeight=(15.9994,'amu'), energyTransferModel=SingleExponentialDown(alpha0=(3.5886,'kJ/mol'), T0=(300,'K'), n=0.85)), Species(index=2, label=\"NNH\", thermo=NASA(polynomials=[NASAPolynomial(coeffs=[4.05639,-0.0017313,9.19499e-06,-8.17656e-09,2.3515e-12,28798.9,4.03301], Tmin=(100,'K'), Tmax=(1085.7,'K')), NASAPolynomial(coeffs=[3.08742,0.00398309,-1.66274e-06,3.09807e-10,-2.15374e-14,28882.9,8.20537], Tmin=(1085.7,'K'), Tmax=(5000,'K'))], Tmin=(100,'K'), Tmax=(5000,'K'), E0=(239.461,'kJ/mol'), Cp0=(33.2579,'J/(mol*K)'), CpInf=(58.2013,'J/(mol*K)'), comment=\"\"\"Thermo library: thermo_DFT_CCSDTF12_BAC\"\"\"), conformer=Conformer(E0=(239.461,'kJ/mol'), modes=[]), molecule=[Molecule(SMILES=\"N=[N]\")], molecularWeight=(29.0214,'amu'), energyTransferModel=SingleExponentialDown(alpha0=(3.5886,'kJ/mol'), T0=(300,'K'), n=0.85))], products=[Species(label=\"N2\", thermo=NASA(polynomials=[NASAPolynomial(coeffs=[3.53101,-0.000123661,-5.02999e-07,2.43531e-09,-1.40881e-12,-1046.98,2.96747], Tmin=(200,'K'), Tmax=(1000,'K')), NASAPolynomial(coeffs=[2.95258,0.0013969,-4.92632e-07,7.8601e-11,-4.60755e-15,-923.949,5.87189], Tmin=(1000,'K'), Tmax=(6000,'K'))], Tmin=(200,'K'), Tmax=(6000,'K'), E0=(-8.64289,'kJ/mol'), Cp0=(29.1007,'J/(mol*K)'), CpInf=(37.4151,'J/(mol*K)'), comment=\"\"\"Thermo library: primaryThermoLibrary\"\"\"), conformer=Conformer(E0=(-8.64289,'kJ/mol'), modes=[]), molecule=[Molecule(SMILES=\"N#N\")], reactive=False, molecularWeight=(28.0135,'amu'), energyTransferModel=SingleExponentialDown(alpha0=(3.5886,'kJ/mol'), T0=(300,'K'), n=0.85)), Species(index=5, label=\"[OH]\", thermo=NASA(polynomials=[NASAPolynomial(coeffs=[3.48526,0.00130495,-4.54558e-06,5.4075e-09,-1.95652e-12,3412.46,2.0046], Tmin=(100,'K'), Tmax=(1014.14,'K')), NASAPolynomial(coeffs=[2.90837,0.000969343,-1.87376e-07,3.90417e-12,1.35186e-15,3663.73,5.4578], Tmin=(1014.14,'K'), Tmax=(5000,'K'))], Tmin=(100,'K'), Tmax=(5000,'K'), E0=(28.3756,'kJ/mol'), Cp0=(29.1007,'J/(mol*K)'), CpInf=(37.4151,'J/(mol*K)'), comment=\"\"\"Thermo library: KlippensteinH2O2\"\"\"), conformer=Conformer(E0=(28.3756,'kJ/mol'), modes=[]), molecule=[Molecule(SMILES=\"[OH]\")], molecularWeight=(17.0073,'amu'), energyTransferModel=SingleExponentialDown(alpha0=(3.5886,'kJ/mol'), T0=(300,'K'), n=0.85))], kinetics=Arrhenius(A=(1.7e+08,'cm^3/(mol*s)'), n=1.5, Ea=(-3.72376,'kJ/mol'), T0=(1,'K'), Tmin=(300,'K'), Tmax=(2500,'K'), comment=\"\"\"Exact match found for rate rule [O_atom_triplet;N3d/H_d_Nrad]\"\"\"), pairs=[(Species(index=1, label=\"O\", thermo=NASA(polynomials=[NASAPolynomial(coeffs=[2.5,-1.06333e-12,1.30802e-15,-5.21436e-19,6.38303e-23,29246.9,5.1312], Tmin=(100,'K'), Tmax=(4950.76,'K')), NASAPolynomial(coeffs=[2.77499,-0.000212693,6.15681e-08,-7.90365e-12,3.79566e-16,28962.9,3.35293], Tmin=(4950.76,'K'), Tmax=(5000,'K'))], Tmin=(100,'K'), Tmax=(5000,'K'), E0=(243.172,'kJ/mol'), Cp0=(20.7862,'J/(mol*K)'), CpInf=(20.7862,'J/(mol*K)'), comment=\"\"\"Thermo library: KlippensteinH2O2\"\"\"), conformer=Conformer(E0=(243.172,'kJ/mol'), modes=[]), molecule=[Molecule(SMILES=\"[O]\")], molecularWeight=(15.9994,'amu'), energyTransferModel=SingleExponentialDown(alpha0=(3.5886,'kJ/mol'), T0=(300,'K'), n=0.85)), Species(index=5, label=\"[OH]\", thermo=NASA(polynomials=[NASAPolynomial(coeffs=[3.48526,0.00130495,-4.54558e-06,5.4075e-09,-1.95652e-12,3412.46,2.0046], Tmin=(100,'K'), Tmax=(1014.14,'K')), NASAPolynomial(coeffs=[2.90837,0.000969343,-1.87376e-07,3.90417e-12,1.35186e-15,3663.73,5.4578], Tmin=(1014.14,'K'), Tmax=(5000,'K'))], Tmin=(100,'K'), Tmax=(5000,'K'), E0=(28.3756,'kJ/mol'), Cp0=(29.1007,'J/(mol*K)'), CpInf=(37.4151,'J/(mol*K)'), comment=\"\"\"Thermo library: KlippensteinH2O2\"\"\"), conformer=Conformer(E0=(28.3756,'kJ/mol'), modes=[]), molecule=[Molecule(SMILES=\"[OH]\")], molecularWeight=(17.0073,'amu'), energyTransferModel=SingleExponentialDown(alpha0=(3.5886,'kJ/mol'), T0=(300,'K'), n=0.85))), (Species(index=2, label=\"NNH\", thermo=NASA(polynomials=[NASAPolynomial(coeffs=[4.05639,-0.0017313,9.19499e-06,-8.17656e-09,2.3515e-12,28798.9,4.03301], Tmin=(100,'K'), Tmax=(1085.7,'K')), NASAPolynomial(coeffs=[3.08742,0.00398309,-1.66274e-06,3.09807e-10,-2.15374e-14,28882.9,8.20537], Tmin=(1085.7,'K'), Tmax=(5000,'K'))], Tmin=(100,'K'), Tmax=(5000,'K'), E0=(239.461,'kJ/mol'), Cp0=(33.2579,'J/(mol*K)'), CpInf=(58.2013,'J/(mol*K)'), comment=\"\"\"Thermo library: thermo_DFT_CCSDTF12_BAC\"\"\"), conformer=Conformer(E0=(239.461,'kJ/mol'), modes=[]), molecule=[Molecule(SMILES=\"N=[N]\")], molecularWeight=(29.0214,'amu'), energyTransferModel=SingleExponentialDown(alpha0=(3.5886,'kJ/mol'), T0=(300,'K'), n=0.85)), Species(label=\"N2\", thermo=NASA(polynomials=[NASAPolynomial(coeffs=[3.53101,-0.000123661,-5.02999e-07,2.43531e-09,-1.40881e-12,-1046.98,2.96747], Tmin=(200,'K'), Tmax=(1000,'K')), NASAPolynomial(coeffs=[2.95258,0.0013969,-4.92632e-07,7.8601e-11,-4.60755e-15,-923.949,5.87189], Tmin=(1000,'K'), Tmax=(6000,'K'))], Tmin=(200,'K'), Tmax=(6000,'K'), E0=(-8.64289,'kJ/mol'), Cp0=(29.1007,'J/(mol*K)'), CpInf=(37.4151,'J/(mol*K)'), comment=\"\"\"Thermo library: primaryThermoLibrary\"\"\"), conformer=Conformer(E0=(-8.64289,'kJ/mol'), modes=[]), molecule=[Molecule(SMILES=\"N#N\")], reactive=False, molecularWeight=(28.0135,'amu'), energyTransferModel=SingleExponentialDown(alpha0=(3.5886,'kJ/mol'), T0=(300,'K'), n=0.85)))])"
      ]
     },
     "metadata": {},
     "output_type": "display_data"
    },
    {
     "name": "stdout",
     "output_type": "stream",
     "text": [
      "Reaction Family = Disproportionation\n",
      "\n",
      "Reactants\n",
      "Label: O\n",
      "SMILES: [O]\n",
      "\n",
      "Label: NNH\n",
      "SMILES: N=[N]\n",
      "\n",
      "Products\n",
      "Label: N2\n",
      "SMILES: N#N\n",
      "Label: [OH]\n",
      "SMILES: [OH]\n",
      "\n",
      "! Template reaction: Disproportionation\n",
      "! Flux pairs: O(1), HO(5); NNH(2), N2; \n",
      "! Exact match found for rate rule [O_atom_triplet;N3d/H_d_Nrad]\n",
      "O(1)+NNH(2)=N2+HO(5)                                1.700e+08 1.500     -0.890   \n",
      "\n",
      "\n",
      "Heat of Reaction = -110.25 kcal/mol\n",
      "Forward kinetics at 623.0 K: 5.42E+06\n",
      "Reverse kinetics at 623.0 K: 3.46E-32\n",
      "=========================\n"
     ]
    },
    {
     "data": {
      "image/png": "[encoded data removed]",
      "text/plain": [
       "Reaction(index=4, reactants=[Species(index=1, label=\"O\", thermo=NASA(polynomials=[NASAPolynomial(coeffs=[2.5,-1.06333e-12,1.30802e-15,-5.21436e-19,6.38303e-23,29246.9,5.1312], Tmin=(100,'K'), Tmax=(4950.76,'K')), NASAPolynomial(coeffs=[2.77499,-0.000212693,6.15681e-08,-7.90365e-12,3.79566e-16,28962.9,3.35293], Tmin=(4950.76,'K'), Tmax=(5000,'K'))], Tmin=(100,'K'), Tmax=(5000,'K'), E0=(243.172,'kJ/mol'), Cp0=(20.7862,'J/(mol*K)'), CpInf=(20.7862,'J/(mol*K)'), comment=\"\"\"Thermo library: KlippensteinH2O2\"\"\"), conformer=Conformer(E0=(243.172,'kJ/mol'), modes=[]), molecule=[Molecule(SMILES=\"[O]\")], molecularWeight=(15.9994,'amu'), energyTransferModel=SingleExponentialDown(alpha0=(3.5886,'kJ/mol'), T0=(300,'K'), n=0.85)), Species(index=2, label=\"NNH\", thermo=NASA(polynomials=[NASAPolynomial(coeffs=[4.05639,-0.0017313,9.19499e-06,-8.17656e-09,2.3515e-12,28798.9,4.03301], Tmin=(100,'K'), Tmax=(1085.7,'K')), NASAPolynomial(coeffs=[3.08742,0.00398309,-1.66274e-06,3.09807e-10,-2.15374e-14,28882.9,8.20537], Tmin=(1085.7,'K'), Tmax=(5000,'K'))], Tmin=(100,'K'), Tmax=(5000,'K'), E0=(239.461,'kJ/mol'), Cp0=(33.2579,'J/(mol*K)'), CpInf=(58.2013,'J/(mol*K)'), comment=\"\"\"Thermo library: thermo_DFT_CCSDTF12_BAC\"\"\"), conformer=Conformer(E0=(239.461,'kJ/mol'), modes=[]), molecule=[Molecule(SMILES=\"N=[N]\")], molecularWeight=(29.0214,'amu'), energyTransferModel=SingleExponentialDown(alpha0=(3.5886,'kJ/mol'), T0=(300,'K'), n=0.85))], products=[Species(index=4, label=\"[N]=[N]\", thermo=NASA(polynomials=[NASAPolynomial(coeffs=[4.00101,0.000401486,-3.47826e-07,1.23085e-10,-1.26335e-14,34818.2,4.81794], Tmin=(100,'K'), Tmax=(2149.92,'K')), NASAPolynomial(coeffs=[4.61875,-0.000597414,2.44151e-07,-2.79348e-11,1.14306e-15,34517.8,1.284], Tmin=(2149.92,'K'), Tmax=(5000,'K'))], Tmin=(100,'K'), Tmax=(5000,'K'), E0=(289.498,'kJ/mol'), Cp0=(33.2579,'J/(mol*K)'), CpInf=(83.1447,'J/(mol*K)'), comment=\"\"\"Thermo library: thermo_DFT_CCSDTF12_BAC + radical(N3dJ_N) + radical(N3dJ_N)\"\"\"), conformer=Conformer(E0=(289.498,'kJ/mol'), modes=[]), molecule=[Molecule(SMILES=\"[N]=[N]\")], molecularWeight=(28.0135,'amu'), energyTransferModel=SingleExponentialDown(alpha0=(3.5886,'kJ/mol'), T0=(300,'K'), n=0.85)), Species(index=5, label=\"[OH]\", thermo=NASA(polynomials=[NASAPolynomial(coeffs=[3.48526,0.00130495,-4.54558e-06,5.4075e-09,-1.95652e-12,3412.46,2.0046], Tmin=(100,'K'), Tmax=(1014.14,'K')), NASAPolynomial(coeffs=[2.90837,0.000969343,-1.87376e-07,3.90417e-12,1.35186e-15,3663.73,5.4578], Tmin=(1014.14,'K'), Tmax=(5000,'K'))], Tmin=(100,'K'), Tmax=(5000,'K'), E0=(28.3756,'kJ/mol'), Cp0=(29.1007,'J/(mol*K)'), CpInf=(37.4151,'J/(mol*K)'), comment=\"\"\"Thermo library: KlippensteinH2O2\"\"\"), conformer=Conformer(E0=(28.3756,'kJ/mol'), modes=[]), molecule=[Molecule(SMILES=\"[OH]\")], molecularWeight=(17.0073,'amu'), energyTransferModel=SingleExponentialDown(alpha0=(3.5886,'kJ/mol'), T0=(300,'K'), n=0.85))], kinetics=Arrhenius(A=(127.325,'m^3/(mol*s)'), n=1.545, Ea=(10.3157,'kJ/mol'), T0=(1,'K'), comment=\"\"\"Average of [N3s_H;O_atom_triplet + Average of [Average of [N3d/H/NonDeC;O_atom_triplet + N3d/H/NonDeO;O_atom_triplet + N3d/H/NonDeN;O_atom_triplet] + Average of [N3d/H/OneDeCO;O_atom_triplet]]]\n",
       "Estimated using an average for rate rule [N3_H;O_atom_triplet]\n",
       "Kinetics were estimated in this direction instead of the reverse because:\n",
       "Both directions are estimates, but this direction is exergonic.\n",
       "dHrxn(298 K) = -162.00 kJ/mol, dGrxn(298 K) = -170.60 kJ/mol\"\"\"), pairs=[(Species(index=1, label=\"O\", thermo=NASA(polynomials=[NASAPolynomial(coeffs=[2.5,-1.06333e-12,1.30802e-15,-5.21436e-19,6.38303e-23,29246.9,5.1312], Tmin=(100,'K'), Tmax=(4950.76,'K')), NASAPolynomial(coeffs=[2.77499,-0.000212693,6.15681e-08,-7.90365e-12,3.79566e-16,28962.9,3.35293], Tmin=(4950.76,'K'), Tmax=(5000,'K'))], Tmin=(100,'K'), Tmax=(5000,'K'), E0=(243.172,'kJ/mol'), Cp0=(20.7862,'J/(mol*K)'), CpInf=(20.7862,'J/(mol*K)'), comment=\"\"\"Thermo library: KlippensteinH2O2\"\"\"), conformer=Conformer(E0=(243.172,'kJ/mol'), modes=[]), molecule=[Molecule(SMILES=\"[O]\")], molecularWeight=(15.9994,'amu'), energyTransferModel=SingleExponentialDown(alpha0=(3.5886,'kJ/mol'), T0=(300,'K'), n=0.85)), Species(index=5, label=\"[OH]\", thermo=NASA(polynomials=[NASAPolynomial(coeffs=[3.48526,0.00130495,-4.54558e-06,5.4075e-09,-1.95652e-12,3412.46,2.0046], Tmin=(100,'K'), Tmax=(1014.14,'K')), NASAPolynomial(coeffs=[2.90837,0.000969343,-1.87376e-07,3.90417e-12,1.35186e-15,3663.73,5.4578], Tmin=(1014.14,'K'), Tmax=(5000,'K'))], Tmin=(100,'K'), Tmax=(5000,'K'), E0=(28.3756,'kJ/mol'), Cp0=(29.1007,'J/(mol*K)'), CpInf=(37.4151,'J/(mol*K)'), comment=\"\"\"Thermo library: KlippensteinH2O2\"\"\"), conformer=Conformer(E0=(28.3756,'kJ/mol'), modes=[]), molecule=[Molecule(SMILES=\"[OH]\")], molecularWeight=(17.0073,'amu'), energyTransferModel=SingleExponentialDown(alpha0=(3.5886,'kJ/mol'), T0=(300,'K'), n=0.85))), (Species(index=2, label=\"NNH\", thermo=NASA(polynomials=[NASAPolynomial(coeffs=[4.05639,-0.0017313,9.19499e-06,-8.17656e-09,2.3515e-12,28798.9,4.03301], Tmin=(100,'K'), Tmax=(1085.7,'K')), NASAPolynomial(coeffs=[3.08742,0.00398309,-1.66274e-06,3.09807e-10,-2.15374e-14,28882.9,8.20537], Tmin=(1085.7,'K'), Tmax=(5000,'K'))], Tmin=(100,'K'), Tmax=(5000,'K'), E0=(239.461,'kJ/mol'), Cp0=(33.2579,'J/(mol*K)'), CpInf=(58.2013,'J/(mol*K)'), comment=\"\"\"Thermo library: thermo_DFT_CCSDTF12_BAC\"\"\"), conformer=Conformer(E0=(239.461,'kJ/mol'), modes=[]), molecule=[Molecule(SMILES=\"N=[N]\")], molecularWeight=(29.0214,'amu'), energyTransferModel=SingleExponentialDown(alpha0=(3.5886,'kJ/mol'), T0=(300,'K'), n=0.85)), Species(index=4, label=\"[N]=[N]\", thermo=NASA(polynomials=[NASAPolynomial(coeffs=[4.00101,0.000401486,-3.47826e-07,1.23085e-10,-1.26335e-14,34818.2,4.81794], Tmin=(100,'K'), Tmax=(2149.92,'K')), NASAPolynomial(coeffs=[4.61875,-0.000597414,2.44151e-07,-2.79348e-11,1.14306e-15,34517.8,1.284], Tmin=(2149.92,'K'), Tmax=(5000,'K'))], Tmin=(100,'K'), Tmax=(5000,'K'), E0=(289.498,'kJ/mol'), Cp0=(33.2579,'J/(mol*K)'), CpInf=(83.1447,'J/(mol*K)'), comment=\"\"\"Thermo library: thermo_DFT_CCSDTF12_BAC + radical(N3dJ_N) + radical(N3dJ_N)\"\"\"), conformer=Conformer(E0=(289.498,'kJ/mol'), modes=[]), molecule=[Molecule(SMILES=\"[N]=[N]\")], molecularWeight=(28.0135,'amu'), energyTransferModel=SingleExponentialDown(alpha0=(3.5886,'kJ/mol'), T0=(300,'K'), n=0.85)))])"
      ]
     },
     "metadata": {},
     "output_type": "display_data"
    },
    {
     "name": "stdout",
     "output_type": "stream",
     "text": [
      "Reaction Family = H_Abstraction\n",
      "\n",
      "Reactants\n",
      "Label: O\n",
      "SMILES: [O]\n",
      "\n",
      "Label: NNH\n",
      "SMILES: N=[N]\n",
      "\n",
      "Products\n",
      "Label: [N]=[N]\n",
      "SMILES: [N]=[N]\n",
      "Label: [OH]\n",
      "SMILES: [OH]\n",
      "\n",
      "! Template reaction: H_Abstraction\n",
      "! Flux pairs: O(1), HO(5); NNH(2), N2(4); \n",
      "! Average of [N3s_H;O_atom_triplet + Average of [Average of [N3d/H/NonDeC;O_atom_triplet + N3d/H/NonDeO;O_atom_triplet + N3d/H/NonDeN;O_atom_triplet] +\n",
      "! Average of [N3d/H/OneDeCO;O_atom_triplet]]]\n",
      "! Estimated using an average for rate rule [N3_H;O_atom_triplet]\n",
      "! Kinetics were estimated in this direction instead of the reverse because:\n",
      "! Both directions are estimates, but this direction is exergonic.\n",
      "! dHrxn(298 K) = -162.00 kJ/mol, dGrxn(298 K) = -170.60 kJ/mol\n",
      "O(1)+NNH(2)=N2(4)+HO(5)                             1.273e+08 1.545     2.466    \n",
      "\n",
      "\n",
      "Heat of Reaction = -38.29 kcal/mol\n",
      "Forward kinetics at 623.0 K: 3.61E+05\n",
      "Reverse kinetics at 623.0 K: 2.45E-10\n",
      "=========================\n"
     ]
    },
    {
     "data": {
      "image/png": "[encoded data removed]",
      "text/plain": [
       "Reaction(index=5, reactants=[Species(index=1, label=\"O\", thermo=NASA(polynomials=[NASAPolynomial(coeffs=[2.5,-1.06333e-12,1.30802e-15,-5.21436e-19,6.38303e-23,29246.9,5.1312], Tmin=(100,'K'), Tmax=(4950.76,'K')), NASAPolynomial(coeffs=[2.77499,-0.000212693,6.15681e-08,-7.90365e-12,3.79566e-16,28962.9,3.35293], Tmin=(4950.76,'K'), Tmax=(5000,'K'))], Tmin=(100,'K'), Tmax=(5000,'K'), E0=(243.172,'kJ/mol'), Cp0=(20.7862,'J/(mol*K)'), CpInf=(20.7862,'J/(mol*K)'), comment=\"\"\"Thermo library: KlippensteinH2O2\"\"\"), conformer=Conformer(E0=(243.172,'kJ/mol'), modes=[]), molecule=[Molecule(SMILES=\"[O]\")], molecularWeight=(15.9994,'amu'), energyTransferModel=SingleExponentialDown(alpha0=(3.5886,'kJ/mol'), T0=(300,'K'), n=0.85)), Species(index=2, label=\"NNH\", thermo=NASA(polynomials=[NASAPolynomial(coeffs=[4.05639,-0.0017313,9.19499e-06,-8.17656e-09,2.3515e-12,28798.9,4.03301], Tmin=(100,'K'), Tmax=(1085.7,'K')), NASAPolynomial(coeffs=[3.08742,0.00398309,-1.66274e-06,3.09807e-10,-2.15374e-14,28882.9,8.20537], Tmin=(1085.7,'K'), Tmax=(5000,'K'))], Tmin=(100,'K'), Tmax=(5000,'K'), E0=(239.461,'kJ/mol'), Cp0=(33.2579,'J/(mol*K)'), CpInf=(58.2013,'J/(mol*K)'), comment=\"\"\"Thermo library: thermo_DFT_CCSDTF12_BAC\"\"\"), conformer=Conformer(E0=(239.461,'kJ/mol'), modes=[]), molecule=[Molecule(SMILES=\"N=[N]\")], molecularWeight=(29.0214,'amu'), energyTransferModel=SingleExponentialDown(alpha0=(3.5886,'kJ/mol'), T0=(300,'K'), n=0.85))], products=[Species(index=6, label=\"N=N[O]\", thermo=NASA(polynomials=[NASAPolynomial(coeffs=[3.78812,0.00244483,9.58128e-06,-1.24104e-08,4.36172e-12,23358.2,7.26186], Tmin=(100,'K'), Tmax=(1036.02,'K')), NASAPolynomial(coeffs=[4.73707,0.00457864,-1.90227e-06,3.80614e-10,-2.82743e-14,22850.4,1.1485], Tmin=(1036.02,'K'), Tmax=(5000,'K'))], Tmin=(100,'K'), Tmax=(5000,'K'), E0=(194.132,'kJ/mol'), Cp0=(33.2579,'J/(mol*K)'), CpInf=(103.931,'J/(mol*K)'), comment=\"\"\"Thermo library: thermo_DFT_CCSDTF12_BAC + radical(NHJ_N)\"\"\"), conformer=Conformer(E0=(194.132,'kJ/mol'), modes=[]), molecule=[Molecule(SMILES=\"[NH]N=O\"), Molecule(SMILES=\"N=N[O]\"), Molecule(SMILES=\"N=[N+][O-]\")], molecularWeight=(45.0208,'amu'), energyTransferModel=SingleExponentialDown(alpha0=(3.5886,'kJ/mol'), T0=(300,'K'), n=0.85))], kinetics=Arrhenius(A=(1e+13,'cm^3/(mol*s)'), n=0, Ea=(0,'kJ/mol'), T0=(1,'K'), Tmin=(300,'K'), Tmax=(1500,'K'), comment=\"\"\"Exact match found for rate rule [Y_rad;Oa]\"\"\"), pairs=[(Species(index=1, label=\"O\", thermo=NASA(polynomials=[NASAPolynomial(coeffs=[2.5,-1.06333e-12,1.30802e-15,-5.21436e-19,6.38303e-23,29246.9,5.1312], Tmin=(100,'K'), Tmax=(4950.76,'K')), NASAPolynomial(coeffs=[2.77499,-0.000212693,6.15681e-08,-7.90365e-12,3.79566e-16,28962.9,3.35293], Tmin=(4950.76,'K'), Tmax=(5000,'K'))], Tmin=(100,'K'), Tmax=(5000,'K'), E0=(243.172,'kJ/mol'), Cp0=(20.7862,'J/(mol*K)'), CpInf=(20.7862,'J/(mol*K)'), comment=\"\"\"Thermo library: KlippensteinH2O2\"\"\"), conformer=Conformer(E0=(243.172,'kJ/mol'), modes=[]), molecule=[Molecule(SMILES=\"[O]\")], molecularWeight=(15.9994,'amu'), energyTransferModel=SingleExponentialDown(alpha0=(3.5886,'kJ/mol'), T0=(300,'K'), n=0.85)), Species(index=6, label=\"N=N[O]\", thermo=NASA(polynomials=[NASAPolynomial(coeffs=[3.78812,0.00244483,9.58128e-06,-1.24104e-08,4.36172e-12,23358.2,7.26186], Tmin=(100,'K'), Tmax=(1036.02,'K')), NASAPolynomial(coeffs=[4.73707,0.00457864,-1.90227e-06,3.80614e-10,-2.82743e-14,22850.4,1.1485], Tmin=(1036.02,'K'), Tmax=(5000,'K'))], Tmin=(100,'K'), Tmax=(5000,'K'), E0=(194.132,'kJ/mol'), Cp0=(33.2579,'J/(mol*K)'), CpInf=(103.931,'J/(mol*K)'), comment=\"\"\"Thermo library: thermo_DFT_CCSDTF12_BAC + radical(NHJ_N)\"\"\"), conformer=Conformer(E0=(194.132,'kJ/mol'), modes=[]), molecule=[Molecule(SMILES=\"[NH]N=O\"), Molecule(SMILES=\"N=N[O]\"), Molecule(SMILES=\"N=[N+][O-]\")], molecularWeight=(45.0208,'amu'), energyTransferModel=SingleExponentialDown(alpha0=(3.5886,'kJ/mol'), T0=(300,'K'), n=0.85))), (Species(index=2, label=\"NNH\", thermo=NASA(polynomials=[NASAPolynomial(coeffs=[4.05639,-0.0017313,9.19499e-06,-8.17656e-09,2.3515e-12,28798.9,4.03301], Tmin=(100,'K'), Tmax=(1085.7,'K')), NASAPolynomial(coeffs=[3.08742,0.00398309,-1.66274e-06,3.09807e-10,-2.15374e-14,28882.9,8.20537], Tmin=(1085.7,'K'), Tmax=(5000,'K'))], Tmin=(100,'K'), Tmax=(5000,'K'), E0=(239.461,'kJ/mol'), Cp0=(33.2579,'J/(mol*K)'), CpInf=(58.2013,'J/(mol*K)'), comment=\"\"\"Thermo library: thermo_DFT_CCSDTF12_BAC\"\"\"), conformer=Conformer(E0=(239.461,'kJ/mol'), modes=[]), molecule=[Molecule(SMILES=\"N=[N]\")], molecularWeight=(29.0214,'amu'), energyTransferModel=SingleExponentialDown(alpha0=(3.5886,'kJ/mol'), T0=(300,'K'), n=0.85)), Species(index=6, label=\"N=N[O]\", thermo=NASA(polynomials=[NASAPolynomial(coeffs=[3.78812,0.00244483,9.58128e-06,-1.24104e-08,4.36172e-12,23358.2,7.26186], Tmin=(100,'K'), Tmax=(1036.02,'K')), NASAPolynomial(coeffs=[4.73707,0.00457864,-1.90227e-06,3.80614e-10,-2.82743e-14,22850.4,1.1485], Tmin=(1036.02,'K'), Tmax=(5000,'K'))], Tmin=(100,'K'), Tmax=(5000,'K'), E0=(194.132,'kJ/mol'), Cp0=(33.2579,'J/(mol*K)'), CpInf=(103.931,'J/(mol*K)'), comment=\"\"\"Thermo library: thermo_DFT_CCSDTF12_BAC + radical(NHJ_N)\"\"\"), conformer=Conformer(E0=(194.132,'kJ/mol'), modes=[]), molecule=[Molecule(SMILES=\"[NH]N=O\"), Molecule(SMILES=\"N=N[O]\"), Molecule(SMILES=\"N=[N+][O-]\")], molecularWeight=(45.0208,'amu'), energyTransferModel=SingleExponentialDown(alpha0=(3.5886,'kJ/mol'), T0=(300,'K'), n=0.85)))])"
      ]
     },
     "metadata": {},
     "output_type": "display_data"
    },
    {
     "name": "stdout",
     "output_type": "stream",
     "text": [
      "Reaction Family = Oa_R_Recombination\n",
      "\n",
      "Reactants\n",
      "Label: O\n",
      "SMILES: [O]\n",
      "\n",
      "Label: NNH\n",
      "SMILES: N=[N]\n",
      "\n",
      "Products\n",
      "Label: N=N[O]\n",
      "SMILES: [NH]N=O\n",
      "\n",
      "! Template reaction: Oa_R_Recombination\n",
      "! Flux pairs: O(1), HN2O(6); NNH(2), HN2O(6); \n",
      "! Exact match found for rate rule [Y_rad;Oa]\n",
      "O(1)+NNH(2)=HN2O(6)                                 1.000e+13 0.000     0.000    \n",
      "\n",
      "\n",
      "Heat of Reaction = -70.93 kcal/mol\n",
      "Forward kinetics at 623.0 K: 1.00E+07\n",
      "Reverse kinetics at 623.0 K: 8.31E-10\n",
      "=========================\n"
     ]
    },
    {
     "data": {
      "image/png": "[encoded data removed]",
      "text/plain": [
       "Reaction(index=6, reactants=[Species(index=2, label=\"NNH\", thermo=NASA(polynomials=[NASAPolynomial(coeffs=[4.05639,-0.0017313,9.19499e-06,-8.17656e-09,2.3515e-12,28798.9,4.03301], Tmin=(100,'K'), Tmax=(1085.7,'K')), NASAPolynomial(coeffs=[3.08742,0.00398309,-1.66274e-06,3.09807e-10,-2.15374e-14,28882.9,8.20537], Tmin=(1085.7,'K'), Tmax=(5000,'K'))], Tmin=(100,'K'), Tmax=(5000,'K'), E0=(239.461,'kJ/mol'), Cp0=(33.2579,'J/(mol*K)'), CpInf=(58.2013,'J/(mol*K)'), comment=\"\"\"Thermo library: thermo_DFT_CCSDTF12_BAC\"\"\"), conformer=Conformer(E0=(239.461,'kJ/mol'), modes=[]), molecule=[Molecule(SMILES=\"N=[N]\")], molecularWeight=(29.0214,'amu'), energyTransferModel=SingleExponentialDown(alpha0=(3.5886,'kJ/mol'), T0=(300,'K'), n=0.85)), Species(index=2, label=\"NNH\", thermo=NASA(polynomials=[NASAPolynomial(coeffs=[4.05639,-0.0017313,9.19499e-06,-8.17656e-09,2.3515e-12,28798.9,4.03301], Tmin=(100,'K'), Tmax=(1085.7,'K')), NASAPolynomial(coeffs=[3.08742,0.00398309,-1.66274e-06,3.09807e-10,-2.15374e-14,28882.9,8.20537], Tmin=(1085.7,'K'), Tmax=(5000,'K'))], Tmin=(100,'K'), Tmax=(5000,'K'), E0=(239.461,'kJ/mol'), Cp0=(33.2579,'J/(mol*K)'), CpInf=(58.2013,'J/(mol*K)'), comment=\"\"\"Thermo library: thermo_DFT_CCSDTF12_BAC\"\"\"), conformer=Conformer(E0=(239.461,'kJ/mol'), modes=[]), molecule=[Molecule(SMILES=\"N=[N]\")], molecularWeight=(29.0214,'amu'), energyTransferModel=SingleExponentialDown(alpha0=(3.5886,'kJ/mol'), T0=(300,'K'), n=0.85))], products=[Species(label=\"N2\", thermo=NASA(polynomials=[NASAPolynomial(coeffs=[3.53101,-0.000123661,-5.02999e-07,2.43531e-09,-1.40881e-12,-1046.98,2.96747], Tmin=(200,'K'), Tmax=(1000,'K')), NASAPolynomial(coeffs=[2.95258,0.0013969,-4.92632e-07,7.8601e-11,-4.60755e-15,-923.949,5.87189], Tmin=(1000,'K'), Tmax=(6000,'K'))], Tmin=(200,'K'), Tmax=(6000,'K'), E0=(-8.64289,'kJ/mol'), Cp0=(29.1007,'J/(mol*K)'), CpInf=(37.4151,'J/(mol*K)'), comment=\"\"\"Thermo library: primaryThermoLibrary\"\"\"), conformer=Conformer(E0=(-8.64289,'kJ/mol'), modes=[]), molecule=[Molecule(SMILES=\"N#N\")], reactive=False, molecularWeight=(28.0135,'amu'), energyTransferModel=SingleExponentialDown(alpha0=(3.5886,'kJ/mol'), T0=(300,'K'), n=0.85)), Species(index=7, label=\"N=N\", thermo=NASA(polynomials=[NASAPolynomial(coeffs=[4.14012,-0.00411619,1.94638e-05,-1.72802e-08,5.01307e-12,22777.3,3.13601], Tmin=(100,'K'), Tmax=(1069.32,'K')), NASAPolynomial(coeffs=[2.10837,0.00776417,-3.20568e-06,5.96342e-10,-4.15018e-14,22967.2,11.9299], Tmin=(1069.32,'K'), Tmax=(5000,'K'))], Tmin=(100,'K'), Tmax=(5000,'K'), E0=(189.417,'kJ/mol'), Cp0=(33.2579,'J/(mol*K)'), CpInf=(83.1447,'J/(mol*K)'), comment=\"\"\"Thermo library: thermo_DFT_CCSDTF12_BAC\"\"\"), conformer=Conformer(E0=(189.417,'kJ/mol'), modes=[]), molecule=[Molecule(SMILES=\"N=N\")], molecularWeight=(30.0294,'amu'), energyTransferModel=SingleExponentialDown(alpha0=(3.5886,'kJ/mol'), T0=(300,'K'), n=0.85))], kinetics=Arrhenius(A=(1.2e+06,'cm^3/(mol*s)'), n=2, Ea=(-4.97896,'kJ/mol'), T0=(1,'K'), Tmin=(300,'K'), Tmax=(2500,'K'), comment=\"\"\"Average of [N3d_rad/O;N3d/H_d_Nrad]\n",
       "Estimated using template [N3d_rad;N3d/H_d_Nrad] for rate rule [N3d_rad/N;N3d/H_d_Nrad]\"\"\"), pairs=[(Species(index=2, label=\"NNH\", thermo=NASA(polynomials=[NASAPolynomial(coeffs=[4.05639,-0.0017313,9.19499e-06,-8.17656e-09,2.3515e-12,28798.9,4.03301], Tmin=(100,'K'), Tmax=(1085.7,'K')), NASAPolynomial(coeffs=[3.08742,0.00398309,-1.66274e-06,3.09807e-10,-2.15374e-14,28882.9,8.20537], Tmin=(1085.7,'K'), Tmax=(5000,'K'))], Tmin=(100,'K'), Tmax=(5000,'K'), E0=(239.461,'kJ/mol'), Cp0=(33.2579,'J/(mol*K)'), CpInf=(58.2013,'J/(mol*K)'), comment=\"\"\"Thermo library: thermo_DFT_CCSDTF12_BAC\"\"\"), conformer=Conformer(E0=(239.461,'kJ/mol'), modes=[]), molecule=[Molecule(SMILES=\"N=[N]\")], molecularWeight=(29.0214,'amu'), energyTransferModel=SingleExponentialDown(alpha0=(3.5886,'kJ/mol'), T0=(300,'K'), n=0.85)), Species(index=7, label=\"N=N\", thermo=NASA(polynomials=[NASAPolynomial(coeffs=[4.14012,-0.00411619,1.94638e-05,-1.72802e-08,5.01307e-12,22777.3,3.13601], Tmin=(100,'K'), Tmax=(1069.32,'K')), NASAPolynomial(coeffs=[2.10837,0.00776417,-3.20568e-06,5.96342e-10,-4.15018e-14,22967.2,11.9299], Tmin=(1069.32,'K'), Tmax=(5000,'K'))], Tmin=(100,'K'), Tmax=(5000,'K'), E0=(189.417,'kJ/mol'), Cp0=(33.2579,'J/(mol*K)'), CpInf=(83.1447,'J/(mol*K)'), comment=\"\"\"Thermo library: thermo_DFT_CCSDTF12_BAC\"\"\"), conformer=Conformer(E0=(189.417,'kJ/mol'), modes=[]), molecule=[Molecule(SMILES=\"N=N\")], molecularWeight=(30.0294,'amu'), energyTransferModel=SingleExponentialDown(alpha0=(3.5886,'kJ/mol'), T0=(300,'K'), n=0.85))), (Species(index=2, label=\"NNH\", thermo=NASA(polynomials=[NASAPolynomial(coeffs=[4.05639,-0.0017313,9.19499e-06,-8.17656e-09,2.3515e-12,28798.9,4.03301], Tmin=(100,'K'), Tmax=(1085.7,'K')), NASAPolynomial(coeffs=[3.08742,0.00398309,-1.66274e-06,3.09807e-10,-2.15374e-14,28882.9,8.20537], Tmin=(1085.7,'K'), Tmax=(5000,'K'))], Tmin=(100,'K'), Tmax=(5000,'K'), E0=(239.461,'kJ/mol'), Cp0=(33.2579,'J/(mol*K)'), CpInf=(58.2013,'J/(mol*K)'), comment=\"\"\"Thermo library: thermo_DFT_CCSDTF12_BAC\"\"\"), conformer=Conformer(E0=(239.461,'kJ/mol'), modes=[]), molecule=[Molecule(SMILES=\"N=[N]\")], molecularWeight=(29.0214,'amu'), energyTransferModel=SingleExponentialDown(alpha0=(3.5886,'kJ/mol'), T0=(300,'K'), n=0.85)), Species(label=\"N2\", thermo=NASA(polynomials=[NASAPolynomial(coeffs=[3.53101,-0.000123661,-5.02999e-07,2.43531e-09,-1.40881e-12,-1046.98,2.96747], Tmin=(200,'K'), Tmax=(1000,'K')), NASAPolynomial(coeffs=[2.95258,0.0013969,-4.92632e-07,7.8601e-11,-4.60755e-15,-923.949,5.87189], Tmin=(1000,'K'), Tmax=(6000,'K'))], Tmin=(200,'K'), Tmax=(6000,'K'), E0=(-8.64289,'kJ/mol'), Cp0=(29.1007,'J/(mol*K)'), CpInf=(37.4151,'J/(mol*K)'), comment=\"\"\"Thermo library: primaryThermoLibrary\"\"\"), conformer=Conformer(E0=(-8.64289,'kJ/mol'), modes=[]), molecule=[Molecule(SMILES=\"N#N\")], reactive=False, molecularWeight=(28.0135,'amu'), energyTransferModel=SingleExponentialDown(alpha0=(3.5886,'kJ/mol'), T0=(300,'K'), n=0.85)))])"
      ]
     },
     "metadata": {},
     "output_type": "display_data"
    },
    {
     "name": "stdout",
     "output_type": "stream",
     "text": [
      "Reaction Family = Disproportionation\n",
      "\n",
      "Reactants\n",
      "Label: NNH\n",
      "SMILES: N=[N]\n",
      "\n",
      "Label: NNH\n",
      "SMILES: N=[N]\n",
      "\n",
      "Products\n",
      "Label: N2\n",
      "SMILES: N#N\n",
      "Label: N=N\n",
      "SMILES: N=N\n",
      "\n",
      "! Template reaction: Disproportionation\n",
      "! Flux pairs: NNH(2), H2N2(7); NNH(2), N2; \n",
      "! Average of [N3d_rad/O;N3d/H_d_Nrad]\n",
      "! Estimated using template [N3d_rad;N3d/H_d_Nrad] for rate rule [N3d_rad/N;N3d/H_d_Nrad]\n",
      "NNH(2)+NNH(2)=N2+H2N2(7)                            1.200e+06 2.000     -1.190   \n",
      "\n",
      "\n",
      "Heat of Reaction = -71.96 kcal/mol\n",
      "Forward kinetics at 623.0 K: 1.22E+06\n",
      "Reverse kinetics at 623.0 K: 1.14E-17\n",
      "=========================\n"
     ]
    },
    {
     "data": {
      "image/png": "[encoded data removed]",
      "text/plain": [
       "Reaction(index=7, reactants=[Species(index=4, label=\"[N]=[N]\", thermo=NASA(polynomials=[NASAPolynomial(coeffs=[4.00101,0.000401486,-3.47826e-07,1.23085e-10,-1.26335e-14,34818.2,4.81794], Tmin=(100,'K'), Tmax=(2149.92,'K')), NASAPolynomial(coeffs=[4.61875,-0.000597414,2.44151e-07,-2.79348e-11,1.14306e-15,34517.8,1.284], Tmin=(2149.92,'K'), Tmax=(5000,'K'))], Tmin=(100,'K'), Tmax=(5000,'K'), E0=(289.498,'kJ/mol'), Cp0=(33.2579,'J/(mol*K)'), CpInf=(83.1447,'J/(mol*K)'), comment=\"\"\"Thermo library: thermo_DFT_CCSDTF12_BAC + radical(N3dJ_N) + radical(N3dJ_N)\"\"\"), conformer=Conformer(E0=(289.498,'kJ/mol'), modes=[]), molecule=[Molecule(SMILES=\"[N]=[N]\")], molecularWeight=(28.0135,'amu'), energyTransferModel=SingleExponentialDown(alpha0=(3.5886,'kJ/mol'), T0=(300,'K'), n=0.85)), Species(index=8, label=\"N[N]\", thermo=NASA(polynomials=[NASAPolynomial(coeffs=[3.96132,-0.00448647,3.24938e-05,-3.75501e-08,1.35102e-11,51114.4,5.39707], Tmin=(100,'K'), Tmax=(971.603,'K')), NASAPolynomial(coeffs=[5.4831,0.0032251,-9.8927e-07,2.29897e-10,-2.04033e-14,50159,-5.29572], Tmin=(971.603,'K'), Tmax=(5000,'K'))], Tmin=(100,'K'), Tmax=(5000,'K'), E0=(424.938,'kJ/mol'), Cp0=(33.2579,'J/(mol*K)'), CpInf=(128.874,'J/(mol*K)'), comment=\"\"\"Thermo library: thermo_DFT_CCSDTF12_BAC + radical(NJ2_C)\"\"\"), conformer=Conformer(E0=(424.938,'kJ/mol'), modes=[]), molecule=[Molecule(SMILES=\"N[N]\")], molecularWeight=(30.0294,'amu'), energyTransferModel=SingleExponentialDown(alpha0=(3.5886,'kJ/mol'), T0=(300,'K'), n=0.85))], products=[Species(index=2, label=\"NNH\", thermo=NASA(polynomials=[NASAPolynomial(coeffs=[4.05639,-0.0017313,9.19499e-06,-8.17656e-09,2.3515e-12,28798.9,4.03301], Tmin=(100,'K'), Tmax=(1085.7,'K')), NASAPolynomial(coeffs=[3.08742,0.00398309,-1.66274e-06,3.09807e-10,-2.15374e-14,28882.9,8.20537], Tmin=(1085.7,'K'), Tmax=(5000,'K'))], Tmin=(100,'K'), Tmax=(5000,'K'), E0=(239.461,'kJ/mol'), Cp0=(33.2579,'J/(mol*K)'), CpInf=(58.2013,'J/(mol*K)'), comment=\"\"\"Thermo library: thermo_DFT_CCSDTF12_BAC\"\"\"), conformer=Conformer(E0=(239.461,'kJ/mol'), modes=[]), molecule=[Molecule(SMILES=\"N=[N]\")], molecularWeight=(29.0214,'amu'), energyTransferModel=SingleExponentialDown(alpha0=(3.5886,'kJ/mol'), T0=(300,'K'), n=0.85)), Species(index=2, label=\"NNH\", thermo=NASA(polynomials=[NASAPolynomial(coeffs=[4.05639,-0.0017313,9.19499e-06,-8.17656e-09,2.3515e-12,28798.9,4.03301], Tmin=(100,'K'), Tmax=(1085.7,'K')), NASAPolynomial(coeffs=[3.08742,0.00398309,-1.66274e-06,3.09807e-10,-2.15374e-14,28882.9,8.20537], Tmin=(1085.7,'K'), Tmax=(5000,'K'))], Tmin=(100,'K'), Tmax=(5000,'K'), E0=(239.461,'kJ/mol'), Cp0=(33.2579,'J/(mol*K)'), CpInf=(58.2013,'J/(mol*K)'), comment=\"\"\"Thermo library: thermo_DFT_CCSDTF12_BAC\"\"\"), conformer=Conformer(E0=(239.461,'kJ/mol'), modes=[]), molecule=[Molecule(SMILES=\"N=[N]\")], molecularWeight=(29.0214,'amu'), energyTransferModel=SingleExponentialDown(alpha0=(3.5886,'kJ/mol'), T0=(300,'K'), n=0.85))], kinetics=Arrhenius(A=(7.2e+06,'cm^3/(mol*s)'), n=1.94, Ea=(-4.8116,'kJ/mol'), T0=(1,'K'), Tmin=(300,'K'), Tmax=(2500,'K'), comment=\"\"\"Average of [Average of [NH2_rad;N3s/H2_s_Nbirad]]\n",
       "Estimated using template [N3_rad;N3s/H2_s_Nbirad] for rate rule [N3d_rad;N3s/H2_s_Nbirad]\n",
       "Multiplied by reaction path degeneracy 4\"\"\"), degeneracy=4, pairs=[(Species(index=4, label=\"[N]=[N]\", thermo=NASA(polynomials=[NASAPolynomial(coeffs=[4.00101,0.000401486,-3.47826e-07,1.23085e-10,-1.26335e-14,34818.2,4.81794], Tmin=(100,'K'), Tmax=(2149.92,'K')), NASAPolynomial(coeffs=[4.61875,-0.000597414,2.44151e-07,-2.79348e-11,1.14306e-15,34517.8,1.284], Tmin=(2149.92,'K'), Tmax=(5000,'K'))], Tmin=(100,'K'), Tmax=(5000,'K'), E0=(289.498,'kJ/mol'), Cp0=(33.2579,'J/(mol*K)'), CpInf=(83.1447,'J/(mol*K)'), comment=\"\"\"Thermo library: thermo_DFT_CCSDTF12_BAC + radical(N3dJ_N) + radical(N3dJ_N)\"\"\"), conformer=Conformer(E0=(289.498,'kJ/mol'), modes=[]), molecule=[Molecule(SMILES=\"[N]=[N]\")], molecularWeight=(28.0135,'amu'), energyTransferModel=SingleExponentialDown(alpha0=(3.5886,'kJ/mol'), T0=(300,'K'), n=0.85)), Species(index=2, label=\"NNH\", thermo=NASA(polynomials=[NASAPolynomial(coeffs=[4.05639,-0.0017313,9.19499e-06,-8.17656e-09,2.3515e-12,28798.9,4.03301], Tmin=(100,'K'), Tmax=(1085.7,'K')), NASAPolynomial(coeffs=[3.08742,0.00398309,-1.66274e-06,3.09807e-10,-2.15374e-14,28882.9,8.20537], Tmin=(1085.7,'K'), Tmax=(5000,'K'))], Tmin=(100,'K'), Tmax=(5000,'K'), E0=(239.461,'kJ/mol'), Cp0=(33.2579,'J/(mol*K)'), CpInf=(58.2013,'J/(mol*K)'), comment=\"\"\"Thermo library: thermo_DFT_CCSDTF12_BAC\"\"\"), conformer=Conformer(E0=(239.461,'kJ/mol'), modes=[]), molecule=[Molecule(SMILES=\"N=[N]\")], molecularWeight=(29.0214,'amu'), energyTransferModel=SingleExponentialDown(alpha0=(3.5886,'kJ/mol'), T0=(300,'K'), n=0.85))), (Species(index=8, label=\"N[N]\", thermo=NASA(polynomials=[NASAPolynomial(coeffs=[3.96132,-0.00448647,3.24938e-05,-3.75501e-08,1.35102e-11,51114.4,5.39707], Tmin=(100,'K'), Tmax=(971.603,'K')), NASAPolynomial(coeffs=[5.4831,0.0032251,-9.8927e-07,2.29897e-10,-2.04033e-14,50159,-5.29572], Tmin=(971.603,'K'), Tmax=(5000,'K'))], Tmin=(100,'K'), Tmax=(5000,'K'), E0=(424.938,'kJ/mol'), Cp0=(33.2579,'J/(mol*K)'), CpInf=(128.874,'J/(mol*K)'), comment=\"\"\"Thermo library: thermo_DFT_CCSDTF12_BAC + radical(NJ2_C)\"\"\"), conformer=Conformer(E0=(424.938,'kJ/mol'), modes=[]), molecule=[Molecule(SMILES=\"N[N]\")], molecularWeight=(30.0294,'amu'), energyTransferModel=SingleExponentialDown(alpha0=(3.5886,'kJ/mol'), T0=(300,'K'), n=0.85)), Species(index=2, label=\"NNH\", thermo=NASA(polynomials=[NASAPolynomial(coeffs=[4.05639,-0.0017313,9.19499e-06,-8.17656e-09,2.3515e-12,28798.9,4.03301], Tmin=(100,'K'), Tmax=(1085.7,'K')), NASAPolynomial(coeffs=[3.08742,0.00398309,-1.66274e-06,3.09807e-10,-2.15374e-14,28882.9,8.20537], Tmin=(1085.7,'K'), Tmax=(5000,'K'))], Tmin=(100,'K'), Tmax=(5000,'K'), E0=(239.461,'kJ/mol'), Cp0=(33.2579,'J/(mol*K)'), CpInf=(58.2013,'J/(mol*K)'), comment=\"\"\"Thermo library: thermo_DFT_CCSDTF12_BAC\"\"\"), conformer=Conformer(E0=(239.461,'kJ/mol'), modes=[]), molecule=[Molecule(SMILES=\"N=[N]\")], molecularWeight=(29.0214,'amu'), energyTransferModel=SingleExponentialDown(alpha0=(3.5886,'kJ/mol'), T0=(300,'K'), n=0.85)))])"
      ]
     },
     "metadata": {},
     "output_type": "display_data"
    },
    {
     "name": "stdout",
     "output_type": "stream",
     "text": [
      "Reaction Family = Disproportionation\n",
      "\n",
      "Reactants\n",
      "Label: [N]=[N]\n",
      "SMILES: [N]=[N]\n",
      "\n",
      "Label: N[N]\n",
      "SMILES: N[N]\n",
      "\n",
      "Products\n",
      "Label: NNH\n",
      "SMILES: N=[N]\n",
      "Label: NNH\n",
      "SMILES: N=[N]\n",
      "\n",
      "! Template reaction: Disproportionation\n",
      "! Flux pairs: N2(4), NNH(2); H2N2(8), NNH(2); \n",
      "! Average of [Average of [NH2_rad;N3s/H2_s_Nbirad]]\n",
      "! Estimated using template [N3_rad;N3s/H2_s_Nbirad] for rate rule [N3d_rad;N3s/H2_s_Nbirad]\n",
      "! Multiplied by reaction path degeneracy 4\n",
      "N2(4)+H2N2(8)=NNH(2)+NNH(2)                         7.200e+06 1.940     -1.150   \n",
      "\n",
      "\n",
      "Heat of Reaction = -56.84 kcal/mol\n",
      "Forward kinetics at 623.0 K: 4.81E+06\n",
      "Reverse kinetics at 623.0 K: 4.55E-13\n",
      "=========================\n"
     ]
    },
    {
     "data": {
      "image/png": "[encoded data removed]",
      "text/plain": [
       "Reaction(index=8, reactants=[Species(index=4, label=\"[N]=[N]\", thermo=NASA(polynomials=[NASAPolynomial(coeffs=[4.00101,0.000401486,-3.47826e-07,1.23085e-10,-1.26335e-14,34818.2,4.81794], Tmin=(100,'K'), Tmax=(2149.92,'K')), NASAPolynomial(coeffs=[4.61875,-0.000597414,2.44151e-07,-2.79348e-11,1.14306e-15,34517.8,1.284], Tmin=(2149.92,'K'), Tmax=(5000,'K'))], Tmin=(100,'K'), Tmax=(5000,'K'), E0=(289.498,'kJ/mol'), Cp0=(33.2579,'J/(mol*K)'), CpInf=(83.1447,'J/(mol*K)'), comment=\"\"\"Thermo library: thermo_DFT_CCSDTF12_BAC + radical(N3dJ_N) + radical(N3dJ_N)\"\"\"), conformer=Conformer(E0=(289.498,'kJ/mol'), modes=[]), molecule=[Molecule(SMILES=\"[N]=[N]\")], molecularWeight=(28.0135,'amu'), energyTransferModel=SingleExponentialDown(alpha0=(3.5886,'kJ/mol'), T0=(300,'K'), n=0.85)), Species(index=7, label=\"N=N\", thermo=NASA(polynomials=[NASAPolynomial(coeffs=[4.14012,-0.00411619,1.94638e-05,-1.72802e-08,5.01307e-12,22777.3,3.13601], Tmin=(100,'K'), Tmax=(1069.32,'K')), NASAPolynomial(coeffs=[2.10837,0.00776417,-3.20568e-06,5.96342e-10,-4.15018e-14,22967.2,11.9299], Tmin=(1069.32,'K'), Tmax=(5000,'K'))], Tmin=(100,'K'), Tmax=(5000,'K'), E0=(189.417,'kJ/mol'), Cp0=(33.2579,'J/(mol*K)'), CpInf=(83.1447,'J/(mol*K)'), comment=\"\"\"Thermo library: thermo_DFT_CCSDTF12_BAC\"\"\"), conformer=Conformer(E0=(189.417,'kJ/mol'), modes=[]), molecule=[Molecule(SMILES=\"N=N\")], molecularWeight=(30.0294,'amu'), energyTransferModel=SingleExponentialDown(alpha0=(3.5886,'kJ/mol'), T0=(300,'K'), n=0.85))], products=[Species(index=2, label=\"NNH\", thermo=NASA(polynomials=[NASAPolynomial(coeffs=[4.05639,-0.0017313,9.19499e-06,-8.17656e-09,2.3515e-12,28798.9,4.03301], Tmin=(100,'K'), Tmax=(1085.7,'K')), NASAPolynomial(coeffs=[3.08742,0.00398309,-1.66274e-06,3.09807e-10,-2.15374e-14,28882.9,8.20537], Tmin=(1085.7,'K'), Tmax=(5000,'K'))], Tmin=(100,'K'), Tmax=(5000,'K'), E0=(239.461,'kJ/mol'), Cp0=(33.2579,'J/(mol*K)'), CpInf=(58.2013,'J/(mol*K)'), comment=\"\"\"Thermo library: thermo_DFT_CCSDTF12_BAC\"\"\"), conformer=Conformer(E0=(239.461,'kJ/mol'), modes=[]), molecule=[Molecule(SMILES=\"N=[N]\")], molecularWeight=(29.0214,'amu'), energyTransferModel=SingleExponentialDown(alpha0=(3.5886,'kJ/mol'), T0=(300,'K'), n=0.85)), Species(index=2, label=\"NNH\", thermo=NASA(polynomials=[NASAPolynomial(coeffs=[4.05639,-0.0017313,9.19499e-06,-8.17656e-09,2.3515e-12,28798.9,4.03301], Tmin=(100,'K'), Tmax=(1085.7,'K')), NASAPolynomial(coeffs=[3.08742,0.00398309,-1.66274e-06,3.09807e-10,-2.15374e-14,28882.9,8.20537], Tmin=(1085.7,'K'), Tmax=(5000,'K'))], Tmin=(100,'K'), Tmax=(5000,'K'), E0=(239.461,'kJ/mol'), Cp0=(33.2579,'J/(mol*K)'), CpInf=(58.2013,'J/(mol*K)'), comment=\"\"\"Thermo library: thermo_DFT_CCSDTF12_BAC\"\"\"), conformer=Conformer(E0=(239.461,'kJ/mol'), modes=[]), molecule=[Molecule(SMILES=\"N=[N]\")], molecularWeight=(29.0214,'amu'), energyTransferModel=SingleExponentialDown(alpha0=(3.5886,'kJ/mol'), T0=(300,'K'), n=0.85))], kinetics=Arrhenius(A=(7.2e+06,'cm^3/(mol*s)'), n=1.94, Ea=(0.00714688,'kJ/mol'), T0=(1,'K'), Tmin=(300,'K'), Tmax=(2000,'K'), comment=\"\"\"Average of [Average of [N3d/H/NonDeN;NH2_rad]]\n",
       "Estimated using an average for rate rule [N3d/H/NonDeN;N3_rad]\n",
       "Multiplied by reaction path degeneracy 4\n",
       "Kinetics were estimated in this direction instead of the reverse because:\n",
       "Both directions are estimates, but this direction is exergonic.\n",
       "dHrxn(298 K) = -0.00 kJ/mol, dGrxn(298 K) = -0.00 kJ/mol\n",
       "Ea raised from -4.8 to 0.0 kJ/mol to match endothermicity of reaction.\"\"\"), pairs=[(Species(index=4, label=\"[N]=[N]\", thermo=NASA(polynomials=[NASAPolynomial(coeffs=[4.00101,0.000401486,-3.47826e-07,1.23085e-10,-1.26335e-14,34818.2,4.81794], Tmin=(100,'K'), Tmax=(2149.92,'K')), NASAPolynomial(coeffs=[4.61875,-0.000597414,2.44151e-07,-2.79348e-11,1.14306e-15,34517.8,1.284], Tmin=(2149.92,'K'), Tmax=(5000,'K'))], Tmin=(100,'K'), Tmax=(5000,'K'), E0=(289.498,'kJ/mol'), Cp0=(33.2579,'J/(mol*K)'), CpInf=(83.1447,'J/(mol*K)'), comment=\"\"\"Thermo library: thermo_DFT_CCSDTF12_BAC + radical(N3dJ_N) + radical(N3dJ_N)\"\"\"), conformer=Conformer(E0=(289.498,'kJ/mol'), modes=[]), molecule=[Molecule(SMILES=\"[N]=[N]\")], molecularWeight=(28.0135,'amu'), energyTransferModel=SingleExponentialDown(alpha0=(3.5886,'kJ/mol'), T0=(300,'K'), n=0.85)), Species(index=2, label=\"NNH\", thermo=NASA(polynomials=[NASAPolynomial(coeffs=[4.05639,-0.0017313,9.19499e-06,-8.17656e-09,2.3515e-12,28798.9,4.03301], Tmin=(100,'K'), Tmax=(1085.7,'K')), NASAPolynomial(coeffs=[3.08742,0.00398309,-1.66274e-06,3.09807e-10,-2.15374e-14,28882.9,8.20537], Tmin=(1085.7,'K'), Tmax=(5000,'K'))], Tmin=(100,'K'), Tmax=(5000,'K'), E0=(239.461,'kJ/mol'), Cp0=(33.2579,'J/(mol*K)'), CpInf=(58.2013,'J/(mol*K)'), comment=\"\"\"Thermo library: thermo_DFT_CCSDTF12_BAC\"\"\"), conformer=Conformer(E0=(239.461,'kJ/mol'), modes=[]), molecule=[Molecule(SMILES=\"N=[N]\")], molecularWeight=(29.0214,'amu'), energyTransferModel=SingleExponentialDown(alpha0=(3.5886,'kJ/mol'), T0=(300,'K'), n=0.85))), (Species(index=7, label=\"N=N\", thermo=NASA(polynomials=[NASAPolynomial(coeffs=[4.14012,-0.00411619,1.94638e-05,-1.72802e-08,5.01307e-12,22777.3,3.13601], Tmin=(100,'K'), Tmax=(1069.32,'K')), NASAPolynomial(coeffs=[2.10837,0.00776417,-3.20568e-06,5.96342e-10,-4.15018e-14,22967.2,11.9299], Tmin=(1069.32,'K'), Tmax=(5000,'K'))], Tmin=(100,'K'), Tmax=(5000,'K'), E0=(189.417,'kJ/mol'), Cp0=(33.2579,'J/(mol*K)'), CpInf=(83.1447,'J/(mol*K)'), comment=\"\"\"Thermo library: thermo_DFT_CCSDTF12_BAC\"\"\"), conformer=Conformer(E0=(189.417,'kJ/mol'), modes=[]), molecule=[Molecule(SMILES=\"N=N\")], molecularWeight=(30.0294,'amu'), energyTransferModel=SingleExponentialDown(alpha0=(3.5886,'kJ/mol'), T0=(300,'K'), n=0.85)), Species(index=2, label=\"NNH\", thermo=NASA(polynomials=[NASAPolynomial(coeffs=[4.05639,-0.0017313,9.19499e-06,-8.17656e-09,2.3515e-12,28798.9,4.03301], Tmin=(100,'K'), Tmax=(1085.7,'K')), NASAPolynomial(coeffs=[3.08742,0.00398309,-1.66274e-06,3.09807e-10,-2.15374e-14,28882.9,8.20537], Tmin=(1085.7,'K'), Tmax=(5000,'K'))], Tmin=(100,'K'), Tmax=(5000,'K'), E0=(239.461,'kJ/mol'), Cp0=(33.2579,'J/(mol*K)'), CpInf=(58.2013,'J/(mol*K)'), comment=\"\"\"Thermo library: thermo_DFT_CCSDTF12_BAC\"\"\"), conformer=Conformer(E0=(239.461,'kJ/mol'), modes=[]), molecule=[Molecule(SMILES=\"N=[N]\")], molecularWeight=(29.0214,'amu'), energyTransferModel=SingleExponentialDown(alpha0=(3.5886,'kJ/mol'), T0=(300,'K'), n=0.85)))])"
      ]
     },
     "metadata": {},
     "output_type": "display_data"
    },
    {
     "name": "stdout",
     "output_type": "stream",
     "text": [
      "Reaction Family = H_Abstraction\n",
      "\n",
      "Reactants\n",
      "Label: [N]=[N]\n",
      "SMILES: [N]=[N]\n",
      "\n",
      "Label: N=N\n",
      "SMILES: N=N\n",
      "\n",
      "Products\n",
      "Label: NNH\n",
      "SMILES: N=[N]\n",
      "Label: NNH\n",
      "SMILES: N=[N]\n",
      "\n",
      "! Template reaction: H_Abstraction\n",
      "! Flux pairs: N2(4), NNH(2); H2N2(7), NNH(2); \n",
      "! Average of [Average of [N3d/H/NonDeN;NH2_rad]]\n",
      "! Estimated using an average for rate rule [N3d/H/NonDeN;N3_rad]\n",
      "! Multiplied by reaction path degeneracy 4\n",
      "! Kinetics were estimated in this direction instead of the reverse because:\n",
      "! Both directions are estimates, but this direction is exergonic.\n",
      "! dHrxn(298 K) = -0.00 kJ/mol, dGrxn(298 K) = -0.00 kJ/mol\n",
      "! Ea raised from -4.8 to 0.0 kJ/mol to match endothermicity of reaction.\n",
      "N2(4)+H2N2(7)=NNH(2)+NNH(2)                         7.200e+06 1.940     0.002    \n",
      "\n",
      "\n",
      "Heat of Reaction = -0.00 kcal/mol\n",
      "Forward kinetics at 623.0 K: 1.90E+06\n",
      "Reverse kinetics at 623.0 K: 1.90E+06\n",
      "=========================\n"
     ]
    },
    {
     "data": {
      "image/png": "[encoded data removed]",
      "text/plain": [
       "Reaction(index=9, reactants=[Species(index=2, label=\"NNH\", thermo=NASA(polynomials=[NASAPolynomial(coeffs=[4.05639,-0.0017313,9.19499e-06,-8.17656e-09,2.3515e-12,28798.9,4.03301], Tmin=(100,'K'), Tmax=(1085.7,'K')), NASAPolynomial(coeffs=[3.08742,0.00398309,-1.66274e-06,3.09807e-10,-2.15374e-14,28882.9,8.20537], Tmin=(1085.7,'K'), Tmax=(5000,'K'))], Tmin=(100,'K'), Tmax=(5000,'K'), E0=(239.461,'kJ/mol'), Cp0=(33.2579,'J/(mol*K)'), CpInf=(58.2013,'J/(mol*K)'), comment=\"\"\"Thermo library: thermo_DFT_CCSDTF12_BAC\"\"\"), conformer=Conformer(E0=(239.461,'kJ/mol'), modes=[]), molecule=[Molecule(SMILES=\"N=[N]\")], molecularWeight=(29.0214,'amu'), energyTransferModel=SingleExponentialDown(alpha0=(3.5886,'kJ/mol'), T0=(300,'K'), n=0.85)), Species(index=2, label=\"NNH\", thermo=NASA(polynomials=[NASAPolynomial(coeffs=[4.05639,-0.0017313,9.19499e-06,-8.17656e-09,2.3515e-12,28798.9,4.03301], Tmin=(100,'K'), Tmax=(1085.7,'K')), NASAPolynomial(coeffs=[3.08742,0.00398309,-1.66274e-06,3.09807e-10,-2.15374e-14,28882.9,8.20537], Tmin=(1085.7,'K'), Tmax=(5000,'K'))], Tmin=(100,'K'), Tmax=(5000,'K'), E0=(239.461,'kJ/mol'), Cp0=(33.2579,'J/(mol*K)'), CpInf=(58.2013,'J/(mol*K)'), comment=\"\"\"Thermo library: thermo_DFT_CCSDTF12_BAC\"\"\"), conformer=Conformer(E0=(239.461,'kJ/mol'), modes=[]), molecule=[Molecule(SMILES=\"N=[N]\")], molecularWeight=(29.0214,'amu'), energyTransferModel=SingleExponentialDown(alpha0=(3.5886,'kJ/mol'), T0=(300,'K'), n=0.85))], products=[Species(index=9, label=\"N(=N)N=N\", thermo=NASA(polynomials=[NASAPolynomial(coeffs=[2.54884,0.037279,-5.42977e-05,5.16035e-08,-1.90801e-11,28063.9,32.5439], Tmin=(100,'K'), Tmax=(876.935,'K')), NASAPolynomial(coeffs=[2.34269,0.0252105,-1.14029e-05,2.07761e-09,-1.38522e-13,28600.2,36.3634], Tmin=(876.935,'K'), Tmax=(5000,'K'))], Tmin=(100,'K'), Tmax=(5000,'K'), E0=(232.945,'kJ/mol'), Cp0=(33.2579,'J/(mol*K)'), CpInf=(128.874,'J/(mol*K)'), comment=\"\"\"Thermo group additivity estimation: group(N3s-CsHH) + other(R) + group(N3s-CsHH) + other(R) + group(N3d-N3dH) + other(R) + group(N3d-N3dH) + other(R)\"\"\"), conformer=Conformer(E0=(232.945,'kJ/mol'), modes=[]), molecule=[Molecule(SMILES=\"N(=N)N=N\")], molecularWeight=(58.0428,'amu'), energyTransferModel=SingleExponentialDown(alpha0=(3.5886,'kJ/mol'), T0=(300,'K'), n=0.85))], kinetics=Arrhenius(A=(1.0247e+07,'m^3/(mol*s)'), n=0.12, Ea=(0,'kJ/mol'), T0=(1,'K'), comment=\"\"\"Average of [Average of [Average of [Average of [N3d-OdOs;O_rad] + Average of [Average of [O_pri_rad;N3d-OdOs] + O_rad;N3d-OdOs]] + Average of [Average of [Average of [O_pri_rad;N3d-OdOs]] + Average of [Average of [O_pri_rad;N3d-OdOs] + O_rad;N3d-OdOs]]] + Average of [Average of [Average of [N3d-OdOs;O_rad] + Average of [Average of [O_pri_rad;N3d-OdOs] + O_rad;N3d-OdOs]] + Average of [Average of [Average of [O_pri_rad;N3d-OdOs]] + Average of [Average of [O_pri_rad;N3d-OdOs] + O_rad;N3d-OdOs]]]]\n",
       "Estimated using average of templates [Y_rad;N3d_rad] + [N3d_rad;Y_rad] for rate rule [N3d-N3d;N3d-N3d]\"\"\"), pairs=[(Species(index=2, label=\"NNH\", thermo=NASA(polynomials=[NASAPolynomial(coeffs=[4.05639,-0.0017313,9.19499e-06,-8.17656e-09,2.3515e-12,28798.9,4.03301], Tmin=(100,'K'), Tmax=(1085.7,'K')), NASAPolynomial(coeffs=[3.08742,0.00398309,-1.66274e-06,3.09807e-10,-2.15374e-14,28882.9,8.20537], Tmin=(1085.7,'K'), Tmax=(5000,'K'))], Tmin=(100,'K'), Tmax=(5000,'K'), E0=(239.461,'kJ/mol'), Cp0=(33.2579,'J/(mol*K)'), CpInf=(58.2013,'J/(mol*K)'), comment=\"\"\"Thermo library: thermo_DFT_CCSDTF12_BAC\"\"\"), conformer=Conformer(E0=(239.461,'kJ/mol'), modes=[]), molecule=[Molecule(SMILES=\"N=[N]\")], molecularWeight=(29.0214,'amu'), energyTransferModel=SingleExponentialDown(alpha0=(3.5886,'kJ/mol'), T0=(300,'K'), n=0.85)), Species(index=9, label=\"N(=N)N=N\", thermo=NASA(polynomials=[NASAPolynomial(coeffs=[2.54884,0.037279,-5.42977e-05,5.16035e-08,-1.90801e-11,28063.9,32.5439], Tmin=(100,'K'), Tmax=(876.935,'K')), NASAPolynomial(coeffs=[2.34269,0.0252105,-1.14029e-05,2.07761e-09,-1.38522e-13,28600.2,36.3634], Tmin=(876.935,'K'), Tmax=(5000,'K'))], Tmin=(100,'K'), Tmax=(5000,'K'), E0=(232.945,'kJ/mol'), Cp0=(33.2579,'J/(mol*K)'), CpInf=(128.874,'J/(mol*K)'), comment=\"\"\"Thermo group additivity estimation: group(N3s-CsHH) + other(R) + group(N3s-CsHH) + other(R) + group(N3d-N3dH) + other(R) + group(N3d-N3dH) + other(R)\"\"\"), conformer=Conformer(E0=(232.945,'kJ/mol'), modes=[]), molecule=[Molecule(SMILES=\"N(=N)N=N\")], molecularWeight=(58.0428,'amu'), energyTransferModel=SingleExponentialDown(alpha0=(3.5886,'kJ/mol'), T0=(300,'K'), n=0.85))), (Species(index=2, label=\"NNH\", thermo=NASA(polynomials=[NASAPolynomial(coeffs=[4.05639,-0.0017313,9.19499e-06,-8.17656e-09,2.3515e-12,28798.9,4.03301], Tmin=(100,'K'), Tmax=(1085.7,'K')), NASAPolynomial(coeffs=[3.08742,0.00398309,-1.66274e-06,3.09807e-10,-2.15374e-14,28882.9,8.20537], Tmin=(1085.7,'K'), Tmax=(5000,'K'))], Tmin=(100,'K'), Tmax=(5000,'K'), E0=(239.461,'kJ/mol'), Cp0=(33.2579,'J/(mol*K)'), CpInf=(58.2013,'J/(mol*K)'), comment=\"\"\"Thermo library: thermo_DFT_CCSDTF12_BAC\"\"\"), conformer=Conformer(E0=(239.461,'kJ/mol'), modes=[]), molecule=[Molecule(SMILES=\"N=[N]\")], molecularWeight=(29.0214,'amu'), energyTransferModel=SingleExponentialDown(alpha0=(3.5886,'kJ/mol'), T0=(300,'K'), n=0.85)), Species(index=9, label=\"N(=N)N=N\", thermo=NASA(polynomials=[NASAPolynomial(coeffs=[2.54884,0.037279,-5.42977e-05,5.16035e-08,-1.90801e-11,28063.9,32.5439], Tmin=(100,'K'), Tmax=(876.935,'K')), NASAPolynomial(coeffs=[2.34269,0.0252105,-1.14029e-05,2.07761e-09,-1.38522e-13,28600.2,36.3634], Tmin=(876.935,'K'), Tmax=(5000,'K'))], Tmin=(100,'K'), Tmax=(5000,'K'), E0=(232.945,'kJ/mol'), Cp0=(33.2579,'J/(mol*K)'), CpInf=(128.874,'J/(mol*K)'), comment=\"\"\"Thermo group additivity estimation: group(N3s-CsHH) + other(R) + group(N3s-CsHH) + other(R) + group(N3d-N3dH) + other(R) + group(N3d-N3dH) + other(R)\"\"\"), conformer=Conformer(E0=(232.945,'kJ/mol'), modes=[]), molecule=[Molecule(SMILES=\"N(=N)N=N\")], molecularWeight=(58.0428,'amu'), energyTransferModel=SingleExponentialDown(alpha0=(3.5886,'kJ/mol'), T0=(300,'K'), n=0.85)))])"
      ]
     },
     "metadata": {},
     "output_type": "display_data"
    },
    {
     "name": "stdout",
     "output_type": "stream",
     "text": [
      "Reaction Family = R_Recombination\n",
      "\n",
      "Reactants\n",
      "Label: NNH\n",
      "SMILES: N=[N]\n",
      "\n",
      "Label: NNH\n",
      "SMILES: N=[N]\n",
      "\n",
      "Products\n",
      "Label: N(=N)N=N\n",
      "SMILES: N(=N)N=N\n",
      "\n",
      "! Template reaction: R_Recombination\n",
      "! Flux pairs: NNH(2), H2N4(9); NNH(2), H2N4(9); \n",
      "! Average of [Average of [Average of [Average of [N3d-OdOs;O_rad] + Average of [Average of [O_pri_rad;N3d-OdOs] + O_rad;N3d-OdOs]] + Average of [Average\n",
      "! of [Average of [O_pri_rad;N3d-OdOs]] + Average of [Average of [O_pri_rad;N3d-OdOs] + O_rad;N3d-OdOs]]] + Average of [Average of [Average of [N3d-\n",
      "! OdOs;O_rad] + Average of [Average of [O_pri_rad;N3d-OdOs] + O_rad;N3d-OdOs]] + Average of [Average of [Average of [O_pri_rad;N3d-OdOs]] + Average of\n",
      "! [Average of [O_pri_rad;N3d-OdOs] + O_rad;N3d-OdOs]]]]\n",
      "! Estimated using average of templates [Y_rad;N3d_rad] + [N3d_rad;Y_rad] for rate rule [N3d-N3d;N3d-N3d]\n",
      "NNH(2)+NNH(2)=H2N4(9)                               1.025e+13 0.120     0.000    \n",
      "\n",
      "\n",
      "Heat of Reaction = -57.31 kcal/mol\n",
      "Forward kinetics at 623.0 K: 2.22E+07\n",
      "Reverse kinetics at 623.0 K: 3.69E-14\n"
     ]
    }
   ],
   "source": [
    "if len(rmg.reactionModel.outputReactionList) == 0:\n",
    "    print 'No reactions generated'\n",
    "for rxn in rmg.reactionModel.outputReactionList:\n",
    "    print '========================='\n",
    "    display(rxn)\n",
    "    print 'Reaction Family = {0}'.format(rxn.family)\n",
    "    print ''\n",
    "    print 'Reactants'\n",
    "    for reactant in rxn.reactants:\n",
    "        print 'Label: {0}'.format(reactant.label)\n",
    "        print 'SMILES: {0}'.format(reactant.molecule[0].toSMILES())\n",
    "        print ''\n",
    "    print 'Products'\n",
    "    for product in rxn.products:\n",
    "        print 'Label: {0}'.format(product.label)\n",
    "        print 'SMILES: {0}'.format(product.molecule[0].toSMILES())\n",
    "    print ''\n",
    "    print rxn.toChemkin()\n",
    "    print ''\n",
    "    print 'Heat of Reaction = {0:.2F} kcal/mol'.format(rxn.getEnthalpyOfReaction(623.0)/4184)\n",
    "    print 'Forward kinetics at {0} K: {1:.2E}'.format(T, rxn.getRateCoefficient(T))\n",
    "\n",
    "    reverseRate = rxn.generateReverseRateCoefficient()\n",
    "    print 'Reverse kinetics at {0} K: {1:.2E}'.format(T, reverseRate.getRateCoefficient(T))"
   ]
  },
  {
   "cell_type": "code",
   "execution_count": null,
   "metadata": {
    "collapsed": true
   },
   "outputs": [],
   "source": []
  }
 ],
 "metadata": {
  "anaconda-cloud": {},
  "kernelspec": {
   "display_name": "Python [conda env:rmg_env]",
   "language": "python",
   "name": "conda-env-rmg_env-py"
  },
  "language_info": {
   "codemirror_mode": {
    "name": "ipython",
    "version": 2
   },
   "file_extension": ".py",
   "mimetype": "text/x-python",
   "name": "python",
   "nbconvert_exporter": "python",
   "pygments_lexer": "ipython2",
   "version": "2.7.12"
  }
 },
 "nbformat": 4,
 "nbformat_minor": 0
}
