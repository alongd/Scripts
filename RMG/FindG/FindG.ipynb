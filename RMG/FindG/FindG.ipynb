{
 "cells": [
  {
   "cell_type": "code",
   "execution_count": 32,
   "metadata": {},
   "outputs": [
    {
     "name": "stdout",
     "output_type": "stream",
     "text": [
      "species: NCC\n",
      "G at 1500 K is: 272.542581871 kcal/mol\n",
      "H at 1500 K is: 502.400662106 kcal/mol\n",
      "S at 1500 K is: 153.238720156 cal/(mol K)\n"
     ]
    }
   ],
   "source": [
    "from rmgpy.chemkin import loadChemkinFile, getSpeciesIdentifier\n",
    "\n",
    "#Specify the temperatures at which to evaluate the NASA polynomials\n",
    "T_list = [1500]\n",
    "\n",
    "#Load the checmkin file\n",
    "speciesList, reactionList = loadChemkinFile('chem.inp')\n",
    "\n",
    "# Make full species identifier the species labels\n",
    "for species in speciesList:\n",
    "    species.label = getSpeciesIdentifier(species)\n",
    "    species.index = -1\n",
    "\n",
    "# Evaluate the NASA polynomials for thermo properties of each species at the specified T's\n",
    "for i in range(len(speciesList)): \n",
    "    species = speciesList[i]\n",
    "    if species.thermo:\n",
    "        print('species: {0}'.format(species.label))\n",
    "        for T in T_list:\n",
    "            print('G at {0} K is: {1} kcal/mol'.format(T,species.getThermoData().getFreeEnergy(T) / 4184.))\n",
    "            print('H at {0} K is: {1} kcal/mol'.format(T,species.getThermoData().getEnthalpy(T) / 4184.))\n",
    "            print('S at {0} K is: {1} cal/(mol K)'.format(T,species.getThermoData().getEntropy(T) / 4.184))\n"
   ]
  },
  {
   "cell_type": "code",
   "execution_count": null,
   "metadata": {
    "collapsed": true
   },
   "outputs": [],
   "source": []
  }
 ],
 "metadata": {
  "kernelspec": {
   "display_name": "rmg_env",
   "language": "python",
   "name": "rmg_env"
  },
  "language_info": {
   "codemirror_mode": {
    "name": "ipython",
    "version": 2
   },
   "file_extension": ".py",
   "mimetype": "text/x-python",
   "name": "python",
   "nbconvert_exporter": "python",
   "pygments_lexer": "ipython2",
   "version": "2.7.13"
  }
 },
 "nbformat": 4,
 "nbformat_minor": 2
}
