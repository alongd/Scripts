{
 "cells": [
  {
   "cell_type": "code",
   "execution_count": null,
   "metadata": {
    "collapsed": true
   },
   "outputs": [],
   "source": [
    "rom rmgpy.chemkin import *\n",
    "from rmgpy.tools.canteraModel import *\n",
    "from rmgpy.species import Species\n",
    "\n",
    "%matplotlib inline\n",
    "import numpy as np\n",
    "from matplotlib import pyplot"
   ]
  },
  {
   "cell_type": "code",
   "execution_count": null,
   "metadata": {
    "collapsed": true
   },
   "outputs": [],
   "source": [
    "peciesList, reactionList = loadChemkinFile('/home/mjliu/Documents/gcxgc/input_pyro.inp',\n",
    "                                            '/home/mjliu/Documents/gcxgc/RMG_Dictionary_pyro.txt')"
   ]
  },
  {
   "cell_type": "code",
   "execution_count": null,
   "metadata": {
    "collapsed": true
   },
   "outputs": [],
   "source": [
    "\n",
    "\n",
    "user_hb = Species().fromSMILES('c1ccccc1CCCCCC')\n",
    "speciesDict = getRMGSpeciesFromUserSpecies([user_hb], speciesList)\n",
    "hb = speciesDict[user_hb]\n",
    "\n",
    "reactorTypeList = ['IdealGasReactor']\n",
    "molFracList=[{hb: 1}]\n",
    "Tlist = ([723],'K')\n",
    "Plist = ([35],'atm')\n",
    "reactionTimeList = ([40], 'min')\n",
    "\n",
    "\n",
    "\n",
    "speciesList = speciesList[4:]\n",
    "\n"
   ]
  },
  {
   "cell_type": "code",
   "execution_count": null,
   "metadata": {
    "collapsed": true
   },
   "outputs": [],
   "source": [
    "# Create cantera object, loading in the species and reactions\n",
    "job = Cantera(speciesList=speciesList, reactionList=reactionList, outputDirectory='/home/mjliu/Documents/gcxgc/temp')\n",
    "# The cantera file must be created from an associated chemkin file\n",
    "\n",
    "# We can either load the Model from the initialized set of rmg species and reactions\n",
    "job.loadModel()\n",
    "\n",
    "# Or load it from a chemkin file by uncommenting the following line:\n",
    "#job.loadChemkinModel('data/minimal_model/chem_annotated.inp',transportFile='data/minimal_model/tran.dat')\n",
    "\n",
    "# Generate the conditions based on the settings we declared earlier\n",
    "job.generateConditions(reactorTypeList, reactionTimeList, molFracList, Tlist, Plist)\n",
    "# Simulate and plot\n",
    "alldata = job.simulate()\n",
    "job.plot(alldata)"
   ]
  },
  {
   "cell_type": "code",
   "execution_count": null,
   "metadata": {
    "collapsed": true
   },
   "outputs": [],
   "source": [
    "species = []\n",
    "weight = []\n",
    "dbonds = []\n",
    "molfrac = []\n",
    "for entry in alldata[0][1][2:]:\n",
    "    mol = entry.species.molecule[0]\n",
    "    species.append(mol)\n",
    "    weight.append(mol.getMolecularWeight())\n",
    "    \n",
    "    bonds = set()\n",
    "    for atom in mol.atoms:\n",
    "        bonds.update(atom.bonds.values())\n",
    "    db = 0\n",
    "    for bond in bonds:\n",
    "        if bond.order == 'D':\n",
    "            db += 1\n",
    "        elif bond.order == 'B':\n",
    "            db += 0.5\n",
    "    dbonds.append(db)\n",
    "    \n",
    "    molfrac.append(entry.data[-1])"
   ]
  },
  {
   "cell_type": "code",
   "execution_count": null,
   "metadata": {
    "collapsed": true
   },
   "outputs": [],
   "source": [
    "points = np.empty((0, 2))\n",
    "for i in range(len(species)):\n",
    "    mean = (weight[i], dbonds[i])\n",
    "    cov = [[0.000001, 0], [0, 0.02]]\n",
    "    num = int(round(molfrac[i] * 100000))\n",
    "    points = np.append(points, np.random.multivariate_normal(mean, cov, num), axis=0)\n",
    "\n",
    "pyplot.hist2d(points[:, 0], points[:, 1], 1000, cmin=1)\n",
    "pyplot.show()"
   ]
  },
  {
   "cell_type": "code",
   "execution_count": null,
   "metadata": {
    "collapsed": true
   },
   "outputs": [],
   "source": []
  }
 ],
 "metadata": {
  "kernelspec": {
   "display_name": "rmg_env",
   "language": "python",
   "name": "rmg_env"
  },
  "language_info": {
   "codemirror_mode": {
    "name": "ipython",
    "version": 2
   },
   "file_extension": ".py",
   "mimetype": "text/x-python",
   "name": "python",
   "nbconvert_exporter": "python",
   "pygments_lexer": "ipython2",
   "version": "2.7.13"
  }
 },
 "nbformat": 4,
 "nbformat_minor": 2
}
