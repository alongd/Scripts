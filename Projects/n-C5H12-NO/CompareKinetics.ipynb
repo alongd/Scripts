{
 "cells": [
  {
   "cell_type": "code",
   "execution_count": null,
   "metadata": {
    "collapsed": true
   },
   "outputs": [],
   "source": [
    "\"\"\"\n",
    "'CH3O(+M)=CH2O+H(+M)' have similar kinetics (at 1 bar):\n",
    "\n",
    "xp1038:\n",
    "500K:  10E+1.7 m3*(mol*s)^-1 = 50.12   m3*(mol*s)^-1\n",
    "1000K: 10E+5.9 m3*(mol*s)^-1 = 49.43E4 m3*(mol*s)^-1\n",
    "\n",
    "xp1054:\n",
    "500K:  10E+1.8 m3*(mol*s)^-1 = 63.10   m3*(mol*s)^-1\n",
    "1000K: 10E+6.0 m3*(mol*s)^-1 = 1E6     m3*(mol*s)^-1\n",
    "\n",
    "\n",
    "\n",
    "\n",
    "\n",
    "'NO+OH(+M)=HONO(+M)' have different kinetics (at 1 bar)\"\n",
    "\n",
    "xp1038:\n",
    "500K:  10E+6.1 m6*(mol^2*s)^-1 = 1.26E6  m6*(mol^2*s)^-1\n",
    "1000K: 10E+5.2 m6*(mol^2*s)^-1 = 1.58E3  m6*(mol^2*s)^-1\n",
    "\n",
    "xp1054:\n",
    "500K:  10E-8.0 m6*(mol^2*s)^-1 = 1E-8    m6*(mol^2*s)^-1\n",
    "1000K: 10E+1.5 m6*(mol^2*s)^-1 = 31.62   m6*(mol^2*s)^-1\n",
    "\n",
    "xp1054 was fitted in reverse.\n",
    "SRI parameters from xp1038 file ignored on import!!\n",
    "\"\"\""
   ]
  },
  {
   "cell_type": "code",
   "execution_count": 8,
   "metadata": {
    "collapsed": true
   },
   "outputs": [],
   "source": [
    "rxnList1 = [(1.300e+14, 0, 357, 'H+NO2=OH+NO','f'),  # xp1054\n",
    "            (2.0e+06, 2.0, 3000, 'OH+NO2=NO+HO2','r'),\n",
    "            (1.420e-07, 5.640, 9221, 'CH2O+NO2=HCO+HONO','f'),\n",
    "            (1.446E+10, 0, 0, 'NO2+HO2=HONO+O2','identical'),\n",
    "            (7.82E+7, 1.63, -1.055E+3, 'CH2O+OH=HCO+H2O','identical'),\n",
    "            (2.7320000E+007, 1.8130000E+000, 8.6840000E+002, 'NC5H12+OH=C5H11-1+H2O','identical'),\n",
    "            (+1.4110000E+010, +9.3500000E-001, +5.0470000E+002, 'NC5H12+OH=C5H11-2+H2O','identical'),\n",
    "            (+5.7210000E+006, +1.8110000E+000, -1.0155000E+003, 'NC5H12+OH=C5H11-3+H2O','identical'),\n",
    "            (6.325E+13, 0, 1058, 'C5H11O2-2+NO=C5H11O-2+NO2','identical'),\n",
    "            (5.14E+9, 1.01, 2.9362E+4, 'C5H11O2-2=C5H10-2+HO2','identical'),\n",
    "            (3.605E+9, 1.13, 3.01E+4, 'C5H11O2-2=C5H10-1+HO2','identical'),\n",
    "            (3.433E+16, -1.627, 1.987E+2, 'NEOC5H10OOH+O2<=>NEOC5H10OOH-O2','identical'),  # not 'C5H10OOH+O2=O2C5H10OOH' as originally desired\n",
    "            (1.569E+14, -8.16E-1, -5.365E+2, 'C5H10OOH2-4+O2=C5H10OOH2-4O2','identical'),\n",
    "            (1.05E+16, 0, 4.26E+004, 'NC5KET24=NC5KET24O+OH','identical'),\n",
    "            (3.433E+16, -1.627, 1.987E+2, 'C3H6OOH1-3+O2=C3H6OOH1-3O2','identical'),\n",
    "            (3.37E+12, 0, -6.19E+2, 'CH3CHO+OH=CH3CO+H2O','identical')]\n",
    "\n",
    "rxnList2 = [(1.32E+14, 0, 362.0, 'NO2+H=NO+OH'),  # xp1038 (original)\n",
    "            (2.05E+12, 0, -497.0, 'HO2+NO=NO2+OH'),\n",
    "            (8.0E+2, 2.77, 13730.0, 'CH2O+NO2=HCO+HONO'),\n",
    "            (1.446E+10, 0, 0, 'NO2+HO2=HONO+O2'),\n",
    "            (7.82E+7, 1.63, -1.055E+3, 'CH2O+OH=HCO+H2O'),\n",
    "            (2.732E+7, 1.813, 8.684E+2, 'NC5H12+OH=C5H11-1+H2O'),\n",
    "            (1.411E+10, 9.35E-001, 5.047E+2, 'NC5H12+OH=C5H11-2+H2O'),\n",
    "            (5.721E+6, 1.811, -1.0155E+3, 'NC5H12+OH=C5H11-3+H2O'),\n",
    "            (6.325E+13, 0, 1058, 'C5H11O2-2+NO=C5H11O-2+NO2'),\n",
    "            (5.14E+9, 1.01, 2.9362E+4, 'C5H11O2-2=C5H10-2+HO2'),\n",
    "            (3.605E+9, 1.13, 3.01E+4, 'C5H11O2-2=C5H10-1+HO2'),\n",
    "            (3.433E+16, -1.627, 1.987E+2, 'NEOC5H10OOH+O2<=>NEOC5H10OOH-O2'),  # not 'C5H10OOH+O2=O2C5H10OOH' as originally desired\n",
    "            (1.569E+14, -8.16E-1 -5.365E+2, 'C5H10OOH2-4+O2=C5H10OOH2-4O2'),\n",
    "            (1.05E+16, 0, 4.26E+004, 'NC5KET24=NC5KET24O+OH'),\n",
    "            (3.433E+16, -1.627, 1.987E+2, 'C3H6OOH1-3+O2=C3H6OOH1-3O2'),\n",
    "            (3.37E+12, 0, -6.19E+2, 'CH3CHO+OH=CH3CO+H2O')]"
   ]
  },
  {
   "cell_type": "code",
   "execution_count": 18,
   "metadata": {},
   "outputs": [],
   "source": [
    "import matplotlib.pyplot as plt\n",
    "\n",
    "R = 1.9872036  # cal K^-1 mol^-1\n",
    "\n",
    "size = 0\n",
    "for rxn1 in rxnList1:\n",
    "    if rxn1[4] != 'identical':\n",
    "        size += 1\n",
    "    \n",
    "fig = plt.figure(figsize=(9,9*size))\n",
    "\n",
    "Tlist = [500, 550, 600, 650, 700, 750, 800, 850, 900]\n",
    "TinvList = [1/x for x in Tlist]\n",
    "\n",
    "for i in xrange(len(rxnList1)):\n",
    "    rxn1 = rxnList1[i]\n",
    "    if rxn1[4] != 'identical':\n",
    "        rxn2 = rxnList2[i]\n",
    "        rate1 = [rxn1[0]*T^rxn1[1]*exp(-rxn1[2]/(R*T)) for T in Tlist)\n",
    "        rate2 = [rxn2[0]*T^rxn2[1]*exp(-rxn2[2]/(R*T)) for T in Tlist)\n",
    "    \n",
    "\n",
    "\n",
    "\n"
   ]
  },
  {
   "cell_type": "code",
   "execution_count": null,
   "metadata": {
    "collapsed": true
   },
   "outputs": [],
   "source": []
  },
  {
   "cell_type": "code",
   "execution_count": null,
   "metadata": {
    "collapsed": true
   },
   "outputs": [],
   "source": []
  },
  {
   "cell_type": "code",
   "execution_count": null,
   "metadata": {
    "collapsed": true
   },
   "outputs": [],
   "source": []
  },
  {
   "cell_type": "code",
   "execution_count": null,
   "metadata": {
    "collapsed": true
   },
   "outputs": [],
   "source": []
  },
  {
   "cell_type": "code",
   "execution_count": null,
   "metadata": {
    "collapsed": true
   },
   "outputs": [],
   "source": []
  },
  {
   "cell_type": "code",
   "execution_count": null,
   "metadata": {
    "collapsed": true
   },
   "outputs": [],
   "source": []
  },
  {
   "cell_type": "code",
   "execution_count": null,
   "metadata": {
    "collapsed": true
   },
   "outputs": [],
   "source": []
  },
  {
   "cell_type": "code",
   "execution_count": null,
   "metadata": {
    "collapsed": true
   },
   "outputs": [],
   "source": []
  }
 ],
 "metadata": {
  "kernelspec": {
   "display_name": "rmg_env",
   "language": "python",
   "name": "rmg_env"
  },
  "language_info": {
   "codemirror_mode": {
    "name": "ipython",
    "version": 2
   },
   "file_extension": ".py",
   "mimetype": "text/x-python",
   "name": "python",
   "nbconvert_exporter": "python",
   "pygments_lexer": "ipython2",
   "version": "2.7.13"
  }
 },
 "nbformat": 4,
 "nbformat_minor": 2
}
