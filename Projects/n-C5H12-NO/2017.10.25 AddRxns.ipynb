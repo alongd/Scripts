{
 "cells": [
  {
   "cell_type": "code",
   "execution_count": 2,
   "metadata": {
    "collapsed": true
   },
   "outputs": [],
   "source": [
    "from rmgpy.species import Species\n",
    "import rmgpy.molecule as molecule\n",
    "import rmgpy.chemkin as chemkin\n",
    "from rmgpy.data.rmg import RMGDatabase\n",
    "from rmgpy.data.kinetics.library import LibraryReaction, KineticsLibrary\n",
    "from rmgpy.data.kinetics.database import KineticsDatabase\n",
    "import os, shutil, re, logging\n",
    "from rmgpy.rmg.main import initializeLog, RMG\n",
    "from rmgpy.chemkin import ChemkinWriter\n",
    "from rmgpy.rmg.react import reactAll, react\n",
    "import itertools"
   ]
  },
  {
   "cell_type": "code",
   "execution_count": 2,
   "metadata": {
    "collapsed": true
   },
   "outputs": [],
   "source": [
    "# This notebook is used to generate RO + NO = RONO = R + NO2 reactions (inc. ROO + NO = ROONO = RO + NO2)\n",
    "# for an existing mechanism (existing RO's/ROO's)\n",
    "# Used for low T combustion NOx cycle\n",
    "# work on the speciesIndex branch"
   ]
  },
  {
   "cell_type": "code",
   "execution_count": 4,
   "metadata": {
    "collapsed": true
   },
   "outputs": [],
   "source": [
    "# extract species from xp1044 which is a dictionary made of xp1039, renamed to match xp1038\n",
    "\n",
    "mechpath = '../../xp-C5NO/xp1044/new_dictionary.txt'\n",
    "\n",
    "# read dictionary\n",
    "originalSpeciesDict = chemkin.loadSpeciesDictionary(mechpath)\n",
    "\n",
    "# ! renaming was already done below under title \"Just rename species from RMG format to original names\"\n",
    "\n",
    "# read species with comments and change labels in the dictionary\n",
    "#chem = open(mechpath+'chem.inp', 'r').readlines()\n",
    "#lastline = ''\n",
    "#readline = False\n",
    "#for line in chem:\n",
    "#    if 'SPECIES' in lastline:\n",
    "#        readline = True\n",
    "#    if 'END' in line:\n",
    "#        readline = False\n",
    "#    if readline:\n",
    "#        spc, exmark, name = line.split()\n",
    "#        name = name.split('(')[0]\n",
    "#        originalSpeciesDict[spc].label=name\n",
    "#    lastline = line"
   ]
  },
  {
   "cell_type": "markdown",
   "metadata": {},
   "source": [
    "### Part 1 (RO + NO = RONO   //   ROO + NO = ROONO)"
   ]
  },
  {
   "cell_type": "code",
   "execution_count": 4,
   "metadata": {},
   "outputs": [
    {
     "name": "stderr",
     "output_type": "stream",
     "text": [
      "WARNING:root:Species label is longer than 15 characters and will break CHEMKIN 2.0\n",
      "WARNING:root:Species label is longer than 15 characters and will break CHEMKIN 2.0\n"
     ]
    }
   ],
   "source": [
    "# save a sub-section of the dictionary\n",
    "\n",
    "# save a dictionary file\n",
    "basepath = '../../xp-C5NO/xp1044/'\n",
    "\n",
    "#dic = 'ROO'\n",
    "dic = 'RO'\n",
    "#dic = 'all'\n",
    "\n",
    "\n",
    "if dic == 'ROO':\n",
    "    # save ROO species to dictionary\n",
    "    ROO = []\n",
    "    for label, spc in originalSpeciesDict.items():\n",
    "        for atom1 in spc.molecule[0].vertices:\n",
    "            if atom1.isOxygen():\n",
    "                for atom2, bond12 in atom1.edges.items():\n",
    "                    if atom2.isOxygen() and atom2.radicalElectrons == 1:\n",
    "                        if spc.label != 'O2':\n",
    "                            ROO.append(spc)\n",
    "    chemkin.saveSpeciesDictionary(basepath+'species_dictionary_ROO.txt', ROO)\n",
    "\n",
    "\n",
    "elif dic == 'RO':  # includes ROO\n",
    "    # save RO species to dictionary\n",
    "    RO = []\n",
    "    for label, spc in originalSpeciesDict.items():\n",
    "        for mol in spc.molecule:\n",
    "            for atom1 in mol.vertices:\n",
    "                if atom1.isOxygen() and atom1.radicalElectrons == 1:\n",
    "                    #for atom2, bond12 in atom1.edges.items():\n",
    "                        #if not atom2.isOxygen():\n",
    "                    RO.append(spc)\n",
    "    chemkin.saveSpeciesDictionary(basepath+'species_dictionary_RO.txt', RO)\n",
    "    \n",
    "    \n",
    "elif dic == 'all':\n",
    "    # save all species to dictionary\n",
    "    species = []\n",
    "    for label, spc in originalSpeciesDict.items():\n",
    "        species.append(spc)\n",
    "    chemkin.saveSpeciesDictionary(basepath+'species_dictionary_all.txt', species)"
   ]
  },
  {
   "cell_type": "code",
   "execution_count": 48,
   "metadata": {
    "collapsed": true
   },
   "outputs": [],
   "source": [
    "# run the generate reactions script with an input file composed of that sub-section dictionary (create input file using\n",
    "# the generateInput script). This is xp1045 (was xp1041)"
   ]
  },
  {
   "cell_type": "code",
   "execution_count": 2,
   "metadata": {
    "collapsed": true,
    "scrolled": true
   },
   "outputs": [],
   "source": [
    "# Load only the RONO / ROONO species generated in xp1045 (was xp1041)\n",
    "dic = '../../xp-C5NO/xp1045/chemkin/species_edge_dictionary.txt'\n",
    "output = '../../xp-C5NO/xp1045/RONO.txt'\n",
    "\n",
    "# read dictionary\n",
    "speciesDict = chemkin.loadSpeciesDictionary(dic)\n",
    "\n",
    "# save RONO species to dictionary\n",
    "RONO = []\n",
    "for label, spc in speciesDict.items():\n",
    "    for atom1 in spc.molecule[0].vertices:\n",
    "        if atom1.isOxygen() and atom1.radicalElectrons == 0:  # O\n",
    "            for atom2, bond12 in atom1.edges.items():\n",
    "                if atom2.isNitrogen() and bond12.isDouble() and atom2.lonePairs == 1:  # N=O\n",
    "                    for atom3, bond23 in atom2.edges.items():\n",
    "                        if atom3.isOxygen() and bond23.isSingle() and atom3.radicalElectrons == 0:  # RON=O/ROON=O\n",
    "                            identical = False\n",
    "                            for dicspc in RONO:\n",
    "                                if dicspc.label.split('(')[1] == spc.label.split('(')[1]:\n",
    "                                    identical = True\n",
    "                            if not identical:\n",
    "                                RONO.append(spc)\n",
    "chemkin.saveSpeciesDictionary(output, RONO)\n"
   ]
  },
  {
   "cell_type": "code",
   "execution_count": 5,
   "metadata": {
    "scrolled": true
   },
   "outputs": [
    {
     "name": "stderr",
     "output_type": "stream",
     "text": [
      "WARNING:root:Skipping duplicate thermo for the species c1(cc(ccc1)O)OON\n"
     ]
    }
   ],
   "source": [
    "# Filter reactions in xp1045 (was xp1041),\n",
    "# keeping only RO + NO = RONO (inc. ROO + NO = ROONO). This accomplishes 50% of the RONO cycle\n",
    "\n",
    "mech = '../../xp-C5NO/xp1045/chemkin/chem_edge_annotated.inp'\n",
    "dic = '../../xp-C5NO/xp1045/chemkin/species_edge_dictionary.txt'\n",
    "output = '../../xp-C5NO/xp1045/'\n",
    "\n",
    "speciesList, reactionList = chemkin.loadChemkinFile(path=mech, dictionaryPath=dic)\n",
    "\n",
    "rxns = []\n",
    "spcs = []\n",
    "for rxn in reactionList:\n",
    "    NO = False\n",
    "    RO = False  # looking for both NO2 and RO in one side of the reaction\n",
    "    RONO = False\n",
    "    for spc in rxn.reactants + rxn.products:\n",
    "        if spc.label == 'NO':  # check NO\n",
    "            NO = True\n",
    "        for mol in spc.molecule:  # check RO/ROO, inc. resonance structures\n",
    "            for atom in mol.vertices:\n",
    "                if atom.isOxygen() and atom.radicalElectrons == 1:\n",
    "                    RO = True\n",
    "        for mol in spc.molecule:  # check RONO/ROONO\n",
    "            for atom1 in mol.vertices:\n",
    "                if atom1.isOxygen() and atom1.radicalElectrons == 0:  # O\n",
    "                    for atom2, bond12 in atom1.edges.items():\n",
    "                        if atom2.isNitrogen() and bond12.isDouble() and atom2.lonePairs == 1:  # N=O\n",
    "                            for atom3, bond23 in atom2.edges.items():\n",
    "                                if atom3.isOxygen() and bond23.isSingle() and atom3.radicalElectrons == 0:  # RON=O/ROON=O\n",
    "                                    RONO = True\n",
    "    if NO and RO and RONO:\n",
    "        rxns.append(rxn)\n",
    "        for spc in rxn.reactants + rxn.products:\n",
    "            if spc not in spcs:\n",
    "                spcs.append(spc)\n",
    "    \n",
    "chemkin.saveChemkinFile(path=output+'RONO(1)output.inp', species=spcs, reactions=rxns, verbose = True, checkForDuplicates=False)\n",
    "chemkin.saveSpeciesDictionary(output+'RONO(1)dic.txt', spcs)\n"
   ]
  },
  {
   "cell_type": "markdown",
   "metadata": {},
   "source": [
    "### Part 2 (RONO = R + NO2   //   ROONO = RO + NO2)"
   ]
  },
  {
   "cell_type": "code",
   "execution_count": null,
   "metadata": {
    "collapsed": true
   },
   "outputs": [],
   "source": [
    "# run the generate reactions script with an input file composed of the RONO(1)dic.txt sub-section dictionary\n",
    "# (create input file using the generateInput script). This is xp1046 (was xp1042)"
   ]
  },
  {
   "cell_type": "code",
   "execution_count": 11,
   "metadata": {
    "collapsed": true
   },
   "outputs": [],
   "source": [
    "# Filter reactions in xp1046 (was xp1042),\n",
    "# keeping only RONO = R + NO2 (inc. ROONO = RO + NO2). This accomplishes 100% of the RONO cycle\n",
    "\n",
    "mech = '../../xp-C5NO/xp1046/chemkin/chem_edge_annotated.inp'\n",
    "dic = '../../xp-C5NO/xp1046/chemkin/species_edge_dictionary.txt'\n",
    "output = '../../xp-C5NO/xp1046/'\n",
    "\n",
    "speciesList, reactionList = chemkin.loadChemkinFile(path=mech, dictionaryPath=dic)\n",
    "\n",
    "rxns = []\n",
    "spcs = []\n",
    "for rxn in reactionList:\n",
    "    NO2 = False\n",
    "    R = False  # looking for both NO2 and RO in one side of the reaction\n",
    "    RONO = False\n",
    "    for spc in rxn.reactants + rxn.products:\n",
    "        if spc.label == 'NO2':  # check NO2\n",
    "            NO2 = True\n",
    "        for atom in spc.molecule[0].vertices:  # check R\n",
    "            if atom.radicalElectrons == 1:\n",
    "                R = True\n",
    "        for mol in spc.molecule:  # check RONO/ROONO\n",
    "            for atom1 in mol.vertices:\n",
    "                if atom1.isOxygen() and atom1.radicalElectrons == 0:  # O\n",
    "                    for atom2, bond12 in atom1.edges.items():\n",
    "                        if atom2.isNitrogen() and bond12.isDouble() and atom2.lonePairs == 1:  # N=O\n",
    "                            for atom3, bond23 in atom2.edges.items():\n",
    "                                if atom3.isOxygen() and bond23.isSingle() and atom3.radicalElectrons == 0:  # RON=O/ROON=O\n",
    "                                    RONO = True\n",
    "    if NO2 and RO and RONO:\n",
    "        rxns.append(rxn)\n",
    "        for spc in rxn.reactants + rxn.products:\n",
    "            if spc not in spcs:\n",
    "                spcs.append(spc)\n",
    "    \n",
    "chemkin.saveChemkinFile(path=output+'RONO(2)output.inp', species=spcs, reactions=rxns, verbose = True, checkForDuplicates=False)\n",
    "chemkin.saveSpeciesDictionary(output+'RONO(2)dic.txt', spcs)\n"
   ]
  },
  {
   "cell_type": "markdown",
   "metadata": {},
   "source": [
    "### Part 3 (RH + NO2 = R + HONO)"
   ]
  },
  {
   "cell_type": "code",
   "execution_count": null,
   "metadata": {
    "collapsed": true
   },
   "outputs": [],
   "source": []
  },
  {
   "cell_type": "code",
   "execution_count": null,
   "metadata": {
    "collapsed": true
   },
   "outputs": [],
   "source": []
  },
  {
   "cell_type": "code",
   "execution_count": null,
   "metadata": {
    "collapsed": true
   },
   "outputs": [],
   "source": []
  },
  {
   "cell_type": "code",
   "execution_count": null,
   "metadata": {
    "collapsed": true
   },
   "outputs": [],
   "source": []
  },
  {
   "cell_type": "code",
   "execution_count": null,
   "metadata": {
    "collapsed": true
   },
   "outputs": [],
   "source": []
  },
  {
   "cell_type": "markdown",
   "metadata": {
    "collapsed": true
   },
   "source": [
    "### Just rename species from RMG format to original names"
   ]
  },
  {
   "cell_type": "code",
   "execution_count": 27,
   "metadata": {
    "collapsed": true
   },
   "outputs": [],
   "source": [
    "species = '../../xp-C5NO/xp1044/rename/species.inp'\n",
    "dic = '../../xp-C5NO/xp1044/rename/dictionary.txt'\n",
    "newdic = '../../xp-C5NO/xp1044/rename/new_dictionary.txt'\n",
    "\n",
    "species = open(species,'r').readlines()\n",
    "glossary = {}\n",
    "for line in species:\n",
    "    if 'SPECIES' in line or 'END' in line or line == '\\n':\n",
    "        continue\n",
    "    name, mark, fullname = line.split()\n",
    "    glossary[name] = fullname.split('(')[0]\n",
    "\n",
    "dic = open(dic,'r').readlines()\n",
    "\n",
    "lines = ''''''\n",
    "for i in xrange(len(dic)):\n",
    "    if '(' in dic[i]:\n",
    "        lines += glossary[dic[i][0:-1]] + '\\n'\n",
    "    else:\n",
    "        lines += dic[i]\n",
    "        \n",
    "with open(newdic,'w') as newdic:\n",
    "        newdic.write(lines)"
   ]
  },
  {
   "cell_type": "code",
   "execution_count": null,
   "metadata": {
    "collapsed": true
   },
   "outputs": [],
   "source": []
  },
  {
   "cell_type": "code",
   "execution_count": null,
   "metadata": {
    "collapsed": true
   },
   "outputs": [],
   "source": []
  },
  {
   "cell_type": "markdown",
   "metadata": {},
   "source": [
    "# code that was not used:"
   ]
  },
  {
   "cell_type": "code",
   "execution_count": null,
   "metadata": {
    "collapsed": true
   },
   "outputs": [],
   "source": [
    "# read dictionary\n",
    "mechpath = 'xp1037_m/'\n",
    "speciesDict = chemkin.loadSpeciesDictionary(mechpath+'species_dictionary.txt')\n",
    "\n",
    "# functions\n",
    "def createInputFile(theme, n, label, SMILES):\n",
    "    n = str(n)\n",
    "    if not os.path.exists('runs/'):\n",
    "        os.mkdir('runs/')\n",
    "    if not os.path.exists('runs/{0}-{1}/'.format(theme,n)):\n",
    "        os.mkdir('runs/{0}-{1}/'.format(theme,n))\n",
    "    inputFile = '''\n",
    "database(thermoLibraries = ['primaryThermoLibrary'],reactionLibraries = [],\n",
    "    seedMechanisms=[],kineticsDepositories=['training'],kineticsFamilies='default',kineticsEstimator='rate rules')\n",
    "species(label=\"'''+str(label)+'''\",reactive=True,structure=SMILES(\"'''+str(SMILES)+'''\"))\n",
    "species(label='NO',reactive=True,structure=SMILES('[N]=O'))\n",
    "species(label='Ar',reactive=False,structure=adjacencyList(\"\"\"1 Ar u0 p4 c0\"\"\"))\n",
    "simpleReactor(temperature=(700,'K'),pressure=(1,'atm'),initialMoleFractions={\"'''+str(label)+'''\": 0.2,\"NO\": 0.2,\"Ar\": 0.6,},terminationTime=(0.001,'s'))\n",
    "simulator(atol=1e-16,rtol=1e-8)\n",
    "model(toleranceKeepInEdge=0,toleranceMoveToCore=0.05,toleranceInterruptSimulation=0.05,maximumEdgeSpecies=300000)\n",
    "pressureDependence(method='modified strong collision',maximumGrainSize=(0.5,'kcal/mol'),minimumNumberOfGrains=250,temperatures=(300,1000,'K',10),pressures=(0.5,1.5,'bar',5),interpolation=('Chebyshev', 6, 4),maximumAtoms=16)\n",
    "options(units='si',generateOutputHTML=False,generatePlots=False,saveEdgeSpecies=True,saveSimulationProfiles=False,saveRestartPeriod=None)\n",
    "generatedSpeciesConstraints(allowed=['input species','seed mechanisms','reaction libraries'],maximumCarbonAtoms=10,maximumOxygenAtoms=10,maximumNitrogenAtoms=2,maximumSiliconAtoms=0,maximumSulfurAtoms=0,maximumHeavyAtoms=15,maximumRadicalElectrons=1,allowSingletO2=False)\n",
    "'''\n",
    "    path = 'runs/{0}-{1}/'.format(theme,n)\n",
    "    with open(path+'input.py','w') as RMGInputFile:\n",
    "        RMGInputFile.write(inputFile)\n",
    "    return str(path)\n",
    "\n",
    "# find ROO species\n",
    "ROO = []\n",
    "for label, spc in speciesDict.items():\n",
    "    for atom1 in spc.molecule[0].vertices:\n",
    "        if atom1.isOxygen():\n",
    "            for atom2, bond12 in atom1.edges.items():\n",
    "                if atom2.isOxygen() and atom2.radicalElectrons == 1:\n",
    "                    if spc.label != 'O2(2)':\n",
    "                        ROO.append(spc)\n",
    "                        continue"
   ]
  },
  {
   "cell_type": "code",
   "execution_count": null,
   "metadata": {
    "collapsed": true,
    "scrolled": true
   },
   "outputs": [],
   "source": [
    "# generate ROO+NO rxns\n",
    "\n",
    "n = 0\n",
    "for spc in ROO:\n",
    "    n += 1\n",
    "    path = createInputFile('ROO', n, spc.label, spc.molecule[0].toSMILES())\n",
    "    os.system('python generateReactions.py {0}input.py'.format(path)) \n",
    "    \n",
    "print \"Done.\"\n",
    "    "
   ]
  },
  {
   "cell_type": "code",
   "execution_count": null,
   "metadata": {
    "collapsed": true
   },
   "outputs": [],
   "source": [
    "# merge models\n",
    "# need to start with an empty chem.inp\n",
    "\n",
    "n = 0\n",
    "for spc in ROO:\n",
    "    n += 1\n",
    "    path = 'runs/ROO-{0}/chemkin/'.format(n)\n",
    "    os.system('python mergeModels.py --model1 chem.inp species_dictionary.txt --model2 {0}chem_annotated.inp {0}species_dictionary.txt'.\n",
    "            format(path))\n",
    "\n",
    "print \"Done.\""
   ]
  },
  {
   "cell_type": "code",
   "execution_count": null,
   "metadata": {
    "collapsed": true
   },
   "outputs": [],
   "source": [
    "# read dictionary\n",
    "path = 'xp1037_m/'\n",
    "speciesDict = chemkin.loadSpeciesDictionary(path+'species_dictionary.txt')\n",
    "\n",
    "# find ROO species\n",
    "ROO = []\n",
    "for label, spc in speciesDict.items():\n",
    "    for atom1 in spc.molecule[0].vertices:\n",
    "        if atom1.isOxygen():\n",
    "            for atom2, bond12 in atom1.edges.items():\n",
    "                if atom2.isOxygen() and atom2.radicalElectrons == 1:\n",
    "                    if spc.label != 'O2(2)':\n",
    "                        ROO.append(spc)\n",
    "                        continue"
   ]
  },
  {
   "cell_type": "code",
   "execution_count": null,
   "metadata": {
    "collapsed": true,
    "scrolled": true
   },
   "outputs": [],
   "source": [
    "# generate ROO+NO rxns\n",
    "NO = Species().fromSMILES('[N]=O')\n",
    "\n",
    "database = RMGDatabase()\n",
    "basePath = '/home/alongd/Code/RMG-database/input/'\n",
    "database.load(\n",
    "    path = basePath,\n",
    "    thermoLibraries = ['primaryThermoLibrary'],\n",
    "    transportLibraries = [],\n",
    "    reactionLibraries = [],\n",
    "    seedMechanisms = [],\n",
    "    kineticsFamilies = 'default',\n",
    "    kineticsDepositories = 'training',\n",
    "    depository = False)\n",
    "#for spc in ROO:\n",
    "rxns = list(react([(NO),(ROO[0])]))\n",
    "\n",
    "# run in loop, save in chem format once (w species, so provide thermo libraries)"
   ]
  },
  {
   "cell_type": "code",
   "execution_count": null,
   "metadata": {
    "collapsed": true
   },
   "outputs": [],
   "source": [
    "chem = []\n",
    "for rxn in rxns:\n",
    "    speciesList = []\n",
    "    speciesList.append(rxn.reactants)\n",
    "    speciesList.append(rxn.products)\n",
    "    chem.append(chemkin.writeKineticsEntry(rxn,speciesList,verbose = False))\n",
    "chem"
   ]
  },
  {
   "cell_type": "code",
   "execution_count": null,
   "metadata": {
    "collapsed": true
   },
   "outputs": [],
   "source": [
    "\n",
    "cwd = os.getcwd()\n",
    "path = cwd+'/ROO/'\n",
    "if not os.path.exists(path):\n",
    "    os.mkdir(path)\n",
    "level = logging.INFO\n",
    "initializeLog(level, path+'RMG.log')\n",
    "rmg = RMG(inputFile=path+'input.py', outputDirectory=path)\n",
    "rmg.attach(ChemkinWriter(path))\n",
    "rmg.initialize()\n",
    "rmg.reactionModel.enlarge(reactEdge=True,\n",
    "    unimolecularReact=rmg.unimolecularReact,\n",
    "    bimolecularReact=rmg.bimolecularReact)\n",
    "rmg.reactionModel.outputSpeciesList.extend(rmg.reactionModel.edge.species)\n",
    "rmg.reactionModel.outputReactionList.extend(rmg.reactionModel.edge.reactions)\n",
    "rmg.saveEverything()\n",
    "rmg.finish()"
   ]
  },
  {
   "cell_type": "code",
   "execution_count": null,
   "metadata": {
    "collapsed": true
   },
   "outputs": [],
   "source": [
    "print('python $rmg/scripts/generateReactions.py {0}input.py'.format(path)) "
   ]
  },
  {
   "cell_type": "code",
   "execution_count": null,
   "metadata": {
    "collapsed": true
   },
   "outputs": [],
   "source": [
    "# generate ROO+NO rxns\n",
    "database = KineticsDatabase()\n",
    "basePath = '/home/alongd/Code/RMG-database/input/kinetics/libraries/' # path to 'RMG-database/input/kinetics/libraries/'\n",
    "\n",
    "level = logging.INFO\n",
    "\n",
    "n = 0\n",
    "for spc in ROO:\n",
    "    n += 1\n",
    "    path = createInputFile('ROO', n, spc.label, spc.molecule[0].toSMILES())\n",
    "    initializeLog(level, path+'RMG.log')\n",
    "    rmg = RMG(inputFile=path+'input.py', outputDirectory=path)\n",
    "    rmg.attach(ChemkinWriter(path))\n",
    "    rmg.initialize()\n",
    "    rmg.reactionModel.enlarge(reactEdge=True,\n",
    "        unimolecularReact=rmg.unimolecularReact,\n",
    "        bimolecularReact=rmg.bimolecularReact)\n",
    "    rmg.reactionModel.outputSpeciesList.extend(rmg.reactionModel.edge.species)\n",
    "    rmg.reactionModel.outputReactionList.extend(rmg.reactionModel.edge.reactions)\n",
    "    rmg.saveEverything()\n",
    "    rmg.finish()\n",
    "    \n",
    "    \n",
    "    "
   ]
  }
 ],
 "metadata": {
  "kernelspec": {
   "display_name": "rmg_env",
   "language": "python",
   "name": "rmg_env"
  },
  "language_info": {
   "codemirror_mode": {
    "name": "ipython",
    "version": 2
   },
   "file_extension": ".py",
   "mimetype": "text/x-python",
   "name": "python",
   "nbconvert_exporter": "python",
   "pygments_lexer": "ipython2",
   "version": "2.7.13"
  }
 },
 "nbformat": 4,
 "nbformat_minor": 2
}
