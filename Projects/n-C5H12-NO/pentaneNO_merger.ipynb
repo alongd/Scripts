{
 "cells": [
  {
   "cell_type": "code",
   "execution_count": null,
   "metadata": {
    "collapsed": true
   },
   "outputs": [],
   "source": [
    "import os\n",
    "#from rmgpy.chemkin import saveChemkinFile, saveSpeciesDictionary\n"
   ]
  },
  {
   "cell_type": "code",
   "execution_count": null,
   "metadata": {
    "collapsed": true
   },
   "outputs": [],
   "source": [
    "basePath = \"/home/alongd/Dropbox (MIT)/Papers/19 Perntane-NO/models/3_merge_imported_xp1037/\"\n",
    "rmg_inp = \"xp1037/chem_xp1037.inp\"\n",
    "rmg_dic = \"xp1037/species_xp1037.txt\"\n",
    "org_inp = \"imported/chem_imported.inp\"\n",
    "org_dic = \"imported/species_imported.txt\""
   ]
  },
  {
   "cell_type": "code",
   "execution_count": null,
   "metadata": {
    "collapsed": true
   },
   "outputs": [],
   "source": [
    "# functions"
   ]
  },
  {
   "cell_type": "code",
   "execution_count": null,
   "metadata": {
    "collapsed": true
   },
   "outputs": [],
   "source": [
    "rmg = open(basepath+rmg_inp,'r').readlines()\n",
    "org = open(basepath+org_inp,'r').readlines()\n",
    "out = open(basepath+\"merged.inp\",'w')\n",
    "\n",
    "\n",
    "\n",
    "rmg.close()\n",
    "org.close()\n",
    "out.close()"
   ]
  },
  {
   "cell_type": "code",
   "execution_count": null,
   "metadata": {
    "collapsed": true
   },
   "outputs": [],
   "source": []
  },
  {
   "cell_type": "code",
   "execution_count": null,
   "metadata": {
    "collapsed": true
   },
   "outputs": [],
   "source": []
  },
  {
   "cell_type": "code",
   "execution_count": null,
   "metadata": {
    "collapsed": true
   },
   "outputs": [],
   "source": []
  }
 ],
 "metadata": {
  "kernelspec": {
   "display_name": "rmg_env",
   "language": "python",
   "name": "rmg_env"
  },
  "language_info": {
   "codemirror_mode": {
    "name": "ipython",
    "version": 2
   },
   "file_extension": ".py",
   "mimetype": "text/x-python",
   "name": "python",
   "nbconvert_exporter": "python",
   "pygments_lexer": "ipython2",
   "version": "2.7.13"
  }
 },
 "nbformat": 4,
 "nbformat_minor": 2
}
