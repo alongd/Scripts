{
 "cells": [
  {
   "cell_type": "code",
   "execution_count": 11,
   "metadata": {},
   "outputs": [
    {
     "data": {
      "image/png": "[encoded data removed]",
      "text/plain": [
       "Molecule(SMILES=\"[N+](=O)([S-]=O)[O]\")"
      ]
     },
     "metadata": {},
     "output_type": "display_data"
    },
    {
     "data": {
      "image/png": "[encoded data removed]",
      "text/plain": [
       "Molecule(SMILES=\"[N+2]([S-]=O)([O-])[O]\")"
      ]
     },
     "metadata": {},
     "output_type": "display_data"
    }
   ],
   "source": [
    "import rmgpy.molecule as molecule\n",
    "from IPython.display import display\n",
    "\n",
    "adj1 = \"\"\"\n",
    "multiplicity 4\n",
    "1 S u2 p1 c-1 {2,D} {3,S}\n",
    "2 O u0 p2 c0 {1,D}\n",
    "3 N u0 p0 c+1 {1,S} {4,D} {5,S}\n",
    "4 O u0 p2 c0 {3,D}\n",
    "5 O u1 p2 c0 {3,S}\n",
    "\"\"\"\n",
    "\n",
    "adj2 = \"\"\"\n",
    "multiplicity 4\n",
    "1 N u0 p0 c+2 {2,S} {3,S} {4,S}\n",
    "2 S u2 p1 c-1 {1,S} {5,D}\n",
    "3 O u0 p3 c-1 {1,S}\n",
    "4 O u1 p2 c0 {1,S}\n",
    "5 O u0 p2 c0 {2,D}\n",
    "\"\"\"\n",
    "\n",
    "mol1 = molecule.Molecule().fromAdjacencyList(adj1)\n",
    "mol2 = molecule.Molecule().fromAdjacencyList(adj2)\n",
    "\n",
    "display(mol1)\n",
    "display(mol2)"
   ]
  },
  {
   "cell_type": "code",
   "execution_count": 5,
   "metadata": {
    "scrolled": false
   },
   "outputs": [
    {
     "name": "stdout",
     "output_type": "stream",
     "text": [
      "reactant:\n"
     ]
    },
    {
     "data": {
      "image/png": "[encoded data removed]",
      "text/plain": [
       "Molecule(SMILES=\"[N+](=O)(S[O])[O-]\")"
      ]
     },
     "metadata": {},
     "output_type": "display_data"
    },
    {
     "data": {
      "image/png": "[encoded data removed]",
      "text/plain": [
       "Molecule(SMILES=\"[N+](=O)(S[O])[O-]\")"
      ]
     },
     "metadata": {},
     "output_type": "display_data"
    },
    {
     "data": {
      "image/png": "[encoded data removed]",
      "text/plain": [
       "Molecule(SMILES=\"[N+]([S+]=O)([O-])[O-]\")"
      ]
     },
     "metadata": {},
     "output_type": "display_data"
    },
    {
     "data": {
      "image/png": "[encoded data removed]",
      "text/plain": [
       "Molecule(SMILES=\"N([S+]=O)([O-])[O]\")"
      ]
     },
     "metadata": {},
     "output_type": "display_data"
    },
    {
     "data": {
      "image/png": "[encoded data removed]",
      "text/plain": [
       "Molecule(SMILES=\"N([S+]=O)([O])[O-]\")"
      ]
     },
     "metadata": {},
     "output_type": "display_data"
    },
    {
     "data": {
      "image/png": "[encoded data removed]",
      "text/plain": [
       "Molecule(SMILES=\"[N+](=S=O)([O-])[O]\")"
      ]
     },
     "metadata": {},
     "output_type": "display_data"
    },
    {
     "data": {
      "image/png": "[encoded data removed]",
      "text/plain": [
       "Molecule(SMILES=\"[N+](=S=O)([O])[O-]\")"
      ]
     },
     "metadata": {},
     "output_type": "display_data"
    },
    {
     "data": {
      "image/png": "[encoded data removed]",
      "text/plain": [
       "Molecule(SMILES=\"[N+](=O)([S]=O)[O-]\")"
      ]
     },
     "metadata": {},
     "output_type": "display_data"
    },
    {
     "data": {
      "image/png": "[encoded data removed]",
      "text/plain": [
       "Molecule(SMILES=\"[N+](=O)([S]=O)[O-]\")"
      ]
     },
     "metadata": {},
     "output_type": "display_data"
    },
    {
     "data": {
      "image/png": "[encoded data removed]",
      "text/plain": [
       "Molecule(SMILES=\"N(S[O])([O])[O]\")"
      ]
     },
     "metadata": {},
     "output_type": "display_data"
    },
    {
     "data": {
      "image/png": "[encoded data removed]",
      "text/plain": [
       "Molecule(SMILES=\"[N+](=O)(S[O])[O-]\")"
      ]
     },
     "metadata": {},
     "output_type": "display_data"
    },
    {
     "name": "stdout",
     "output_type": "stream",
     "text": [
      "\n",
      "\n",
      "isomer:\n"
     ]
    },
    {
     "data": {
      "image/png": "[encoded data removed]",
      "text/plain": [
       "Molecule(SMILES=\"[N+](=O)(S[O])[O-]\")"
      ]
     },
     "metadata": {},
     "output_type": "display_data"
    },
    {
     "data": {
      "image/png": "[encoded data removed]",
      "text/plain": [
       "Molecule(SMILES=\"[N+](=O)(S[O])[O-]\")"
      ]
     },
     "metadata": {},
     "output_type": "display_data"
    },
    {
     "data": {
      "image/png": "[encoded data removed]",
      "text/plain": [
       "Molecule(SMILES=\"[N+]([S+]=O)([O-])[O-]\")"
      ]
     },
     "metadata": {},
     "output_type": "display_data"
    },
    {
     "data": {
      "image/png": "[encoded data removed]",
      "text/plain": [
       "Molecule(SMILES=\"N([S+]=O)([O])[O-]\")"
      ]
     },
     "metadata": {},
     "output_type": "display_data"
    },
    {
     "data": {
      "image/png": "[encoded data removed]",
      "text/plain": [
       "Molecule(SMILES=\"N([S+]=O)([O-])[O]\")"
      ]
     },
     "metadata": {},
     "output_type": "display_data"
    },
    {
     "data": {
      "image/png": "[encoded data removed]",
      "text/plain": [
       "Molecule(SMILES=\"[N+](=S=O)([O-])[O]\")"
      ]
     },
     "metadata": {},
     "output_type": "display_data"
    },
    {
     "data": {
      "image/png": "[encoded data removed]",
      "text/plain": [
       "Molecule(SMILES=\"[N+](=S=O)([O])[O-]\")"
      ]
     },
     "metadata": {},
     "output_type": "display_data"
    },
    {
     "data": {
      "image/png": "[encoded data removed]",
      "text/plain": [
       "Molecule(SMILES=\"[N+](=O)([S]=O)[O-]\")"
      ]
     },
     "metadata": {},
     "output_type": "display_data"
    },
    {
     "data": {
      "image/png": "[encoded data removed]",
      "text/plain": [
       "Molecule(SMILES=\"[N+](=O)([S]=O)[O-]\")"
      ]
     },
     "metadata": {},
     "output_type": "display_data"
    },
    {
     "data": {
      "image/png": "[encoded data removed]",
      "text/plain": [
       "Molecule(SMILES=\"[N+](=O)([S-]=O)[O]\")"
      ]
     },
     "metadata": {},
     "output_type": "display_data"
    },
    {
     "data": {
      "image/png": "[encoded data removed]",
      "text/plain": [
       "Molecule(SMILES=\"[N+](=O)([S-]=O)[O]\")"
      ]
     },
     "metadata": {},
     "output_type": "display_data"
    },
    {
     "data": {
      "image/png": "[encoded data removed]",
      "text/plain": [
       "Molecule(SMILES=\"[N+](=O)(S[O-])[O]\")"
      ]
     },
     "metadata": {},
     "output_type": "display_data"
    },
    {
     "data": {
      "image/png": "[encoded data removed]",
      "text/plain": [
       "Molecule(SMILES=\"[N+](=O)(S[O-])[O]\")"
      ]
     },
     "metadata": {},
     "output_type": "display_data"
    },
    {
     "data": {
      "image/png": "[encoded data removed]",
      "text/plain": [
       "Molecule(SMILES=\"N([S]=O)([O])[O]\")"
      ]
     },
     "metadata": {},
     "output_type": "display_data"
    },
    {
     "data": {
      "image/png": "[encoded data removed]",
      "text/plain": [
       "Molecule(SMILES=\"[N+](=O)([S-]=O)[O]\")"
      ]
     },
     "metadata": {},
     "output_type": "display_data"
    },
    {
     "data": {
      "image/png": "[encoded data removed]",
      "text/plain": [
       "Molecule(SMILES=\"[N+](=O)([S-]=O)[O]\")"
      ]
     },
     "metadata": {},
     "output_type": "display_data"
    },
    {
     "data": {
      "image/png": "[encoded data removed]",
      "text/plain": [
       "Molecule(SMILES=\"[N+](=O)(S[O-])[O]\")"
      ]
     },
     "metadata": {},
     "output_type": "display_data"
    },
    {
     "data": {
      "image/png": "[encoded data removed]",
      "text/plain": [
       "Molecule(SMILES=\"[N+](=O)(S[O-])[O]\")"
      ]
     },
     "metadata": {},
     "output_type": "display_data"
    }
   ],
   "source": [
    "import rmgpy.molecule as molecule\n",
    "from IPython.display import display\n",
    "\n",
    "\n",
    "adj1 = \"\"\"\n",
    "multiplicity 2\n",
    "1 S u0 p2 c0 {2,S} {3,S}\n",
    "2 O u1 p2 c0 {1,S}\n",
    "3 N u0 p0 c+1 {1,S} {4,S} {5,D}\n",
    "4 O u0 p3 c-1 {3,S}\n",
    "5 O u0 p2 c0 {3,D}\n",
    "\"\"\"\n",
    "\n",
    "adj2 = \"\"\"\n",
    "multiplicity 2\n",
    "1 S u0 p2 c0 {2,S} {3,S}\n",
    "2 O u1 p2 c0 {1,S}\n",
    "3 N u0 p0 c+1 {1,S} {4,D} {5,S}\n",
    "4 O u0 p2 c0 {3,D}\n",
    "5 O u0 p3 c-1 {3,S}\n",
    "\"\"\"\n",
    "\n",
    "adj3 = \"\"\"\n",
    "multiplicity 2\n",
    "1 S u0 p1 c+1 {2,D} {3,S}\n",
    "2 O u0 p2 c0 {1,D}\n",
    "3 N u1 p0 c+1 {1,S} {4,S} {5,S}\n",
    "4 O u0 p3 c-1 {3,S}\n",
    "5 O u0 p3 c-1 {3,S}\n",
    "\"\"\"\n",
    "\n",
    "adj4 = \"\"\"\n",
    "multiplicity 2\n",
    "1 S u0 p1 c+1 {2,D} {3,S}\n",
    "2 O u0 p2 c0 {1,D}\n",
    "3 N u0 p1 c0 {1,S} {4,S} {5,S}\n",
    "4 O u0 p3 c-1 {3,S}\n",
    "5 O u1 p2 c0 {3,S}\n",
    "\"\"\"\n",
    "\n",
    "adj5 = \"\"\"\n",
    "multiplicity 2\n",
    "1 S u0 p1 c+1 {2,D} {3,S}\n",
    "2 O u0 p2 c0 {1,D}\n",
    "3 N u0 p1 c0 {1,S} {4,S} {5,S}\n",
    "4 O u1 p2 c0 {3,S}\n",
    "5 O u0 p3 c-1 {3,S}\n",
    "\"\"\"\n",
    "\n",
    "adj6 = \"\"\"\n",
    "multiplicity 2\n",
    "1 S u0 p1 c0 {2,D} {3,D}\n",
    "2 O u0 p2 c0 {1,D}\n",
    "3 N u0 p0 c+1 {1,D} {4,S} {5,S}\n",
    "4 O u0 p3 c-1 {3,S}\n",
    "5 O u1 p2 c0 {3,S}\n",
    "\"\"\"\n",
    "\n",
    "adj7 = \"\"\"\n",
    "multiplicity 2\n",
    "1 S u0 p1 c0 {2,D} {3,D}\n",
    "2 O u0 p2 c0 {1,D}\n",
    "3 N u0 p0 c+1 {1,D} {4,S} {5,S}\n",
    "4 O u1 p2 c0 {3,S}\n",
    "5 O u0 p3 c-1 {3,S}\n",
    "\"\"\"\n",
    "\n",
    "adj8 = \"\"\"\n",
    "multiplicity 2\n",
    "1 S u1 p1 c0 {2,D} {3,S}\n",
    "2 O u0 p2 c0 {1,D}\n",
    "3 N u0 p0 c+1 {1,S} {4,S} {5,D}\n",
    "4 O u0 p3 c-1 {3,S}\n",
    "5 O u0 p2 c0 {3,D}\n",
    "\"\"\"\n",
    "\n",
    "adj9 = \"\"\"\n",
    "multiplicity 2\n",
    "1 S u1 p1 c0 {2,D} {3,S}\n",
    "2 O u0 p2 c0 {1,D}\n",
    "3 N u0 p0 c+1 {1,S} {4,D} {5,S}\n",
    "4 O u0 p2 c0 {3,D}\n",
    "5 O u0 p3 c-1 {3,S}\n",
    "\"\"\"\n",
    "\n",
    "adj10 = \"\"\"\n",
    "multiplicity 4\n",
    "1 S u0 p2 c0 {2,S} {3,S}\n",
    "2 O u1 p2 c0 {1,S}\n",
    "3 N u0 p1 c0 {1,S} {4,S} {5,S}\n",
    "4 O u1 p2 c0 {3,S}\n",
    "5 O u1 p2 c0 {3,S}\n",
    "\"\"\"\n",
    "\n",
    "adj11 = \"\"\"\n",
    "multiplicity 4\n",
    "1 S u2 p1 c0 {2,S} {3,S}\n",
    "2 O u1 p2 c0 {1,S}\n",
    "3 N u0 p0 c+1 {1,S} {4,S} {5,D}\n",
    "4 O u0 p3 c-1 {3,S}\n",
    "5 O u0 p2 c0 {3,D}\n",
    "\"\"\"\n",
    "\n",
    "\n",
    "\n",
    "\n",
    "\n",
    "adj12 = \"\"\"\n",
    "multiplicity 2\n",
    "1 S u0 p2 c0 {2,S} {3,S}\n",
    "2 O u1 p2 c0 {1,S}\n",
    "3 N u0 p0 c+1 {1,S} {4,S} {5,D}\n",
    "4 O u0 p3 c-1 {3,S}\n",
    "5 O u0 p2 c0 {3,D}\n",
    "\"\"\"\n",
    "\n",
    "adj13 = \"\"\"\n",
    "multiplicity 2\n",
    "1 S u0 p2 c0 {2,S} {3,S}\n",
    "2 O u1 p2 c0 {1,S}\n",
    "3 N u0 p0 c+1 {1,S} {4,D} {5,S}\n",
    "4 O u0 p2 c0 {3,D}\n",
    "5 O u0 p3 c-1 {3,S}\n",
    "\"\"\"\n",
    "\n",
    "adj14 = \"\"\"\n",
    "multiplicity 2\n",
    "1 S u0 p1 c+1 {2,D} {3,S}\n",
    "2 O u0 p2 c0 {1,D}\n",
    "3 N u1 p0 c+1 {1,S} {4,S} {5,S}\n",
    "4 O u0 p3 c-1 {3,S}\n",
    "5 O u0 p3 c-1 {3,S}\n",
    "\"\"\"\n",
    "\n",
    "adj15 = \"\"\"\n",
    "multiplicity 2\n",
    "1 S u0 p1 c+1 {2,D} {3,S}\n",
    "2 O u0 p2 c0 {1,D}\n",
    "3 N u0 p1 c0 {1,S} {4,S} {5,S}\n",
    "4 O u1 p2 c0 {3,S}\n",
    "5 O u0 p3 c-1 {3,S}\n",
    "\"\"\"\n",
    "\n",
    "adj16 = \"\"\"\n",
    "multiplicity 2\n",
    "1 S u0 p1 c+1 {2,D} {3,S}\n",
    "2 O u0 p2 c0 {1,D}\n",
    "3 N u0 p1 c0 {1,S} {4,S} {5,S}\n",
    "4 O u0 p3 c-1 {3,S}\n",
    "5 O u1 p2 c0 {3,S}\n",
    "\"\"\"\n",
    "\n",
    "adj17 = \"\"\"\n",
    "multiplicity 2\n",
    "1 S u0 p1 c0 {2,D} {3,D}\n",
    "2 O u0 p2 c0 {1,D}\n",
    "3 N u0 p0 c+1 {1,D} {4,S} {5,S}\n",
    "4 O u0 p3 c-1 {3,S}\n",
    "5 O u1 p2 c0 {3,S}\n",
    "\"\"\"\n",
    "\n",
    "adj18 = \"\"\"\n",
    "multiplicity 2\n",
    "1 S u0 p1 c0 {2,D} {3,D}\n",
    "2 O u0 p2 c0 {1,D}\n",
    "3 N u0 p0 c+1 {1,D} {4,S} {5,S}\n",
    "4 O u1 p2 c0 {3,S}\n",
    "5 O u0 p3 c-1 {3,S}\n",
    "\"\"\"\n",
    "\n",
    "adj19 = \"\"\"\n",
    "multiplicity 2\n",
    "1 S u1 p1 c0 {2,D} {3,S}\n",
    "2 O u0 p2 c0 {1,D}\n",
    "3 N u0 p0 c+1 {1,S} {4,S} {5,D}\n",
    "4 O u0 p3 c-1 {3,S}\n",
    "5 O u0 p2 c0 {3,D}\n",
    "\"\"\"\n",
    "\n",
    "adj20 = \"\"\"\n",
    "multiplicity 2\n",
    "1 S u1 p1 c0 {2,D} {3,S}\n",
    "2 O u0 p2 c0 {1,D}\n",
    "3 N u0 p0 c+1 {1,S} {4,D} {5,S}\n",
    "4 O u0 p2 c0 {3,D}\n",
    "5 O u0 p3 c-1 {3,S}\n",
    "\"\"\"\n",
    "\n",
    "adj21 = \"\"\"\n",
    "multiplicity 2\n",
    "1 S u0 p2 c-1 {2,D} {3,S}\n",
    "2 O u0 p2 c0 {1,D}\n",
    "3 N u0 p0 c+1 {1,S} {4,D} {5,S}\n",
    "4 O u0 p2 c0 {3,D}\n",
    "5 O u1 p2 c0 {3,S}\n",
    "\"\"\"\n",
    "\n",
    "adj22 = \"\"\"\n",
    "multiplicity 2\n",
    "1 S u0 p2 c-1 {2,D} {3,S}\n",
    "2 O u0 p2 c0 {1,D}\n",
    "3 N u0 p0 c+1 {1,S} {4,S} {5,D}\n",
    "4 O u1 p2 c0 {3,S}\n",
    "5 O u0 p2 c0 {3,D}\n",
    "\"\"\"\n",
    "\n",
    "adj23 = \"\"\"\n",
    "multiplicity 2\n",
    "1 S u0 p2 c0 {2,S} {3,S}\n",
    "2 O u0 p3 c-1 {1,S}\n",
    "3 N u0 p0 c+1 {1,S} {4,S} {5,D}\n",
    "4 O u1 p2 c0 {3,S}\n",
    "5 O u0 p2 c0 {3,D}\n",
    "\"\"\"\n",
    "\n",
    "adj24 = \"\"\"\n",
    "multiplicity 2\n",
    "1 S u0 p2 c0 {2,S} {3,S}\n",
    "2 O u0 p3 c-1 {1,S}\n",
    "3 N u0 p0 c+1 {1,S} {4,D} {5,S}\n",
    "4 O u0 p2 c0 {3,D}\n",
    "5 O u1 p2 c0 {3,S}\n",
    "\"\"\"\n",
    "\n",
    "adj25 = \"\"\"\n",
    "multiplicity 4\n",
    "1 S u1 p1 c0 {2,D} {3,S}\n",
    "2 O u0 p2 c0 {1,D}\n",
    "3 N u0 p1 c0 {1,S} {4,S} {5,S}\n",
    "4 O u1 p2 c0 {3,S}\n",
    "5 O u1 p2 c0 {3,S}\n",
    "\"\"\"\n",
    "\n",
    "adj26 = \"\"\"\n",
    "multiplicity 4\n",
    "1 S u2 p1 c-1 {2,D} {3,S}\n",
    "2 O u0 p2 c0 {1,D}\n",
    "3 N u0 p0 c+1 {1,S} {4,D} {5,S}\n",
    "4 O u0 p2 c0 {3,D}\n",
    "5 O u1 p2 c0 {3,S}\n",
    "\"\"\"\n",
    "\n",
    "adj27 = \"\"\"\n",
    "multiplicity 4\n",
    "1 S u2 p1 c-1 {2,D} {3,S}\n",
    "2 O u0 p2 c0 {1,D}\n",
    "3 N u0 p0 c+1 {1,S} {4,S} {5,D}\n",
    "4 O u1 p2 c0 {3,S}\n",
    "5 O u0 p2 c0 {3,D}\n",
    "\"\"\"\n",
    "\n",
    "adj28 = \"\"\"\n",
    "multiplicity 4\n",
    "1 S u2 p1 c0 {2,S} {3,S}\n",
    "2 O u0 p3 c-1 {1,S}\n",
    "3 N u0 p0 c+1 {1,S} {4,D} {5,S}\n",
    "4 O u0 p2 c0 {3,D}\n",
    "5 O u1 p2 c0 {3,S}\n",
    "\"\"\"\n",
    "\n",
    "adj29 = \"\"\"\n",
    "multiplicity 4\n",
    "1 S u2 p1 c0 {2,S} {3,S}\n",
    "2 O u0 p3 c-1 {1,S}\n",
    "3 N u0 p0 c+1 {1,S} {4,S} {5,D}\n",
    "4 O u1 p2 c0 {3,S}\n",
    "5 O u0 p2 c0 {3,D}\n",
    "\"\"\"\n",
    "\n",
    "mol1 = molecule.Molecule().fromAdjacencyList(adj1)\n",
    "mol2 = molecule.Molecule().fromAdjacencyList(adj2)\n",
    "mol3 = molecule.Molecule().fromAdjacencyList(adj3)\n",
    "mol4 = molecule.Molecule().fromAdjacencyList(adj4)\n",
    "mol5 = molecule.Molecule().fromAdjacencyList(adj5)\n",
    "mol6 = molecule.Molecule().fromAdjacencyList(adj6)\n",
    "mol7 = molecule.Molecule().fromAdjacencyList(adj7)\n",
    "mol8 = molecule.Molecule().fromAdjacencyList(adj8)\n",
    "mol9 = molecule.Molecule().fromAdjacencyList(adj9)\n",
    "mol10 = molecule.Molecule().fromAdjacencyList(adj10)\n",
    "mol11 = molecule.Molecule().fromAdjacencyList(adj11)\n",
    "mol12 = molecule.Molecule().fromAdjacencyList(adj12)\n",
    "mol13 = molecule.Molecule().fromAdjacencyList(adj13)\n",
    "mol14 = molecule.Molecule().fromAdjacencyList(adj14)\n",
    "mol15 = molecule.Molecule().fromAdjacencyList(adj15)\n",
    "mol16 = molecule.Molecule().fromAdjacencyList(adj16)\n",
    "mol17 = molecule.Molecule().fromAdjacencyList(adj17)\n",
    "mol18 = molecule.Molecule().fromAdjacencyList(adj18)\n",
    "mol19 = molecule.Molecule().fromAdjacencyList(adj19)\n",
    "mol20 = molecule.Molecule().fromAdjacencyList(adj20)\n",
    "mol21 = molecule.Molecule().fromAdjacencyList(adj21)\n",
    "mol22 = molecule.Molecule().fromAdjacencyList(adj22)\n",
    "mol23 = molecule.Molecule().fromAdjacencyList(adj23)\n",
    "mol24 = molecule.Molecule().fromAdjacencyList(adj24)\n",
    "mol25 = molecule.Molecule().fromAdjacencyList(adj25)\n",
    "mol26 = molecule.Molecule().fromAdjacencyList(adj26)\n",
    "mol27 = molecule.Molecule().fromAdjacencyList(adj27)\n",
    "mol28 = molecule.Molecule().fromAdjacencyList(adj28)\n",
    "mol29 = molecule.Molecule().fromAdjacencyList(adj29)\n",
    "\n",
    "print 'reactant:'\n",
    "display(mol1)\n",
    "display(mol2)\n",
    "display(mol3)\n",
    "display(mol4)\n",
    "display(mol5)\n",
    "display(mol6)\n",
    "display(mol7)\n",
    "display(mol8)\n",
    "display(mol9)\n",
    "display(mol10)\n",
    "display(mol11)\n",
    "print '\\n\\nisomer:'\n",
    "display(mol12)\n",
    "display(mol13)\n",
    "display(mol14)\n",
    "display(mol15)\n",
    "display(mol16)\n",
    "display(mol17)\n",
    "display(mol18)\n",
    "display(mol19)\n",
    "display(mol20)\n",
    "display(mol21)\n",
    "display(mol22)\n",
    "display(mol23)\n",
    "display(mol24)\n",
    "display(mol25)\n",
    "display(mol26)\n",
    "display(mol27)\n",
    "display(mol28)\n",
    "display(mol29)"
   ]
  },
  {
   "cell_type": "code",
   "execution_count": null,
   "metadata": {
    "collapsed": true
   },
   "outputs": [],
   "source": []
  }
 ],
 "metadata": {
  "kernelspec": {
   "display_name": "rmg_env",
   "language": "python",
   "name": "rmg_env"
  },
  "language_info": {
   "codemirror_mode": {
    "name": "ipython",
    "version": 2
   },
   "file_extension": ".py",
   "mimetype": "text/x-python",
   "name": "python",
   "nbconvert_exporter": "python",
   "pygments_lexer": "ipython2",
   "version": "2.7.13"
  }
 },
 "nbformat": 4,
 "nbformat_minor": 2
}
