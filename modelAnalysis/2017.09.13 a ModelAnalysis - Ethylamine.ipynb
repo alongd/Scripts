{
 "cells": [
  {
   "cell_type": "markdown",
   "metadata": {},
   "source": [
    "## Model Analysis Script"
   ]
  },
  {
   "cell_type": "markdown",
   "metadata": {},
   "source": [
    "#### General input:"
   ]
  },
  {
   "cell_type": "code",
   "execution_count": 1,
   "metadata": {
    "scrolled": true
   },
   "outputs": [
    {
     "name": "stdout",
     "output_type": "stream",
     "text": [
      "The fuel molecule is:\n"
     ]
    },
    {
     "data": {
      "image/png": "[encoded data removed]",
      "text/plain": [
       "Molecule(SMILES=\"C(C)N\")"
      ]
     },
     "metadata": {},
     "output_type": "display_data"
    }
   ],
   "source": [
    "from IPython.display import display, Image\n",
    "from rmgpy.molecule import Molecule\n",
    "import numpy as np\n",
    "import sys\n",
    "import os\n",
    "sys.path.append(os.getcwd())\n",
    "import SuppFunc as sf\n",
    "%matplotlib notebook\n",
    "\n",
    "run_name = 'testNewMaster'\n",
    "Fuel = 'NCC' # SMILES. this is only used for drawing the molecule\n",
    "topSA = 10   # top SA entries to plot; change to 0 to skip SA\n",
    "minSAtime = 0 # time window to display top SA, sec\n",
    "maxSAtime = 0.000025\n",
    "SA_species_list = ['OH','NH2'] # make sure this matches the input file! (unless topSA is 0)\n",
    "ROPtime = 350e-6 # time for calculating flux in ROP diagram\n",
    "element = 'C' # element to track in flux analysis\n",
    "\n",
    "Fuel_Molecule = Molecule().fromSMILES(Fuel)\n",
    "print(\"The fuel molecule is:\");display(Fuel_Molecule)"
   ]
  },
  {
   "cell_type": "markdown",
   "metadata": {},
   "source": [
    "#### RMG's input file:\n",
    "Caution !!! Running this will also delete all files under the run folder !!!"
   ]
  },
  {
   "cell_type": "code",
   "execution_count": 7,
   "metadata": {
    "scrolled": false
   },
   "outputs": [
    {
     "name": "stdout",
     "output_type": "stream",
     "text": [
      "Crerated RMG input file: testNewMaster/input.py\n"
     ]
    }
   ],
   "source": [
    "inputFile = '''database(\n",
    "    thermoLibraries=['BurkeH2O2','thermo_DFT_CCSDTF12_BAC','NitrogenCurran','primaryThermoLibrary','DFT_QCI_thermo','FFCM1(-)','CHN','GRI-Mech3.0-N'],\n",
    "    reactionLibraries=['Ethylamine','FFCM1(-)','Nitrogen_Dean_and_Bozzelli','Nitrogen_Glarborg_Zhang_et_al'],\n",
    "    seedMechanisms=['BurkeH2O2inArHe'],kineticsDepositories=['training'],kineticsFamilies='default',kineticsEstimator='rate rules')\n",
    "species(label='NCC', reactive=True, structure=SMILES(\"NCC\"))\n",
    "species(label='O2', reactive=True, structure=SMILES(\"[O][O]\"))\n",
    "species(label='Ar', reactive=False, structure=adjacencyList(\"\"\"1 Ar u0 p4 c0\"\"\"))\n",
    "species(label='OH', reactive=True, structure=SMILES(\"[OH]\"))\n",
    "species(label='NH2', reactive=True, structure=SMILES(\"[NH2]\"))\n",
    "#EA-Pyr(NH2)\n",
    "simpleReactor(temperature=(1428,'K'), pressure=(1.21,'atm'),\n",
    "    initialMoleFractions={\"NCC\": 0.002, \"Ar\": 0.998},\n",
    "    terminationTime=(0.0005,'s'),\n",
    "    sensitivity=['NH2'],sensitivityThreshold=0.01\n",
    ")\n",
    "#EA-Oxy(NH2)\n",
    "simpleReactor(temperature=(1441,'K'), pressure=(2.09,'atm'),\n",
    "    initialMoleFractions={\"NCC\": 0.002, \"O2\": 0.008, \"Ar\": 0.99},\n",
    "    terminationTime=(0.0005,'s'),\n",
    "    sensitivity=['NH2','OH'],sensitivityThreshold=0.01\n",
    ")\n",
    "#EA-Oxy(OH)\n",
    "simpleReactor(temperature=(1399,'K'), pressure=(1.93,'atm'),\n",
    "    initialMoleFractions={\"NCC\": 0.0005, \"O2\": 0.002, \"Ar\": 0.9975},\n",
    "    terminationTime=(0.0025,'s'),\n",
    "#    sensitivity=['OH'],sensitivityThreshold=0.01\n",
    ")\n",
    "simulator(atol=1e-16, rtol=1e-8, sens_atol=1e-6, sens_rtol=1e-4)\n",
    "model(\n",
    "    toleranceKeepInEdge=0,\n",
    "    toleranceMoveToCore=0.02,\n",
    "    toleranceInterruptSimulation=0.02,\n",
    "    maximumEdgeSpecies=300000)\n",
    "pressureDependence(\n",
    "    method='modified strong collision',\n",
    "    maximumGrainSize=(0.5,'kcal/mol'),\n",
    "    minimumNumberOfGrains=250,\n",
    "    temperatures=(298,2500,'K',10),\n",
    "    pressures=(0.1,10,'bar',10),\n",
    "    interpolation=('Chebyshev', 6, 4),\n",
    "    maximumAtoms=16)\n",
    "options(units='si', generateOutputHTML=True, generatePlots=False, saveEdgeSpecies=True,\n",
    "    saveSimulationProfiles=False, saveRestartPeriod=None)\n",
    "generatedSpeciesConstraints(\n",
    "    allowed=['input species','seed mechanisms','reaction libraries'],\n",
    "    maximumCarbonAtoms=3,\n",
    "    maximumOxygenAtoms=2,\n",
    "    maximumNitrogenAtoms=2,\n",
    "    maximumSiliconAtoms=0,\n",
    "    maximumSulfurAtoms=0,\n",
    "    maximumHeavyAtoms=3,\n",
    "    maximumRadicalElectrons=3,\n",
    "    allowSingletO2=False,\n",
    ")\n",
    "'''\n",
    "sf.createInput(run_name,inputFile)"
   ]
  },
  {
   "cell_type": "markdown",
   "metadata": {},
   "source": [
    "#### Run RMG:"
   ]
  },
  {
   "cell_type": "code",
   "execution_count": null,
   "metadata": {},
   "outputs": [
    {
     "name": "stdout",
     "output_type": "stream",
     "text": [
      "RMG Simulation Completed. Summary of log file:\n",
      "\n",
      "MODEL GENERATION COMPLETED\n",
      "\n",
      "The final model core has 80 species and 1884 reactions\n",
      "\n",
      "The final model edge has 291 species and 9145 reactions\n",
      "\n"
     ]
    }
   ],
   "source": [
    "#os.system('python %RMG%/rmg.py '+run_name+'/input.py')    # run RMG with the above input file\n",
    "os.system('python $rmg/rmg.py '+run_name+'/input.py')\n",
    "sf.RMGlog(run_name)"
   ]
  },
  {
   "cell_type": "markdown",
   "metadata": {},
   "source": [
    "#### Analyze model in Cantera:"
   ]
  },
  {
   "cell_type": "code",
   "execution_count": null,
   "metadata": {
    "scrolled": true
   },
   "outputs": [
    {
     "name": "stdout",
     "output_type": "stream",
     "text": [
      "Working on it...\n",
      "Wrote CTI mechanism file to 'testNewMaster/chemkin//NH2_pyr/chem_annotated.cti'.\n",
      "Mechanism contains 80 species and 1891 reactions.\n",
      "Wrote CTI mechanism file to 'testNewMaster/chemkin//NH2_oxi/chem_annotated.cti'.\n",
      "Mechanism contains 80 species and 1891 reactions.\n",
      "Wrote CTI mechanism file to 'testNewMaster/chemkin//OH_oxi/chem_annotated.cti'.\n",
      "Mechanism contains 80 species and 1891 reactions.\n",
      "WARNING: 'ReactorNet::step(t)' is deprecated. The argument to this function is deprecated and will be removed after Cantera 2.3.\n"
     ]
    }
   ],
   "source": [
    "from rmgpy.chemkin import *\n",
    "from rmgpy.tools.canteraModel import *\n",
    "from rmgpy.species import Species\n",
    "import time\n",
    "\n",
    "path = run_name+\"/chemkin/\"\n",
    "speciesList, reactionList = loadChemkinFile(path+'chem_annotated.inp',\n",
    "                                            path+'species_dictionary.txt',)\n",
    "                                            #path+'tran.dat')\n",
    "\n",
    "EA_Species=Species().fromSMILES('NCC')\n",
    "O2_Species=Species().fromSMILES('[O][O]')\n",
    "Ar_Species=Species().fromAdjacencyList(\"\"\"1 Ar u0 p4 c0\"\"\")\n",
    "NH2_Species=Species().fromSMILES('[NH2]')\n",
    "OH_Species=Species().fromSMILES('[OH]')\n",
    "species_dict = getRMGSpeciesFromUserSpecies([EA_Species,O2_Species,Ar_Species,NH2_Species,OH_Species], speciesList)\n",
    "\n",
    "reactorTypeList = ['IdealGasConstPressureReactor']\n",
    "\n",
    "reactionTimeList0 = ([0.5], 'ms')\n",
    "molFracList0=[{species_dict[EA_Species]:0.002, species_dict[O2_Species]:0.0, species_dict[Ar_Species]:0.998}]\n",
    "T0 = ([1428],'K'); P0 = ([1.21],'atm')\n",
    "\n",
    "reactionTimeList1 = ([0.4], 'ms')\n",
    "molFracList1=[{species_dict[EA_Species]:0.002, species_dict[O2_Species]:0.008, species_dict[Ar_Species]:0.99}]\n",
    "T1 = ([1441],'K'); P1 = ([2.09],'atm')\n",
    "\n",
    "reactionTimeList2 = ([2.5], 'ms')\n",
    "molFracList2=[{species_dict[EA_Species]:0.0005, species_dict[O2_Species]:0.002, species_dict[Ar_Species]:0.9975}]\n",
    "T2 = ([1399],'K'); P2 = ([1.93],'atm')\n",
    "\n",
    "print(\"Working on it...\")\n",
    "job0 = Cantera(speciesList=speciesList, reactionList=reactionList, outputDirectory=path+'/NH2_pyr')\n",
    "job0.loadChemkinModel(path+'chem_annotated.inp',transportFile=path+'tran.dat')\n",
    "job0.generateConditions(reactorTypeList, reactionTimeList0, molFracList0, T0, P0)\n",
    "\n",
    "job1 = Cantera(speciesList=speciesList, reactionList=reactionList, outputDirectory=path+'/NH2_oxi')\n",
    "job1.loadChemkinModel(path+'chem_annotated.inp',transportFile=path+'tran.dat')\n",
    "job1.generateConditions(reactorTypeList, reactionTimeList1, molFracList1, T1, P1)\n",
    "\n",
    "job2 = Cantera(speciesList=speciesList, reactionList=reactionList, outputDirectory=path+'/OH_oxi')\n",
    "job2.loadChemkinModel(path+'chem_annotated.inp',transportFile=path+'tran.dat')\n",
    "job2.generateConditions(reactorTypeList, reactionTimeList2, molFracList2, T2, P2)\n",
    "\n",
    "PyrNH2_data = job0.simulate()\n",
    "OxyNH2_data = job1.simulate()\n",
    "OxyOH_data =  job2.simulate()\n",
    "print(\"Done.\")"
   ]
  },
  {
   "cell_type": "markdown",
   "metadata": {},
   "source": [
    "#### Plot speciation"
   ]
  },
  {
   "cell_type": "code",
   "execution_count": null,
   "metadata": {
    "collapsed": true
   },
   "outputs": [],
   "source": [
    "import matplotlib.pyplot as plt\n",
    "import pandas as pd\n",
    "from rmgpy.tools import plot as rmg_plot\n",
    "from operator import itemgetter\n",
    "from rmgpy.tools.sensitivity import runSensitivity\n",
    "%matplotlib notebook\n",
    "\n",
    "######### Speciation:\n",
    "for spc in xrange(len(OxyNH2_data[0][1][:])):       # find index for NH2\n",
    "    if OxyNH2_data[0][1][spc].label == str(species_dict[NH2_Species]):\n",
    "        NH2_idx = spc\n",
    "for spc in xrange(len(OxyOH_data[0][1][:])):       # find index for NH2\n",
    "    if OxyOH_data[0][1][spc].label == str(species_dict[OH_Species]):\n",
    "        OH_idx = spc\n",
    "\n",
    "Hanson = pd.read_csv('experimental/Hanson.csv')       # Load Hanson's data\n",
    "time0 = PyrNH2_data[0][0].data\n",
    "time1 = OxyNH2_data[0][0].data\n",
    "time2 = OxyOH_data[0][0].data\n",
    "\n",
    "fig = plt.figure(figsize=(9,9))\n",
    "\n",
    "plt.subplot(2,2,1)\n",
    "plt.plot(Hanson['PyrNH2 Time (ms)'],Hanson['PyrNH2 NH2 (ppm)'],'k-')\n",
    "plt.plot(time0*1e6, PyrNH2_data[0][1][NH2_idx].data*1e6,'b--',label='NH2')\n",
    "plt.xlabel(r'Time ($\\mu$s)')\n",
    "plt.ylabel(r'NH$_2$ (ppm)')\n",
    "plt.title(r'Pyrolysis NH$_2$ profile ({0})'.format(run_name))\n",
    "plt.xlim(0, reactionTimeList0[0][0] * 1e3)\n",
    "plt.ylim(0, 140)\n",
    "\n",
    "plt.subplot(2,2,3)\n",
    "plt.plot(Hanson['OxyNH2 Time (ms)'],Hanson['OxyNH2 NH2 (ppm)'],'k-')\n",
    "plt.plot(time1*1e6, OxyNH2_data[0][1][NH2_idx].data*1e6,'b--',label='NH2')\n",
    "plt.xlabel(r'Time ($\\mu$s)')\n",
    "plt.ylabel(r'NH$_2$ (ppm)')\n",
    "plt.title(r'NH$_2$ profile ({0})'.format(run_name))\n",
    "plt.xlim(0, reactionTimeList1[0][0] * 1e3)\n",
    "plt.ylim(0, 160)\n",
    "\n",
    "plt.subplot(2,2,4)\n",
    "plt.plot(Hanson['OxyOH Time (ms)'],Hanson['OxyOH OH (ppm)'],'k-')\n",
    "plt.plot(time2*1e6, OxyOH_data[0][1][OH_idx].data*1e6,'b--',label='OH')\n",
    "plt.xlabel(r'Time ($\\mu$s)')\n",
    "plt.ylabel('OH (ppm)')\n",
    "plt.title('OH profile ({0})'.format(run_name))\n",
    "plt.xlim(0, reactionTimeList2[0][0] * 1e3)\n",
    "\n",
    "plt.tight_layout()\n",
    "plt.show()\n",
    "\n",
    "sf.saveFig(plt,run_name,subname='speciation'); print('Figure saved')"
   ]
  },
  {
   "cell_type": "markdown",
   "metadata": {},
   "source": [
    "#### Plot sensitivity analysis"
   ]
  },
  {
   "cell_type": "code",
   "execution_count": null,
   "metadata": {
    "collapsed": true,
    "scrolled": false
   },
   "outputs": [],
   "source": [
    "#SAdata format: SAdata[species][0 for time, 1 for data]; add .data or .label if it's time; else add [reaction] and the .data or .label; eg: SAdata[0][0].data gives times for species 0, SAdata[0][1][2].data gives data of reaction 2 for species 0\n",
    "\n",
    "print(\"Plotting SA for species {0}, {1} at the selected time range {2}-{3} sec\\n\".format(\n",
    "    SA_species_list[0],SA_species_list[1],minSAtime,maxSAtime))\n",
    "cmap = ['#1f77b4','#aec7e8','#ff7f0e','#ffbb78','#2ca02c','#98df8a','#d62728','#ff9896','#9467bd','#c5b0d5','#8c564b','#c49c94','#e377c2','#f7b6d2','#7f7f7f','#c7c7c7','#bcbd22','#dbdb8d','#17becf','#9edae5']\n",
    "\n",
    "if topSA:\n",
    "    files = os.listdir(run_name+'/solver')\n",
    "    SA_files = filter(lambda x: ('sensitivity' in x) and ('.csv' in x),files)\n",
    "    fig = plt.figure(figsize=(9,15*0.5*len(SA_files)))\n",
    "   # plt.style.use('seaborn-darkgrid')\n",
    "    SAdata = [] # initialize SAdata where time+SA is saved\n",
    "    minSAidx = []; maxSAidx = [] # a list of indices for minimum value and maximum value for SA sort and plot\n",
    "    G = np.zeros(len(SA_files)) # marke the point where SA data strats representing G instead of k sensitivities\n",
    "    for SAidx in xrange(len(SA_files)):\n",
    "        SAdata.append(rmg_plot.parseCSVData(run_name+'/solver/'+SA_files[SAidx])) # structure of SAdata is an array of time;data\n",
    "        for i in xrange(len(SAdata[SAidx][1][:])):  # SA_idx refers to the last appended entry, 1 refers to data (as opposed to 0 for time), : refers to all\n",
    "            if \"G\" in SAdata[SAidx][1][i].label:\n",
    "                if not G[SAidx]: G[SAidx] = i # save i only if this is the first occurence\n",
    "                SAdata[SAidx][1][i].label = SAdata[SAidx][1][i].label.split('G')[1][1:-1]  # Just prettify the headers accordingly\n",
    "            else:\n",
    "                SAdata[SAidx][1][i].label = SAdata[SAidx][1][i].label.split(' ')[1]        # Just prettify the headers accordingly\n",
    "        minSAidx.append(sf.findClosest(minSAtime,SAdata[SAidx][0].data))\n",
    "        maxSAidx.append(sf.findClosest(maxSAtime,SAdata[SAidx][0].data))\n",
    "        \n",
    "        rank = []; data = []; label = []\n",
    "        for n in xrange(int(G[SAidx])):   # run only for k now (up to the G marker)\n",
    "            rank.append(max(abs(SAdata[SAidx][1][n].data[minSAidx[SAidx]:maxSAidx[SAidx]]))) # list of max SA range for each rxn\n",
    "        num = np.linspace(0,len(rank)-1,len(rank)) # generate a 0,1,2,3... list\n",
    "        num = zip(rank,num)\n",
    "        num = sorted(num, key=itemgetter(0),reverse=True)\n",
    "        for i in xrange(min(topSA, G[SAidx])):    # G[SAidx] is there in case there are less than topSA sensitive reactions\n",
    "            data.append(SAdata[SAidx][1][int(num[i][1])].data[:])\n",
    "            label.append(SAdata[SAidx][1][int(num[i][1])].label[:])\n",
    "        for i in xrange(min(topSA, G[SAidx])):\n",
    "            SAdata[SAidx][1][i].data  = data[i]   # overwriting some of the values in SAdata, so be sure to only call topSA items from there\n",
    "            SAdata[SAidx][1][i].label = label[i]  # a possible issue is that if there are less than topSA relevant rxns, we won;t know about it when plotting...\n",
    "        \n",
    "        rank = []; data = []; label = []\n",
    "        for n in xrange(len(SAdata)-int(G[SAidx])):   # run only for G now (from the G marker)\n",
    "            rank.append(max(abs(SAdata[SAidx][1][n+G[SAidx]].data[minSAidx[SAidx]:maxSAidx[SAidx]]))) # list of max SA range for each G\n",
    "        num = np.linspace(0,len(rank)-1,len(rank)) # generate a 0,1,2,3... list\n",
    "        num = zip(rank,num)\n",
    "        num = sorted(num, key=itemgetter(0),reverse=True)\n",
    "        for i in xrange(min(topSA, len(SAdata)-int(G[SAidx]))):\n",
    "            data.append(SAdata[SAidx][1][int(num[i+G[SAidx]][1])].data[:])\n",
    "            label.append(SAdata[SAidx][1][int(num[i+G[SAidx]][1])].label[:])\n",
    "        for i in xrange(min(topSA, len(SAdata)-int(G[SAidx]))):\n",
    "            SAdata[SAidx][1][i+G[SAidx]].data  = data[i]\n",
    "            SAdata[SAidx][1][i+G[SAidx]].label = label[i]\n",
    "\n",
    "        SAk = plt.subplot(2*len(SA_files),2,SAidx*4+1)\n",
    "        ymin = ymax = 0\n",
    "        for n in xrange(min(topSA, G[SAidx])):\n",
    "            SAk.plot(SAdata[SAidx][0].data, SAdata[SAidx][1][n].data, color=cmap[n], label=SAdata[SAidx][1][n].label)\n",
    "            if min(SAdata[SAidx][1][n].data[minSAidx[SAidx]:maxSAidx[SAidx]]) < ymin:\n",
    "                ymin = min(SAdata[SAidx][1][n].data[minSAidx[SAidx]:maxSAidx[SAidx]])\n",
    "            if max(SAdata[SAidx][1][n].data[minSAidx[SAidx]:maxSAidx[SAidx]]) > ymax:\n",
    "                ymax = max(SAdata[SAidx][1][n].data[minSAidx[SAidx]:maxSAidx[SAidx]])\n",
    "        plt.xlim(minSAtime, min(maxSAtime,SAdata[SAidx][0].data[-1]))\n",
    "        plt.ylim(ymin,ymax)\n",
    "        plt.xlabel('Time (s)')\n",
    "        plt.ylabel(r'Normalized sensetivity coefficient, $\\frac{\\partial\\:\\ln{[X]}}{\\partial\\:\\ln{k}}$')\n",
    "        plt.title('Kinetics SA for {0}'.format(SA_species_list[SAidx]))\n",
    "        plt.ticklabel_format(axis='x', style='sci', scilimits=(-2,2))\n",
    "        \n",
    "        SAg = plt.subplot(2*len(SA_files),2,SAidx*4+2)\n",
    "        ymin = ymax = 0\n",
    "        for n in xrange(min(topSA, G[SAidx])):\n",
    "            SAg.plot(SAdata[SAidx][0].data, SAdata[SAidx][1][n+int(G[SAidx])].data, color=cmap[n], label=SAdata[SAidx][1][n+int(G[SAidx])].label)\n",
    "            if min(SAdata[SAidx][1][n+int(G[SAidx])].data[minSAidx[SAidx]:maxSAidx[SAidx]]) < ymin:\n",
    "                ymin = min(SAdata[SAidx][1][n+int(G[SAidx])].data[minSAidx[SAidx]:maxSAidx[SAidx]])\n",
    "            if max(SAdata[SAidx][1][n+int(G[SAidx])].data[minSAidx[SAidx]:maxSAidx[SAidx]]) > ymax:\n",
    "                ymax = max(SAdata[SAidx][1][n+int(G[SAidx])].data[minSAidx[SAidx]:maxSAidx[SAidx]])\n",
    "        plt.xlim(minSAtime, min(maxSAtime,SAdata[SAidx][0].data[-1]))\n",
    "        plt.ylim(ymin,ymax)\n",
    "        plt.xlabel('Time (s)')\n",
    "        plt.ylabel(r'Sensetivity coefficient, $\\frac{\\partial\\:\\ln{[X]}}{\\partial\\:G_i}$ $(mol/kcal)$')\n",
    "        plt.title('Thermo SA for {0}'.format(SA_species_list[SAidx]))\n",
    "        plt.ticklabel_format(axis='x', style='sci', scilimits=(-2,2))\n",
    "        \n",
    "        SAkLeg = plt.subplot(2*len(SA_files),2,SAidx*4+3)\n",
    "        for n in xrange(topSA):\n",
    "            SAkLeg.plot(0,0, color=cmap[n], label=SAdata[SAidx][1][n].label)\n",
    "        SAkLeg.legend(loc='upper center', fancybox=True, shadow=True)\n",
    "        SAkLeg.spines['bottom'].set_color('white')\n",
    "        SAkLeg.spines['top'].set_color('white')\n",
    "        SAkLeg.spines['left'].set_color('white')\n",
    "        SAkLeg.spines['right'].set_color('white')\n",
    "        SAkLeg.tick_params(color='white', labelcolor='white')\n",
    "        \n",
    "        SAgLeg = plt.subplot(2*len(SA_files),2,SAidx*4+4)\n",
    "        for n in xrange(topSA):\n",
    "            SAgLeg.plot(0,0, color=cmap[n], label=SAdata[SAidx][1][n+int(G[SAidx])].label)\n",
    "        SAgLeg.legend(loc='upper center', fancybox=True, shadow=True)\n",
    "        SAgLeg.spines['bottom'].set_color('white')\n",
    "        SAgLeg.spines['top'].set_color('white')\n",
    "        SAgLeg.spines['left'].set_color('white')\n",
    "        SAgLeg.spines['right'].set_color('white')\n",
    "        SAgLeg.tick_params(color='white', labelcolor='white')\n",
    "\n",
    "    plt.tight_layout()\n",
    "    plt.show()\n",
    "    sf.saveFig(fig,run_name,subname='SA'); print('Figure saved')"
   ]
  },
  {
   "cell_type": "markdown",
   "metadata": {},
   "source": [
    "#### Plot flux diagram"
   ]
  },
  {
   "cell_type": "code",
   "execution_count": null,
   "metadata": {
    "collapsed": true
   },
   "outputs": [],
   "source": [
    "gas = ct.Solution(run_name + '/cantera/chem.cti')\n",
    "comp = []\n",
    "for mol, molfrac in molFracList1[0].iteritems():\n",
    "    comp.append(str(mol) + ':' + str(molfrac))\n",
    "gas.TPX = T1[0][0], P1[0][0], str(','.join(comp))\n",
    "reactor = ct.IdealGasConstPressureReactor(gas)\n",
    "network = ct.ReactorNet([reactor])\n",
    "network.advance(ROPtime)\n",
    "ROP = ct.ReactionPathDiagram(gas, element)\n",
    "\n",
    "dot_file = run_name+'/AnalysisScriptFigs/rxnpath.dot'\n",
    "img_file = run_name+'/AnalysisScriptFigs/rxnpath.png'\n",
    "ROP.title = 'Reaction path diagram following {0} at time = {1} sec'.format(element,ROPtime)\n",
    "ROP.threshold = 0.00001\n",
    "ROP.label_threshold = 0.00001\n",
    "ROP.show_details = True\n",
    "ROP.write_dot(dot_file)                                               # write dot file\n",
    "os.system('dot {0} -Tpng -o{1} -Gdpi=300'.format(dot_file, img_file)) # write png file\n",
    "print('Figure saved')\n",
    "Image(os.getcwd() + '/' + img_file)"
   ]
  },
  {
   "cell_type": "code",
   "execution_count": null,
   "metadata": {
    "collapsed": true
   },
   "outputs": [],
   "source": [
    "int(G[SAidx])"
   ]
  },
  {
   "cell_type": "code",
   "execution_count": null,
   "metadata": {
    "collapsed": true
   },
   "outputs": [],
   "source": []
  }
 ],
 "metadata": {
  "anaconda-cloud": {},
  "kernelspec": {
   "display_name": "rmg_env",
   "language": "python",
   "name": "rmg_env"
  },
  "language_info": {
   "codemirror_mode": {
    "name": "ipython",
    "version": 2
   },
   "file_extension": ".py",
   "mimetype": "text/x-python",
   "name": "python",
   "nbconvert_exporter": "python",
   "pygments_lexer": "ipython2",
   "version": "2.7.13"
  }
 },
 "nbformat": 4,
 "nbformat_minor": 2
}
