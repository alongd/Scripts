{
 "cells": [
  {
   "cell_type": "markdown",
   "metadata": {},
   "source": [
    "### Generate Resonance Structures"
   ]
  },
  {
   "cell_type": "code",
   "execution_count": 1,
   "metadata": {
    "collapsed": true
   },
   "outputs": [],
   "source": [
    "def resonate(smiles,adj,smilesList,dictionary,inputForm,filter_structures,keep_isomorphic,showOctet):\n",
    "\n",
    "    import rmgpy.molecule.resonance as resonance\n",
    "    import rmgpy.molecule as molecule\n",
    "    from IPython.display import display\n",
    "    import rmgpy.chemkin as chemkin\n",
    "\n",
    "    if inputForm[0] or inputForm[1]:\n",
    "        if inputForm[0]: mol = molecule.Molecule(SMILES=smiles)\n",
    "        elif inputForm[1]: mol = molecule.Molecule().fromAdjacencyList(adj)\n",
    "        print \"original molecule: {0}\".format(mol.toSMILES())\n",
    "#         print mol.toAdjacencyList()\n",
    "        mol.update()\n",
    "        display(mol)\n",
    "        res = resonance.generate_resonance_structures(mol, keep_isomorphic=keep_isomorphic, filter_structures=filter_structures)\n",
    "#         res = resonance.generate_resonance_structures(mol, keepIsomorphic=keep_isomorphic)\n",
    "        num_structures = sum([1 for struc in res if struc.reactive])\n",
    "        print \"\\nmolecule has {0} reactive resonance structures:\".format(num_structures)\n",
    "        for struc in res:\n",
    "            display(struc)\n",
    "            print struc, '\\n', struc.toAdjacencyList()\n",
    "            if showOctet:\n",
    "                print \"charge span: {0}\".format(sum([abs(atom.charge) for atom in struc.vertices]) / 2)\n",
    "                octetDeviation(struc)\n",
    "            if not struc.reactive:\n",
    "                print \"reactive = {0}\".format(struc.reactive)\n",
    "            print '\\n'\n",
    "    elif inputForm[2]:\n",
    "        for smiles in smilesList:\n",
    "            mol = molecule.Molecule(SMILES=smiles)\n",
    "            print \"\\n\\n**********************\\n\"\n",
    "            res = resonance.generate_resonance_structures(mol, filterStructures=filterStructures)\n",
    "#             res = resonance.generate_resonance_structures(mol, keepIsomorphic=keep_isomorphic)\n",
    "            print \"molecule has {0} resonance structures:\".format(len(res))\n",
    "            for struc in res:\n",
    "                display(struc)\n",
    "                print struc, '\\n', struc.toAdjacencyList()\n",
    "                if showOctet:\n",
    "                    print \"charge span: {0}\".format(sum([abs(atom.charge) for atom in struc.vertices]) / 2)\n",
    "                    octetDeviation(struc)\n",
    "                if not struc.reactive:\n",
    "                    print \"reactive = {0}\".format(struc.reactive)\n",
    "                print '\\n'\n",
    "    elif inputForm[3]:\n",
    "        speciesDict = chemkin.loadSpeciesDictionary(dictionary)\n",
    "        i=0\n",
    "        for spc in speciesDict.iteritems():\n",
    "            print \"\\n\\n**********************\\n\"\n",
    "            print \"species {1} has {0} resonance structures:\".format(len(spc[1].molecule),spc[0])\n",
    "            for struc in spc[1].molecule:\n",
    "                display(struc)\n",
    "                print struc, '\\n', struc.toAdjacencyList()\n",
    "                if showOctet: octetDeviation(struc)\n",
    "                if not struc.reactive:\n",
    "                    print \"reactive = {0}\".format(struc.reactive)\n",
    "                for atom in struc.vertices:\n",
    "                    if atom.radicalElectrons:\n",
    "                        print \"atom.sortingLabel: {0}\".format(atom.sortingLabel)\n",
    "                print '\\n'\n",
    "            i+=1\n",
    "        print i\n",
    "            \n",
    "                \n",
    "def octetDeviation(struc):\n",
    "    import rmgpy.molecule.filtration as filtration\n",
    "#     struc.update()\n",
    "    octetDeviation = 0\n",
    "    for atom in struc.vertices:\n",
    "        if atom.isNonHydrogen():\n",
    "            print \"atomType for {0} is {1}\".format(atom,atom.atomType.label)\n",
    "        electrons = 2 * (int(atom.getBondOrdersForAtom()) + atom.lonePairs) + atom.radicalElectrons\n",
    "        if atom.isNonHydrogen():\n",
    "            print \"{0} val is {1}\".format(atom,electrons)\n",
    "        if atom.isCarbon():\n",
    "            octetDeviation += abs(8 - electrons)  # octet on C\n",
    "            if electrons > 8:\n",
    "                octetDeviation += 1  # additional penalty for C with >8 electrons (as in [CH3-.][O+]=O)\n",
    "                print \"penalty for C > 8\"\n",
    "        elif atom.isNitrogen():\n",
    "            if atom.lonePairs:\n",
    "                octetDeviation += abs(8 - electrons)  # octet on N p1/2/3\n",
    "            else:\n",
    "                octetDeviation += min(abs(10 - electrons),abs(8 - electrons))  # octet/dectet for N p0\n",
    "                # N p0 could also be close to octet and not necessarily dectet, as in O=[N+][O-]\n",
    "            if electrons > 8:\n",
    "                octetDeviation += 1  # additional penalty for N p0 with >8 electrons (as in O=[N.]=O,\n",
    "                # [NH2.]=[:NH.], N#N=O, N#[N.]O, CCN=N#N)\n",
    "                print \"penalty for N > 8\"\n",
    "        elif atom.isOxygen():\n",
    "            octetDeviation += abs(8 - electrons)  # octet on O\n",
    "            if electrons > 8:\n",
    "                octetDeviation += 1  # additional penalty for O with >8 electrons (as in O=[N+]=[O-.],\n",
    "                # CC=[N+]=[::O-.])\n",
    "                print \"penalty for O > 8\"\n",
    "            if atom.atomType.label in ['O4sc','O4dc','O4tc']:\n",
    "                octetDeviation += 1  # additional penalty for charged O with a double/triple bond\n",
    "                # (as in [N-2][N+]#[O+], [O-]S#[O+], OS(S)([O-])#[O+], [OH+]=S(O)(=O)[O-];\n",
    "                # [C-]#[O+] and [O-][O+]=O which are correct structures also get penalized here, but that's OK\n",
    "                # since they are still selected as representative structures according to the rules here.)\n",
    "                print \"penalty for O4sc, O4dc, O4tc\"\n",
    "        elif atom.isSulfur():\n",
    "            if atom.lonePairs == 0:\n",
    "                octetDeviation += abs(12 - electrons)  # duodectet on S p0, eg O=S(=O)(O)O val 12, O[S](=O)=O val 11\n",
    "            elif atom.lonePairs == 1:\n",
    "                octetDeviation += min(abs(8 - electrons), abs(10 - electrons))  # octet/dectet on S p1,\n",
    "                # eg [O-][S+]=O val 8, O[S]=O val 9, OS([O])=O val 10\n",
    "                if electrons in [7,11]:\n",
    "                    octetDeviation += 1  # eg O[S+][O-] val 7, N=[N+]=[S-]=O val 11 are undesired\n",
    "                    print \"penalty for S p1 in [7,11]\"\n",
    "            elif atom.lonePairs == 2:\n",
    "                octetDeviation += min(abs(8 - electrons), abs(10 - electrons))  # octet/dectet on S p2,\n",
    "                # eg [S][S] val 7, OS[O] val 8, [NH+]#[N+][S-][O-] val 9, O[S-](O)[N+]#N val 10\n",
    "                if electrons == 11:\n",
    "                    octetDeviation += 1  # eg [NH+]#[N+][S-2]=O val 11 is undesired\n",
    "                    print \"penalty for S p2 = 11\"\n",
    "            elif atom.lonePairs == 3:\n",
    "                octetDeviation += abs(8 - electrons)  # octet on S p3, eg [S-][O+]=O\n",
    "                if electrons == 10:\n",
    "                    octetDeviation += 1  # eg [NH+]#[N+][S-2][O] val 10 is undesired\n",
    "                    print \"penalty for S p3 = 10\"\n",
    "            for atom2, bond in atom.bonds.iteritems():\n",
    "                if atom2.isSulfur() and bond.isTriple():\n",
    "                    print \"penalty for S#S\"\n",
    "                    octetDeviation += 0.5  # penalty for S#S substructures. Often times sulfur can have a triple\n",
    "                    # bond to another sulfur in a structure that obeys the octet rule, but probably shouldn't be a\n",
    "                    # correct resonance structure. This adds to the combinatorial effect of resonance structures\n",
    "                    # when generating reactions, yet probably isn't too important for reactivity.\n",
    "                    # Examples: CS(=O)SC <=> CS(=O)#SC;\n",
    "                    # [O.]OSS[O.] <=> [O.]OS#S[O.] <=> [O.]OS#[S.]=O; N#[N+]SS[O-] <=> N#[N+]C#S[O-]\n",
    "        if atom.radicalElectrons == 2:\n",
    "            octetDeviation += 2\n",
    "    print \"octet deviation: {0}\".format(octetDeviation)\n"
   ]
  },
  {
   "cell_type": "code",
   "execution_count": 3,
   "metadata": {
    "scrolled": false
   },
   "outputs": [
    {
     "name": "stdout",
     "output_type": "stream",
     "text": [
      "original molecule: [N+](=S=O)=[N-]\n"
     ]
    },
    {
     "data": {
      "image/png": "[encoded data removed]",
      "text/plain": [
       "Molecule(SMILES=\"[N+](=S=O)=[N-]\")"
      ]
     },
     "metadata": {},
     "output_type": "display_data"
    },
    {
     "name": "stdout",
     "output_type": "stream",
     "text": [
      "\n",
      "molecule has 4 reactive resonance structures:\n"
     ]
    },
    {
     "data": {
      "image/png": "[encoded data removed]",
      "text/plain": [
       "Molecule(SMILES=\"[N+](=S=O)=[N-]\")"
      ]
     },
     "metadata": {},
     "output_type": "display_data"
    },
    {
     "name": "stdout",
     "output_type": "stream",
     "text": [
      "<Molecule \"[N+](=S=O)=[N-]\"> \n",
      "1 N u0 p0 c+1 {2,D} {3,D}\n",
      "2 S u0 p1 c0 {1,D} {4,D}\n",
      "3 N u0 p2 c-1 {1,D}\n",
      "4 O u0 p2 c0 {2,D}\n",
      "\n",
      "charge span: 1\n",
      "atomType for N+ is N5ddc\n",
      "N+ val is 8\n",
      "atomType for S is S4dd\n",
      "S val is 10\n",
      "atomType for N- is N1dc\n",
      "N- val is 8\n",
      "atomType for O is O2d\n",
      "O val is 8\n",
      "octet deviation: 0\n",
      "\n",
      "\n"
     ]
    },
    {
     "data": {
      "image/png": "[encoded data removed]",
      "text/plain": [
       "Molecule(SMILES=\"[N+](#N)[S-]=O\")"
      ]
     },
     "metadata": {},
     "output_type": "display_data"
    },
    {
     "name": "stdout",
     "output_type": "stream",
     "text": [
      "<Molecule \"[N+](#N)[S-]=O\"> \n",
      "1 N u0 p0 c+1 {2,S} {3,T}\n",
      "2 S u0 p2 c-1 {1,S} {4,D}\n",
      "3 N u0 p1 c0 {1,T}\n",
      "4 O u0 p2 c0 {2,D}\n",
      "\n",
      "charge span: 1\n",
      "atomType for N+ is N5tc\n",
      "N+ val is 8\n",
      "atomType for S- is S2dc\n",
      "S- val is 10\n",
      "atomType for N is N3t\n",
      "N val is 8\n",
      "atomType for O is O2d\n",
      "O val is 8\n",
      "octet deviation: 0\n",
      "\n",
      "\n"
     ]
    },
    {
     "data": {
      "image/png": "[encoded data removed]",
      "text/plain": [
       "Molecule(SMILES=\"N(=[N-])[S+]=O\")"
      ]
     },
     "metadata": {},
     "output_type": "display_data"
    },
    {
     "name": "stdout",
     "output_type": "stream",
     "text": [
      "<Molecule \"N(=[N-])[S+]=O\"> \n",
      "1 N u0 p1 c0 {2,S} {3,D}\n",
      "2 S u0 p1 c+1 {1,S} {4,D}\n",
      "3 N u0 p2 c-1 {1,D}\n",
      "4 O u0 p2 c0 {2,D}\n",
      "\n",
      "charge span: 1\n",
      "atomType for N is N3d\n",
      "N val is 8\n",
      "atomType for S+ is S4dc\n",
      "S+ val is 8\n",
      "atomType for N- is N1dc\n",
      "N- val is 8\n",
      "atomType for O is O2d\n",
      "O val is 8\n",
      "octet deviation: 0\n",
      "\n",
      "\n"
     ]
    },
    {
     "data": {
      "image/png": "[encoded data removed]",
      "text/plain": [
       "Molecule(SMILES=\"[N+](#N)S[O-]\")"
      ]
     },
     "metadata": {},
     "output_type": "display_data"
    },
    {
     "name": "stdout",
     "output_type": "stream",
     "text": [
      "<Molecule \"[N+](#N)S[O-]\"> \n",
      "1 N u0 p0 c+1 {2,S} {3,T}\n",
      "2 S u0 p2 c0 {1,S} {4,S}\n",
      "3 N u0 p1 c0 {1,T}\n",
      "4 O u0 p3 c-1 {2,S}\n",
      "\n",
      "charge span: 1\n",
      "atomType for N+ is N5tc\n",
      "N+ val is 8\n",
      "atomType for S is S2s\n",
      "S val is 8\n",
      "atomType for N is N3t\n",
      "N val is 8\n",
      "atomType for O- is O0sc\n",
      "O- val is 8\n",
      "octet deviation: 0\n",
      "\n",
      "\n",
      "0.0545620918274\n"
     ]
    }
   ],
   "source": [
    "# debug:\n",
    "#%pdb\n",
    "\n",
    "import time\n",
    "\n",
    "t = time.time()\n",
    "\n",
    "smiles = '[S-](#[O+])=O'\n",
    "\n",
    "adj = \"\"\"\n",
    "1 N u0 p2 c-1 {2,D}\n",
    "2 N u0 p0 c+1 {1,D} {3,D}\n",
    "3 S u0 p1 c0 {2,D} {4,D}\n",
    "4 O u0 p2 c0 {3,D}\n",
    "\"\"\"\n",
    "\n",
    "smilesList = ['[O][O]','[S][S]','[S][O]','[O][S]','O=O','O=S','S=S','S=O']\n",
    "dictionary = '/home/alongd/Code/RMG-database/input/kinetics/libraries/Sulfur/GlarborgH2S/dictionary.txt'\n",
    "\n",
    "inputForm = [0,1,0,1]  # smiles? adj? smileList? dictionary?\n",
    "\n",
    "filterStructures = 1\n",
    "keepIsomorphic = 1\n",
    "showOctet = 1\n",
    "resonate(smiles,adj,smilesList,dictionary,inputForm,filterStructures,keepIsomorphic,showOctet)\n",
    "\n",
    "print(time.time()-t)\n"
   ]
  },
  {
   "cell_type": "code",
   "execution_count": null,
   "metadata": {
    "collapsed": true
   },
   "outputs": [],
   "source": []
  }
 ],
 "metadata": {
  "kernelspec": {
   "display_name": "rmg_env",
   "language": "python",
   "name": "rmg_env"
  },
  "language_info": {
   "codemirror_mode": {
    "name": "ipython",
    "version": 2
   },
   "file_extension": ".py",
   "mimetype": "text/x-python",
   "name": "python",
   "nbconvert_exporter": "python",
   "pygments_lexer": "ipython2",
   "version": "2.7.13"
  }
 },
 "nbformat": 4,
 "nbformat_minor": 2
}
