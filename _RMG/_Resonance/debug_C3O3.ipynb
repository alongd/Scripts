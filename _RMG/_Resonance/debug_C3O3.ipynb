{
 "cells": [
  {
   "cell_type": "code",
   "execution_count": 3,
   "metadata": {
    "scrolled": true
   },
   "outputs": [
    {
     "name": "stderr",
     "output_type": "stream",
     "text": [
      "ERROR:root:Could not update atomtypes for <Molecule \"C#[S]\">.\n",
      "multiplicity 2\n",
      "1 C u0 p1 c-1 {2,T}\n",
      "2 S u1 p0 c+2 {1,T}\n",
      "\n"
     ]
    },
    {
     "name": "stdout",
     "output_type": "stream",
     "text": [
      "methodList:  [<cyfunction generateAdjacentResonanceStructures at 0x7f51a7da8c50>, <cyfunction generateLonePairRadicalResonanceStructures at 0x7f51a7da8d10>, <cyfunction generateLonePairMultipleBondResonanceStructures at 0x7f51a7da8dd0>] \n",
      "\n",
      "len(molList) = 1, len(list1) = 1\n"
     ]
    },
    {
     "ename": "AtomTypeError",
     "evalue": "Unable to determine atom type for atom S.++, which has 0 single bonds, 0 double bonds to C, 0 double bonds to O, 0 double bonds to S, 1 triple bonds, 0 benzene bonds, 0 lone pairs, and 2 charge.",
     "traceback": [
      "\u001b[0;31m---------------------------------------------------------------------------\u001b[0m",
      "\u001b[0;31mAtomTypeError\u001b[0m                             Traceback (most recent call last)",
      "\u001b[0;32m<ipython-input-3-c5225e160272>\u001b[0m in \u001b[0;36m<module>\u001b[0;34m()\u001b[0m\n\u001b[1;32m     71\u001b[0m \u001b[0;34m\u001b[0m\u001b[0m\n\u001b[1;32m     72\u001b[0m \u001b[0;32mfor\u001b[0m \u001b[0mmol\u001b[0m \u001b[0;32min\u001b[0m \u001b[0mmolList\u001b[0m\u001b[0;34m:\u001b[0m\u001b[0;34m\u001b[0m\u001b[0m\n\u001b[0;32m---> 73\u001b[0;31m     \u001b[0mmol\u001b[0m\u001b[0;34m.\u001b[0m\u001b[0mupdateAtomTypes\u001b[0m\u001b[0;34m(\u001b[0m\u001b[0mlogSpecies\u001b[0m\u001b[0;34m=\u001b[0m\u001b[0mTrue\u001b[0m\u001b[0;34m)\u001b[0m\u001b[0;34m\u001b[0m\u001b[0m\n\u001b[0m",
      "\u001b[0;32m/home/alongd/Code/RMG-Py/rmgpy/molecule/molecule.so\u001b[0m in \u001b[0;36mrmgpy.molecule.molecule.Molecule.updateAtomTypes\u001b[0;34m()\u001b[0m\n",
      "\u001b[0;32m/home/alongd/Code/RMG-Py/rmgpy/molecule/molecule.so\u001b[0m in \u001b[0;36mrmgpy.molecule.molecule.Molecule.updateAtomTypes\u001b[0;34m()\u001b[0m\n",
      "\u001b[0;32m/home/alongd/Code/RMG-Py/rmgpy/molecule/molecule.so\u001b[0m in \u001b[0;36mrmgpy.molecule.molecule.Molecule.updateAtomTypes\u001b[0;34m()\u001b[0m\n",
      "\u001b[0;32m/home/alongd/Code/RMG-Py/rmgpy/molecule/atomtype.so\u001b[0m in \u001b[0;36mrmgpy.molecule.atomtype.getAtomType\u001b[0;34m()\u001b[0m\n",
      "\u001b[0;32m/home/alongd/Code/RMG-Py/rmgpy/molecule/atomtype.so\u001b[0m in \u001b[0;36mrmgpy.molecule.atomtype.getAtomType\u001b[0;34m()\u001b[0m\n",
      "\u001b[0;31mAtomTypeError\u001b[0m: Unable to determine atom type for atom S.++, which has 0 single bonds, 0 double bonds to C, 0 double bonds to O, 0 double bonds to S, 1 triple bonds, 0 benzene bonds, 0 lone pairs, and 2 charge."
     ],
     "output_type": "error"
    }
   ],
   "source": [
    "import rmgpy.molecule.resonance as resonance\n",
    "import rmgpy.molecule as molecule\n",
    "from IPython.display import display\n",
    "import rmgpy.chemkin as chemkin\n",
    "\n",
    "\n",
    "smiles = 'C=[C]C(=O)O[O]'\n",
    "mol = molecule.Molecule(SMILES=smiles)\n",
    "\n",
    "def generateResonanceStructures(mol, clarStructures=True, keepIsomorphic=False, filterStructures=True):\n",
    "\n",
    "    molList = [mol]\n",
    "\n",
    "    # Analyze molecule\n",
    "    features = resonance.analyzeMolecule(mol)\n",
    "\n",
    "    # Use generateAromaticResonanceStructures to check for false positives and negatives\n",
    "    if features['isAromatic'] or (features['isCyclic'] and features['isRadical'] and not features['isArylRadical']):\n",
    "        newMolList = generateAromaticResonanceStructures(mol, features)\n",
    "        if len(newMolList) == 0:\n",
    "            # Encountered false positive, ie. the molecule is not actually aromatic\n",
    "            features['isAromatic'] = False\n",
    "            features['isPolycyclicAromatic'] = False\n",
    "    else:\n",
    "        newMolList = []\n",
    "\n",
    "    # Generate remaining resonance structures\n",
    "    methodList = resonance.populateResonanceAlgorithms(features)\n",
    "    print \"methodList: \", methodList, \"\\n\"\n",
    "    list1 = _generateResonanceStructures(molList, methodList, keepIsomorphic)\n",
    "\n",
    "    #if filterStructures:\n",
    "     #   return resonance.filterResonanceStructures(molList)\n",
    "    #else:\n",
    "    return molList, list1\n",
    "    \n",
    "def _generateResonanceStructures(molList, methodList, keepIsomorphic=False, copy=False):\n",
    "    if copy:\n",
    "        # Make a copy of the list so we don't modify the input list\n",
    "        molList = molList[:]\n",
    "\n",
    "    # Iterate over resonance isomers\n",
    "    index = 0\n",
    "    while index < len(molList) and index < 100:\n",
    "        molecule = molList[index]\n",
    "        newMolList = []\n",
    "\n",
    "        for method in methodList:\n",
    "            newMolList.extend(method(molecule))\n",
    "            #print method\n",
    "\n",
    "        for newMol in newMolList:\n",
    "             #Append to isomer list if unique\n",
    "            for mol in molList:\n",
    "                if not keepIsomorphic and mol.isIsomorphic(newMol):\n",
    "                    break\n",
    "            else:\n",
    "                molList.append(newMol)\n",
    "                #print \"extended \", newMol\n",
    "\n",
    "        # Move to next resonance isomer\n",
    "        index += 1\n",
    "\n",
    "    return molList\n",
    "\n",
    "\n",
    "\n",
    "molList, list1 = generateResonanceStructures(mol)\n",
    "\n",
    "print \"len(molList) = {0}, len(list1) = {1}\".format(len(molList), len(list1))\n",
    "\n",
    "for mol in molList:\n",
    "    mol.updateAtomTypes(logSpecies=False)"
   ]
  },
  {
   "cell_type": "code",
   "execution_count": 1,
   "metadata": {},
   "outputs": [
    {
     "data": {
      "image/png": "[encoded data removed]",
      "text/plain": [
       "Molecule(SMILES=\"C=[C]C(=O)O[O]\")"
      ]
     },
     "metadata": {},
     "output_type": "display_data"
    },
    {
     "data": {
      "image/png": "[encoded data removed]",
      "text/plain": [
       "Molecule(SMILES=\"C=[C]C(=O)O[O]\")"
      ]
     },
     "metadata": {},
     "output_type": "display_data"
    },
    {
     "data": {
      "image/png": "[encoded data removed]",
      "text/plain": [
       "Molecule(SMILES=\"C=C=C([O])O[O]\")"
      ]
     },
     "metadata": {},
     "output_type": "display_data"
    },
    {
     "data": {
      "image/png": "[encoded data removed]",
      "text/plain": [
       "Molecule(SMILES=\"C=[C]C(=O)=O[O]\")"
      ]
     },
     "metadata": {},
     "output_type": "display_data"
    },
    {
     "data": {
      "image/png": "[encoded data removed]",
      "text/plain": [
       "Molecule(SMILES=\"C=[C]C(#O)O[O]\")"
      ]
     },
     "metadata": {},
     "output_type": "display_data"
    },
    {
     "data": {
      "image/png": "[encoded data removed]",
      "text/plain": [
       "Molecule(SMILES=\"C=[C]C(O)O[O]\")"
      ]
     },
     "metadata": {},
     "output_type": "display_data"
    },
    {
     "name": "stdout",
     "output_type": "stream",
     "text": [
      "******\n"
     ]
    },
    {
     "data": {
      "image/png": "[encoded data removed]",
      "text/plain": [
       "Molecule(SMILES=\"C=[C]C(=O)O[O]\")"
      ]
     },
     "metadata": {},
     "output_type": "display_data"
    },
    {
     "data": {
      "image/png": "[encoded data removed]",
      "text/plain": [
       "Molecule(SMILES=\"C=C=C([O])O[O]\")"
      ]
     },
     "metadata": {},
     "output_type": "display_data"
    }
   ],
   "source": [
    "import rmgpy.molecule.resonance as resonance\n",
    "import rmgpy.molecule as molecule\n",
    "from IPython.display import display\n",
    "import rmgpy.chemkin as chemkin\n",
    "\n",
    "\n",
    "smiles = 'C=[C]C(=O)O[O]'\n",
    "mol = molecule.Molecule(SMILES=smiles)\n",
    "display(mol)\n",
    "molList = [mol]\n",
    "molList += resonance.generateAdjacentResonanceStructures(mol)\n",
    "molList += resonance.generateLonePairRadicalResonanceStructures(mol)\n",
    "molList += resonance.generateLonePairMultipleBondResonanceStructures(mol)\n",
    "\n",
    "\n",
    "for mol in molList:\n",
    "    display(mol)\n",
    "        \n",
    "filteredList = resonance.filterResonanceStructures(molList)\n",
    "\n",
    "print '******'\n",
    "\n",
    "for mol in filteredList:\n",
    "    display(mol)"
   ]
  },
  {
   "cell_type": "code",
   "execution_count": 2,
   "metadata": {
    "scrolled": false
   },
   "outputs": [
    {
     "data": {
      "image/png": "[encoded data removed]",
      "text/plain": [
       "Molecule(SMILES=\"C=C=[C](O)=OO\")"
      ]
     },
     "metadata": {},
     "output_type": "display_data"
    },
    {
     "name": "stderr",
     "output_type": "stream",
     "text": [
      "ERROR:root:Could not update atomtypes for <Molecule \"C=C=[C](O)=OO\">.\n",
      "multiplicity 3\n",
      "1 C u2 p0 c-3 {3,D} {4,D} {5,S}\n",
      "2 C u0 p0 c0 {3,D} {6,S} {7,S}\n",
      "3 C u0 p0 c0 {1,D} {2,D}\n",
      "4 O u0 p1 c+1 {1,D} {8,S}\n",
      "5 O u0 p2 c+1 {1,S}\n",
      "6 H u0 p0 c0 {2,S}\n",
      "7 H u0 p0 c0 {2,S}\n",
      "8 O u0 p2 c+1 {4,S}\n",
      "\n"
     ]
    },
    {
     "name": "stdout",
     "output_type": "stream",
     "text": [
      "Cdc\n",
      "Cd\n",
      "Cdd\n",
      "O4dc\n",
      "O2sn\n",
      "H\n",
      "H\n",
      "O2sp\n"
     ]
    },
    {
     "ename": "AtomTypeError",
     "evalue": "Unable to determine atom type for atom C..---, which has 1 single bonds, 1 double bonds to C, 1 double bonds to O, 0 double bonds to S, 0 triple bonds, 0 benzene bonds, 0 lone pairs, and -3 charge.",
     "traceback": [
      "\u001b[0;31m---------------------------------------------------------------------------\u001b[0m",
      "\u001b[0;31mAtomTypeError\u001b[0m                             Traceback (most recent call last)",
      "\u001b[0;32m<ipython-input-2-570ab6a26d05>\u001b[0m in \u001b[0;36m<module>\u001b[0;34m()\u001b[0m\n\u001b[1;32m      4\u001b[0m \u001b[0;32mfor\u001b[0m \u001b[0matom\u001b[0m \u001b[0;32min\u001b[0m \u001b[0mlist1\u001b[0m\u001b[0;34m[\u001b[0m\u001b[0;36m32\u001b[0m\u001b[0;34m]\u001b[0m\u001b[0;34m.\u001b[0m\u001b[0matoms\u001b[0m\u001b[0;34m:\u001b[0m\u001b[0;34m\u001b[0m\u001b[0m\n\u001b[1;32m      5\u001b[0m     \u001b[0;32mprint\u001b[0m \u001b[0matom\u001b[0m\u001b[0;34m.\u001b[0m\u001b[0matomType\u001b[0m\u001b[0;34m.\u001b[0m\u001b[0mlabel\u001b[0m\u001b[0;34m\u001b[0m\u001b[0m\n\u001b[0;32m----> 6\u001b[0;31m \u001b[0mlist1\u001b[0m\u001b[0;34m[\u001b[0m\u001b[0;36m32\u001b[0m\u001b[0;34m]\u001b[0m\u001b[0;34m.\u001b[0m\u001b[0mupdateAtomTypes\u001b[0m\u001b[0;34m(\u001b[0m\u001b[0;34m)\u001b[0m\u001b[0;34m\u001b[0m\u001b[0m\n\u001b[0m",
      "\u001b[0;32m/home/alongd/Code/RMG-Py/rmgpy/molecule/molecule.so\u001b[0m in \u001b[0;36mrmgpy.molecule.molecule.Molecule.updateAtomTypes\u001b[0;34m()\u001b[0m\n",
      "\u001b[0;32m/home/alongd/Code/RMG-Py/rmgpy/molecule/molecule.so\u001b[0m in \u001b[0;36mrmgpy.molecule.molecule.Molecule.updateAtomTypes\u001b[0;34m()\u001b[0m\n",
      "\u001b[0;32m/home/alongd/Code/RMG-Py/rmgpy/molecule/molecule.so\u001b[0m in \u001b[0;36mrmgpy.molecule.molecule.Molecule.updateAtomTypes\u001b[0;34m()\u001b[0m\n",
      "\u001b[0;32m/home/alongd/Code/RMG-Py/rmgpy/molecule/atomtype.so\u001b[0m in \u001b[0;36mrmgpy.molecule.atomtype.getAtomType\u001b[0;34m()\u001b[0m\n",
      "\u001b[0;32m/home/alongd/Code/RMG-Py/rmgpy/molecule/atomtype.so\u001b[0m in \u001b[0;36mrmgpy.molecule.atomtype.getAtomType\u001b[0;34m()\u001b[0m\n",
      "\u001b[0;31mAtomTypeError\u001b[0m: Unable to determine atom type for atom C..---, which has 1 single bonds, 1 double bonds to C, 1 double bonds to O, 0 double bonds to S, 0 triple bonds, 0 benzene bonds, 0 lone pairs, and -3 charge."
     ],
     "output_type": "error"
    }
   ],
   "source": [
    "#for mol in list1:\n",
    "#    display(mol)\n",
    "display(list1[32])\n",
    "for atom in list1[32].atoms:\n",
    "    print atom.atomType.label\n",
    "list1[32].updateAtomTypes()"
   ]
  },
  {
   "cell_type": "code",
   "execution_count": 3,
   "metadata": {
    "collapsed": true,
    "scrolled": false
   },
   "outputs": [],
   "source": [
    "from rmgpy.exceptions import AtomTypeError\n",
    "\n",
    "isomers = []\n",
    "for mol in list1:\n",
    "    try:\n",
    "        mol.updateAtomTypes(logSpecies=False)\n",
    "    except AtomTypeError:\n",
    "        pass  # Don't append resonance structure if it creates an undefined atomType\n",
    "    else:\n",
    "        isomers.append(mol)"
   ]
  },
  {
   "cell_type": "code",
   "execution_count": 4,
   "metadata": {},
   "outputs": [
    {
     "data": {
      "text/plain": [
       "89"
      ]
     },
     "execution_count": 4,
     "metadata": {},
     "output_type": "execute_result"
    }
   ],
   "source": [
    "len(isomers)"
   ]
  },
  {
   "cell_type": "code",
   "execution_count": null,
   "metadata": {
    "collapsed": true
   },
   "outputs": [],
   "source": []
  }
 ],
 "metadata": {
  "kernelspec": {
   "display_name": "rmg_env",
   "language": "python",
   "name": "rmg_env"
  },
  "language_info": {
   "codemirror_mode": {
    "name": "ipython",
    "version": 2
   },
   "file_extension": ".py",
   "mimetype": "text/x-python",
   "name": "python",
   "nbconvert_exporter": "python",
   "pygments_lexer": "ipython2",
   "version": "2.7.13"
  }
 },
 "nbformat": 4,
 "nbformat_minor": 2
}
