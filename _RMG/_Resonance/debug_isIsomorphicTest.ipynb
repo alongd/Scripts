{
 "cells": [
  {
   "cell_type": "code",
   "execution_count": 32,
   "metadata": {
    "collapsed": true
   },
   "outputs": [],
   "source": [
    "from rmgpy.species import Species\n",
    "from rmgpy.molecule.parser import *\n",
    "from rmgpy.molecule.generator import *\n",
    "from rmgpy.molecule.inchi import compose_aug_inchi, P_LAYER_PREFIX, P_LAYER_SEPARATOR, U_LAYER_PREFIX, U_LAYER_SEPARATOR\n",
    "from rmgpy.molecule import Molecule\n",
    "import rmgpy.molecule.resonance as res\n",
    "from IPython.display import display, HTML, Image, display_html\n",
    "import re\n",
    "import itertools\n",
    "from operator import itemgetter"
   ]
  },
  {
   "cell_type": "code",
   "execution_count": 2,
   "metadata": {
    "collapsed": true
   },
   "outputs": [],
   "source": [
    "spcA0 = Species().fromSMILES('CO[O]')  # correct structure\n",
    "spcA1 = Species().fromSMILES('[CH3-]=[O+][O]')\n",
    "spcB0 = Species().fromSMILES('[O]N=O')  # one of the correct structures\n",
    "spcB1 = Species().fromAdjacencyList(\"\"\"multiplicity 2\n",
    "                                        1 O u0 p2 c0 {2,D}\n",
    "                                        2 N u1 p0 c0 {1,D} {3,D}\n",
    "                                        3 O u0 p2 c0 {2,D}\"\"\")\n",
    "spcC0 = Species().fromSMILES('OS(=O)[O]')  # correct structure\n",
    "spcC1 = Species().fromSMILES('O[S-](#[O+])[O]')\n",
    "spcC2 = Species().fromSMILES('O=[S+2]([O-])[O-]')"
   ]
  },
  {
   "cell_type": "code",
   "execution_count": 13,
   "metadata": {
    "collapsed": true
   },
   "outputs": [],
   "source": [
    "def isIsomorphic_tst(self, other, generateRes=False):\n",
    "    \"\"\"\n",
    "    Return ``True`` if the species is isomorphic to `other`, which can be\n",
    "    either a :class:`Molecule` object or a :class:`Species` object.\n",
    "    If generateRes is ``True`` and other is a :class:`Species` object,\n",
    "    the resonance structures of other will be generated.\n",
    "    \"\"\"\n",
    "    if isinstance(other, Molecule):\n",
    "        print \"other is Molecule\"\n",
    "        for molecule in self.molecule:\n",
    "            if molecule.isIsomorphic(other):\n",
    "                return True\n",
    "    elif isinstance(other, Species):\n",
    "        print \"other is Species\"\n",
    "        if generateRes:\n",
    "            print \"generating res\"\n",
    "            print len(other.molecule)\n",
    "            display(other)\n",
    "            other.generateResonanceIsomers()\n",
    "            print len(other.molecule)\n",
    "            display(other)\n",
    "        for molecule1 in self.molecule:\n",
    "            for molecule2 in other.molecule:\n",
    "                if molecule1.isIsomorphic(molecule2):\n",
    "                    return True\n",
    "    else:\n",
    "        print('Unexpected value \"{0!r}\" for other parameter; should be a Molecule or Species object.'.format(other))\n",
    "    return False"
   ]
  },
  {
   "cell_type": "code",
   "execution_count": 14,
   "metadata": {},
   "outputs": [
    {
     "name": "stdout",
     "output_type": "stream",
     "text": [
      "other is Species\n",
      "generating res\n",
      "1\n"
     ]
    },
    {
     "data": {
      "image/png": "[encoded data removed]",
      "text/plain": [
       "Species(label=\"\", molecule=[Molecule(SMILES=\"[CH2]O=O\")])"
      ]
     },
     "metadata": {},
     "output_type": "display_data"
    },
    {
     "name": "stdout",
     "output_type": "stream",
     "text": [
      "1\n"
     ]
    },
    {
     "data": {
      "image/png": "[encoded data removed]",
      "text/plain": [
       "Species(label=\"\", molecule=[Molecule(SMILES=\"[CH2]O=O\")])"
      ]
     },
     "metadata": {},
     "output_type": "display_data"
    },
    {
     "data": {
      "text/plain": [
       "False"
      ]
     },
     "execution_count": 14,
     "metadata": {},
     "output_type": "execute_result"
    }
   ],
   "source": [
    "isIsomorphic_tst(spcA0, spcA1, generateRes=True)"
   ]
  },
  {
   "cell_type": "code",
   "execution_count": null,
   "metadata": {
    "collapsed": true
   },
   "outputs": [],
   "source": []
  },
  {
   "cell_type": "code",
   "execution_count": null,
   "metadata": {
    "collapsed": true
   },
   "outputs": [],
   "source": []
  },
  {
   "cell_type": "code",
   "execution_count": null,
   "metadata": {
    "collapsed": true
   },
   "outputs": [],
   "source": []
  },
  {
   "cell_type": "code",
   "execution_count": 44,
   "metadata": {},
   "outputs": [
    {
     "name": "stdout",
     "output_type": "stream",
     "text": [
      "1\n",
      "5\n"
     ]
    },
    {
     "data": {
      "image/png": "[encoded data removed]",
      "text/plain": [
       "Molecule(SMILES=\"[O]S(=O)O\")"
      ]
     },
     "metadata": {},
     "output_type": "display_data"
    },
    {
     "data": {
      "image/png": "[encoded data removed]",
      "text/plain": [
       "Molecule(SMILES=\"O=[S](=O)O\")"
      ]
     },
     "metadata": {},
     "output_type": "display_data"
    },
    {
     "data": {
      "image/png": "[encoded data removed]",
      "text/plain": [
       "Molecule(SMILES=\"[O][SH](O)O\")"
      ]
     },
     "metadata": {},
     "output_type": "display_data"
    },
    {
     "data": {
      "image/png": "[encoded data removed]",
      "text/plain": [
       "Molecule(SMILES=\"[O][SH](O)O\")"
      ]
     },
     "metadata": {},
     "output_type": "display_data"
    },
    {
     "data": {
      "image/png": "[encoded data removed]",
      "text/plain": [
       "Molecule(SMILES=\"[O]S(=O)O\")"
      ]
     },
     "metadata": {},
     "output_type": "display_data"
    }
   ],
   "source": [
    "spcA0 = Species().fromSMILES('OS(=O)[O]')\n",
    "spcA0.molecule[0].update()\n",
    "print len(spcA0.molecule)\n",
    "molList = res.generateResonanceStructures(spcA0.molecule[0])\n",
    "print len(molList)\n",
    "for mol in molList:\n",
    "    display(mol)"
   ]
  },
  {
   "cell_type": "code",
   "execution_count": 42,
   "metadata": {},
   "outputs": [
    {
     "name": "stdout",
     "output_type": "stream",
     "text": [
      "1\n",
      "5\n"
     ]
    },
    {
     "data": {
      "image/png": "[encoded data removed]",
      "text/plain": [
       "Molecule(SMILES=\"[O][SH](O)O\")"
      ]
     },
     "metadata": {},
     "output_type": "display_data"
    },
    {
     "data": {
      "image/png": "[encoded data removed]",
      "text/plain": [
       "Molecule(SMILES=\"[O]S(=O)O\")"
      ]
     },
     "metadata": {},
     "output_type": "display_data"
    },
    {
     "data": {
      "image/png": "[encoded data removed]",
      "text/plain": [
       "Molecule(SMILES=\"O=[S](=O)O\")"
      ]
     },
     "metadata": {},
     "output_type": "display_data"
    },
    {
     "data": {
      "image/png": "[encoded data removed]",
      "text/plain": [
       "Molecule(SMILES=\"[O][SH](O)O\")"
      ]
     },
     "metadata": {},
     "output_type": "display_data"
    },
    {
     "data": {
      "image/png": "[encoded data removed]",
      "text/plain": [
       "Molecule(SMILES=\"[O]S(=O)O\")"
      ]
     },
     "metadata": {},
     "output_type": "display_data"
    }
   ],
   "source": [
    "spcA0 = Species().fromSMILES('O[S-](#[O+])[O]')\n",
    "spcA0.molecule[0].update()\n",
    "print len(spcA0.molecule)\n",
    "molList = res.generateResonanceStructures(spcA0.molecule[0])\n",
    "print len(molList)\n",
    "for mol in molList:\n",
    "    display(mol)"
   ]
  },
  {
   "cell_type": "code",
   "execution_count": 43,
   "metadata": {},
   "outputs": [
    {
     "name": "stdout",
     "output_type": "stream",
     "text": [
      "1\n",
      "2\n"
     ]
    },
    {
     "data": {
      "image/png": "[encoded data removed]",
      "text/plain": [
       "Molecule(SMILES=\"O=[SH](=O)O\")"
      ]
     },
     "metadata": {},
     "output_type": "display_data"
    },
    {
     "data": {
      "image/png": "[encoded data removed]",
      "text/plain": [
       "Molecule(SMILES=\"O=S(=O)=O\")"
      ]
     },
     "metadata": {},
     "output_type": "display_data"
    }
   ],
   "source": [
    "spcA0 = Species().fromSMILES('O=[S+2]([O-])[O-]')\n",
    "spcA0.molecule[0].update()\n",
    "print len(spcA0.molecule)\n",
    "molList = res.generateResonanceStructures(spcA0.molecule[0])\n",
    "print len(molList)\n",
    "for mol in molList:\n",
    "    display(mol)"
   ]
  },
  {
   "cell_type": "code",
   "execution_count": null,
   "metadata": {
    "collapsed": true
   },
   "outputs": [],
   "source": []
  }
 ],
 "metadata": {
  "kernelspec": {
   "display_name": "rmg_env",
   "language": "python",
   "name": "rmg_env"
  },
  "language_info": {
   "codemirror_mode": {
    "name": "ipython",
    "version": 2
   },
   "file_extension": ".py",
   "mimetype": "text/x-python",
   "name": "python",
   "nbconvert_exporter": "python",
   "pygments_lexer": "ipython2",
   "version": "2.7.13"
  }
 },
 "nbformat": 4,
 "nbformat_minor": 2
}
