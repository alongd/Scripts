{
 "cells": [
  {
   "cell_type": "code",
   "execution_count": 1,
   "metadata": {
    "collapsed": true
   },
   "outputs": [],
   "source": [
    "import rmgpy.molecule as molecule\n",
    "from IPython.display import display, HTML, Image, display_html\n",
    "import time, sys\n",
    "\n",
    "molList = [['O=[N][O]',2], # classic; tests rad jump exception for charge span filter\n",
    "            ['[O][S]=O',2],\n",
    "            ['[NH]N=S=O',7],\n",
    "          ['N#[N+][O-]',2], # classic\n",
    "          ['[CH2]OC([O])=O',1],  # important for testing. gave inf structures prior to filtering; solve by adding uncharged to generateLonePairMultipleBondResonanceStructures\n",
    "          ['[CH2]SC([S])=O',5],  # important for testing, gave inf\n",
    "          ['[CH2]SC([S])=S',3],\n",
    "           ['[N+](=O)(O)[O-]',1],  # test HNO3 has 2 identical res, should get 1  \n",
    "           ['[N+](=O)([O-])[O]',1],  # NO3 rad has 6 identical res, should get 1\n",
    "           ['N[N]',2],  # test. birad\n",
    "           ['[C]=C=O',2],  # test carbene birad in ally shift\n",
    "          ['N(=[CH])[N]',2],  # test. rad and birad\n",
    "           ['N(N)[N+](=O)[O-]',1],  # test. two charge separations\n",
    "#           ['[N]=[SH]',2],\n",
    "          ['[CH2]N=O',3],  # important test: tests allyl shift and lonepair-rad\n",
    "          ['C=[C]C(=O)O[O]',2], # important for testing since gave some wierd predictions when code was off \n",
    "          ['N#S',1],  # can test that charged structures are filtered\n",
    "       #   ['[C-]#[O+]',1],\n",
    "          ['[O-][N+]#C',1],\n",
    "          ['[N]=C=O',2],\n",
    "       #   ['[N](=O)([NH+])[O-]',4],\n",
    "          ['[CH]1C=NC=N1',3],  # interesting test for allyl\n",
    "          ['C=C[CH][O]',3],  # important for testing, gave me trouble\n",
    "          ['C1=C[CH]CC1([O])',2],\n",
    "          ['[NH2+]=[N-]',1],\n",
    "          ['N[NH]',2],\n",
    "          ['[N]=NON=O',2],\n",
    "          ['[NH-][N+]#N',2],  # azide\n",
    "          ['CS[S+]([O-])C',1],\n",
    "          ['N#[N+][S-](O)O',3],\n",
    "          ['[S-][S+]=S',1],  # S3 vs. O3. interesting\n",
    "          ['[O-][O+]=O',1],  # ozone\n",
    "          ['OS(=O)[O]',2],  # HSO3\n",
    "          ['CN[NH]',2],\n",
    "          ['CO[O]',1],  # ROO - test we don't get R[O+.][O-]\n",
    "          ['OS[O]',2],\n",
    "          ['S[O]',2],\n",
    "          ['N#[SH]',1],\n",
    "          ['[S-]#[NH+]',1],\n",
    "          ['[CH]=S',2], # HCO vs HCS, interesting\n",
    "          ['[CH]=O',1],\n",
    "          ['O[SH3+][O-]',1],\n",
    "          ['[N]=S',2],  # NS vs. NO\n",
    "          ['[N]=O',1],\n",
    "          ['C[N+]([NH-])=O',2],\n",
    "          ['[N]=C',1],\n",
    "          ['N=C',1],\n",
    "          ['N#C',1],\n",
    "          ['[S][S]',1],\n",
    "          ['[S][O]',1],\n",
    "          ['C=C[CH]C=CC',3],\n",
    "          ['CC=N[O]',3],\n",
    "          ['[CH2-][S+]=C',1],  # C has a lonePair\n",
    "          ['[CH-]=[SH2+]O',1],  # C has a lonePair\n",
    "          ['[SH2+]#[C-]',1],  # C has a lonePair\n",
    "          ['[N-]=[N+]=S(=O)=O',3],  # important test\n",
    "          ['O=[S](=O)=O',1],\n",
    "          ['[N-]=[S+]#N',1],\n",
    "          ['O=S(=O)=O',1],  # SO3\n",
    "          ['O=S=O',1],  # SO2 vs. ozone\n",
    "          ['OS(O)(=O)=O',1],  # H2SO4\n",
    "          ['O=[SH]#N',1],\n",
    "          ['N#S#N',1],\n",
    "          ['S=O',1],\n",
    "          ['[S][O]',1],\n",
    "#           ['C=C[CH]CC=C[CH]CC=C[CH]CC=C[CH]CC=C[CH]CC=C[CH]CC',64],\n",
    "          ]\n",
    "\n",
    "#check adjList:\n",
    "# [C-]#[S+]   V\n",
    "# [NH-]=[N]#[S+]=O\n",
    "\n",
    "\n",
    "\n",
    "#molList = [['C=[C]C(=O)O[O]',1]]\n",
    "\n",
    "#molList = [['[NH-][N+]#N',2]]\n",
    "#adj = \"\"\"1 C u0 p0 c0 {2,D} {6,S} {7,S}\n",
    "#        2 C u0 p0 c0 {1,D} {3,S} {5,S}\n",
    "#        3 O u1 p2 c0 {2,S}\n",
    "#        4 O u0 p2 c0 {5,S} {8,S}\n",
    "#        5 O u0 p2 c0 {2,S} {4,S}\n",
    "#        6 H u0 p0 c0 {1,S}\n",
    "#        7 H u0 p0 c0 {1,S}\n",
    "#        8 H u0 p0 c0 {4,S}\"\"\"\n",
    "\n",
    "#molList = [[molecule.Molecule().fromAdjacencyList(adj).toSMILES(),0]]"
   ]
  },
  {
   "cell_type": "code",
   "execution_count": 2,
   "metadata": {
    "scrolled": false
   },
   "outputs": [
    {
     "name": "stdout",
     "output_type": "stream",
     "text": [
      "\n",
      "\n",
      "\n",
      "**********\n",
      "Species O=[N][O] has 2 reactive resonance structures:\n",
      "\n"
     ]
    },
    {
     "data": {
      "image/png": "[encoded data removed]",
      "text/plain": [
       "Molecule(SMILES=\"N(=O)[O]\")"
      ]
     },
     "metadata": {},
     "output_type": "display_data"
    },
    {
     "name": "stdout",
     "output_type": "stream",
     "text": [
      "<Molecule \"N(=O)[O]\">\n",
      "multiplicity 2\n",
      "1 N u0 p1 c0 {2,D} {3,S}\n",
      "2 O u0 p2 c0 {1,D}\n",
      "3 O u1 p2 c0 {1,S}\n",
      "\n",
      "atom N with val 8\n",
      "atom O with val 8\n",
      "atom O. with val 7\n",
      "octet deviation: 1\n"
     ]
    },
    {
     "data": {
      "image/png": "[encoded data removed]",
      "text/plain": [
       "Molecule(SMILES=\"N(=O)[O]\")"
      ]
     },
     "metadata": {},
     "output_type": "display_data"
    },
    {
     "name": "stdout",
     "output_type": "stream",
     "text": [
      "<Molecule \"N(=O)[O]\">\n",
      "multiplicity 2\n",
      "1 N u1 p0 c+1 {2,D} {3,S}\n",
      "2 O u0 p2 c0 {1,D}\n",
      "3 O u0 p3 c-1 {1,S}\n",
      "\n",
      "atom N.+ with val 7\n",
      "atom O with val 8\n",
      "atom O- with val 8\n",
      "octet deviation: 1\n",
      "\n",
      "\n",
      "\n",
      "**********\n",
      "Species [O][S]=O has 2 reactive resonance structures, which is WRONG, expected 1:\n",
      "\n"
     ]
    },
    {
     "data": {
      "image/png": "[encoded data removed]",
      "text/plain": [
       "Molecule(SMILES=\"[S](=O)[O]\")"
      ]
     },
     "metadata": {},
     "output_type": "display_data"
    },
    {
     "name": "stdout",
     "output_type": "stream",
     "text": [
      "<Molecule \"[S](=O)[O]\">\n",
      "multiplicity 3\n",
      "1 S u1 p1 c0 {2,S} {3,D}\n",
      "2 O u1 p2 c0 {1,S}\n",
      "3 O u0 p2 c0 {1,D}\n",
      "\n",
      "atom S. with val 9\n",
      "atom O. with val 7\n",
      "atom O with val 8\n",
      "octet deviation: 2\n"
     ]
    },
    {
     "data": {
      "image/png": "[encoded data removed]",
      "text/plain": [
       "Molecule(SMILES=\"S([O])[O]\")"
      ]
     },
     "metadata": {},
     "output_type": "display_data"
    },
    {
     "name": "stdout",
     "output_type": "stream",
     "text": [
      "<Molecule \"S([O])[O]\">\n",
      "multiplicity 3\n",
      "1 S u0 p2 c0 {2,S} {3,S}\n",
      "2 O u1 p2 c0 {1,S}\n",
      "3 O u1 p2 c0 {1,S}\n",
      "\n",
      "atom S with val 8\n",
      "atom O. with val 7\n",
      "atom O. with val 7\n",
      "octet deviation: 2\n",
      "\n",
      "\n",
      "\n",
      "**********\n",
      "Species [NH]N=S=O has 5 reactive resonance structures, which is WRONG, expected 7:\n",
      "\n"
     ]
    },
    {
     "data": {
      "image/png": "[encoded data removed]",
      "text/plain": [
       "Molecule(SMILES=\"N(=S=O)[NH]\")"
      ]
     },
     "metadata": {},
     "output_type": "display_data"
    },
    {
     "name": "stdout",
     "output_type": "stream",
     "text": [
      "<Molecule \"N(=S=O)[NH]\">\n",
      "multiplicity 2\n",
      "1 N u0 p1 c0 {2,S} {3,D}\n",
      "2 N u1 p1 c0 {1,S} {4,S}\n",
      "3 S u0 p1 c0 {1,D} {5,D}\n",
      "4 H u0 p0 c0 {2,S}\n",
      "5 O u0 p2 c0 {3,D}\n",
      "\n",
      "atom N with val 8\n",
      "atom N. with val 7\n",
      "atom S with val 10\n",
      "atom O with val 8\n",
      "octet deviation: 1\n"
     ]
    },
    {
     "data": {
      "image/png": "[encoded data removed]",
      "text/plain": [
       "Molecule(SMILES=\"N(=N)[S]=O\")"
      ]
     },
     "metadata": {},
     "output_type": "display_data"
    },
    {
     "name": "stdout",
     "output_type": "stream",
     "text": [
      "<Molecule \"N(=N)[S]=O\">\n",
      "multiplicity 2\n",
      "1 N u0 p1 c0 {2,D} {3,S}\n",
      "2 N u0 p1 c0 {1,D} {4,S}\n",
      "3 S u1 p1 c0 {1,S} {5,D}\n",
      "4 H u0 p0 c0 {2,S}\n",
      "5 O u0 p2 c0 {3,D}\n",
      "\n",
      "atom N with val 8\n",
      "atom N with val 8\n",
      "atom S. with val 9\n",
      "atom O with val 8\n",
      "octet deviation: 1\n"
     ]
    },
    {
     "data": {
      "image/png": "[encoded data removed]",
      "text/plain": [
       "Molecule(SMILES=\"N(=N)S[O]\")"
      ]
     },
     "metadata": {},
     "output_type": "display_data"
    },
    {
     "name": "stdout",
     "output_type": "stream",
     "text": [
      "<Molecule \"N(=N)S[O]\">\n",
      "multiplicity 2\n",
      "1 N u0 p1 c0 {2,D} {3,S}\n",
      "2 N u0 p1 c0 {1,D} {4,S}\n",
      "3 S u0 p2 c0 {1,S} {5,S}\n",
      "4 H u0 p0 c0 {2,S}\n",
      "5 O u1 p2 c0 {3,S}\n",
      "\n",
      "atom N with val 8\n",
      "atom N with val 8\n",
      "atom S with val 8\n",
      "atom O. with val 7\n",
      "octet deviation: 1\n"
     ]
    },
    {
     "data": {
      "image/png": "[encoded data removed]",
      "text/plain": [
       "Molecule(SMILES=\"[N+](=S=O)[NH-]\")"
      ]
     },
     "metadata": {},
     "output_type": "display_data"
    },
    {
     "name": "stdout",
     "output_type": "stream",
     "text": [
      "<Molecule \"[N+](=S=O)[NH-]\">\n",
      "multiplicity 2\n",
      "1 N u1 p0 c+1 {2,S} {3,D}\n",
      "2 N u0 p2 c-1 {1,S} {4,S}\n",
      "3 S u0 p1 c0 {1,D} {5,D}\n",
      "4 H u0 p0 c0 {2,S}\n",
      "5 O u0 p2 c0 {3,D}\n",
      "\n",
      "atom N.+ with val 7\n",
      "atom N- with val 8\n",
      "atom S with val 10\n",
      "atom O with val 8\n",
      "octet deviation: 1\n"
     ]
    },
    {
     "data": {
      "image/png": "[encoded data removed]",
      "text/plain": [
       "Molecule(SMILES=\"[N+](=N)[S-]=O\")"
      ]
     },
     "metadata": {},
     "output_type": "display_data"
    },
    {
     "name": "stdout",
     "output_type": "stream",
     "text": [
      "<Molecule \"[N+](=N)[S-]=O\">\n",
      "multiplicity 2\n",
      "1 N u1 p0 c+1 {2,D} {3,S}\n",
      "2 N u0 p1 c0 {1,D} {4,S}\n",
      "3 S u0 p2 c-1 {1,S} {5,D}\n",
      "4 H u0 p0 c0 {2,S}\n",
      "5 O u0 p2 c0 {3,D}\n",
      "\n",
      "atom N.+ with val 7\n",
      "atom N with val 8\n",
      "atom S- with val 10\n",
      "atom O with val 8\n",
      "octet deviation: 1\n",
      "\n",
      "\n",
      "\n",
      "**********\n",
      "Species N#[N+][O-] has 2 reactive resonance structures:\n",
      "\n"
     ]
    },
    {
     "data": {
      "image/png": "[encoded data removed]",
      "text/plain": [
       "Molecule(SMILES=\"N#[N+][O-]\")"
      ]
     },
     "metadata": {},
     "output_type": "display_data"
    },
    {
     "name": "stdout",
     "output_type": "stream",
     "text": [
      "<Molecule \"N#[N+][O-]\">\n",
      "1 N u0 p0 c+1 {2,T} {3,S}\n",
      "2 N u0 p1 c0 {1,T}\n",
      "3 O u0 p3 c-1 {1,S}\n",
      "\n",
      "atom N+ with val 8\n",
      "atom N with val 8\n",
      "atom O- with val 8\n",
      "octet deviation: 0\n"
     ]
    },
    {
     "data": {
      "image/png": "[encoded data removed]",
      "text/plain": [
       "Molecule(SMILES=\"N#[N+][O-]\")"
      ]
     },
     "metadata": {},
     "output_type": "display_data"
    },
    {
     "name": "stdout",
     "output_type": "stream",
     "text": [
      "<Molecule \"N#[N+][O-]\">\n",
      "1 N u0 p0 c+1 {2,D} {3,D}\n",
      "2 N u0 p2 c-1 {1,D}\n",
      "3 O u0 p2 c0 {1,D}\n",
      "\n",
      "atom N+ with val 8\n",
      "atom N- with val 8\n",
      "atom O with val 8\n",
      "octet deviation: 0\n",
      "\n",
      "\n",
      "\n",
      "**********\n",
      "Species [CH2]OC([O])=O has 1 reactive resonance structures:\n",
      "\n"
     ]
    },
    {
     "data": {
      "image/png": "[encoded data removed]",
      "text/plain": [
       "Molecule(SMILES=\"[CH2]OC([O])=O\")"
      ]
     },
     "metadata": {},
     "output_type": "display_data"
    },
    {
     "name": "stdout",
     "output_type": "stream",
     "text": [
      "<Molecule \"[CH2]OC([O])=O\">\n",
      "multiplicity 3\n",
      "1 C u1 p0 c0 {3,S} {4,S} {5,S}\n",
      "2 C u0 p0 c0 {3,S} {6,S} {7,D}\n",
      "3 O u0 p2 c0 {1,S} {2,S}\n",
      "4 H u0 p0 c0 {1,S}\n",
      "5 H u0 p0 c0 {1,S}\n",
      "6 O u1 p2 c0 {2,S}\n",
      "7 O u0 p2 c0 {2,D}\n",
      "\n",
      "atom C. with val 7\n",
      "atom C with val 8\n",
      "atom O with val 8\n",
      "atom O. with val 7\n",
      "atom O with val 8\n",
      "octet deviation: 2\n",
      "\n",
      "\n",
      "\n",
      "**********\n",
      "Species [CH2]SC([S])=O has 5 reactive resonance structures:\n",
      "\n"
     ]
    },
    {
     "data": {
      "image/png": "[encoded data removed]",
      "text/plain": [
       "Molecule(SMILES=\"[CH2]SC(=O)[S]\")"
      ]
     },
     "metadata": {},
     "output_type": "display_data"
    },
    {
     "name": "stdout",
     "output_type": "stream",
     "text": [
      "<Molecule \"[CH2]SC(=O)[S]\">\n",
      "multiplicity 3\n",
      "1 C u1 p0 c0 {3,S} {4,S} {5,S}\n",
      "2 C u0 p0 c0 {3,S} {6,S} {7,D}\n",
      "3 S u0 p2 c0 {1,S} {2,S}\n",
      "4 H u0 p0 c0 {1,S}\n",
      "5 H u0 p0 c0 {1,S}\n",
      "6 S u1 p2 c0 {2,S}\n",
      "7 O u0 p2 c0 {2,D}\n",
      "\n",
      "atom C. with val 7\n",
      "atom C with val 8\n",
      "atom S with val 8\n",
      "atom S. with val 7\n",
      "atom O with val 8\n",
      "octet deviation: 2\n"
     ]
    },
    {
     "data": {
      "image/png": "[encoded data removed]",
      "text/plain": [
       "Molecule(SMILES=\"[CH2]SC(=S)[O]\")"
      ]
     },
     "metadata": {},
     "output_type": "display_data"
    },
    {
     "name": "stdout",
     "output_type": "stream",
     "text": [
      "<Molecule \"[CH2]SC(=S)[O]\">\n",
      "multiplicity 3\n",
      "1 C u1 p0 c0 {3,S} {4,S} {5,S}\n",
      "2 C u0 p0 c0 {3,S} {6,D} {7,S}\n",
      "3 S u0 p2 c0 {1,S} {2,S}\n",
      "4 H u0 p0 c0 {1,S}\n",
      "5 H u0 p0 c0 {1,S}\n",
      "6 S u0 p2 c0 {2,D}\n",
      "7 O u1 p2 c0 {2,S}\n",
      "\n",
      "atom C. with val 7\n",
      "atom C with val 8\n",
      "atom S with val 8\n",
      "atom S with val 8\n",
      "atom O. with val 7\n",
      "octet deviation: 2\n"
     ]
    },
    {
     "data": {
      "image/png": "[encoded data removed]",
      "text/plain": [
       "Molecule(SMILES=\"C=[S]C(=O)[S]\")"
      ]
     },
     "metadata": {},
     "output_type": "display_data"
    },
    {
     "name": "stdout",
     "output_type": "stream",
     "text": [
      "<Molecule \"C=[S]C(=O)[S]\">\n",
      "multiplicity 3\n",
      "1 C u0 p0 c0 {3,D} {4,S} {5,S}\n",
      "2 C u0 p0 c0 {3,S} {6,S} {7,D}\n",
      "3 S u1 p1 c0 {1,D} {2,S}\n",
      "4 H u0 p0 c0 {1,S}\n",
      "5 H u0 p0 c0 {1,S}\n",
      "6 S u1 p2 c0 {2,S}\n",
      "7 O u0 p2 c0 {2,D}\n",
      "\n",
      "atom C with val 8\n",
      "atom C with val 8\n",
      "atom S. with val 9\n",
      "atom S. with val 7\n",
      "atom O with val 8\n",
      "octet deviation: 2\n"
     ]
    },
    {
     "data": {
      "image/png": "[encoded data removed]",
      "text/plain": [
       "Molecule(SMILES=\"C=[S]C(=S)[O]\")"
      ]
     },
     "metadata": {},
     "output_type": "display_data"
    },
    {
     "name": "stdout",
     "output_type": "stream",
     "text": [
      "<Molecule \"C=[S]C(=S)[O]\">\n",
      "multiplicity 3\n",
      "1 C u0 p0 c0 {3,D} {4,S} {5,S}\n",
      "2 C u0 p0 c0 {3,S} {6,D} {7,S}\n",
      "3 S u1 p1 c0 {1,D} {2,S}\n",
      "4 H u0 p0 c0 {1,S}\n",
      "5 H u0 p0 c0 {1,S}\n",
      "6 S u0 p2 c0 {2,D}\n",
      "7 O u1 p2 c0 {2,S}\n",
      "\n",
      "atom C with val 8\n",
      "atom C with val 8\n",
      "atom S. with val 9\n",
      "atom S with val 8\n",
      "atom O. with val 7\n",
      "octet deviation: 2\n"
     ]
    },
    {
     "data": {
      "image/png": "[encoded data removed]",
      "text/plain": [
       "Molecule(SMILES=\"C=S=C([S])[O]\")"
      ]
     },
     "metadata": {},
     "output_type": "display_data"
    },
    {
     "name": "stdout",
     "output_type": "stream",
     "text": [
      "<Molecule \"C=S=C([S])[O]\">\n",
      "multiplicity 3\n",
      "1 C u0 p0 c0 {3,D} {4,S} {5,S}\n",
      "2 C u0 p0 c0 {3,D} {6,S} {7,S}\n",
      "3 S u0 p1 c0 {1,D} {2,D}\n",
      "4 H u0 p0 c0 {1,S}\n",
      "5 H u0 p0 c0 {1,S}\n",
      "6 S u1 p2 c0 {2,S}\n",
      "7 O u1 p2 c0 {2,S}\n",
      "\n",
      "atom C with val 8\n",
      "atom C with val 8\n",
      "atom S with val 10\n",
      "atom S. with val 7\n",
      "atom O. with val 7\n",
      "octet deviation: 2\n",
      "\n",
      "\n",
      "\n",
      "**********\n",
      "Species [CH2]SC([S])=S has 3 reactive resonance structures:\n",
      "\n"
     ]
    },
    {
     "data": {
      "image/png": "[encoded data removed]",
      "text/plain": [
       "Molecule(SMILES=\"[CH2]SC(=S)[S]\")"
      ]
     },
     "metadata": {},
     "output_type": "display_data"
    },
    {
     "name": "stdout",
     "output_type": "stream",
     "text": [
      "<Molecule \"[CH2]SC(=S)[S]\">\n",
      "multiplicity 3\n",
      "1 C u1 p0 c0 {3,S} {4,S} {5,S}\n",
      "2 C u0 p0 c0 {3,S} {6,S} {7,D}\n",
      "3 S u0 p2 c0 {1,S} {2,S}\n",
      "4 H u0 p0 c0 {1,S}\n",
      "5 H u0 p0 c0 {1,S}\n",
      "6 S u1 p2 c0 {2,S}\n",
      "7 S u0 p2 c0 {2,D}\n",
      "\n",
      "atom C. with val 7\n",
      "atom C with val 8\n",
      "atom S with val 8\n",
      "atom S. with val 7\n",
      "atom S with val 8\n",
      "octet deviation: 2\n"
     ]
    },
    {
     "data": {
      "image/png": "[encoded data removed]",
      "text/plain": [
       "Molecule(SMILES=\"C=[S]C(=S)[S]\")"
      ]
     },
     "metadata": {},
     "output_type": "display_data"
    },
    {
     "name": "stdout",
     "output_type": "stream",
     "text": [
      "<Molecule \"C=[S]C(=S)[S]\">\n",
      "multiplicity 3\n",
      "1 C u0 p0 c0 {3,D} {4,S} {5,S}\n",
      "2 C u0 p0 c0 {3,S} {6,S} {7,D}\n",
      "3 S u1 p1 c0 {1,D} {2,S}\n",
      "4 H u0 p0 c0 {1,S}\n",
      "5 H u0 p0 c0 {1,S}\n",
      "6 S u1 p2 c0 {2,S}\n",
      "7 S u0 p2 c0 {2,D}\n",
      "\n",
      "atom C with val 8\n",
      "atom C with val 8\n",
      "atom S. with val 9\n",
      "atom S. with val 7\n",
      "atom S with val 8\n",
      "octet deviation: 2\n"
     ]
    },
    {
     "data": {
      "image/png": "[encoded data removed]",
      "text/plain": [
       "Molecule(SMILES=\"C=S=C([S])[S]\")"
      ]
     },
     "metadata": {},
     "output_type": "display_data"
    },
    {
     "name": "stdout",
     "output_type": "stream",
     "text": [
      "<Molecule \"C=S=C([S])[S]\">\n",
      "multiplicity 3\n",
      "1 C u0 p0 c0 {3,D} {4,S} {5,S}\n",
      "2 C u0 p0 c0 {3,D} {6,S} {7,S}\n",
      "3 S u0 p1 c0 {1,D} {2,D}\n",
      "4 H u0 p0 c0 {1,S}\n",
      "5 H u0 p0 c0 {1,S}\n",
      "6 S u1 p2 c0 {2,S}\n",
      "7 S u1 p2 c0 {2,S}\n",
      "\n",
      "atom C with val 8\n",
      "atom C with val 8\n",
      "atom S with val 10\n",
      "atom S. with val 7\n",
      "atom S. with val 7\n",
      "octet deviation: 2\n",
      "\n",
      "\n",
      "\n",
      "**********\n",
      "Species [N+](=O)(O)[O-] has 1 reactive resonance structures:\n",
      "\n"
     ]
    },
    {
     "data": {
      "image/png": "[encoded data removed]",
      "text/plain": [
       "Molecule(SMILES=\"[N+](=O)(O)[O-]\")"
      ]
     },
     "metadata": {},
     "output_type": "display_data"
    },
    {
     "name": "stdout",
     "output_type": "stream",
     "text": [
      "<Molecule \"[N+](=O)(O)[O-]\">\n",
      "1 N u0 p0 c+1 {2,S} {3,D} {4,S}\n",
      "2 O u0 p2 c0 {1,S} {5,S}\n",
      "3 O u0 p2 c0 {1,D}\n",
      "4 O u0 p3 c-1 {1,S}\n",
      "5 H u0 p0 c0 {2,S}\n",
      "\n",
      "atom N+ with val 8\n",
      "atom O with val 8\n",
      "atom O with val 8\n",
      "atom O- with val 8\n",
      "octet deviation: 0\n",
      "\n",
      "\n",
      "\n",
      "**********\n",
      "Species [N+](=O)([O-])[O] has 1 reactive resonance structures:\n",
      "\n"
     ]
    },
    {
     "data": {
      "image/png": "[encoded data removed]",
      "text/plain": [
       "Molecule(SMILES=\"[N+](=O)([O-])[O]\")"
      ]
     },
     "metadata": {},
     "output_type": "display_data"
    },
    {
     "name": "stdout",
     "output_type": "stream",
     "text": [
      "<Molecule \"[N+](=O)([O-])[O]\">\n",
      "multiplicity 2\n",
      "1 N u0 p0 c+1 {2,D} {3,S} {4,S}\n",
      "2 O u0 p2 c0 {1,D}\n",
      "3 O u0 p3 c-1 {1,S}\n",
      "4 O u1 p2 c0 {1,S}\n",
      "\n",
      "atom N+ with val 8\n",
      "atom O with val 8\n",
      "atom O- with val 8\n",
      "atom O. with val 7\n",
      "octet deviation: 1\n",
      "\n",
      "\n",
      "\n",
      "**********\n",
      "Species N[N] has 2 reactive resonance structures:\n",
      "\n"
     ]
    },
    {
     "data": {
      "image/png": "[encoded data removed]",
      "text/plain": [
       "Molecule(SMILES=\"N[N]\")"
      ]
     },
     "metadata": {},
     "output_type": "display_data"
    },
    {
     "name": "stdout",
     "output_type": "stream",
     "text": [
      "<Molecule \"N[N]\">\n",
      "multiplicity 3\n",
      "1 N u0 p1 c0 {2,S} {3,S} {4,S}\n",
      "2 N u2 p1 c0 {1,S}\n",
      "3 H u0 p0 c0 {1,S}\n",
      "4 H u0 p0 c0 {1,S}\n",
      "\n",
      "atom N with val 8\n",
      "atom N.. with val 6\n",
      "octet deviation: 2\n"
     ]
    },
    {
     "data": {
      "image/png": "[encoded data removed]",
      "text/plain": [
       "Molecule(SMILES=\"[NH2+][N-]\")"
      ]
     },
     "metadata": {},
     "output_type": "display_data"
    },
    {
     "name": "stdout",
     "output_type": "stream",
     "text": [
      "<Molecule \"[NH2+][N-]\">\n",
      "multiplicity 3\n",
      "1 N u1 p0 c+1 {2,S} {3,S} {4,S}\n",
      "2 N u1 p2 c-1 {1,S}\n",
      "3 H u0 p0 c0 {1,S}\n",
      "4 H u0 p0 c0 {1,S}\n",
      "\n",
      "atom N.+ with val 7\n",
      "atom N.- with val 7\n",
      "octet deviation: 2\n",
      "\n",
      "\n",
      "\n",
      "**********\n",
      "Species [C]=C=O has 2 reactive resonance structures:\n",
      "\n"
     ]
    },
    {
     "data": {
      "image/png": "[encoded data removed]",
      "text/plain": [
       "Molecule(SMILES=\"[C]=C=O\")"
      ]
     },
     "metadata": {},
     "output_type": "display_data"
    },
    {
     "name": "stdout",
     "output_type": "stream",
     "text": [
      "<Molecule \"[C]=C=O\">\n",
      "multiplicity 3\n",
      "1 C u0 p0 c0 {2,D} {3,D}\n",
      "2 C u2 p0 c0 {1,D}\n",
      "3 O u0 p2 c0 {1,D}\n",
      "\n",
      "atom C with val 8\n",
      "atom C.. with val 6\n",
      "atom O with val 8\n",
      "octet deviation: 2\n"
     ]
    },
    {
     "data": {
      "image/png": "[encoded data removed]",
      "text/plain": [
       "Molecule(SMILES=\"[C]#C[O]\")"
      ]
     },
     "metadata": {},
     "output_type": "display_data"
    },
    {
     "name": "stdout",
     "output_type": "stream",
     "text": [
      "<Molecule \"[C]#C[O]\">\n",
      "multiplicity 3\n",
      "1 C u0 p0 c0 {2,T} {3,S}\n",
      "2 C u1 p0 c0 {1,T}\n",
      "3 O u1 p2 c0 {1,S}\n",
      "\n",
      "atom C with val 8\n",
      "atom C. with val 7\n",
      "atom O. with val 7\n",
      "octet deviation: 2\n",
      "\n",
      "\n",
      "\n",
      "**********\n",
      "Species N(=[CH])[N] has 4 reactive resonance structures, which is WRONG, expected 2:\n",
      "\n"
     ]
    },
    {
     "data": {
      "image/png": "[encoded data removed]",
      "text/plain": [
       "Molecule(SMILES=\"N(=[CH])[N]\")"
      ]
     },
     "metadata": {},
     "output_type": "display_data"
    },
    {
     "name": "stdout",
     "output_type": "stream",
     "text": [
      "<Molecule \"N(=[CH])[N]\">\n",
      "multiplicity 4\n",
      "1 N u0 p1 c0 {2,D} {4,S}\n",
      "2 C u1 p0 c0 {1,D} {3,S}\n",
      "3 H u0 p0 c0 {2,S}\n",
      "4 N u2 p1 c0 {1,S}\n",
      "\n",
      "atom N with val 8\n",
      "atom C. with val 7\n",
      "atom N.. with val 6\n",
      "octet deviation: 3\n"
     ]
    },
    {
     "data": {
      "image/png": "[encoded data removed]",
      "text/plain": [
       "Molecule(SMILES=\"N(=[N])[CH]\")"
      ]
     },
     "metadata": {},
     "output_type": "display_data"
    },
    {
     "name": "stdout",
     "output_type": "stream",
     "text": [
      "<Molecule \"N(=[N])[CH]\">\n",
      "multiplicity 4\n",
      "1 N u0 p1 c0 {2,S} {4,D}\n",
      "2 C u2 p0 c0 {1,S} {3,S}\n",
      "3 H u0 p0 c0 {2,S}\n",
      "4 N u1 p1 c0 {1,D}\n",
      "\n",
      "atom N with val 8\n",
      "atom C.. with val 6\n",
      "atom N. with val 7\n",
      "octet deviation: 3\n"
     ]
    },
    {
     "data": {
      "image/png": "[encoded data removed]",
      "text/plain": [
       "Molecule(SMILES=\"[N+](=[CH])[N-]\")"
      ]
     },
     "metadata": {},
     "output_type": "display_data"
    },
    {
     "name": "stdout",
     "output_type": "stream",
     "text": [
      "<Molecule \"[N+](=[CH])[N-]\">\n",
      "multiplicity 4\n",
      "1 N u1 p0 c+1 {2,D} {4,S}\n",
      "2 C u1 p0 c0 {1,D} {3,S}\n",
      "3 H u0 p0 c0 {2,S}\n",
      "4 N u1 p2 c-1 {1,S}\n",
      "\n",
      "atom N.+ with val 7\n",
      "atom C. with val 7\n",
      "atom N.- with val 7\n",
      "octet deviation: 3\n"
     ]
    },
    {
     "data": {
      "image/png": "[encoded data removed]",
      "text/plain": [
       "Molecule(SMILES=\"[N+](=[N-])[CH]\")"
      ]
     },
     "metadata": {},
     "output_type": "display_data"
    },
    {
     "name": "stdout",
     "output_type": "stream",
     "text": [
      "<Molecule \"[N+](=[N-])[CH]\">\n",
      "multiplicity 4\n",
      "1 N u1 p0 c+1 {2,S} {4,D}\n",
      "2 C u2 p0 c0 {1,S} {3,S}\n",
      "3 H u0 p0 c0 {2,S}\n",
      "4 N u0 p2 c-1 {1,D}\n",
      "\n",
      "atom N.+ with val 7\n",
      "atom C.. with val 6\n",
      "atom N- with val 8\n",
      "octet deviation: 3\n",
      "\n",
      "\n",
      "\n",
      "**********\n",
      "Species N(N)[N+](=O)[O-] has 1 reactive resonance structures:\n",
      "\n"
     ]
    },
    {
     "data": {
      "image/png": "[encoded data removed]",
      "text/plain": [
       "Molecule(SMILES=\"N(N)[N+](=O)[O-]\")"
      ]
     },
     "metadata": {},
     "output_type": "display_data"
    },
    {
     "name": "stdout",
     "output_type": "stream",
     "text": [
      "<Molecule \"N(N)[N+](=O)[O-]\">\n",
      "1 N u0 p1 c0 {2,S} {3,S} {4,S}\n",
      "2 N u0 p1 c0 {1,S} {7,S} {8,S}\n",
      "3 N u0 p0 c+1 {1,S} {5,D} {6,S}\n",
      "4 H u0 p0 c0 {1,S}\n",
      "5 O u0 p2 c0 {3,D}\n",
      "6 O u0 p3 c-1 {3,S}\n",
      "7 H u0 p0 c0 {2,S}\n",
      "8 H u0 p0 c0 {2,S}\n",
      "\n",
      "atom N with val 8\n",
      "atom N with val 8\n",
      "atom N+ with val 8\n",
      "atom O with val 8\n",
      "atom O- with val 8\n",
      "octet deviation: 0\n",
      "\n",
      "\n",
      "\n",
      "**********\n",
      "Species [CH2]N=O has 3 reactive resonance structures:\n",
      "\n"
     ]
    },
    {
     "data": {
      "image/png": "[encoded data removed]",
      "text/plain": [
       "Molecule(SMILES=\"[CH2]N=O\")"
      ]
     },
     "metadata": {},
     "output_type": "display_data"
    },
    {
     "name": "stdout",
     "output_type": "stream",
     "text": [
      "<Molecule \"[CH2]N=O\">\n",
      "multiplicity 2\n",
      "1 C u1 p0 c0 {2,S} {3,S} {4,S}\n",
      "2 N u0 p1 c0 {1,S} {5,D}\n",
      "3 H u0 p0 c0 {1,S}\n",
      "4 H u0 p0 c0 {1,S}\n",
      "5 O u0 p2 c0 {2,D}\n",
      "\n",
      "atom C. with val 7\n",
      "atom N with val 8\n",
      "atom O with val 8\n",
      "octet deviation: 1\n"
     ]
    },
    {
     "data": {
      "image/png": "[encoded data removed]",
      "text/plain": [
       "Molecule(SMILES=\"C=N[O]\")"
      ]
     },
     "metadata": {},
     "output_type": "display_data"
    },
    {
     "name": "stdout",
     "output_type": "stream",
     "text": [
      "<Molecule \"C=N[O]\">\n",
      "multiplicity 2\n",
      "1 C u0 p0 c0 {2,D} {3,S} {4,S}\n",
      "2 N u0 p1 c0 {1,D} {5,S}\n",
      "3 H u0 p0 c0 {1,S}\n",
      "4 H u0 p0 c0 {1,S}\n",
      "5 O u1 p2 c0 {2,S}\n",
      "\n",
      "atom C with val 8\n",
      "atom N with val 8\n",
      "atom O. with val 7\n",
      "octet deviation: 1\n"
     ]
    },
    {
     "data": {
      "image/png": "[encoded data removed]",
      "text/plain": [
       "Molecule(SMILES=\"C=[N+][O-]\")"
      ]
     },
     "metadata": {},
     "output_type": "display_data"
    },
    {
     "name": "stdout",
     "output_type": "stream",
     "text": [
      "<Molecule \"C=[N+][O-]\">\n",
      "multiplicity 2\n",
      "1 C u0 p0 c0 {2,D} {3,S} {4,S}\n",
      "2 N u1 p0 c+1 {1,D} {5,S}\n",
      "3 H u0 p0 c0 {1,S}\n",
      "4 H u0 p0 c0 {1,S}\n",
      "5 O u0 p3 c-1 {2,S}\n",
      "\n",
      "atom C with val 8\n",
      "atom N.+ with val 7\n",
      "atom O- with val 8\n",
      "octet deviation: 1\n",
      "\n",
      "\n",
      "\n",
      "**********\n",
      "Species C=[C]C(=O)O[O] has 2 reactive resonance structures:\n",
      "\n"
     ]
    },
    {
     "data": {
      "image/png": "[encoded data removed]",
      "text/plain": [
       "Molecule(SMILES=\"C=[C]C(=O)O[O]\")"
      ]
     },
     "metadata": {},
     "output_type": "display_data"
    },
    {
     "name": "stdout",
     "output_type": "stream",
     "text": [
      "<Molecule \"C=[C]C(=O)O[O]\">\n",
      "multiplicity 3\n",
      "1 C u0 p0 c0 {3,S} {4,S} {5,D}\n",
      "2 C u0 p0 c0 {3,D} {6,S} {7,S}\n",
      "3 C u1 p0 c0 {1,S} {2,D}\n",
      "4 O u0 p2 c0 {1,S} {8,S}\n",
      "5 O u0 p2 c0 {1,D}\n",
      "6 H u0 p0 c0 {2,S}\n",
      "7 H u0 p0 c0 {2,S}\n",
      "8 O u1 p2 c0 {4,S}\n",
      "\n",
      "atom C with val 8\n",
      "atom C with val 8\n",
      "atom C. with val 7\n",
      "atom O with val 8\n",
      "atom O with val 8\n",
      "atom O. with val 7\n",
      "octet deviation: 2\n"
     ]
    },
    {
     "data": {
      "image/png": "[encoded data removed]",
      "text/plain": [
       "Molecule(SMILES=\"C=C=C([O])O[O]\")"
      ]
     },
     "metadata": {},
     "output_type": "display_data"
    },
    {
     "name": "stdout",
     "output_type": "stream",
     "text": [
      "<Molecule \"C=C=C([O])O[O]\">\n",
      "multiplicity 3\n",
      "1 C u0 p0 c0 {3,D} {4,S} {5,S}\n",
      "2 C u0 p0 c0 {3,D} {6,S} {7,S}\n",
      "3 C u0 p0 c0 {1,D} {2,D}\n",
      "4 O u0 p2 c0 {1,S} {8,S}\n",
      "5 O u1 p2 c0 {1,S}\n",
      "6 H u0 p0 c0 {2,S}\n",
      "7 H u0 p0 c0 {2,S}\n",
      "8 O u1 p2 c0 {4,S}\n",
      "\n",
      "atom C with val 8\n",
      "atom C with val 8\n",
      "atom C with val 8\n",
      "atom O with val 8\n",
      "atom O. with val 7\n",
      "atom O. with val 7\n",
      "octet deviation: 2\n",
      "\n",
      "\n",
      "\n",
      "**********\n",
      "Species N#S has 1 reactive resonance structures:\n",
      "\n"
     ]
    },
    {
     "data": {
      "image/png": "[encoded data removed]",
      "text/plain": [
       "Molecule(SMILES=\"S#N\")"
      ]
     },
     "metadata": {},
     "output_type": "display_data"
    },
    {
     "name": "stdout",
     "output_type": "stream",
     "text": [
      "<Molecule \"S#N\">\n",
      "1 S u0 p1 c0 {2,T} {3,S}\n",
      "2 N u0 p1 c0 {1,T}\n",
      "3 H u0 p0 c0 {1,S}\n",
      "\n",
      "atom S with val 10\n",
      "atom N with val 8\n",
      "octet deviation: 0\n",
      "\n",
      "\n",
      "\n",
      "**********\n",
      "Species [O-][N+]#C has 1 reactive resonance structures:\n",
      "\n"
     ]
    },
    {
     "data": {
      "image/png": "[encoded data removed]",
      "text/plain": [
       "Molecule(SMILES=\"[N+](#C)[O-]\")"
      ]
     },
     "metadata": {},
     "output_type": "display_data"
    },
    {
     "name": "stdout",
     "output_type": "stream",
     "text": [
      "<Molecule \"[N+](#C)[O-]\">\n",
      "1 N u0 p0 c+1 {2,T} {3,S}\n",
      "2 C u0 p0 c0 {1,T} {4,S}\n",
      "3 O u0 p3 c-1 {1,S}\n",
      "4 H u0 p0 c0 {2,S}\n",
      "\n",
      "atom N+ with val 8\n",
      "atom C with val 8\n",
      "atom O- with val 8\n",
      "octet deviation: 0\n",
      "\n",
      "\n",
      "\n",
      "**********\n",
      "Species [N]=C=O has 2 reactive resonance structures:\n",
      "\n"
     ]
    },
    {
     "data": {
      "image/png": "[encoded data removed]",
      "text/plain": [
       "Molecule(SMILES=\"C(=[N])=O\")"
      ]
     },
     "metadata": {},
     "output_type": "display_data"
    },
    {
     "name": "stdout",
     "output_type": "stream",
     "text": [
      "<Molecule \"C(=[N])=O\">\n",
      "multiplicity 2\n",
      "1 C u0 p0 c0 {2,D} {3,D}\n",
      "2 N u1 p1 c0 {1,D}\n",
      "3 O u0 p2 c0 {1,D}\n",
      "\n",
      "atom C with val 8\n",
      "atom N. with val 7\n",
      "atom O with val 8\n",
      "octet deviation: 1\n"
     ]
    },
    {
     "data": {
      "image/png": "[encoded data removed]",
      "text/plain": [
       "Molecule(SMILES=\"C(#N)[O]\")"
      ]
     },
     "metadata": {},
     "output_type": "display_data"
    },
    {
     "name": "stdout",
     "output_type": "stream",
     "text": [
      "<Molecule \"C(#N)[O]\">\n",
      "multiplicity 2\n",
      "1 C u0 p0 c0 {2,T} {3,S}\n",
      "2 N u0 p1 c0 {1,T}\n",
      "3 O u1 p2 c0 {1,S}\n",
      "\n",
      "atom C with val 8\n",
      "atom N with val 8\n",
      "atom O. with val 7\n",
      "octet deviation: 1\n",
      "\n",
      "\n",
      "\n",
      "**********\n",
      "Species [CH]1C=NC=N1 has 3 reactive resonance structures:\n",
      "\n"
     ]
    },
    {
     "data": {
      "image/png": "[encoded data removed]",
      "text/plain": [
       "Molecule(SMILES=\"[CH]1C=NC=N1\")"
      ]
     },
     "metadata": {},
     "output_type": "display_data"
    },
    {
     "name": "stdout",
     "output_type": "stream",
     "text": [
      "<Molecule \"[CH]1C=NC=N1\">\n",
      "multiplicity 2\n",
      "1 C u1 p0 c0 {2,S} {5,S} {6,S}\n",
      "2 C u0 p0 c0 {1,S} {4,D} {7,S}\n",
      "3 C u0 p0 c0 {4,S} {5,D} {8,S}\n",
      "4 N u0 p1 c0 {2,D} {3,S}\n",
      "5 N u0 p1 c0 {1,S} {3,D}\n",
      "6 H u0 p0 c0 {1,S}\n",
      "7 H u0 p0 c0 {2,S}\n",
      "8 H u0 p0 c0 {3,S}\n",
      "\n",
      "atom C. with val 7\n",
      "atom C with val 8\n",
      "atom C with val 8\n",
      "atom N with val 8\n",
      "atom N with val 8\n",
      "octet deviation: 1\n"
     ]
    },
    {
     "data": {
      "image/png": "[encoded data removed]",
      "text/plain": [
       "Molecule(SMILES=\"C1=N[CH]N=C1\")"
      ]
     },
     "metadata": {},
     "output_type": "display_data"
    },
    {
     "name": "stdout",
     "output_type": "stream",
     "text": [
      "<Molecule \"C1=N[CH]N=C1\">\n",
      "multiplicity 2\n",
      "1 C u0 p0 c0 {2,S} {5,D} {6,S}\n",
      "2 C u0 p0 c0 {1,S} {4,D} {7,S}\n",
      "3 C u1 p0 c0 {4,S} {5,S} {8,S}\n",
      "4 N u0 p1 c0 {2,D} {3,S}\n",
      "5 N u0 p1 c0 {1,D} {3,S}\n",
      "6 H u0 p0 c0 {1,S}\n",
      "7 H u0 p0 c0 {2,S}\n",
      "8 H u0 p0 c0 {3,S}\n",
      "\n",
      "atom C with val 8\n",
      "atom C with val 8\n",
      "atom C. with val 7\n",
      "atom N with val 8\n",
      "atom N with val 8\n",
      "octet deviation: 1\n"
     ]
    },
    {
     "data": {
      "image/png": "[encoded data removed]",
      "text/plain": [
       "Molecule(SMILES=\"c1c[n]cn1\")"
      ]
     },
     "metadata": {},
     "output_type": "display_data"
    },
    {
     "name": "stdout",
     "output_type": "stream",
     "text": [
      "<Molecule \"c1c[n]cn1\">\n",
      "multiplicity 2\n",
      "1 C u0 p0 c0 {2,D} {5,S} {6,S}\n",
      "2 C u0 p0 c0 {1,D} {4,S} {7,S}\n",
      "3 C u0 p0 c0 {4,S} {5,D} {8,S}\n",
      "4 N u1 p1 c0 {2,S} {3,S}\n",
      "5 N u0 p1 c0 {1,S} {3,D}\n",
      "6 H u0 p0 c0 {1,S}\n",
      "7 H u0 p0 c0 {2,S}\n",
      "8 H u0 p0 c0 {3,S}\n",
      "\n",
      "atom C with val 8\n",
      "atom C with val 8\n",
      "atom C with val 8\n",
      "atom N. with val 7\n",
      "atom N with val 8\n",
      "octet deviation: 1\n",
      "\n",
      "\n",
      "\n",
      "**********\n",
      "Species C=C[CH][O] has 3 reactive resonance structures:\n",
      "\n"
     ]
    },
    {
     "data": {
      "image/png": "[encoded data removed]",
      "text/plain": [
       "Molecule(SMILES=\"C=C[CH][O]\")"
      ]
     },
     "metadata": {},
     "output_type": "display_data"
    },
    {
     "name": "stdout",
     "output_type": "stream",
     "text": [
      "<Molecule \"C=C[CH][O]\">\n",
      "multiplicity 3\n",
      "1 C u0 p0 c0 {2,D} {3,S} {4,S}\n",
      "2 C u0 p0 c0 {1,D} {7,S} {8,S}\n",
      "3 C u1 p0 c0 {1,S} {5,S} {6,S}\n",
      "4 H u0 p0 c0 {1,S}\n",
      "5 H u0 p0 c0 {3,S}\n",
      "6 O u1 p2 c0 {3,S}\n",
      "7 H u0 p0 c0 {2,S}\n",
      "8 H u0 p0 c0 {2,S}\n",
      "\n",
      "atom C with val 8\n",
      "atom C with val 8\n",
      "atom C. with val 7\n",
      "atom O. with val 7\n",
      "octet deviation: 2\n"
     ]
    },
    {
     "data": {
      "image/png": "[encoded data removed]",
      "text/plain": [
       "Molecule(SMILES=\"[CH2]C=C[O]\")"
      ]
     },
     "metadata": {},
     "output_type": "display_data"
    },
    {
     "name": "stdout",
     "output_type": "stream",
     "text": [
      "<Molecule \"[CH2]C=C[O]\">\n",
      "multiplicity 3\n",
      "1 C u0 p0 c0 {2,S} {3,D} {4,S}\n",
      "2 C u1 p0 c0 {1,S} {7,S} {8,S}\n",
      "3 C u0 p0 c0 {1,D} {5,S} {6,S}\n",
      "4 H u0 p0 c0 {1,S}\n",
      "5 H u0 p0 c0 {3,S}\n",
      "6 O u1 p2 c0 {3,S}\n",
      "7 H u0 p0 c0 {2,S}\n",
      "8 H u0 p0 c0 {2,S}\n",
      "\n",
      "atom C with val 8\n",
      "atom C. with val 7\n",
      "atom C with val 8\n",
      "atom O. with val 7\n",
      "octet deviation: 2\n"
     ]
    },
    {
     "data": {
      "image/png": "[encoded data removed]",
      "text/plain": [
       "Molecule(SMILES=\"[CH2][CH]C=O\")"
      ]
     },
     "metadata": {},
     "output_type": "display_data"
    },
    {
     "name": "stdout",
     "output_type": "stream",
     "text": [
      "<Molecule \"[CH2][CH]C=O\">\n",
      "multiplicity 3\n",
      "1 C u1 p0 c0 {2,S} {3,S} {4,S}\n",
      "2 C u1 p0 c0 {1,S} {7,S} {8,S}\n",
      "3 C u0 p0 c0 {1,S} {5,S} {6,D}\n",
      "4 H u0 p0 c0 {1,S}\n",
      "5 H u0 p0 c0 {3,S}\n",
      "6 O u0 p2 c0 {3,D}\n",
      "7 H u0 p0 c0 {2,S}\n",
      "8 H u0 p0 c0 {2,S}\n",
      "\n",
      "atom C. with val 7\n",
      "atom C. with val 7\n",
      "atom C with val 8\n",
      "atom O with val 8\n",
      "octet deviation: 2\n",
      "\n",
      "\n",
      "\n",
      "**********\n",
      "Species C1=C[CH]CC1([O]) has 2 reactive resonance structures:\n",
      "\n"
     ]
    },
    {
     "data": {
      "image/png": "[encoded data removed]",
      "text/plain": [
       "Molecule(SMILES=\"[O]C1C=C[CH]C1\")"
      ]
     },
     "metadata": {},
     "output_type": "display_data"
    },
    {
     "name": "stdout",
     "output_type": "stream",
     "text": [
      "<Molecule \"[O]C1C=C[CH]C1\">\n",
      "multiplicity 3\n",
      "1  C u0 p0 c0 {2,S} {4,S} {7,S} {8,S}\n",
      "2  C u0 p0 c0 {1,S} {3,S} {6,S} {9,S}\n",
      "3  C u0 p0 c0 {2,S} {5,D} {11,S}\n",
      "4  C u1 p0 c0 {1,S} {5,S} {10,S}\n",
      "5  C u0 p0 c0 {3,D} {4,S} {12,S}\n",
      "6  O u1 p2 c0 {2,S}\n",
      "7  H u0 p0 c0 {1,S}\n",
      "8  H u0 p0 c0 {1,S}\n",
      "9  H u0 p0 c0 {2,S}\n",
      "10 H u0 p0 c0 {4,S}\n",
      "11 H u0 p0 c0 {3,S}\n",
      "12 H u0 p0 c0 {5,S}\n",
      "\n",
      "atom C with val 8\n",
      "atom C with val 8\n",
      "atom C with val 8\n",
      "atom C. with val 7\n",
      "atom C with val 8\n",
      "atom O. with val 7\n",
      "octet deviation: 2\n"
     ]
    },
    {
     "data": {
      "image/png": "[encoded data removed]",
      "text/plain": [
       "Molecule(SMILES=\"[O]C1[CH]C=CC1\")"
      ]
     },
     "metadata": {},
     "output_type": "display_data"
    },
    {
     "name": "stdout",
     "output_type": "stream",
     "text": [
      "<Molecule \"[O]C1[CH]C=CC1\">\n",
      "multiplicity 3\n",
      "1  C u0 p0 c0 {2,S} {4,S} {7,S} {8,S}\n",
      "2  C u0 p0 c0 {1,S} {3,S} {6,S} {9,S}\n",
      "3  C u1 p0 c0 {2,S} {5,S} {11,S}\n",
      "4  C u0 p0 c0 {1,S} {5,D} {10,S}\n",
      "5  C u0 p0 c0 {3,S} {4,D} {12,S}\n",
      "6  O u1 p2 c0 {2,S}\n",
      "7  H u0 p0 c0 {1,S}\n",
      "8  H u0 p0 c0 {1,S}\n",
      "9  H u0 p0 c0 {2,S}\n",
      "10 H u0 p0 c0 {4,S}\n",
      "11 H u0 p0 c0 {3,S}\n",
      "12 H u0 p0 c0 {5,S}\n",
      "\n",
      "atom C with val 8\n",
      "atom C with val 8\n",
      "atom C. with val 7\n",
      "atom C with val 8\n",
      "atom C with val 8\n",
      "atom O. with val 7\n",
      "octet deviation: 2\n",
      "\n",
      "\n",
      "\n",
      "**********\n",
      "Species [NH2+]=[N-] has 1 reactive resonance structures:\n",
      "\n"
     ]
    },
    {
     "data": {
      "image/png": "[encoded data removed]",
      "text/plain": [
       "Molecule(SMILES=\"[NH2+]=[N-]\")"
      ]
     },
     "metadata": {},
     "output_type": "display_data"
    },
    {
     "name": "stdout",
     "output_type": "stream",
     "text": [
      "<Molecule \"[NH2+]=[N-]\">\n",
      "1 N u0 p0 c+1 {2,S} {3,S} {4,D}\n",
      "2 H u0 p0 c0 {1,S}\n",
      "3 H u0 p0 c0 {1,S}\n",
      "4 N u0 p2 c-1 {1,D}\n",
      "\n",
      "atom N+ with val 8\n",
      "atom N- with val 8\n",
      "octet deviation: 0\n",
      "\n",
      "\n",
      "\n",
      "**********\n",
      "Species N[NH] has 2 reactive resonance structures:\n",
      "\n"
     ]
    },
    {
     "data": {
      "image/png": "[encoded data removed]",
      "text/plain": [
       "Molecule(SMILES=\"N[NH]\")"
      ]
     },
     "metadata": {},
     "output_type": "display_data"
    },
    {
     "name": "stdout",
     "output_type": "stream",
     "text": [
      "<Molecule \"N[NH]\">\n",
      "multiplicity 2\n",
      "1 N u0 p1 c0 {2,S} {3,S} {4,S}\n",
      "2 N u1 p1 c0 {1,S} {5,S}\n",
      "3 H u0 p0 c0 {1,S}\n",
      "4 H u0 p0 c0 {1,S}\n",
      "5 H u0 p0 c0 {2,S}\n",
      "\n",
      "atom N with val 8\n",
      "atom N. with val 7\n",
      "octet deviation: 1\n"
     ]
    },
    {
     "data": {
      "image/png": "[encoded data removed]",
      "text/plain": [
       "Molecule(SMILES=\"[NH2+][NH-]\")"
      ]
     },
     "metadata": {},
     "output_type": "display_data"
    },
    {
     "name": "stdout",
     "output_type": "stream",
     "text": [
      "<Molecule \"[NH2+][NH-]\">\n",
      "multiplicity 2\n",
      "1 N u1 p0 c+1 {2,S} {3,S} {4,S}\n",
      "2 N u0 p2 c-1 {1,S} {5,S}\n",
      "3 H u0 p0 c0 {1,S}\n",
      "4 H u0 p0 c0 {1,S}\n",
      "5 H u0 p0 c0 {2,S}\n",
      "\n",
      "atom N.+ with val 7\n",
      "atom N- with val 8\n",
      "octet deviation: 1\n",
      "\n",
      "\n",
      "\n",
      "**********\n",
      "Species [N]=NON=O has 2 reactive resonance structures:\n",
      "\n"
     ]
    },
    {
     "data": {
      "image/png": "[encoded data removed]",
      "text/plain": [
       "Molecule(SMILES=\"O(N=[N])N=O\")"
      ]
     },
     "metadata": {},
     "output_type": "display_data"
    },
    {
     "name": "stdout",
     "output_type": "stream",
     "text": [
      "<Molecule \"O(N=[N])N=O\">\n",
      "multiplicity 2\n",
      "1 O u0 p2 c0 {2,S} {3,S}\n",
      "2 N u0 p1 c0 {1,S} {4,D}\n",
      "3 N u0 p1 c0 {1,S} {5,D}\n",
      "4 N u1 p1 c0 {2,D}\n",
      "5 O u0 p2 c0 {3,D}\n",
      "\n",
      "atom O with val 8\n",
      "atom N with val 8\n",
      "atom N with val 8\n",
      "atom N. with val 7\n",
      "atom O with val 8\n",
      "octet deviation: 1\n"
     ]
    },
    {
     "data": {
      "image/png": "[encoded data removed]",
      "text/plain": [
       "Molecule(SMILES=\"O([N+]=[N-])N=O\")"
      ]
     },
     "metadata": {},
     "output_type": "display_data"
    },
    {
     "name": "stdout",
     "output_type": "stream",
     "text": [
      "<Molecule \"O([N+]=[N-])N=O\">\n",
      "multiplicity 2\n",
      "1 O u0 p2 c0 {2,S} {3,S}\n",
      "2 N u1 p0 c+1 {1,S} {4,D}\n",
      "3 N u0 p1 c0 {1,S} {5,D}\n",
      "4 N u0 p2 c-1 {2,D}\n",
      "5 O u0 p2 c0 {3,D}\n",
      "\n",
      "atom O with val 8\n",
      "atom N.+ with val 7\n",
      "atom N with val 8\n",
      "atom N- with val 8\n",
      "atom O with val 8\n",
      "octet deviation: 1\n",
      "\n",
      "\n",
      "\n",
      "**********\n",
      "Species [NH-][N+]#N has 2 reactive resonance structures:\n",
      "\n"
     ]
    },
    {
     "data": {
      "image/png": "[encoded data removed]",
      "text/plain": [
       "Molecule(SMILES=\"[NH-][N+]#N\")"
      ]
     },
     "metadata": {},
     "output_type": "display_data"
    },
    {
     "name": "stdout",
     "output_type": "stream",
     "text": [
      "<Molecule \"[NH-][N+]#N\">\n",
      "1 N u0 p2 c-1 {2,S} {3,S}\n",
      "2 N u0 p0 c+1 {1,S} {4,T}\n",
      "3 H u0 p0 c0 {1,S}\n",
      "4 N u0 p1 c0 {2,T}\n",
      "\n",
      "atom N- with val 8\n",
      "atom N+ with val 8\n",
      "atom N with val 8\n",
      "octet deviation: 0\n"
     ]
    },
    {
     "data": {
      "image/png": "[encoded data removed]",
      "text/plain": [
       "Molecule(SMILES=\"N=[N+]=[N-]\")"
      ]
     },
     "metadata": {},
     "output_type": "display_data"
    },
    {
     "name": "stdout",
     "output_type": "stream",
     "text": [
      "<Molecule \"N=[N+]=[N-]\">\n",
      "1 N u0 p1 c0 {2,D} {3,S}\n",
      "2 N u0 p0 c+1 {1,D} {4,D}\n",
      "3 H u0 p0 c0 {1,S}\n",
      "4 N u0 p2 c-1 {2,D}\n",
      "\n",
      "atom N with val 8\n",
      "atom N+ with val 8\n",
      "atom N- with val 8\n",
      "octet deviation: 0\n",
      "\n",
      "\n",
      "\n",
      "**********\n",
      "Species CS[S+]([O-])C has 1 reactive resonance structures:\n",
      "\n"
     ]
    },
    {
     "data": {
      "image/png": "[encoded data removed]",
      "text/plain": [
       "Molecule(SMILES=\"CS(=O)SC\")"
      ]
     },
     "metadata": {},
     "output_type": "display_data"
    },
    {
     "name": "stdout",
     "output_type": "stream",
     "text": [
      "<Molecule \"CS(=O)SC\">\n",
      "1  C u0 p0 c0 {3,S} {5,S} {6,S} {7,S}\n",
      "2  C u0 p0 c0 {4,S} {8,S} {9,S} {10,S}\n",
      "3  S u0 p1 c0 {1,S} {4,S} {11,D}\n",
      "4  S u0 p2 c0 {2,S} {3,S}\n",
      "5  H u0 p0 c0 {1,S}\n",
      "6  H u0 p0 c0 {1,S}\n",
      "7  H u0 p0 c0 {1,S}\n",
      "8  H u0 p0 c0 {2,S}\n",
      "9  H u0 p0 c0 {2,S}\n",
      "10 H u0 p0 c0 {2,S}\n",
      "11 O u0 p2 c0 {3,D}\n",
      "\n",
      "atom C with val 8\n",
      "atom C with val 8\n",
      "atom S with val 10\n",
      "atom S with val 8\n",
      "atom O with val 8\n",
      "octet deviation: 0\n"
     ]
    },
    {
     "data": {
      "image/png": "[encoded data removed]",
      "text/plain": [
       "Molecule(SMILES=\"C[S+](SC)[O-]\")"
      ]
     },
     "metadata": {},
     "output_type": "display_data"
    },
    {
     "name": "stdout",
     "output_type": "stream",
     "text": [
      "<Molecule \"C[S+](SC)[O-]\">\n",
      "1  C u0 p0 c0 {3,S} {5,S} {6,S} {7,S}\n",
      "2  C u0 p0 c0 {4,S} {8,S} {9,S} {10,S}\n",
      "3  S u0 p1 c+1 {1,S} {4,S} {11,S}\n",
      "4  S u0 p2 c0 {2,S} {3,S}\n",
      "5  H u0 p0 c0 {1,S}\n",
      "6  H u0 p0 c0 {1,S}\n",
      "7  H u0 p0 c0 {1,S}\n",
      "8  H u0 p0 c0 {2,S}\n",
      "9  H u0 p0 c0 {2,S}\n",
      "10 H u0 p0 c0 {2,S}\n",
      "11 O u0 p3 c-1 {3,S}\n",
      "\n",
      "atom C with val 8\n",
      "atom C with val 8\n",
      "atom S+ with val 8\n",
      "atom S with val 8\n",
      "atom O- with val 8\n",
      "octet deviation: 0\n",
      "reactive = False\n",
      "\n",
      "\n",
      "\n",
      "**********\n",
      "Species N#[N+][S-](O)O has 3 reactive resonance structures:\n",
      "\n"
     ]
    },
    {
     "data": {
      "image/png": "[encoded data removed]",
      "text/plain": [
       "Molecule(SMILES=\"[S-]([N+]#N)(O)O\")"
      ]
     },
     "metadata": {},
     "output_type": "display_data"
    },
    {
     "name": "stdout",
     "output_type": "stream",
     "text": [
      "<Molecule \"[S-]([N+]#N)(O)O\">\n",
      "1 S u0 p2 c-1 {2,S} {3,S} {4,S}\n",
      "2 N u0 p0 c+1 {1,S} {5,T}\n",
      "3 O u0 p2 c0 {1,S} {6,S}\n",
      "4 O u0 p2 c0 {1,S} {7,S}\n",
      "5 N u0 p1 c0 {2,T}\n",
      "6 H u0 p0 c0 {3,S}\n",
      "7 H u0 p0 c0 {4,S}\n",
      "\n",
      "atom S- with val 10\n",
      "atom N+ with val 8\n",
      "atom O with val 8\n",
      "atom O with val 8\n",
      "atom N with val 8\n",
      "octet deviation: 0\n"
     ]
    },
    {
     "data": {
      "image/png": "[encoded data removed]",
      "text/plain": [
       "Molecule(SMILES=\"S(=[N+]=[N-])(O)O\")"
      ]
     },
     "metadata": {},
     "output_type": "display_data"
    },
    {
     "name": "stdout",
     "output_type": "stream",
     "text": [
      "<Molecule \"S(=[N+]=[N-])(O)O\">\n",
      "1 S u0 p1 c0 {2,D} {3,S} {4,S}\n",
      "2 N u0 p0 c+1 {1,D} {5,D}\n",
      "3 O u0 p2 c0 {1,S} {6,S}\n",
      "4 O u0 p2 c0 {1,S} {7,S}\n",
      "5 N u0 p2 c-1 {2,D}\n",
      "6 H u0 p0 c0 {3,S}\n",
      "7 H u0 p0 c0 {4,S}\n",
      "\n",
      "atom S with val 10\n",
      "atom N+ with val 8\n",
      "atom O with val 8\n",
      "atom O with val 8\n",
      "atom N- with val 8\n",
      "octet deviation: 0\n"
     ]
    },
    {
     "data": {
      "image/png": "[encoded data removed]",
      "text/plain": [
       "Molecule(SMILES=\"[S+](N=[N-])(O)O\")"
      ]
     },
     "metadata": {},
     "output_type": "display_data"
    },
    {
     "name": "stdout",
     "output_type": "stream",
     "text": [
      "<Molecule \"[S+](N=[N-])(O)O\">\n",
      "1 S u0 p1 c+1 {2,S} {3,S} {4,S}\n",
      "2 N u0 p1 c0 {1,S} {5,D}\n",
      "3 O u0 p2 c0 {1,S} {6,S}\n",
      "4 O u0 p2 c0 {1,S} {7,S}\n",
      "5 N u0 p2 c-1 {2,D}\n",
      "6 H u0 p0 c0 {3,S}\n",
      "7 H u0 p0 c0 {4,S}\n",
      "\n",
      "atom S+ with val 8\n",
      "atom N with val 8\n",
      "atom O with val 8\n",
      "atom O with val 8\n",
      "atom N- with val 8\n",
      "octet deviation: 0\n",
      "\n",
      "\n",
      "\n",
      "**********\n",
      "Species [S-][S+]=S has 1 reactive resonance structures:\n",
      "\n"
     ]
    },
    {
     "data": {
      "image/png": "[encoded data removed]",
      "text/plain": [
       "Molecule(SMILES=\"S(=S)=S\")"
      ]
     },
     "metadata": {},
     "output_type": "display_data"
    },
    {
     "name": "stdout",
     "output_type": "stream",
     "text": [
      "<Molecule \"S(=S)=S\">\n",
      "1 S u0 p1 c0 {2,D} {3,D}\n",
      "2 S u0 p2 c0 {1,D}\n",
      "3 S u0 p2 c0 {1,D}\n",
      "\n",
      "atom S with val 10\n",
      "atom S with val 8\n",
      "atom S with val 8\n",
      "octet deviation: 0\n"
     ]
    },
    {
     "data": {
      "image/png": "[encoded data removed]",
      "text/plain": [
       "Molecule(SMILES=\"[S+](=S)[S-]\")"
      ]
     },
     "metadata": {},
     "output_type": "display_data"
    },
    {
     "name": "stdout",
     "output_type": "stream",
     "text": [
      "<Molecule \"[S+](=S)[S-]\">\n",
      "1 S u0 p1 c+1 {2,S} {3,D}\n",
      "2 S u0 p3 c-1 {1,S}\n",
      "3 S u0 p2 c0 {1,D}\n",
      "\n",
      "atom S+ with val 8\n",
      "atom S- with val 8\n",
      "atom S with val 8\n",
      "octet deviation: 0\n",
      "reactive = False\n",
      "\n",
      "\n",
      "\n",
      "**********\n",
      "Species [O-][O+]=O has 1 reactive resonance structures:\n",
      "\n"
     ]
    },
    {
     "data": {
      "image/png": "[encoded data removed]",
      "text/plain": [
       "Molecule(SMILES=\"[O-][O+]=O\")"
      ]
     },
     "metadata": {},
     "output_type": "display_data"
    },
    {
     "name": "stdout",
     "output_type": "stream",
     "text": [
      "<Molecule \"[O-][O+]=O\">\n",
      "1 O u0 p1 c+1 {2,S} {3,D}\n",
      "2 O u0 p3 c-1 {1,S}\n",
      "3 O u0 p2 c0 {1,D}\n",
      "\n",
      "atom O+ with val 8\n",
      "penalty for O4sc, O4dc, O4tc\n",
      "atom O- with val 8\n",
      "atom O with val 8\n",
      "octet deviation: 1\n",
      "\n",
      "\n",
      "\n",
      "**********\n",
      "Species OS(=O)[O] has 2 reactive resonance structures:\n",
      "\n"
     ]
    },
    {
     "data": {
      "image/png": "[encoded data removed]",
      "text/plain": [
       "Molecule(SMILES=\"S(=O)(O)[O]\")"
      ]
     },
     "metadata": {},
     "output_type": "display_data"
    },
    {
     "name": "stdout",
     "output_type": "stream",
     "text": [
      "<Molecule \"S(=O)(O)[O]\">\n",
      "multiplicity 2\n",
      "1 S u0 p1 c0 {2,S} {3,D} {4,S}\n",
      "2 O u0 p2 c0 {1,S} {5,S}\n",
      "3 O u0 p2 c0 {1,D}\n",
      "4 O u1 p2 c0 {1,S}\n",
      "5 H u0 p0 c0 {2,S}\n",
      "\n",
      "atom S with val 10\n",
      "atom O with val 8\n",
      "atom O with val 8\n",
      "atom O. with val 7\n",
      "octet deviation: 1\n"
     ]
    },
    {
     "data": {
      "image/png": "[encoded data removed]",
      "text/plain": [
       "Molecule(SMILES=\"[S](=O)(=O)O\")"
      ]
     },
     "metadata": {},
     "output_type": "display_data"
    },
    {
     "name": "stdout",
     "output_type": "stream",
     "text": [
      "<Molecule \"[S](=O)(=O)O\">\n",
      "multiplicity 2\n",
      "1 S u1 p0 c0 {2,S} {3,D} {4,D}\n",
      "2 O u0 p2 c0 {1,S} {5,S}\n",
      "3 O u0 p2 c0 {1,D}\n",
      "4 O u0 p2 c0 {1,D}\n",
      "5 H u0 p0 c0 {2,S}\n",
      "\n",
      "atom S. with val 11\n",
      "atom O with val 8\n",
      "atom O with val 8\n",
      "atom O with val 8\n",
      "octet deviation: 1\n",
      "\n",
      "\n",
      "\n",
      "**********\n",
      "Species CN[NH] has 2 reactive resonance structures:\n",
      "\n"
     ]
    },
    {
     "data": {
      "image/png": "[encoded data removed]",
      "text/plain": [
       "Molecule(SMILES=\"CN[NH]\")"
      ]
     },
     "metadata": {},
     "output_type": "display_data"
    },
    {
     "name": "stdout",
     "output_type": "stream",
     "text": [
      "<Molecule \"CN[NH]\">\n",
      "multiplicity 2\n",
      "1 C u0 p0 c0 {2,S} {4,S} {5,S} {6,S}\n",
      "2 N u0 p1 c0 {1,S} {3,S} {7,S}\n",
      "3 N u1 p1 c0 {2,S} {8,S}\n",
      "4 H u0 p0 c0 {1,S}\n",
      "5 H u0 p0 c0 {1,S}\n",
      "6 H u0 p0 c0 {1,S}\n",
      "7 H u0 p0 c0 {2,S}\n",
      "8 H u0 p0 c0 {3,S}\n",
      "\n",
      "atom C with val 8\n",
      "atom N with val 8\n",
      "atom N. with val 7\n",
      "octet deviation: 1\n"
     ]
    },
    {
     "data": {
      "image/png": "[encoded data removed]",
      "text/plain": [
       "Molecule(SMILES=\"C[NH+][NH-]\")"
      ]
     },
     "metadata": {},
     "output_type": "display_data"
    },
    {
     "name": "stdout",
     "output_type": "stream",
     "text": [
      "<Molecule \"C[NH+][NH-]\">\n",
      "multiplicity 2\n",
      "1 C u0 p0 c0 {2,S} {4,S} {5,S} {6,S}\n",
      "2 N u1 p0 c+1 {1,S} {3,S} {7,S}\n",
      "3 N u0 p2 c-1 {2,S} {8,S}\n",
      "4 H u0 p0 c0 {1,S}\n",
      "5 H u0 p0 c0 {1,S}\n",
      "6 H u0 p0 c0 {1,S}\n",
      "7 H u0 p0 c0 {2,S}\n",
      "8 H u0 p0 c0 {3,S}\n",
      "\n",
      "atom C with val 8\n",
      "atom N.+ with val 7\n",
      "atom N- with val 8\n",
      "octet deviation: 1\n",
      "\n",
      "\n",
      "\n",
      "**********\n",
      "Species CO[O] has 1 reactive resonance structures:\n",
      "\n"
     ]
    },
    {
     "data": {
      "image/png": "[encoded data removed]",
      "text/plain": [
       "Molecule(SMILES=\"CO[O]\")"
      ]
     },
     "metadata": {},
     "output_type": "display_data"
    },
    {
     "name": "stdout",
     "output_type": "stream",
     "text": [
      "<Molecule \"CO[O]\">\n",
      "multiplicity 2\n",
      "1 C u0 p0 c0 {2,S} {3,S} {4,S} {5,S}\n",
      "2 O u0 p2 c0 {1,S} {6,S}\n",
      "3 H u0 p0 c0 {1,S}\n",
      "4 H u0 p0 c0 {1,S}\n",
      "5 H u0 p0 c0 {1,S}\n",
      "6 O u1 p2 c0 {2,S}\n",
      "\n",
      "atom C with val 8\n",
      "atom O with val 8\n",
      "atom O. with val 7\n",
      "octet deviation: 1\n",
      "\n",
      "\n",
      "\n",
      "**********\n",
      "Species OS[O] has 2 reactive resonance structures:\n",
      "\n"
     ]
    },
    {
     "data": {
      "image/png": "[encoded data removed]",
      "text/plain": [
       "Molecule(SMILES=\"OS[O]\")"
      ]
     },
     "metadata": {},
     "output_type": "display_data"
    },
    {
     "name": "stdout",
     "output_type": "stream",
     "text": [
      "<Molecule \"OS[O]\">\n",
      "multiplicity 2\n",
      "1 O u0 p2 c0 {2,S} {4,S}\n",
      "2 S u0 p2 c0 {1,S} {3,S}\n",
      "3 O u1 p2 c0 {2,S}\n",
      "4 H u0 p0 c0 {1,S}\n",
      "\n",
      "atom O with val 8\n",
      "atom S with val 8\n",
      "atom O. with val 7\n",
      "octet deviation: 1\n"
     ]
    },
    {
     "data": {
      "image/png": "[encoded data removed]",
      "text/plain": [
       "Molecule(SMILES=\"O[S]=O\")"
      ]
     },
     "metadata": {},
     "output_type": "display_data"
    },
    {
     "name": "stdout",
     "output_type": "stream",
     "text": [
      "<Molecule \"O[S]=O\">\n",
      "multiplicity 2\n",
      "1 O u0 p2 c0 {2,S} {4,S}\n",
      "2 S u1 p1 c0 {1,S} {3,D}\n",
      "3 O u0 p2 c0 {2,D}\n",
      "4 H u0 p0 c0 {1,S}\n",
      "\n",
      "atom O with val 8\n",
      "atom S. with val 9\n",
      "atom O with val 8\n",
      "octet deviation: 1\n",
      "\n",
      "\n",
      "\n",
      "**********\n",
      "Species S[O] has 2 reactive resonance structures:\n",
      "\n"
     ]
    },
    {
     "data": {
      "image/png": "[encoded data removed]",
      "text/plain": [
       "Molecule(SMILES=\"S[O]\")"
      ]
     },
     "metadata": {},
     "output_type": "display_data"
    },
    {
     "name": "stdout",
     "output_type": "stream",
     "text": [
      "<Molecule \"S[O]\">\n",
      "multiplicity 2\n",
      "1 S u0 p2 c0 {2,S} {3,S}\n",
      "2 O u1 p2 c0 {1,S}\n",
      "3 H u0 p0 c0 {1,S}\n",
      "\n",
      "atom S with val 8\n",
      "atom O. with val 7\n",
      "octet deviation: 1\n"
     ]
    },
    {
     "data": {
      "image/png": "[encoded data removed]",
      "text/plain": [
       "Molecule(SMILES=\"[SH]=O\")"
      ]
     },
     "metadata": {},
     "output_type": "display_data"
    },
    {
     "name": "stdout",
     "output_type": "stream",
     "text": [
      "<Molecule \"[SH]=O\">\n",
      "multiplicity 2\n",
      "1 S u1 p1 c0 {2,D} {3,S}\n",
      "2 O u0 p2 c0 {1,D}\n",
      "3 H u0 p0 c0 {1,S}\n",
      "\n",
      "atom S. with val 9\n",
      "atom O with val 8\n",
      "octet deviation: 1\n",
      "\n",
      "\n",
      "\n",
      "**********\n",
      "Species N#[SH] has 1 reactive resonance structures:\n",
      "\n"
     ]
    },
    {
     "data": {
      "image/png": "[encoded data removed]",
      "text/plain": [
       "Molecule(SMILES=\"S#N\")"
      ]
     },
     "metadata": {},
     "output_type": "display_data"
    },
    {
     "name": "stdout",
     "output_type": "stream",
     "text": [
      "<Molecule \"S#N\">\n",
      "1 S u0 p1 c0 {2,T} {3,S}\n",
      "2 N u0 p1 c0 {1,T}\n",
      "3 H u0 p0 c0 {1,S}\n",
      "\n",
      "atom S with val 10\n",
      "atom N with val 8\n",
      "octet deviation: 0\n",
      "\n",
      "\n",
      "\n",
      "**********\n",
      "Species [S-]#[NH+] has 1 reactive resonance structures:\n",
      "\n"
     ]
    },
    {
     "data": {
      "image/png": "[encoded data removed]",
      "text/plain": [
       "Molecule(SMILES=\"N=S\")"
      ]
     },
     "metadata": {},
     "output_type": "display_data"
    },
    {
     "name": "stdout",
     "output_type": "stream",
     "text": [
      "<Molecule \"N=S\">\n",
      "1 N u0 p1 c0 {2,D} {3,S}\n",
      "2 S u0 p2 c0 {1,D}\n",
      "3 H u0 p0 c0 {1,S}\n",
      "\n",
      "atom N with val 8\n",
      "atom S with val 8\n",
      "octet deviation: 0\n"
     ]
    },
    {
     "data": {
      "image/png": "[encoded data removed]",
      "text/plain": [
       "Molecule(SMILES=\"[NH+]#[S-]\")"
      ]
     },
     "metadata": {},
     "output_type": "display_data"
    },
    {
     "name": "stdout",
     "output_type": "stream",
     "text": [
      "<Molecule \"[NH+]#[S-]\">\n",
      "1 N u0 p0 c+1 {2,T} {3,S}\n",
      "2 S u0 p2 c-1 {1,T}\n",
      "3 H u0 p0 c0 {1,S}\n",
      "\n",
      "atom N+ with val 8\n",
      "atom S- with val 10\n",
      "octet deviation: 0\n",
      "reactive = False\n",
      "\n",
      "\n",
      "\n",
      "**********\n",
      "Species [CH]=S has 2 reactive resonance structures:\n",
      "\n"
     ]
    },
    {
     "data": {
      "image/png": "[encoded data removed]",
      "text/plain": [
       "Molecule(SMILES=\"[CH]=S\")"
      ]
     },
     "metadata": {},
     "output_type": "display_data"
    },
    {
     "name": "stdout",
     "output_type": "stream",
     "text": [
      "<Molecule \"[CH]=S\">\n",
      "multiplicity 2\n",
      "1 C u1 p0 c0 {2,S} {3,D}\n",
      "2 H u0 p0 c0 {1,S}\n",
      "3 S u0 p2 c0 {1,D}\n",
      "\n",
      "atom C. with val 7\n",
      "atom S with val 8\n",
      "octet deviation: 1\n"
     ]
    },
    {
     "data": {
      "image/png": "[encoded data removed]",
      "text/plain": [
       "Molecule(SMILES=\"C#[S]\")"
      ]
     },
     "metadata": {},
     "output_type": "display_data"
    },
    {
     "name": "stdout",
     "output_type": "stream",
     "text": [
      "<Molecule \"C#[S]\">\n",
      "multiplicity 2\n",
      "1 C u0 p0 c0 {2,S} {3,T}\n",
      "2 H u0 p0 c0 {1,S}\n",
      "3 S u1 p1 c0 {1,T}\n",
      "\n",
      "atom C with val 8\n",
      "atom S. with val 9\n",
      "octet deviation: 1\n",
      "\n",
      "\n",
      "\n",
      "**********\n",
      "Species [CH]=O has 1 reactive resonance structures:\n",
      "\n"
     ]
    },
    {
     "data": {
      "image/png": "[encoded data removed]",
      "text/plain": [
       "Molecule(SMILES=\"[CH]=O\")"
      ]
     },
     "metadata": {},
     "output_type": "display_data"
    },
    {
     "name": "stdout",
     "output_type": "stream",
     "text": [
      "<Molecule \"[CH]=O\">\n",
      "multiplicity 2\n",
      "1 C u1 p0 c0 {2,S} {3,D}\n",
      "2 H u0 p0 c0 {1,S}\n",
      "3 O u0 p2 c0 {1,D}\n",
      "\n",
      "atom C. with val 7\n",
      "atom O with val 8\n",
      "octet deviation: 1\n",
      "\n",
      "\n",
      "\n",
      "**********\n",
      "Species O[SH3+][O-] has 1 reactive resonance structures:\n",
      "\n"
     ]
    },
    {
     "data": {
      "image/png": "[encoded data removed]",
      "text/plain": [
       "Molecule(SMILES=\"S(=O)O\")"
      ]
     },
     "metadata": {},
     "output_type": "display_data"
    },
    {
     "name": "stdout",
     "output_type": "stream",
     "text": [
      "<Molecule \"S(=O)O\">\n",
      "1 S u0 p0 c0 {2,S} {3,S} {4,S} {5,S} {6,D}\n",
      "2 O u0 p2 c0 {1,S} {7,S}\n",
      "3 H u0 p0 c0 {1,S}\n",
      "4 H u0 p0 c0 {1,S}\n",
      "5 H u0 p0 c0 {1,S}\n",
      "6 O u0 p2 c0 {1,D}\n",
      "7 H u0 p0 c0 {2,S}\n",
      "\n",
      "atom S with val 12\n",
      "atom O with val 8\n",
      "atom O with val 8\n",
      "octet deviation: 0\n"
     ]
    },
    {
     "data": {
      "image/png": "[encoded data removed]",
      "text/plain": [
       "Molecule(SMILES=\"[SH3+](O)[O-]\")"
      ]
     },
     "metadata": {},
     "output_type": "display_data"
    },
    {
     "name": "stdout",
     "output_type": "stream",
     "text": [
      "<Molecule \"[SH3+](O)[O-]\">\n",
      "1 S u0 p0 c+1 {2,S} {3,S} {4,S} {5,S} {6,S}\n",
      "2 O u0 p2 c0 {1,S} {7,S}\n",
      "3 H u0 p0 c0 {1,S}\n",
      "4 H u0 p0 c0 {1,S}\n",
      "5 H u0 p0 c0 {1,S}\n",
      "6 O u0 p3 c-1 {1,S}\n",
      "7 H u0 p0 c0 {2,S}\n",
      "\n",
      "atom S+ with val 10\n",
      "atom O with val 8\n",
      "atom O- with val 8\n",
      "octet deviation: 2\n",
      "reactive = False\n",
      "\n",
      "\n",
      "\n",
      "**********\n",
      "Species [N]=S has 2 reactive resonance structures:\n",
      "\n"
     ]
    },
    {
     "data": {
      "image/png": "[encoded data removed]",
      "text/plain": [
       "Molecule(SMILES=\"[N]=S\")"
      ]
     },
     "metadata": {},
     "output_type": "display_data"
    },
    {
     "name": "stdout",
     "output_type": "stream",
     "text": [
      "<Molecule \"[N]=S\">\n",
      "multiplicity 2\n",
      "1 N u1 p1 c0 {2,D}\n",
      "2 S u0 p2 c0 {1,D}\n",
      "\n",
      "atom N. with val 7\n",
      "atom S with val 8\n",
      "octet deviation: 1\n"
     ]
    },
    {
     "data": {
      "image/png": "[encoded data removed]",
      "text/plain": [
       "Molecule(SMILES=\"N#[S]\")"
      ]
     },
     "metadata": {},
     "output_type": "display_data"
    },
    {
     "name": "stdout",
     "output_type": "stream",
     "text": [
      "<Molecule \"N#[S]\">\n",
      "multiplicity 2\n",
      "1 N u0 p1 c0 {2,T}\n",
      "2 S u1 p1 c0 {1,T}\n",
      "\n",
      "atom N with val 8\n",
      "atom S. with val 9\n",
      "octet deviation: 1\n",
      "\n",
      "\n",
      "\n",
      "**********\n",
      "Species [N]=O has 1 reactive resonance structures:\n",
      "\n"
     ]
    },
    {
     "data": {
      "image/png": "[encoded data removed]",
      "text/plain": [
       "Molecule(SMILES=\"[N]=O\")"
      ]
     },
     "metadata": {},
     "output_type": "display_data"
    },
    {
     "name": "stdout",
     "output_type": "stream",
     "text": [
      "<Molecule \"[N]=O\">\n",
      "multiplicity 2\n",
      "1 N u1 p1 c0 {2,D}\n",
      "2 O u0 p2 c0 {1,D}\n",
      "\n",
      "atom N. with val 7\n",
      "atom O with val 8\n",
      "octet deviation: 1\n",
      "\n",
      "\n",
      "\n",
      "**********\n",
      "Species C[N+]([NH-])=O has 1 reactive resonance structures, which is WRONG, expected 2:\n",
      "\n"
     ]
    },
    {
     "data": {
      "image/png": "[encoded data removed]",
      "text/plain": [
       "Molecule(SMILES=\"C[N+](=O)[NH-]\")"
      ]
     },
     "metadata": {},
     "output_type": "display_data"
    },
    {
     "name": "stdout",
     "output_type": "stream",
     "text": [
      "<Molecule \"C[N+](=O)[NH-]\">\n",
      "1 C u0 p0 c0 {2,S} {4,S} {5,S} {6,S}\n",
      "2 N u0 p0 c+1 {1,S} {3,S} {7,D}\n",
      "3 N u0 p2 c-1 {2,S} {8,S}\n",
      "4 H u0 p0 c0 {1,S}\n",
      "5 H u0 p0 c0 {1,S}\n",
      "6 H u0 p0 c0 {1,S}\n",
      "7 O u0 p2 c0 {2,D}\n",
      "8 H u0 p0 c0 {3,S}\n",
      "\n",
      "atom C with val 8\n",
      "atom N+ with val 8\n",
      "atom N- with val 8\n",
      "atom O with val 8\n",
      "octet deviation: 0\n",
      "\n",
      "\n",
      "\n",
      "**********\n",
      "Species [N]=C has 1 reactive resonance structures:\n",
      "\n"
     ]
    },
    {
     "data": {
      "image/png": "[encoded data removed]",
      "text/plain": [
       "Molecule(SMILES=\"C=[N]\")"
      ]
     },
     "metadata": {},
     "output_type": "display_data"
    },
    {
     "name": "stdout",
     "output_type": "stream",
     "text": [
      "<Molecule \"C=[N]\">\n",
      "multiplicity 2\n",
      "1 C u0 p0 c0 {2,D} {3,S} {4,S}\n",
      "2 N u1 p1 c0 {1,D}\n",
      "3 H u0 p0 c0 {1,S}\n",
      "4 H u0 p0 c0 {1,S}\n",
      "\n",
      "atom C with val 8\n",
      "atom N. with val 7\n",
      "octet deviation: 1\n",
      "\n",
      "\n",
      "\n",
      "**********\n",
      "Species N=C has 1 reactive resonance structures:\n",
      "\n"
     ]
    },
    {
     "data": {
      "image/png": "[encoded data removed]",
      "text/plain": [
       "Molecule(SMILES=\"C=N\")"
      ]
     },
     "metadata": {},
     "output_type": "display_data"
    },
    {
     "name": "stdout",
     "output_type": "stream",
     "text": [
      "<Molecule \"C=N\">\n",
      "1 C u0 p0 c0 {2,D} {3,S} {4,S}\n",
      "2 N u0 p1 c0 {1,D} {5,S}\n",
      "3 H u0 p0 c0 {1,S}\n",
      "4 H u0 p0 c0 {1,S}\n",
      "5 H u0 p0 c0 {2,S}\n",
      "\n",
      "atom C with val 8\n",
      "atom N with val 8\n",
      "octet deviation: 0\n",
      "\n",
      "\n",
      "\n",
      "**********\n",
      "Species N#C has 1 reactive resonance structures:\n",
      "\n"
     ]
    },
    {
     "data": {
      "image/png": "[encoded data removed]",
      "text/plain": [
       "Molecule(SMILES=\"C#N\")"
      ]
     },
     "metadata": {},
     "output_type": "display_data"
    },
    {
     "name": "stdout",
     "output_type": "stream",
     "text": [
      "<Molecule \"C#N\">\n",
      "1 C u0 p0 c0 {2,T} {3,S}\n",
      "2 N u0 p1 c0 {1,T}\n",
      "3 H u0 p0 c0 {1,S}\n",
      "\n",
      "atom C with val 8\n",
      "atom N with val 8\n",
      "octet deviation: 0\n",
      "\n",
      "\n",
      "\n",
      "**********\n",
      "Species [S][S] has 2 reactive resonance structures, which is WRONG, expected 1:\n",
      "\n"
     ]
    },
    {
     "data": {
      "image/png": "[encoded data removed]",
      "text/plain": [
       "Molecule(SMILES=\"[S][S]\")"
      ]
     },
     "metadata": {},
     "output_type": "display_data"
    },
    {
     "name": "stdout",
     "output_type": "stream",
     "text": [
      "<Molecule \"[S][S]\">\n",
      "multiplicity 3\n",
      "1 S u1 p2 c0 {2,S}\n",
      "2 S u1 p2 c0 {1,S}\n",
      "\n",
      "atom S. with val 7\n",
      "atom S. with val 7\n",
      "octet deviation: 2\n"
     ]
    },
    {
     "data": {
      "image/png": "[encoded data removed]",
      "text/plain": [
       "Molecule(SMILES=\"[S][S]\")"
      ]
     },
     "metadata": {},
     "output_type": "display_data"
    },
    {
     "name": "stdout",
     "output_type": "stream",
     "text": [
      "<Molecule \"[S][S]\">\n",
      "multiplicity 3\n",
      "1 S u2 p1 c0 {2,D}\n",
      "2 S u0 p2 c0 {1,D}\n",
      "\n",
      "atom S.. with val 8\n",
      "atom S with val 8\n",
      "octet deviation: 2\n",
      "\n",
      "\n",
      "\n",
      "**********\n",
      "Species [S][O] has 2 reactive resonance structures, which is WRONG, expected 1:\n",
      "\n"
     ]
    },
    {
     "data": {
      "image/png": "[encoded data removed]",
      "text/plain": [
       "Molecule(SMILES=\"[S][O]\")"
      ]
     },
     "metadata": {},
     "output_type": "display_data"
    },
    {
     "name": "stdout",
     "output_type": "stream",
     "text": [
      "<Molecule \"[S][O]\">\n",
      "multiplicity 3\n",
      "1 S u1 p2 c0 {2,S}\n",
      "2 O u1 p2 c0 {1,S}\n",
      "\n",
      "atom S. with val 7\n",
      "atom O. with val 7\n",
      "octet deviation: 2\n"
     ]
    },
    {
     "data": {
      "image/png": "[encoded data removed]",
      "text/plain": [
       "Molecule(SMILES=\"S=O\")"
      ]
     },
     "metadata": {},
     "output_type": "display_data"
    },
    {
     "name": "stdout",
     "output_type": "stream",
     "text": [
      "<Molecule \"S=O\">\n",
      "multiplicity 3\n",
      "1 S u2 p1 c0 {2,D}\n",
      "2 O u0 p2 c0 {1,D}\n",
      "\n",
      "atom S.. with val 8\n",
      "atom O with val 8\n",
      "octet deviation: 2\n",
      "\n",
      "\n",
      "\n",
      "**********\n",
      "Species C=C[CH]C=CC has 3 reactive resonance structures:\n",
      "\n"
     ]
    },
    {
     "data": {
      "image/png": "[encoded data removed]",
      "text/plain": [
       "Molecule(SMILES=\"C=C[CH]C=CC\")"
      ]
     },
     "metadata": {},
     "output_type": "display_data"
    },
    {
     "name": "stdout",
     "output_type": "stream",
     "text": [
      "<Molecule \"C=C[CH]C=CC\">\n",
      "multiplicity 2\n",
      "1  C u0 p0 c0 {2,S} {7,S} {8,S} {9,S}\n",
      "2  C u0 p0 c0 {1,S} {3,D} {10,S}\n",
      "3  C u0 p0 c0 {2,D} {4,S} {13,S}\n",
      "4  C u1 p0 c0 {3,S} {5,S} {11,S}\n",
      "5  C u0 p0 c0 {4,S} {6,D} {12,S}\n",
      "6  C u0 p0 c0 {5,D} {14,S} {15,S}\n",
      "7  H u0 p0 c0 {1,S}\n",
      "8  H u0 p0 c0 {1,S}\n",
      "9  H u0 p0 c0 {1,S}\n",
      "10 H u0 p0 c0 {2,S}\n",
      "11 H u0 p0 c0 {4,S}\n",
      "12 H u0 p0 c0 {5,S}\n",
      "13 H u0 p0 c0 {3,S}\n",
      "14 H u0 p0 c0 {6,S}\n",
      "15 H u0 p0 c0 {6,S}\n",
      "\n",
      "atom C with val 8\n",
      "atom C with val 8\n",
      "atom C with val 8\n",
      "atom C. with val 7\n",
      "atom C with val 8\n",
      "atom C with val 8\n",
      "octet deviation: 1\n"
     ]
    },
    {
     "data": {
      "image/png": "[encoded data removed]",
      "text/plain": [
       "Molecule(SMILES=\"C=CC=C[CH]C\")"
      ]
     },
     "metadata": {},
     "output_type": "display_data"
    },
    {
     "name": "stdout",
     "output_type": "stream",
     "text": [
      "<Molecule \"C=CC=C[CH]C\">\n",
      "multiplicity 2\n",
      "1  C u0 p0 c0 {2,S} {7,S} {8,S} {9,S}\n",
      "2  C u1 p0 c0 {1,S} {3,S} {10,S}\n",
      "3  C u0 p0 c0 {2,S} {4,D} {13,S}\n",
      "4  C u0 p0 c0 {3,D} {5,S} {11,S}\n",
      "5  C u0 p0 c0 {4,S} {6,D} {12,S}\n",
      "6  C u0 p0 c0 {5,D} {14,S} {15,S}\n",
      "7  H u0 p0 c0 {1,S}\n",
      "8  H u0 p0 c0 {1,S}\n",
      "9  H u0 p0 c0 {1,S}\n",
      "10 H u0 p0 c0 {2,S}\n",
      "11 H u0 p0 c0 {4,S}\n",
      "12 H u0 p0 c0 {5,S}\n",
      "13 H u0 p0 c0 {3,S}\n",
      "14 H u0 p0 c0 {6,S}\n",
      "15 H u0 p0 c0 {6,S}\n",
      "\n",
      "atom C with val 8\n",
      "atom C. with val 7\n",
      "atom C with val 8\n",
      "atom C with val 8\n",
      "atom C with val 8\n",
      "atom C with val 8\n",
      "octet deviation: 1\n"
     ]
    },
    {
     "data": {
      "image/png": "[encoded data removed]",
      "text/plain": [
       "Molecule(SMILES=\"[CH2]C=CC=CC\")"
      ]
     },
     "metadata": {},
     "output_type": "display_data"
    },
    {
     "name": "stdout",
     "output_type": "stream",
     "text": [
      "<Molecule \"[CH2]C=CC=CC\">\n",
      "multiplicity 2\n",
      "1  C u0 p0 c0 {2,S} {7,S} {8,S} {9,S}\n",
      "2  C u0 p0 c0 {1,S} {3,D} {10,S}\n",
      "3  C u0 p0 c0 {2,D} {4,S} {13,S}\n",
      "4  C u0 p0 c0 {3,S} {5,D} {11,S}\n",
      "5  C u0 p0 c0 {4,D} {6,S} {12,S}\n",
      "6  C u1 p0 c0 {5,S} {14,S} {15,S}\n",
      "7  H u0 p0 c0 {1,S}\n",
      "8  H u0 p0 c0 {1,S}\n",
      "9  H u0 p0 c0 {1,S}\n",
      "10 H u0 p0 c0 {2,S}\n",
      "11 H u0 p0 c0 {4,S}\n",
      "12 H u0 p0 c0 {5,S}\n",
      "13 H u0 p0 c0 {3,S}\n",
      "14 H u0 p0 c0 {6,S}\n",
      "15 H u0 p0 c0 {6,S}\n",
      "\n",
      "atom C with val 8\n",
      "atom C with val 8\n",
      "atom C with val 8\n",
      "atom C with val 8\n",
      "atom C with val 8\n",
      "atom C. with val 7\n",
      "octet deviation: 1\n",
      "\n",
      "\n",
      "\n",
      "**********\n",
      "Species CC=N[O] has 3 reactive resonance structures:\n",
      "\n"
     ]
    },
    {
     "data": {
      "image/png": "[encoded data removed]",
      "text/plain": [
       "Molecule(SMILES=\"CC=N[O]\")"
      ]
     },
     "metadata": {},
     "output_type": "display_data"
    },
    {
     "name": "stdout",
     "output_type": "stream",
     "text": [
      "<Molecule \"CC=N[O]\">\n",
      "multiplicity 2\n",
      "1 C u0 p0 c0 {2,S} {4,S} {5,S} {6,S}\n",
      "2 C u0 p0 c0 {1,S} {3,D} {7,S}\n",
      "3 N u0 p1 c0 {2,D} {8,S}\n",
      "4 H u0 p0 c0 {1,S}\n",
      "5 H u0 p0 c0 {1,S}\n",
      "6 H u0 p0 c0 {1,S}\n",
      "7 H u0 p0 c0 {2,S}\n",
      "8 O u1 p2 c0 {3,S}\n",
      "\n",
      "atom C with val 8\n",
      "atom C with val 8\n",
      "atom N with val 8\n",
      "atom O. with val 7\n",
      "octet deviation: 1\n"
     ]
    },
    {
     "data": {
      "image/png": "[encoded data removed]",
      "text/plain": [
       "Molecule(SMILES=\"C[CH]N=O\")"
      ]
     },
     "metadata": {},
     "output_type": "display_data"
    },
    {
     "name": "stdout",
     "output_type": "stream",
     "text": [
      "<Molecule \"C[CH]N=O\">\n",
      "multiplicity 2\n",
      "1 C u0 p0 c0 {2,S} {4,S} {5,S} {6,S}\n",
      "2 C u1 p0 c0 {1,S} {3,S} {7,S}\n",
      "3 N u0 p1 c0 {2,S} {8,D}\n",
      "4 H u0 p0 c0 {1,S}\n",
      "5 H u0 p0 c0 {1,S}\n",
      "6 H u0 p0 c0 {1,S}\n",
      "7 H u0 p0 c0 {2,S}\n",
      "8 O u0 p2 c0 {3,D}\n",
      "\n",
      "atom C with val 8\n",
      "atom C. with val 7\n",
      "atom N with val 8\n",
      "atom O with val 8\n",
      "octet deviation: 1\n"
     ]
    },
    {
     "data": {
      "image/png": "[encoded data removed]",
      "text/plain": [
       "Molecule(SMILES=\"CC=[N+][O-]\")"
      ]
     },
     "metadata": {},
     "output_type": "display_data"
    },
    {
     "name": "stdout",
     "output_type": "stream",
     "text": [
      "<Molecule \"CC=[N+][O-]\">\n",
      "multiplicity 2\n",
      "1 C u0 p0 c0 {2,S} {4,S} {5,S} {6,S}\n",
      "2 C u0 p0 c0 {1,S} {3,D} {7,S}\n",
      "3 N u1 p0 c+1 {2,D} {8,S}\n",
      "4 H u0 p0 c0 {1,S}\n",
      "5 H u0 p0 c0 {1,S}\n",
      "6 H u0 p0 c0 {1,S}\n",
      "7 H u0 p0 c0 {2,S}\n",
      "8 O u0 p3 c-1 {3,S}\n",
      "\n",
      "atom C with val 8\n",
      "atom C with val 8\n",
      "atom N.+ with val 7\n",
      "atom O- with val 8\n",
      "octet deviation: 1\n",
      "\n",
      "\n",
      "\n",
      "**********\n",
      "Species [CH2-][S+]=C has 1 reactive resonance structures:\n",
      "\n"
     ]
    },
    {
     "data": {
      "image/png": "[encoded data removed]",
      "text/plain": [
       "Molecule(SMILES=\"[CH2-][S+]=C\")"
      ]
     },
     "metadata": {},
     "output_type": "display_data"
    },
    {
     "name": "stdout",
     "output_type": "stream",
     "text": [
      "<Molecule \"[CH2-][S+]=C\">\n",
      "1 C u0 p1 c-1 {3,S} {4,S} {5,S}\n",
      "2 C u0 p0 c0 {3,D} {6,S} {7,S}\n",
      "3 S u0 p1 c+1 {1,S} {2,D}\n",
      "4 H u0 p0 c0 {1,S}\n",
      "5 H u0 p0 c0 {1,S}\n",
      "6 H u0 p0 c0 {2,S}\n",
      "7 H u0 p0 c0 {2,S}\n",
      "\n",
      "atom C- with val 8\n",
      "atom C with val 8\n",
      "atom S+ with val 8\n",
      "octet deviation: 0\n",
      "\n",
      "\n",
      "\n",
      "**********\n",
      "Species [CH-]=[SH2+]O has 1 reactive resonance structures:\n",
      "\n"
     ]
    },
    {
     "data": {
      "image/png": "[encoded data removed]",
      "text/plain": [
       "Molecule(SMILES=\"S(=[CH-])=[OH+]\")"
      ]
     },
     "metadata": {},
     "output_type": "display_data"
    },
    {
     "name": "stdout",
     "output_type": "stream",
     "text": [
      "<Molecule \"S(=[CH-])=[OH+]\">\n",
      "1 S u0 p0 c0 {2,D} {3,D} {4,S} {5,S}\n",
      "2 C u0 p1 c-1 {1,D} {6,S}\n",
      "3 O u0 p1 c+1 {1,D} {7,S}\n",
      "4 H u0 p0 c0 {1,S}\n",
      "5 H u0 p0 c0 {1,S}\n",
      "6 H u0 p0 c0 {2,S}\n",
      "7 H u0 p0 c0 {3,S}\n",
      "\n",
      "atom S with val 12\n",
      "atom C- with val 8\n",
      "atom O+ with val 8\n",
      "penalty for O4sc, O4dc, O4tc\n",
      "octet deviation: 1\n"
     ]
    },
    {
     "data": {
      "image/png": "[encoded data removed]",
      "text/plain": [
       "Molecule(SMILES=\"[SH2+](=[CH-])O\")"
      ]
     },
     "metadata": {},
     "output_type": "display_data"
    },
    {
     "name": "stdout",
     "output_type": "stream",
     "text": [
      "<Molecule \"[SH2+](=[CH-])O\">\n",
      "1 S u0 p0 c+1 {2,D} {3,S} {4,S} {5,S}\n",
      "2 C u0 p1 c-1 {1,D} {6,S}\n",
      "3 O u0 p2 c0 {1,S} {7,S}\n",
      "4 H u0 p0 c0 {1,S}\n",
      "5 H u0 p0 c0 {1,S}\n",
      "6 H u0 p0 c0 {2,S}\n",
      "7 H u0 p0 c0 {3,S}\n",
      "\n",
      "atom S+ with val 10\n",
      "atom C- with val 8\n",
      "atom O with val 8\n",
      "octet deviation: 2\n",
      "reactive = False\n",
      "\n",
      "\n",
      "\n",
      "**********\n",
      "Species [SH2+]#[C-] has 1 reactive resonance structures:\n",
      "\n"
     ]
    },
    {
     "data": {
      "image/png": "[encoded data removed]",
      "text/plain": [
       "Molecule(SMILES=\"S=[C]\")"
      ]
     },
     "metadata": {},
     "output_type": "display_data"
    },
    {
     "name": "stdout",
     "output_type": "stream",
     "text": [
      "<Molecule \"S=[C]\">\n",
      "1 S u0 p1 c0 {2,S} {3,S} {4,D}\n",
      "2 H u0 p0 c0 {1,S}\n",
      "3 H u0 p0 c0 {1,S}\n",
      "4 C u0 p1 c0 {1,D}\n",
      "\n",
      "atom S with val 10\n",
      "atom C with val 6\n",
      "octet deviation: 2\n"
     ]
    },
    {
     "data": {
      "image/png": "[encoded data removed]",
      "text/plain": [
       "Molecule(SMILES=\"[SH2+]#[C-]\")"
      ]
     },
     "metadata": {},
     "output_type": "display_data"
    },
    {
     "name": "stdout",
     "output_type": "stream",
     "text": [
      "<Molecule \"[SH2+]#[C-]\">\n",
      "1 S u0 p0 c+1 {2,S} {3,S} {4,T}\n",
      "2 H u0 p0 c0 {1,S}\n",
      "3 H u0 p0 c0 {1,S}\n",
      "4 C u0 p1 c-1 {1,T}\n",
      "\n",
      "atom S+ with val 10\n",
      "atom C- with val 8\n",
      "octet deviation: 2\n",
      "reactive = False\n",
      "\n",
      "\n",
      "\n",
      "**********\n",
      "Species [N-]=[N+]=S(=O)=O has 1 reactive resonance structures, which is WRONG, expected 3:\n",
      "\n"
     ]
    },
    {
     "data": {
      "image/png": "[encoded data removed]",
      "text/plain": [
       "Molecule(SMILES=\"S(=[N+]=[N-])(=O)=O\")"
      ]
     },
     "metadata": {},
     "output_type": "display_data"
    },
    {
     "name": "stdout",
     "output_type": "stream",
     "text": [
      "<Molecule \"S(=[N+]=[N-])(=O)=O\">\n",
      "1 S u0 p0 c0 {2,D} {3,D} {4,D}\n",
      "2 N u0 p0 c+1 {1,D} {5,D}\n",
      "3 O u0 p2 c0 {1,D}\n",
      "4 O u0 p2 c0 {1,D}\n",
      "5 N u0 p2 c-1 {2,D}\n",
      "\n",
      "atom S with val 12\n",
      "atom N+ with val 8\n",
      "atom O with val 8\n",
      "atom O with val 8\n",
      "atom N- with val 8\n",
      "octet deviation: 0\n",
      "\n",
      "\n",
      "\n",
      "**********\n",
      "Species O=[S](=O)=O has 1 reactive resonance structures:\n",
      "\n"
     ]
    },
    {
     "data": {
      "image/png": "[encoded data removed]",
      "text/plain": [
       "Molecule(SMILES=\"S(=O)(=O)=O\")"
      ]
     },
     "metadata": {},
     "output_type": "display_data"
    },
    {
     "name": "stdout",
     "output_type": "stream",
     "text": [
      "<Molecule \"S(=O)(=O)=O\">\n",
      "1 S u0 p0 c0 {2,D} {3,D} {4,D}\n",
      "2 O u0 p2 c0 {1,D}\n",
      "3 O u0 p2 c0 {1,D}\n",
      "4 O u0 p2 c0 {1,D}\n",
      "\n",
      "atom S with val 12\n",
      "atom O with val 8\n",
      "atom O with val 8\n",
      "atom O with val 8\n",
      "octet deviation: 0\n",
      "\n",
      "\n",
      "\n",
      "**********\n",
      "Species [N-]=[S+]#N has 1 reactive resonance structures:\n",
      "\n"
     ]
    },
    {
     "data": {
      "image/png": "[encoded data removed]",
      "text/plain": [
       "Molecule(SMILES=\"S(#N)#N\")"
      ]
     },
     "metadata": {},
     "output_type": "display_data"
    },
    {
     "name": "stdout",
     "output_type": "stream",
     "text": [
      "<Molecule \"S(#N)#N\">\n",
      "1 S u0 p0 c0 {2,T} {3,T}\n",
      "2 N u0 p1 c0 {1,T}\n",
      "3 N u0 p1 c0 {1,T}\n",
      "\n",
      "atom S with val 12\n",
      "atom N with val 8\n",
      "atom N with val 8\n",
      "octet deviation: 0\n"
     ]
    },
    {
     "data": {
      "image/png": "[encoded data removed]",
      "text/plain": [
       "Molecule(SMILES=\"[S+](=[N-])#N\")"
      ]
     },
     "metadata": {},
     "output_type": "display_data"
    },
    {
     "name": "stdout",
     "output_type": "stream",
     "text": [
      "<Molecule \"[S+](=[N-])#N\">\n",
      "1 S u0 p0 c+1 {2,D} {3,T}\n",
      "2 N u0 p2 c-1 {1,D}\n",
      "3 N u0 p1 c0 {1,T}\n",
      "\n",
      "atom S+ with val 10\n",
      "atom N- with val 8\n",
      "atom N with val 8\n",
      "octet deviation: 2\n",
      "reactive = False\n",
      "\n",
      "\n",
      "\n",
      "**********\n",
      "Species O=S(=O)=O has 1 reactive resonance structures:\n",
      "\n"
     ]
    },
    {
     "data": {
      "image/png": "[encoded data removed]",
      "text/plain": [
       "Molecule(SMILES=\"S(=O)(=O)=O\")"
      ]
     },
     "metadata": {},
     "output_type": "display_data"
    },
    {
     "name": "stdout",
     "output_type": "stream",
     "text": [
      "<Molecule \"S(=O)(=O)=O\">\n",
      "1 S u0 p0 c0 {2,D} {3,D} {4,D}\n",
      "2 O u0 p2 c0 {1,D}\n",
      "3 O u0 p2 c0 {1,D}\n",
      "4 O u0 p2 c0 {1,D}\n",
      "\n",
      "atom S with val 12\n",
      "atom O with val 8\n",
      "atom O with val 8\n",
      "atom O with val 8\n",
      "octet deviation: 0\n",
      "\n",
      "\n",
      "\n",
      "**********\n",
      "Species O=S=O has 1 reactive resonance structures:\n",
      "\n"
     ]
    },
    {
     "data": {
      "image/png": "[encoded data removed]",
      "text/plain": [
       "Molecule(SMILES=\"S(=O)=O\")"
      ]
     },
     "metadata": {},
     "output_type": "display_data"
    },
    {
     "name": "stdout",
     "output_type": "stream",
     "text": [
      "<Molecule \"S(=O)=O\">\n",
      "1 S u0 p1 c0 {2,D} {3,D}\n",
      "2 O u0 p2 c0 {1,D}\n",
      "3 O u0 p2 c0 {1,D}\n",
      "\n",
      "atom S with val 10\n",
      "atom O with val 8\n",
      "atom O with val 8\n",
      "octet deviation: 0\n",
      "\n",
      "\n",
      "\n",
      "**********\n",
      "Species OS(O)(=O)=O has 1 reactive resonance structures:\n",
      "\n"
     ]
    },
    {
     "data": {
      "image/png": "[encoded data removed]",
      "text/plain": [
       "Molecule(SMILES=\"S(=O)(=O)(O)O\")"
      ]
     },
     "metadata": {},
     "output_type": "display_data"
    },
    {
     "name": "stdout",
     "output_type": "stream",
     "text": [
      "<Molecule \"S(=O)(=O)(O)O\">\n",
      "1 S u0 p0 c0 {2,S} {3,S} {4,D} {5,D}\n",
      "2 O u0 p2 c0 {1,S} {6,S}\n",
      "3 O u0 p2 c0 {1,S} {7,S}\n",
      "4 O u0 p2 c0 {1,D}\n",
      "5 O u0 p2 c0 {1,D}\n",
      "6 H u0 p0 c0 {2,S}\n",
      "7 H u0 p0 c0 {3,S}\n",
      "\n",
      "atom S with val 12\n",
      "atom O with val 8\n",
      "atom O with val 8\n",
      "atom O with val 8\n",
      "atom O with val 8\n",
      "octet deviation: 0\n",
      "\n",
      "\n",
      "\n",
      "**********\n",
      "Species O=[SH]#N has 1 reactive resonance structures:\n",
      "\n"
     ]
    },
    {
     "data": {
      "image/png": "[encoded data removed]",
      "text/plain": [
       "Molecule(SMILES=\"S(=O)#N\")"
      ]
     },
     "metadata": {},
     "output_type": "display_data"
    },
    {
     "name": "stdout",
     "output_type": "stream",
     "text": [
      "<Molecule \"S(=O)#N\">\n",
      "1 S u0 p0 c0 {2,D} {3,S} {4,T}\n",
      "2 O u0 p2 c0 {1,D}\n",
      "3 H u0 p0 c0 {1,S}\n",
      "4 N u0 p1 c0 {1,T}\n",
      "\n",
      "atom S with val 12\n",
      "atom O with val 8\n",
      "atom N with val 8\n",
      "octet deviation: 0\n",
      "\n",
      "\n",
      "\n",
      "**********\n",
      "Species N#S#N has 1 reactive resonance structures:\n",
      "\n"
     ]
    },
    {
     "data": {
      "image/png": "[encoded data removed]",
      "text/plain": [
       "Molecule(SMILES=\"S(#N)#N\")"
      ]
     },
     "metadata": {},
     "output_type": "display_data"
    },
    {
     "name": "stdout",
     "output_type": "stream",
     "text": [
      "<Molecule \"S(#N)#N\">\n",
      "1 S u0 p0 c0 {2,T} {3,T}\n",
      "2 N u0 p1 c0 {1,T}\n",
      "3 N u0 p1 c0 {1,T}\n",
      "\n",
      "atom S with val 12\n",
      "atom N with val 8\n",
      "atom N with val 8\n",
      "octet deviation: 0\n",
      "\n",
      "\n",
      "\n",
      "**********\n",
      "Species S=O has 1 reactive resonance structures:\n",
      "\n"
     ]
    },
    {
     "data": {
      "image/png": "[encoded data removed]",
      "text/plain": [
       "Molecule(SMILES=\"S=O\")"
      ]
     },
     "metadata": {},
     "output_type": "display_data"
    },
    {
     "name": "stdout",
     "output_type": "stream",
     "text": [
      "<Molecule \"S=O\">\n",
      "1 S u0 p2 c0 {2,D}\n",
      "2 O u0 p2 c0 {1,D}\n",
      "\n",
      "atom S with val 8\n",
      "atom O with val 8\n",
      "octet deviation: 0\n",
      "\n",
      "\n",
      "\n",
      "**********\n",
      "Species [S][O] has 2 reactive resonance structures, which is WRONG, expected 1:\n",
      "\n"
     ]
    },
    {
     "data": {
      "image/png": "[encoded data removed]",
      "text/plain": [
       "Molecule(SMILES=\"[S][O]\")"
      ]
     },
     "metadata": {},
     "output_type": "display_data"
    },
    {
     "name": "stdout",
     "output_type": "stream",
     "text": [
      "<Molecule \"[S][O]\">\n",
      "multiplicity 3\n",
      "1 S u1 p2 c0 {2,S}\n",
      "2 O u1 p2 c0 {1,S}\n",
      "\n",
      "atom S. with val 7\n",
      "atom O. with val 7\n",
      "octet deviation: 2\n"
     ]
    },
    {
     "data": {
      "image/png": "[encoded data removed]",
      "text/plain": [
       "Molecule(SMILES=\"S=O\")"
      ]
     },
     "metadata": {},
     "output_type": "display_data"
    },
    {
     "name": "stdout",
     "output_type": "stream",
     "text": [
      "<Molecule \"S=O\">\n",
      "multiplicity 3\n",
      "1 S u2 p1 c0 {2,D}\n",
      "2 O u0 p2 c0 {1,D}\n",
      "\n",
      "atom S.. with val 8\n",
      "atom O with val 8\n",
      "octet deviation: 2\n"
     ]
    }
   ],
   "source": [
    "# debug:\n",
    "# %pdb\n",
    "\n",
    "from rmgpy.molecule import filtration\n",
    "\n",
    "for smiles in molList:\n",
    "    t0 = time.time()\n",
    "    mol = molecule.Molecule(SMILES=smiles[0])\n",
    "    mol.update()\n",
    "    #display(mol)\n",
    "    #print mol.toAdjacencyList()\n",
    "    res = molecule.resonance.generate_resonance_structures(mol, keep_isomorphic = False, filter_structures=True)\n",
    "#     res = molecule.resonance.generate_resonance_structures(mol)\n",
    "    reactive = sum([1 for mol2 in res if mol2.reactive])\n",
    "    if reactive == smiles[1]:\n",
    "        print \"\\n\\n\\n**********\\nSpecies {0} has {1} reactive resonance structures:\\n\".format(\n",
    "            smiles[0],reactive)\n",
    "    else:\n",
    "        print \"\\n\\n\\n**********\\nSpecies {0} has {1} reactive resonance structures, which is WRONG, expected {2}:\\n\".format(\n",
    "            smiles[0],reactive,smiles[1])\n",
    "    for struc in res:\n",
    "        display(struc)\n",
    "        print \"{0}\".format(struc)\n",
    "        print struc.toAdjacencyList()\n",
    "        octetDeviation = 0  # reset for each mol\n",
    "        for atom in struc.vertices:\n",
    "            valance = 2 * (int(atom.getBondOrdersForAtom()) + atom.lonePairs) + atom.radicalElectrons\n",
    "            if atom.isNonHydrogen():\n",
    "                print \"atom {0} with val {1}\".format(atom,valance)\n",
    "            if atom.isCarbon():\n",
    "                octetDeviation += abs(8 - valance)  # octet on C\n",
    "                if valance > 8:\n",
    "                    octetDeviation += 1  # additional penalty for C with valance greater than 8 (as in [CH3-.][O+]=O)\n",
    "                    print \"penalty for C > 8\"\n",
    "            elif atom.isNitrogen():\n",
    "                if atom.lonePairs:\n",
    "                    octetDeviation += abs(8 - valance)  # octet on N p1/2/3\n",
    "                    if atom.lonePairs == 3:\n",
    "                        octetDeviation += 1  # additional penalty for N p3 (as in [NH2+][:::N-2], [NH+]#[N+][:::N-2])\n",
    "                        print \"penalty for N p3\"\n",
    "                else:\n",
    "                    octetDeviation += min(abs(10 - valance),abs(8 - valance))  # octed/dectet for N p0\n",
    "                    # N p0 could also be close to octet and not dectet, such as in O=[N+][O-]\n",
    "                if valance > 8:\n",
    "                    octetDeviation += 1  # additional penalty for N p0 with valance greater than 8 (as in O=[N.]=O,\n",
    "                    # [NH2.]=[:NH.], N#N=O, N#[N.]O, CCN=N#N)\n",
    "                    print \"penalty for N > 8\"\n",
    "            if atom.isOxygen():\n",
    "                octetDeviation += abs(8 - valance)  # octet on O\n",
    "                if valance > 8:\n",
    "                    octetDeviation += 1  # additional penalty for O with valance greater than 8 (as in O=[N+]=[O-.],\n",
    "                    # CC=[N+]=[::O-.])\n",
    "                    print \"penalty for O > 8\"\n",
    "                if atom.atomType.label in ['O4sc','O4dc','O4tc']:\n",
    "                    octetDeviation += 1  # additional penalty for charged O with a double/triple bond\n",
    "                    # (as in [N-2][N+]#[O+], [O-]S#[O+], OS(S)([O-])#[O+], [OH+]=S(O)(=O)[O-];\n",
    "                    # [C-]#[O+] and [O-][O+]=O which are correct structures also get penalized here, but that's OK\n",
    "                    # since they are still selected as representative structures according to the rules here.)\n",
    "                    print \"penalty for O4sc, O4dc, O4tc\"\n",
    "            elif atom.isSulfur():\n",
    "                if atom.lonePairs == 0 and not (valance == 10 and atom.charge == +1):\n",
    "                    octetDeviation += abs(12 - valance)  # duodectet on S p0, eg O=S(=O)(O)O val 12,\n",
    "                    # O[S](=O)=O val 11; allowing also dected c +1, eg O[S+](=O)(O)[O-] as having no deviation\n",
    "                    if valance == 9:\n",
    "                        octetDeviation += 1  # eg O[S+]([O-])=O val 9 is undesired\n",
    "                        print \"penalty for S p0 = 9\"\n",
    "                elif atom.lonePairs == 1:\n",
    "                    octetDeviation += min(abs(8 - valance), abs(10 - valance))  # octet/dectet on S p1,\n",
    "                    # eg [O-][S+]=O val 8, O[S]=O val 9, OS([O])=O val 10\n",
    "                    if valance in [7,11]:\n",
    "                        octetDeviation += 1  # eg O[S+][O-] val 7, N=[N+]=[S-]=O val 11 are undesired\n",
    "                        print \"penalty for S p1 val in 7,11\"\n",
    "                elif atom.lonePairs == 2:\n",
    "                    octetDeviation += min(abs(8 - valance), abs(10 - valance))  # octet/dectet on S p2,\n",
    "                    # eg [S][S] val 7, OS[O] val 8, [NH+]#[N+][S-][O-] val 9, O[S-](O)[N+]#N val 10\n",
    "                    if valance == 11:\n",
    "                        octetDeviation += 1  # eg [NH+]#[N+][S-2]=O val 11 is undesired\n",
    "                        print \"penalty for S p2 val = 11\"\n",
    "                elif atom.lonePairs == 3:\n",
    "                    octetDeviation += abs(8 - valance)  # octet on S p3, eg [S-][O+]=O\n",
    "                    if valance == 10:\n",
    "                        octetDeviation += 1  # eg [NH+]#[N+][S-2][O] val 10 is undesired\n",
    "                        print \"penalty for S p3 = 10\"\n",
    "        print \"octet deviation: {0}\".format(filtration.get_octet_deviation(struc))\n",
    "        if not struc.reactive:\n",
    "            print \"reactive = {0}\".format(struc.reactive)"
   ]
  },
  {
   "cell_type": "code",
   "execution_count": null,
   "metadata": {
    "collapsed": true
   },
   "outputs": [],
   "source": []
  }
 ],
 "metadata": {
  "kernelspec": {
   "display_name": "rmg_env",
   "language": "python",
   "name": "rmg_env"
  },
  "language_info": {
   "codemirror_mode": {
    "name": "ipython",
    "version": 2
   },
   "file_extension": ".py",
   "mimetype": "text/x-python",
   "name": "python",
   "nbconvert_exporter": "python",
   "pygments_lexer": "ipython2",
   "version": "2.7.13"
  }
 },
 "nbformat": 4,
 "nbformat_minor": 2
}
