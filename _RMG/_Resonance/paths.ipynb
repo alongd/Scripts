{
 "cells": [
  {
   "cell_type": "code",
   "execution_count": 2,
   "metadata": {
    "collapsed": true
   },
   "outputs": [],
   "source": [
    "import rmgpy.molecule as molecule\n",
    "from IPython.display import display"
   ]
  },
  {
   "cell_type": "code",
   "execution_count": 3,
   "metadata": {},
   "outputs": [
    {
     "data": {
      "image/png": "[encoded data removed]",
      "text/plain": [
       "Molecule(SMILES=\"OC1CC=CC1\")"
      ]
     },
     "metadata": {},
     "output_type": "display_data"
    }
   ],
   "source": [
    "adj = \"\"\"1  C u0 p0 c0 {2,D} {7,S} {8,S}\n",
    "2  C u0 p0 c0 {1,D} {3,S} {9,S}\n",
    "3  C u0 p0 c+1 {2,S} {4,S} {5,S}\n",
    "4  H u0 p0 c0 {3,S}\n",
    "5  C u0 p0 c0 {3,S} {6,S} {7,S} {10,S}\n",
    "6  O u0 p3 c-1 {5,S}\n",
    "7  C u0 p0 c0 {1,S} {5,S} {11,S} {12,S}\n",
    "8  H u0 p0 c0 {1,S}\n",
    "9  H u0 p0 c0 {2,S}\n",
    "10 H u0 p0 c0 {5,S}\n",
    "11 H u0 p0 c0 {7,S}\n",
    "12 H u0 p0 c0 {7,S}\"\"\"\n",
    "\n",
    "mol = molecule.Molecule().fromAdjacencyList(adj)\n",
    "\n",
    "display(mol)"
   ]
  },
  {
   "cell_type": "code",
   "execution_count": 9,
   "metadata": {},
   "outputs": [
    {
     "name": "stdout",
     "output_type": "stream",
     "text": [
      "[[<Atom 'O-'>, <Atom 'C'>, <Bond \"1.0\">, 1]]\n"
     ]
    }
   ],
   "source": [
    "for atom1 in mol.vertices:\n",
    "    if atom1.isNOS():\n",
    "        paths = []\n",
    "        for atom2, bond12 in atom1.edges.items():\n",
    "            if (not (atom1.radicalElectrons and atom2.radicalElectrons)  # not allowing both atom1, atom2 to be rads\n",
    "                    and atom2.isNonHydrogen()):  # don't bother with hydrogen atoms\n",
    "                    #and (atom2.radicalElectrons > 0 or atom2.charge > 0)):  # atom2 must either be a rad or positively charged\n",
    "                if bond12.isSingle() or bond12.isDouble():\n",
    "                    # Find paths in the direction <increasing> the bond order\n",
    "                    # atom1 must posses at least one lone pair to loose it\n",
    "                    if ((atom1.isNitrogen() and atom1.lonePairs in [1, 2, 3])\n",
    "                            or (atom1.isOxygen() and atom1.lonePairs in [2, 3])  # not allowing O with no lonePairs\n",
    "                            or (atom1.isSulfur() and atom1.lonePairs in [1, 2, 3])):\n",
    "                        paths.append([atom1, atom2, bond12, 1])  # direction = 1\n",
    "                if bond12.isDouble() or bond12.isTriple():\n",
    "                    # Find paths in the direction <decreasing> the bond order\n",
    "                    # atom1 gains a lone pair, hence cannot have more than two lone pairs\n",
    "                    if ((atom1.isNitrogen() and atom1.lonePairs in [0, 1, 2])\n",
    "                            or (atom1.isOxygen() and atom1.lonePairs in [1, 2])\n",
    "                            or (atom1.isSulfur() and atom1.lonePairs in [0, 1, 2])):\n",
    "                        paths.append([atom1, atom2, bond12, 2])  # direction = 2\n",
    "print paths"
   ]
  },
  {
   "cell_type": "code",
   "execution_count": 12,
   "metadata": {},
   "outputs": [
    {
     "data": {
      "image/png": "[encoded data removed]",
      "text/plain": [
       "Molecule(SMILES=\"OC1CC=CC1\")"
      ]
     },
     "metadata": {},
     "output_type": "display_data"
    }
   ],
   "source": [
    "molList = mol.generateResonanceIsomers()\n",
    "\n",
    "for m in molList:\n",
    "    display(m)"
   ]
  },
  {
   "cell_type": "code",
   "execution_count": null,
   "metadata": {
    "collapsed": true
   },
   "outputs": [],
   "source": []
  },
  {
   "cell_type": "code",
   "execution_count": null,
   "metadata": {
    "collapsed": true
   },
   "outputs": [],
   "source": []
  }
 ],
 "metadata": {
  "kernelspec": {
   "display_name": "rmg_env",
   "language": "python",
   "name": "rmg_env"
  },
  "language_info": {
   "codemirror_mode": {
    "name": "ipython",
    "version": 2
   },
   "file_extension": ".py",
   "mimetype": "text/x-python",
   "name": "python",
   "nbconvert_exporter": "python",
   "pygments_lexer": "ipython2",
   "version": "2.7.13"
  }
 },
 "nbformat": 4,
 "nbformat_minor": 2
}
