{
 "cells": [
  {
   "cell_type": "code",
   "execution_count": 15,
   "metadata": {
    "collapsed": true
   },
   "outputs": [],
   "source": [
    "def generate_resonance_structures(mol_list, keep_isomorphic=False, copy=False):\n",
    "    \n",
    "    import rmgpy.molecule.filtration as filtration\n",
    "    \n",
    "    mol_list_tuple_unfiltered = []\n",
    "    \n",
    "    features = resonance.analyze_molecule(mol_list[0])\n",
    "    method_list = resonance.populate_resonance_algorithms(features)\n",
    "    \n",
    "    # Iterate over resonance structures\n",
    "    min_octet_deviation = min(filtration.get_octet_deviation_list(mol_list))\n",
    "    index = 0\n",
    "    while index < len(mol_list):\n",
    "        molecule = mol_list[index]\n",
    "        new_mol_list = []\n",
    "\n",
    "        # Extend methods for molecule only if it is relatively close to the octet rule\n",
    "        # (don't explore structures that will certainly be filtered out)\n",
    "        # Since the ground state of the O2/S2/SO species have a higher deviation from the octet rule than some of their\n",
    "        # excited states, and are not expected to generate an overwhelming amount of resonance structures, they are\n",
    "        # exempt from this condition.\n",
    "#         octet_deviation = filtration.get_octet_deviation(molecule)\n",
    "#         if octet_deviation <= min_octet_deviation or filtration.is_OS(molecule):\n",
    "        for method in method_list:\n",
    "            new_mol_list.extend(method(molecule))\n",
    "#             if octet_deviation < min_octet_deviation:\n",
    "#                 # update min_octet_deviation to make this criterion tighter\n",
    "#                 min_octet_deviation = octet_deviation\n",
    "\n",
    "        for new_mol in new_mol_list:\n",
    "            # Append to structure list if unique\n",
    "            for mol in mol_list:\n",
    "                # for atom in mol.vertices:\n",
    "                #     if atom.isSulfur() and atom.radicalElectrons == 2 and atom.charge == 1:\n",
    "                #         logging.info(molecule.toAdjacencyList())\n",
    "                #         logging.debug(molecule.toAdjacencyList())\n",
    "                #         raise ValueError('got:\\n{0}\\ngenerated from:\\n{1}'.format(mol.toAdjacencyList(),molecule.toAdjacencyList()))\n",
    "                if not keep_isomorphic and mol.isIsomorphic(new_mol):\n",
    "                    break\n",
    "                elif keep_isomorphic and mol.isIdentical(new_mol):\n",
    "                    break\n",
    "            else:\n",
    "                mol_list.append(new_mol)\n",
    "                mol_list_tuple_unfiltered.append((new_mol,molecule))\n",
    "\n",
    "        # Move to the next resonance structure\n",
    "        index += 1\n",
    "        \n",
    "    filtration.filter_structures(mol_list)\n",
    "    mol_list_tuple = []\n",
    "    for mol in mol_list:\n",
    "        for tuple_mol in mol_list_tuple_unfiltered:\n",
    "            if mol.isIsomorphic(tuple_mol[0]):\n",
    "                mol_list_tuple.append(tuple_mol)\n",
    "\n",
    "    return mol_list, mol_list_tuple"
   ]
  },
  {
   "cell_type": "code",
   "execution_count": 16,
   "metadata": {},
   "outputs": [],
   "source": [
    "import rmgpy.molecule.resonance as resonance\n",
    "import rmgpy.molecule as molecule\n",
    "from IPython.display import display\n",
    "\n",
    "# this is the structure I want to get to:\n",
    "adj1 = \"\"\"\n",
    "multiplicity 4\n",
    "1 N u0 p1 c0 {2,S} {3,S} {4,S}\n",
    "2 S u2 p0 c+1 {1,S} {5,D}\n",
    "3 O u0 p3 c-1 {1,S}\n",
    "4 O u1 p2 c0 {1,S}\n",
    "5 O u0 p2 c0 {2,D}\n",
    "\"\"\"\n",
    "\n",
    "# and this is the structure that gets stuck:\n",
    "adj2 = \"\"\"\n",
    "multiplicity 4\n",
    "1 S u2 p1 c-1 {2,D} {3,S}\n",
    "2 O u0 p2 c0 {1,D}\n",
    "3 N u0 p0 c+1 {1,S} {4,D} {5,S}\n",
    "4 O u0 p2 c0 {3,D}\n",
    "5 O u1 p2 c0 {3,S}\n",
    "\"\"\"\n",
    "\n",
    "mol1 = molecule.Molecule().fromAdjacencyList(adj1)\n",
    "mol2 = molecule.Molecule().fromAdjacencyList(adj2)\n",
    "\n",
    "mol_list1, mol_list_tuple1 = generate_resonance_structures([mol1])\n",
    "mol_list2, mol_list_tuple2 = generate_resonance_structures([mol2])\n",
    "\n",
    "#find the structures in 1 that aren't included in 2:\n",
    "unique1 = []\n",
    "for tuple_mol1 in mol_list_tuple1:\n",
    "    for tuple_mol2 in mol_list_tuple2:\n",
    "        if tuple_mol1[0].isIsomorphic(tuple_mol2[0]):\n",
    "            break\n",
    "    else:\n",
    "        unique1.append(tuple_mol1)\n",
    "\n",
    "#find structures in unique1 that originate from structures in mol_list_tuple2\n",
    "origin1 = []\n",
    "for tuple_mol1 in unique1:\n",
    "    for tuple_mol2 in mol_list_tuple2:\n",
    "        if tuple_mol1[1].isIsomorphic(tuple_mol2[0]):\n",
    "            origin1.append(tuple_mol1)\n",
    "\n"
   ]
  },
  {
   "cell_type": "code",
   "execution_count": 19,
   "metadata": {},
   "outputs": [
    {
     "name": "stdout",
     "output_type": "stream",
     "text": [
      "generated\n",
      "multiplicity 4\n",
      "1 N u0 p0 c+1 {2,S} {3,D} {4,S}\n",
      "2 S u2 p1 c-1 {1,S} {5,D}\n",
      "3 O u0 p2 c0 {1,D}\n",
      "4 O u1 p2 c0 {1,S}\n",
      "5 O u0 p2 c0 {2,D}\n",
      "from\n",
      "multiplicity 4\n",
      "1 N u0 p0 c+2 {2,S} {3,S} {4,S}\n",
      "2 S u2 p1 c-1 {1,S} {5,D}\n",
      "3 O u0 p3 c-1 {1,S}\n",
      "4 O u1 p2 c0 {1,S}\n",
      "5 O u0 p2 c0 {2,D}\n",
      "\n"
     ]
    }
   ],
   "source": [
    "for origin in origin1:\n",
    "    print 'generated\\n{0}from\\n{1}'.format(origin[0].toAdjacencyList(),origin[1].toAdjacencyList())"
   ]
  },
  {
   "cell_type": "code",
   "execution_count": null,
   "metadata": {
    "collapsed": true
   },
   "outputs": [],
   "source": []
  }
 ],
 "metadata": {
  "kernelspec": {
   "display_name": "rmg_env",
   "language": "python",
   "name": "rmg_env"
  },
  "language_info": {
   "codemirror_mode": {
    "name": "ipython",
    "version": 2
   },
   "file_extension": ".py",
   "mimetype": "text/x-python",
   "name": "python",
   "nbconvert_exporter": "python",
   "pygments_lexer": "ipython2",
   "version": "2.7.13"
  }
 },
 "nbformat": 4,
 "nbformat_minor": 2
}
