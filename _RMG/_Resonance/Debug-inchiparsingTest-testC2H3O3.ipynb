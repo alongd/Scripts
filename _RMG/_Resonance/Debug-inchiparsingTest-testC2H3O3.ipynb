{
 "cells": [
  {
   "cell_type": "code",
   "execution_count": 1,
   "metadata": {
    "collapsed": true,
    "scrolled": true
   },
   "outputs": [],
   "source": [
    "from rmgpy.species import Species\n",
    "from rmgpy.molecule.parser import *\n",
    "from rmgpy.molecule.generator import *\n",
    "from rmgpy.molecule.inchi import compose_aug_inchi, P_LAYER_PREFIX, P_LAYER_SEPARATOR, U_LAYER_PREFIX, U_LAYER_SEPARATOR\n",
    "from rmgpy.molecule import Molecule, Atom, Bond\n",
    "from rmgpy.molecule.resonance import *\n",
    "from IPython.display import display, HTML, Image, display_html\n",
    "import re\n",
    "import itertools\n",
    "from operator import itemgetter\n",
    "from rmgpy.molecule.element import PeriodicSystem"
   ]
  },
  {
   "cell_type": "code",
   "execution_count": 2,
   "metadata": {
    "collapsed": true
   },
   "outputs": [],
   "source": [
    "# inchiparsingTest.py, line 42, `def compare(self, inchi, u_indices=None, p_indices = None):`\n",
    "def compare_tst(inchi, u_indices=None, p_indices = None):        \n",
    "\n",
    "    u_layer = U_LAYER_PREFIX + U_LAYER_SEPARATOR.join(map(str, u_indices)) if u_indices else None\n",
    "    p_layer = P_LAYER_PREFIX + P_LAYER_SEPARATOR.join(map(str, p_indices)) if p_indices else None\n",
    "\n",
    "    aug_inchi = compose_aug_inchi(inchi, u_layer, p_layer)\n",
    "\n",
    "    mol = fromAugmentedInChI(Molecule(), aug_inchi)\n",
    "    ConsistencyChecker.check_multiplicity(mol.getRadicalCount(), mol.multiplicity)\n",
    "\n",
    "    for at in mol.atoms:\n",
    "        ConsistencyChecker.check_partial_charge(at)\n",
    "\n",
    "    spc = Species(molecule=[mol])\n",
    "    spc.generateResonanceIsomers()\n",
    "\n",
    "    ignore_prefix = r\"(InChI=1+)(S*)/\"\n",
    "    aug_inchi_expected = re.split(ignore_prefix, aug_inchi)[-1]\n",
    "    print \"aug_inchi_expected: \", aug_inchi_expected\n",
    "    \n",
    "   # aug_inchi_computed = re.split(ignore_prefix, spc.getAugmentedInChI())[-1]\n",
    "    aug_inchi_computed = re.split(ignore_prefix, generate_aug_inchi_tst(spc))[-1]\n",
    "    print \"aug_inchi_computed: \", aug_inchi_computed\n",
    "\n",
    "    if aug_inchi_expected != aug_inchi_computed:\n",
    "        print \"\\nError: aug_inchi_expected != aug_inchi_computed\"\n",
    "    else:\n",
    "        print \"\\nOK!\"\n",
    "\n",
    "    return mol"
   ]
  },
  {
   "cell_type": "code",
   "execution_count": 3,
   "metadata": {
    "collapsed": true
   },
   "outputs": [],
   "source": [
    "# species.py line 530, 'def getAugmentedInChI(self):'\n",
    "#if self.aug_inchi is None:\n",
    "#    self.aug_inchi = self.generate_aug_inchi()\n",
    "#return self.aug_inchi\n",
    "\n",
    "\n",
    "# species.py line 535, 'def generate_aug_inchi(self):'\n",
    "def generate_aug_inchi_tst(self):\n",
    "    candidates = []\n",
    "    self.generateResonanceIsomers()\n",
    "    for mol in self.molecule:\n",
    "        #print mol\n",
    "        #display(mol)\n",
    "        try:\n",
    "           # cand = [mol.toAugmentedInChI(),mol]\n",
    "            cand = [toAugmentedInChI_tst(mol),mol]\n",
    "        except ValueError:\n",
    "            pass  # not all resonance structures can be parsed into InChI (e.g. if containing a hypervalance atom)\n",
    "        else:\n",
    "         #   print \"mol:\"\n",
    "          #  display(mol)\n",
    "          #  print mol.toAdjacencyList()\n",
    "          #  print \"gave cand {0}\".format(cand)\n",
    "          #  print \"*****************\"\n",
    "            candidates.append(cand)\n",
    "    candidates = sorted(candidates, key=itemgetter(0))\n",
    "    for cand in candidates:\n",
    "        if all(atom.charge == 0 for atom in cand[1].vertices):\n",
    "            return cand[0]\n",
    "    return candidates[0][0]"
   ]
  },
  {
   "cell_type": "code",
   "execution_count": 4,
   "metadata": {
    "collapsed": true
   },
   "outputs": [],
   "source": [
    "# molecule.py line 1387, 'def toAugmentedInChI(self):'\n",
    "#return generator.toAugmentedInChI(self)\n",
    "\n",
    "\n",
    "# generator.py line 173, 'def toAugmentedInChI(mol):'\n",
    "def toAugmentedInChI_tst(mol):\n",
    "    inchi = toInChI(mol)\n",
    "    #print inchi\n",
    "    ulayer, player = create_augmented_layers_tst(mol)\n",
    "    aug_inchi = inchiutil.compose_aug_inchi(inchi, ulayer, player)\n",
    "    return aug_inchi"
   ]
  },
  {
   "cell_type": "code",
   "execution_count": 5,
   "metadata": {
    "collapsed": true
   },
   "outputs": [],
   "source": [
    "# generator.py line 604, 'def create_augmented_layers(mol):'\n",
    "def create_augmented_layers_tst(mol):\n",
    "    if mol.getRadicalCount() == 0 and not has_unexpected_lone_pairs(mol):\n",
    "        return None, None\n",
    "    elif mol.getFormula() == 'H':\n",
    "        return inchiutil.U_LAYER_PREFIX + '1', None\n",
    "    else:\n",
    "        molcopy = mol.copy(deep=True)\n",
    "\n",
    "        hydrogens = filter(lambda at: at.number == 1, molcopy.atoms)\n",
    "        [molcopy.removeAtom(h) for h in hydrogens]\n",
    "\n",
    "        rdkitmol = toRDKitMol(molcopy)\n",
    "        _, auxinfo = Chem.MolToInchiAndAuxInfo(rdkitmol, options='-SNon')# suppress stereo warnings\n",
    "        \n",
    "        # extract the atom numbers from N-layer of auxiliary info:\n",
    "        atom_indices = inchiutil.parse_N_layer(auxinfo)    \n",
    "        atom_indices = [atom_indices.index(i + 1) for i, atom in enumerate(molcopy.atoms)]\n",
    "\n",
    "        # sort the atoms based on the order of the atom indices\n",
    "        molcopy.atoms = [x for (y,x) in sorted(zip(atom_indices, molcopy.atoms), key=lambda pair: pair[0])]\n",
    "    \n",
    "        #print \"molcopy: \", molcopy\n",
    "        #print \"auxinfo: \", auxinfo    \n",
    "    \n",
    "      #  ulayer = create_U_layer(molcopy, auxinfo)\n",
    "        ulayer = create_U_layer_tst(molcopy, auxinfo)\n",
    "\n",
    "        player = create_P_layer(molcopy, auxinfo)\n",
    "\n",
    "        return ulayer, None"
   ]
  },
  {
   "cell_type": "code",
   "execution_count": 6,
   "metadata": {
    "collapsed": true
   },
   "outputs": [],
   "source": [
    "# generator.py line 123, 'def create_U_layer(mol, auxinfo):'\n",
    "def create_U_layer_tst(mol, auxinfo):\n",
    "    if mol.getRadicalCount() == 0:\n",
    "        return None\n",
    "    elif mol.getFormula() == 'H':\n",
    "        return inchiutil.U_LAYER_PREFIX + '1'\n",
    "\n",
    "    # find the resonance isomer with the lowest u index:\n",
    "   # minmol = generate_minimum_resonance_isomer(mol)\n",
    "    minmol = generate_minimum_resonance_isomer_tst(mol)\n",
    "    \n",
    "    print \"minmol:\"\n",
    "    display(minmol)\n",
    "    print minmol.toAdjacencyList()\n",
    "    \n",
    "    # create preliminary u-layer:\n",
    "    u_layer = []\n",
    "    for i, at in enumerate(minmol.atoms):\n",
    "        u_layer.extend([i+1] * at.radicalElectrons)\n",
    "    \n",
    "    # extract equivalent atom pairs from E-layer of auxiliary info:\n",
    "    equivalent_atoms = inchiutil.parse_E_layer(auxinfo)\n",
    "    if equivalent_atoms:\n",
    "        # select lowest u-layer:\n",
    "        u_layer = find_lowest_u_layer(minmol, u_layer, equivalent_atoms)\n",
    "\n",
    "    return (inchiutil.U_LAYER_PREFIX + ','.join(map(str, u_layer)))"
   ]
  },
  {
   "cell_type": "code",
   "execution_count": 7,
   "metadata": {
    "collapsed": true
   },
   "outputs": [],
   "source": [
    "# generator.py line 504, 'def generate_minimum_resonance_isomer(mol):'\n",
    "def generate_minimum_resonance_isomer_tst(mol):\n",
    "    #print \"generating_minimum_resonance_isomer_tst...\"\n",
    "    candidates = generateIsomorphicResonanceStructures_tst(mol, saturateH=True)\n",
    "\n",
    "    sel = mol\n",
    "    metric_sel = get_unpaired_electrons(sel)\n",
    "    charge_sel = sum([abs(atom.charge) for atom in sel.vertices])\n",
    "    for cand in candidates:\n",
    "        metric_cand = get_unpaired_electrons(cand)\n",
    "        if metric_cand < metric_sel:\n",
    "            charge_cand = sum([abs(atom.charge) for atom in cand.vertices])\n",
    "            if charge_cand <= charge_sel:\n",
    "                sel = cand\n",
    "                metric_sel = metric_cand\n",
    "                charge_sel = charge_cand\n",
    "    return sel"
   ]
  },
  {
   "cell_type": "code",
   "execution_count": 8,
   "metadata": {
    "collapsed": true
   },
   "outputs": [],
   "source": [
    "# resonance.py line 690, 'def generateIsomorphicResonanceStructures(mol):'\n",
    "def generateIsomorphicResonanceStructures_tst(mol, saturateH=False):\n",
    "    \n",
    "    if saturateH:  # Add explicit hydrogen atoms to complete structure if desired\n",
    "        newAtoms = []\n",
    "        for atom in mol.vertices:\n",
    "            max_val_e = PeriodicSystem.valence_electrons[atom.symbol]\n",
    "            order = atom.getBondOrdersForAtom()\n",
    "\n",
    "            num_H_to_add = max_val_e - atom.radicalElectrons - 2 * atom.lonePairs - int(\n",
    "                order) - atom.charge\n",
    "\n",
    "            for index in xrange(num_H_to_add):\n",
    "                a = Atom(element='H', radicalElectrons=0, charge=0, label='', lonePairs=0)\n",
    "                b = Bond(atom, a, 'S')\n",
    "                newAtoms.append(a)\n",
    "                atom.bonds[a] = b\n",
    "                a.bonds[atom] = b\n",
    "        mol.vertices.extend(newAtoms)\n",
    "    \n",
    "    isomorphic_isomers = [mol]# resonance isomers that are isomorphic to the parameter isomer.\n",
    "\n",
    "    isomers = [mol]\n",
    "       \n",
    "\n",
    "    # Iterate over resonance isomers\n",
    "    index = 0\n",
    "    while index < len(isomers):\n",
    "  #  while index < len(isomers) and index < 20:\n",
    "        isomer = isomers[index]\n",
    "        \n",
    "        newIsomers = []\n",
    "        for algo in populateResonanceAlgorithms():\n",
    "            newIsomers.extend(algo(isomer))\n",
    "            \n",
    "        for newIsomer in newIsomers:\n",
    "            # Append to isomer list if unique\n",
    "            for isom in isomers:\n",
    "                if isom.copy(deep=True).isIsomorphic(newIsomer.copy(deep=True)):\n",
    "                    isomorphic_isomers.append(newIsomer)\n",
    "                    break\n",
    "            else:\n",
    "                if newIsomer not in isomers:\n",
    "                    isomers.append(newIsomer)        \n",
    "                    \n",
    "        # Move to next resonance isomer\n",
    "        index += 1\n",
    "\n",
    "        \n",
    "    print \"before removing H:\"\n",
    "    for isomer in isomorphic_isomers:\n",
    "        display(isomer)\n",
    "        print isomer.toAdjacencyList()\n",
    "\n",
    "    if saturateH:  # remove hydrogens before returning isomorphic_isomers\n",
    "        for isomer in isomorphic_isomers:\n",
    "            hydrogens = filter(lambda at: at.number == 1, isomer.atoms)\n",
    "            [isomer.removeAtom(h) for h in hydrogens]\n",
    "        \n",
    "        \n",
    "    return isomorphic_isomers"
   ]
  },
  {
   "cell_type": "code",
   "execution_count": 9,
   "metadata": {
    "scrolled": false
   },
   "outputs": [
    {
     "name": "stdout",
     "output_type": "stream",
     "text": [
      "aug_inchi_expected:  C2H3O3/c1-2(3)5-4/h4H,1H2/u1\n",
      "before removing H:\n"
     ]
    },
    {
     "data": {
      "image/png": "[encoded data removed]",
      "text/plain": [
       "Molecule(SMILES=\"C=C([O])OO\")"
      ]
     },
     "metadata": {},
     "output_type": "display_data"
    },
    {
     "name": "stdout",
     "output_type": "stream",
     "text": [
      "multiplicity 2\n",
      "1 C u0 p0 c0 {2,D} {3,S} {5,S}\n",
      "2 C u0 p0 c0 {1,D} {6,S} {7,S}\n",
      "3 O u0 p2 c0 {1,S} {4,S}\n",
      "4 O u0 p2 c0 {3,S} {8,S}\n",
      "5 O u1 p2 c0 {1,S}\n",
      "6 H u0 p0 c0 {2,S}\n",
      "7 H u0 p0 c0 {2,S}\n",
      "8 H u0 p0 c0 {4,S}\n",
      "\n"
     ]
    },
    {
     "data": {
      "image/png": "[encoded data removed]",
      "text/plain": [
       "Molecule(SMILES=\"[CH2]C(=O)OO\")"
      ]
     },
     "metadata": {},
     "output_type": "display_data"
    },
    {
     "name": "stdout",
     "output_type": "stream",
     "text": [
      "multiplicity 2\n",
      "1 C u0 p0 c0 {2,S} {3,S} {5,D}\n",
      "2 C u1 p0 c0 {1,S} {6,S} {7,S}\n",
      "3 O u0 p2 c0 {1,S} {4,S}\n",
      "4 O u0 p2 c0 {3,S} {8,S}\n",
      "5 O u0 p2 c0 {1,D}\n",
      "6 H u0 p0 c0 {2,S}\n",
      "7 H u0 p0 c0 {2,S}\n",
      "8 H u0 p0 c0 {4,S}\n",
      "\n"
     ]
    },
    {
     "data": {
      "image/png": "[encoded data removed]",
      "text/plain": [
       "Molecule(SMILES=\"[CH2]C(=O)OO\")"
      ]
     },
     "metadata": {},
     "output_type": "display_data"
    },
    {
     "name": "stdout",
     "output_type": "stream",
     "text": [
      "multiplicity 2\n",
      "1 C u0 p0 c0 {2,S} {3,S} {5,D}\n",
      "2 C u1 p0 c0 {1,S} {6,S} {7,S}\n",
      "3 O u0 p2 c0 {1,S} {4,S}\n",
      "4 O u0 p2 c0 {3,S} {8,S}\n",
      "5 O u0 p2 c0 {1,D}\n",
      "6 H u0 p0 c0 {2,S}\n",
      "7 H u0 p0 c0 {2,S}\n",
      "8 H u0 p0 c0 {4,S}\n",
      "\n"
     ]
    },
    {
     "data": {
      "image/png": "[encoded data removed]",
      "text/plain": [
       "Molecule(SMILES=\"[CH2]C(O)OO\")"
      ]
     },
     "metadata": {},
     "output_type": "display_data"
    },
    {
     "name": "stdout",
     "output_type": "stream",
     "text": [
      "multiplicity 2\n",
      "1 C u0 p0 c+1 {2,S} {3,S} {5,S}\n",
      "2 C u1 p0 c0 {1,S} {6,S} {7,S}\n",
      "3 O u0 p2 c0 {1,S} {4,S}\n",
      "4 O u0 p2 c0 {3,S} {8,S}\n",
      "5 O u0 p3 c-1 {1,S}\n",
      "6 H u0 p0 c0 {2,S}\n",
      "7 H u0 p0 c0 {2,S}\n",
      "8 H u0 p0 c0 {4,S}\n",
      "\n"
     ]
    },
    {
     "data": {
      "image/png": "[encoded data removed]",
      "text/plain": [
       "Molecule(SMILES=\"[CH2]C(O)=OO\")"
      ]
     },
     "metadata": {},
     "output_type": "display_data"
    },
    {
     "name": "stdout",
     "output_type": "stream",
     "text": [
      "multiplicity 2\n",
      "1 C u0 p0 c0 {2,S} {3,D} {5,S}\n",
      "2 C u1 p0 c0 {1,S} {6,S} {7,S}\n",
      "3 O u0 p1 c+1 {1,D} {4,S}\n",
      "4 O u0 p2 c0 {3,S} {8,S}\n",
      "5 O u0 p3 c-1 {1,S}\n",
      "6 H u0 p0 c0 {2,S}\n",
      "7 H u0 p0 c0 {2,S}\n",
      "8 H u0 p0 c0 {4,S}\n",
      "\n",
      "minmol:\n"
     ]
    },
    {
     "data": {
      "image/png": "[encoded data removed]",
      "text/plain": [
       "Molecule(SMILES=\"[CH2]C(=O)OO\")"
      ]
     },
     "metadata": {},
     "output_type": "display_data"
    },
    {
     "name": "stdout",
     "output_type": "stream",
     "text": [
      "multiplicity 2\n",
      "1 C u0 p0 c0 {2,S} {3,S} {5,D}\n",
      "2 C u1 p0 c0 {1,S}\n",
      "3 O u0 p2 c0 {1,S} {4,S}\n",
      "4 O u0 p2 c0 {3,S}\n",
      "5 O u0 p2 c0 {1,D}\n",
      "\n",
      "before removing H:\n"
     ]
    },
    {
     "data": {
      "image/png": "[encoded data removed]",
      "text/plain": [
       "Molecule(SMILES=\"[CH2]C(=O)OO\")"
      ]
     },
     "metadata": {},
     "output_type": "display_data"
    },
    {
     "name": "stdout",
     "output_type": "stream",
     "text": [
      "multiplicity 2\n",
      "1 C u0 p0 c0 {2,S} {3,S} {5,D}\n",
      "2 C u1 p0 c0 {1,S} {6,S} {7,S}\n",
      "3 O u0 p2 c0 {1,S} {4,S}\n",
      "4 O u0 p2 c0 {3,S} {8,S}\n",
      "5 O u0 p2 c0 {1,D}\n",
      "6 H u0 p0 c0 {2,S}\n",
      "7 H u0 p0 c0 {2,S}\n",
      "8 H u0 p0 c0 {4,S}\n",
      "\n"
     ]
    },
    {
     "data": {
      "image/png": "[encoded data removed]",
      "text/plain": [
       "Molecule(SMILES=\"[CH2]C(=O)OO\")"
      ]
     },
     "metadata": {},
     "output_type": "display_data"
    },
    {
     "name": "stdout",
     "output_type": "stream",
     "text": [
      "multiplicity 2\n",
      "1 C u0 p0 c0 {2,S} {3,S} {5,D}\n",
      "2 C u1 p0 c0 {1,S} {6,S} {7,S}\n",
      "3 O u0 p2 c0 {1,S} {4,S}\n",
      "4 O u0 p2 c0 {3,S} {8,S}\n",
      "5 O u0 p2 c0 {1,D}\n",
      "6 H u0 p0 c0 {2,S}\n",
      "7 H u0 p0 c0 {2,S}\n",
      "8 H u0 p0 c0 {4,S}\n",
      "\n"
     ]
    },
    {
     "data": {
      "image/png": "[encoded data removed]",
      "text/plain": [
       "Molecule(SMILES=\"C=C([O])OO\")"
      ]
     },
     "metadata": {},
     "output_type": "display_data"
    },
    {
     "name": "stdout",
     "output_type": "stream",
     "text": [
      "multiplicity 2\n",
      "1 C u0 p0 c0 {2,D} {3,S} {5,S}\n",
      "2 C u0 p0 c0 {1,D} {6,S} {7,S}\n",
      "3 O u0 p2 c0 {1,S} {4,S}\n",
      "4 O u0 p2 c0 {3,S} {8,S}\n",
      "5 O u1 p2 c0 {1,S}\n",
      "6 H u0 p0 c0 {2,S}\n",
      "7 H u0 p0 c0 {2,S}\n",
      "8 H u0 p0 c0 {4,S}\n",
      "\n"
     ]
    },
    {
     "data": {
      "image/png": "[encoded data removed]",
      "text/plain": [
       "Molecule(SMILES=\"[CH2]C(O)OO\")"
      ]
     },
     "metadata": {},
     "output_type": "display_data"
    },
    {
     "name": "stdout",
     "output_type": "stream",
     "text": [
      "multiplicity 2\n",
      "1 C u0 p0 c+1 {2,S} {3,S} {5,S}\n",
      "2 C u1 p0 c0 {1,S} {6,S} {7,S}\n",
      "3 O u0 p2 c0 {1,S} {4,S}\n",
      "4 O u0 p2 c0 {3,S} {8,S}\n",
      "5 O u0 p3 c-1 {1,S}\n",
      "6 H u0 p0 c0 {2,S}\n",
      "7 H u0 p0 c0 {2,S}\n",
      "8 H u0 p0 c0 {4,S}\n",
      "\n"
     ]
    },
    {
     "data": {
      "image/png": "[encoded data removed]",
      "text/plain": [
       "Molecule(SMILES=\"[CH2]C(O)OO\")"
      ]
     },
     "metadata": {},
     "output_type": "display_data"
    },
    {
     "name": "stdout",
     "output_type": "stream",
     "text": [
      "multiplicity 2\n",
      "1 C u0 p0 c+1 {2,S} {3,S} {5,S}\n",
      "2 C u1 p0 c0 {1,S} {6,S} {7,S}\n",
      "3 O u0 p2 c0 {1,S} {4,S}\n",
      "4 O u0 p2 c0 {3,S} {8,S}\n",
      "5 O u0 p3 c-1 {1,S}\n",
      "6 H u0 p0 c0 {2,S}\n",
      "7 H u0 p0 c0 {2,S}\n",
      "8 H u0 p0 c0 {4,S}\n",
      "\n"
     ]
    },
    {
     "data": {
      "image/png": "[encoded data removed]",
      "text/plain": [
       "Molecule(SMILES=\"[CH2]C(O)=OO\")"
      ]
     },
     "metadata": {},
     "output_type": "display_data"
    },
    {
     "name": "stdout",
     "output_type": "stream",
     "text": [
      "multiplicity 2\n",
      "1 C u0 p0 c0 {2,S} {3,D} {5,S}\n",
      "2 C u1 p0 c0 {1,S} {6,S} {7,S}\n",
      "3 O u0 p1 c+1 {1,D} {4,S}\n",
      "4 O u0 p2 c0 {3,S} {8,S}\n",
      "5 O u0 p3 c-1 {1,S}\n",
      "6 H u0 p0 c0 {2,S}\n",
      "7 H u0 p0 c0 {2,S}\n",
      "8 H u0 p0 c0 {4,S}\n",
      "\n",
      "minmol:\n"
     ]
    },
    {
     "data": {
      "image/png": "[encoded data removed]",
      "text/plain": [
       "Molecule(SMILES=\"[CH2]C(=O)OO\")"
      ]
     },
     "metadata": {},
     "output_type": "display_data"
    },
    {
     "name": "stdout",
     "output_type": "stream",
     "text": [
      "multiplicity 2\n",
      "1 C u0 p0 c0 {2,S} {3,S} {5,D}\n",
      "2 C u1 p0 c0 {1,S}\n",
      "3 O u0 p2 c0 {1,S} {4,S}\n",
      "4 O u0 p2 c0 {3,S}\n",
      "5 O u0 p2 c0 {1,D}\n",
      "\n",
      "aug_inchi_computed:  C2H3O3/c1-2(3)5-4/h4H,1H2/u2\n",
      "\n",
      "Error: aug_inchi_expected != aug_inchi_computed\n"
     ]
    },
    {
     "data": {
      "image/png": "[encoded data removed]",
      "text/plain": [
       "Molecule(SMILES=\"C=C([O])OO\")"
      ]
     },
     "execution_count": 9,
     "metadata": {},
     "output_type": "execute_result"
    }
   ],
   "source": [
    "# inchiparsingTest.py, line 97, `def testC2H3O3(self):`\n",
    "if True:\n",
    "    if True:\n",
    "        inchi = 'C2H3O3/c1-2(3)5-4/h4H,1H2'\n",
    "        u_indices = [1]        \n",
    "        \n",
    "#self.compare(inchi, u_indices)\n",
    "compare_tst(inchi, u_indices)\n"
   ]
  },
  {
   "cell_type": "code",
   "execution_count": null,
   "metadata": {
    "collapsed": true,
    "scrolled": true
   },
   "outputs": [],
   "source": [
    "# inchiparsingTest.py, line 98, `def testC2H3O3(self):`\n",
    "if True:\n",
    "    if True:\n",
    "        inchi = 'C5H6O/c6-5-3-1-2-4-5/h1-3,5H,4H2'\n",
    "        u_indices = [2, 6]        \n",
    "        \n",
    "#self.compare(inchi, u_indices)\n",
    "compare_tst(inchi, u_indices)"
   ]
  },
  {
   "cell_type": "code",
   "execution_count": null,
   "metadata": {
    "collapsed": true
   },
   "outputs": [],
   "source": [
    "isomers"
   ]
  },
  {
   "cell_type": "code",
   "execution_count": null,
   "metadata": {
    "collapsed": true
   },
   "outputs": [],
   "source": []
  },
  {
   "cell_type": "code",
   "execution_count": null,
   "metadata": {
    "collapsed": true
   },
   "outputs": [],
   "source": []
  },
  {
   "cell_type": "code",
   "execution_count": null,
   "metadata": {
    "collapsed": true
   },
   "outputs": [],
   "source": []
  },
  {
   "cell_type": "code",
   "execution_count": null,
   "metadata": {
    "collapsed": true
   },
   "outputs": [],
   "source": []
  },
  {
   "cell_type": "code",
   "execution_count": null,
   "metadata": {
    "collapsed": true
   },
   "outputs": [],
   "source": []
  },
  {
   "cell_type": "code",
   "execution_count": null,
   "metadata": {
    "collapsed": true
   },
   "outputs": [],
   "source": []
  },
  {
   "cell_type": "code",
   "execution_count": null,
   "metadata": {
    "collapsed": true
   },
   "outputs": [],
   "source": []
  },
  {
   "cell_type": "code",
   "execution_count": null,
   "metadata": {
    "collapsed": true
   },
   "outputs": [],
   "source": []
  },
  {
   "cell_type": "code",
   "execution_count": null,
   "metadata": {
    "collapsed": true
   },
   "outputs": [],
   "source": []
  }
 ],
 "metadata": {
  "kernelspec": {
   "display_name": "rmg_env",
   "language": "python",
   "name": "rmg_env"
  },
  "language_info": {
   "codemirror_mode": {
    "name": "ipython",
    "version": 2
   },
   "file_extension": ".py",
   "mimetype": "text/x-python",
   "name": "python",
   "nbconvert_exporter": "python",
   "pygments_lexer": "ipython2",
   "version": "2.7.13"
  }
 },
 "nbformat": 4,
 "nbformat_minor": 2
}
