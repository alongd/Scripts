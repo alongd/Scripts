{
 "cells": [
  {
   "cell_type": "code",
   "execution_count": 1,
   "metadata": {
    "collapsed": true
   },
   "outputs": [],
   "source": [
    "from rmgpy import settings\n",
    "from rmgpy.data.rmg import RMGDatabase, database\n",
    "from rmgpy.rmg.main import RMG\n",
    "from rmgpy.rmg.model import Species\n",
    "from rmgpy.data.thermo import *\n",
    "from rmgpy.molecule.molecule import Molecule\n",
    "import rmgpy\n",
    "import rmgpy.molecule.element as elements\n",
    "from IPython.display import display"
   ]
  },
  {
   "cell_type": "code",
   "execution_count": 2,
   "metadata": {},
   "outputs": [
    {
     "data": {
      "image/png": "[encoded data removed]",
      "text/plain": [
       "Molecule(SMILES=\"C1=Cc2ccccc2CC1\")"
      ]
     },
     "metadata": {},
     "output_type": "display_data"
    },
    {
     "name": "stdout",
     "output_type": "stream",
     "text": [
      "atom C:\n",
      "valence_electron: 4, order: 4.0, charge: 0\n",
      "atom C:\n",
      "valence_electron: 4, order: 4.0, charge: 0\n",
      "atom C:\n",
      "valence_electron: 4, order: 3.0, charge: 1\n",
      "atom C:\n",
      "valence_electron: 4, order: 3.0, charge: 1\n",
      "atom C:\n",
      "valence_electron: 4, order: 2.0, charge: 2\n",
      "atom C:\n",
      "valence_electron: 4, order: 3.0, charge: 1\n",
      "atom C:\n",
      "valence_electron: 4, order: 3.0, charge: 1\n",
      "atom C:\n",
      "valence_electron: 4, order: 2.0, charge: 2\n",
      "atom C:\n",
      "valence_electron: 4, order: 3.0, charge: 1\n",
      "atom C:\n",
      "valence_electron: 4, order: 3.0, charge: 1\n"
     ]
    },
    {
     "data": {
      "image/png": "[encoded data removed]",
      "text/plain": [
       "Molecule(SMILES=\"C1=Cc2ccccc2CC1\")"
      ]
     },
     "metadata": {},
     "output_type": "display_data"
    }
   ],
   "source": [
    "smiles = 'C1C=C2C=CC=C3C=CC4=CC=CC=1C4=C23'\n",
    "spe = Species().fromSMILES(smiles)\n",
    "spe.generateResonanceIsomers()\n",
    "\n",
    "spe.molecule[0].update()\n",
    "\n",
    "\n",
    "for mol in spe.molecule:\n",
    "    sssr0 = mol.getSmallestSetOfSmallestRings()\n",
    "    aromaticRingNum = 0\n",
    "    for sr0 in sssr0:\n",
    "        sr0mol = Molecule(atoms=sr0)\n",
    "        if isAromaticRing(sr0mol):\n",
    "            aromaticRingNum += 1\n",
    "    if aromaticRingNum == 2:\n",
    "        break\n",
    "\n",
    "polyring = mol.getDisparateRings()[1][0]\n",
    "\n",
    "\n",
    "if True:\n",
    "    submol, _ = convertRingToSubMolecule(polyring)\n",
    "    SSSR = submol.getDeterministicSmallestSetOfSmallestRings()\n",
    "\n",
    "    ringPairWithCommonAtomsList = []\n",
    "    ringOccurancesDict = {}\n",
    "    \n",
    "    # Initialize ringOccuranceDict\n",
    "    for ring in SSSR:\n",
    "        ringOccurancesDict[tuple(ring)] = 0\n",
    "\n",
    "    ringNum = len(SSSR)\n",
    "    for i in range(ringNum):\n",
    "        for j in range(i+1,ringNum):\n",
    "            if commonAtoms(SSSR[i], SSSR[j]):\n",
    "                # Copy the SSSR's again because these ones are going to be merged into bicyclics\n",
    "                # and manipulated (aromatic bonds have to be screened and changed to single if needed)\n",
    "                SSSRi, SSSRj, mergedRing = getCopyFromTwoRingsWithCommonAtoms(SSSR[i], SSSR[j])\n",
    "                ringPairWithCommonAtomsList.append([SSSRi, SSSRj, mergedRing])\n",
    "                # Save the single ring SSSRs that appear in bicyclics using the original copy\n",
    "                # because they will be manipulated (differently) in __addPolyRingCorrectionThermoDataFromHeuristic\n",
    "                ringOccurancesDict[tuple(SSSR[i])] += 1\n",
    "                ringOccurancesDict[tuple(SSSR[j])] += 1\n",
    "\n",
    "    bicyclicsMergedFromRingPair = []\n",
    "    # pre-process 2-ring cores\n",
    "    for ringA, ringB, mergedRing in ringPairWithCommonAtomsList:\n",
    "        submolA = Molecule(atoms=ringA)\n",
    "        submolB = Molecule(atoms=ringB)\n",
    "        isA_aromatic = isAromaticRing(submolA)\n",
    "        isB_aromatic = isAromaticRing(submolB)\n",
    "        # if ringA and ringB are both aromatic or not aromatic\n",
    "        # don't need to do anything extra\n",
    "        if (isA_aromatic and isB_aromatic):\n",
    "            pass\n",
    "        elif (not isA_aromatic and not isB_aromatic):\n",
    "            aromaticBonds_inA = findAromaticBondsFromSubMolecule(submolA)\n",
    "            for aromaticBond_inA in aromaticBonds_inA:\n",
    "                aromaticBond_inA.setOrderNum(1)\n",
    "\n",
    "            aromaticBonds_inB = findAromaticBondsFromSubMolecule(submolB)\n",
    "            for aromaticBond_inB in aromaticBonds_inB:\n",
    "                aromaticBond_inB.setOrderNum(1)\n",
    "        elif isA_aromatic:\n",
    "            aromaticBonds_inB = findAromaticBondsFromSubMolecule(submolB)\n",
    "            for aromaticBond_inB in aromaticBonds_inB:\n",
    "                # Make sure the aromatic bond in ringB is in ringA, and both ringB atoms are in ringA \n",
    "                # If so, preserve the B bond status, otherwise change to single bond order\n",
    "                if (aromaticBond_inB.atom1 in submolA.atoms) and (aromaticBond_inB.atom2 in submolA.atoms) and (submolA.hasBond(aromaticBond_inB.atom1, aromaticBond_inB.atom2)):\n",
    "                    pass\n",
    "                else:\n",
    "                    aromaticBond_inB.setOrderNum(1)\n",
    "        else:\n",
    "            aromaticBonds_inA = findAromaticBondsFromSubMolecule(submolA)\n",
    "            for aromaticBond_inA in aromaticBonds_inA:\n",
    "                if (aromaticBond_inA.atom1 in submolB.atoms) and (aromaticBond_inA.atom2 in submolB.atoms) and (submolB.hasBond(aromaticBond_inA.atom1, aromaticBond_inA.atom2)):\n",
    "                    pass\n",
    "                else:\n",
    "                    aromaticBond_inA.setOrderNum(1)\n",
    "    #    mergedRing.update()#\n",
    "     #   bicyclicsMergedFromRingPair.append(mergedRing)\n",
    "\n",
    "display(mergedRing)\n",
    "        \n",
    "for atom in mergedRing.atoms:\n",
    "    print \"atom {0}:\".format(atom)\n",
    "    valence_electron = elements.PeriodicSystem.valence_electrons[atom.symbol]\n",
    "    order = atom.getBondOrdersForAtom()\n",
    "    atom.charge = valence_electron - order - atom.radicalElectrons - 2*atom.lonePairs\n",
    "    print \"valence_electron: {0}, order: {1}, charge: {2}\".format(valence_electron,order,atom.charge)\n",
    "    \n",
    "display(mergedRing)"
   ]
  },
  {
   "cell_type": "code",
   "execution_count": 26,
   "metadata": {},
   "outputs": [
    {
     "data": {
      "image/png": "[encoded data removed]",
      "text/plain": [
       "Molecule(SMILES=\"C1=Cc2ccccc2CC1\")"
      ]
     },
     "execution_count": 26,
     "metadata": {},
     "output_type": "execute_result"
    }
   ],
   "source": [
    "mergedRing"
   ]
  },
  {
   "cell_type": "code",
   "execution_count": 17,
   "metadata": {},
   "outputs": [
    {
     "data": {
      "image/png": "[encoded data removed]",
      "text/plain": [
       "Species(label=\"\", molecule=[Molecule(SMILES=\"C1=CC2=CC=C3C=CC=C4C=CC(=C1)C2=C43\"), Molecule(SMILES=\"c1cc2ccc3cccc4ccc(c1)c2c34\"), Molecule(SMILES=\"C1=Cc2cccc3C=Cc4cccc1c4-c23\")])"
      ]
     },
     "execution_count": 17,
     "metadata": {},
     "output_type": "execute_result"
    }
   ],
   "source": [
    "spe"
   ]
  },
  {
   "cell_type": "code",
   "execution_count": null,
   "metadata": {
    "collapsed": true
   },
   "outputs": [],
   "source": []
  }
 ],
 "metadata": {
  "kernelspec": {
   "display_name": "rmg_env",
   "language": "python",
   "name": "rmg_env"
  },
  "language_info": {
   "codemirror_mode": {
    "name": "ipython",
    "version": 2
   },
   "file_extension": ".py",
   "mimetype": "text/x-python",
   "name": "python",
   "nbconvert_exporter": "python",
   "pygments_lexer": "ipython2",
   "version": "2.7.13"
  }
 },
 "nbformat": 4,
 "nbformat_minor": 2
}
