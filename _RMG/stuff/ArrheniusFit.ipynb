{
 "cells": [
  {
   "cell_type": "code",
   "execution_count": 31,
   "metadata": {},
   "outputs": [],
   "source": [
    "#Fit the Arrhenius parameters to a set of rate coefficient data `klist`\n",
    "#in units of `kunits` corresponding to a set of temperatures `Tlist` in \n",
    "#K. A linear least-squares fit is used, which guarantees that the \n",
    "#resulting parameters provide the best possible approximation to the \n",
    "#data.\n",
    "\n",
    "import numpy.linalg\n",
    "import scipy.stats\n",
    "import math\n",
    "\n",
    "Tlist = [300.0, 500.0, 600.0, 700.0, 850.0, 1000.0, 1250.0, 1500.0, 1750.0, 2000.0, 2500.0]\n",
    "klist = [4.39849e+07,2.56863e+10,1.40534e+11,4.94148e+11,1.97193e+12,5.41949e+12,1.8048e+13,4.21394e+13,7.96282e+13,1.31182e+14,2.75301e+14]\n",
    "kunits = ['s-1']\n",
    "T0=1\n",
    "weights=None\n",
    "hreeParams=True\n",
    "constantsR = 0.0083144598  # kJ / mol K"
   ]
  },
  {
   "cell_type": "code",
   "execution_count": 33,
   "metadata": {},
   "outputs": [
    {
     "name": "stdout",
     "output_type": "stream",
     "text": [
      "Arrhenious fit:\n",
      "\n",
      "A = 6090317272.24 s-1\n",
      "\n",
      "n = 1.58940932787\n",
      "\n",
      "T0 = 1 K\n",
      "\n",
      "Ea = 0.0349569642686 kJ/mol\n",
      "\n",
      "\n",
      "Fitted to 11 data points; dA = *|/ 1.33114, dn = +|- 0.0367653, dEa = +|- 0.000229097 kJ/mol\n",
      "\n"
     ]
    }
   ],
   "source": [
    "if threeParams:\n",
    "    A = numpy.zeros((len(Tlist),3), numpy.float64)\n",
    "    A[:,0] = numpy.ones_like(Tlist)\n",
    "    A[:,1] = numpy.log(Tlist)\n",
    "    A[:,2] = [-1.0 / constantsR / x for x in Tlist]\n",
    "else:\n",
    "    A = numpy.zeros((len(Tlist),2), numpy.float64)\n",
    "    A[:,0] = numpy.ones_like(Tlist)\n",
    "    A[:,1] = -1.0 / constants.R / Tlist\n",
    "b = numpy.log(klist)\n",
    "if weights is not None:\n",
    "    for n in range(b.size):\n",
    "        A[n,:] *= weights[n]\n",
    "        b[n] *= weights[n]\n",
    "x, residues, rank, s = numpy.linalg.lstsq(A,b)\n",
    "\n",
    "# Determine covarianace matrix to obtain parameter uncertainties\n",
    "count = len(klist)\n",
    "cov = residues[0] / (count - 3) * numpy.linalg.inv(numpy.dot(A.T, A))\n",
    "t = scipy.stats.t.ppf(0.975, count - 3)\n",
    "            \n",
    "if not threeParams:\n",
    "    x = numpy.array([x[0], 0, x[1]])\n",
    "    cov = numpy.array([[cov[0,0], 0, cov[0,1]], [0,0,0], [cov[1,0], 0, cov[1,1]]])\n",
    "        \n",
    "A = (math.exp(float(x[0])))\n",
    "n = x[1]\n",
    "Ea = (x[2] * 0.001) # kJ/mol\n",
    "Tmin = (numpy.min(Tlist),\"K\")\n",
    "Tmax = (numpy.max(Tlist),\"K\")\n",
    "comment = 'Fitted to {0:d} data points; dA = *|/ {1:g}, dn = +|- {2:g}, dEa = +|- {3:g} kJ/mol'.format(\n",
    "    len(Tlist),\n",
    "    math.exp(math.sqrt(cov[0,0])),\n",
    "    math.sqrt(cov[1,1]),\n",
    "    math.sqrt(cov[2,2]) * 0.001,\n",
    ")\n",
    "\n",
    "print(\"\"\"Arrhenious fit:\\n\n",
    "A = {0} {1}\\n\n",
    "n = {2}\\n\n",
    "T0 = {3} K\\n\n",
    "Ea = {4} kJ/mol\\n\n",
    "\\n{5}\n",
    "\"\"\".format(A,kunits[0],n,T0,Ea,comment))"
   ]
  },
  {
   "cell_type": "code",
   "execution_count": null,
   "metadata": {
    "collapsed": true
   },
   "outputs": [],
   "source": []
  },
  {
   "cell_type": "code",
   "execution_count": null,
   "metadata": {
    "collapsed": true
   },
   "outputs": [],
   "source": []
  }
 ],
 "metadata": {
  "kernelspec": {
   "display_name": "rmg_env",
   "language": "python",
   "name": "rmg_env"
  },
  "language_info": {
   "codemirror_mode": {
    "name": "ipython",
    "version": 2
   },
   "file_extension": ".py",
   "mimetype": "text/x-python",
   "name": "python",
   "nbconvert_exporter": "python",
   "pygments_lexer": "ipython2",
   "version": "2.7.13"
  }
 },
 "nbformat": 4,
 "nbformat_minor": 2
}
