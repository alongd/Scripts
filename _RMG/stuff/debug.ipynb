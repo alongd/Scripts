{
 "cells": [
  {
   "cell_type": "code",
   "execution_count": 4,
   "metadata": {
    "collapsed": true
   },
   "outputs": [],
   "source": [
    "import rmgpy.chemkin as chemkin\n",
    "import os\n",
    "\n",
    "folder = '/home/alongd/Code/RMG-Py/rmgpy/test_data/chemkin/chemkin_py'\n",
    "\n",
    "chemkinPath = os.path.join(folder, 'NC', 'chem.inp')\n",
    "dictionaryPath = os.path.join(folder, 'NC', 'species_dictionary.txt')"
   ]
  },
  {
   "cell_type": "code",
   "execution_count": 5,
   "metadata": {},
   "outputs": [
    {
     "ename": "KeyboardInterrupt",
     "evalue": "",
     "output_type": "error",
     "traceback": [
      "\u001b[0;31m---------------------------------------------------------------------------\u001b[0m",
      "\u001b[0;31mKeyboardInterrupt\u001b[0m                         Traceback (most recent call last)",
      "\u001b[0;32m<ipython-input-5-f91b523f08b7>\u001b[0m in \u001b[0;36m<module>\u001b[0;34m()\u001b[0m\n\u001b[1;32m      1\u001b[0m \u001b[0;31m# loadChemkinFile\u001b[0m\u001b[0;34m\u001b[0m\u001b[0;34m\u001b[0m\u001b[0m\n\u001b[0;32m----> 2\u001b[0;31m \u001b[0mspecies\u001b[0m\u001b[0;34m,\u001b[0m \u001b[0mreactions\u001b[0m \u001b[0;34m=\u001b[0m \u001b[0mchemkin\u001b[0m\u001b[0;34m.\u001b[0m\u001b[0mloadChemkinFile\u001b[0m\u001b[0;34m(\u001b[0m\u001b[0mchemkinPath\u001b[0m\u001b[0;34m,\u001b[0m \u001b[0mdictionaryPath\u001b[0m\u001b[0;34m,\u001b[0m \u001b[0museChemkinNames\u001b[0m\u001b[0;34m=\u001b[0m\u001b[0mTrue\u001b[0m\u001b[0;34m)\u001b[0m\u001b[0;34m\u001b[0m\u001b[0m\n\u001b[0m",
      "\u001b[0;32m/home/alongd/Code/RMG-Py/rmgpy/chemkin.pyc\u001b[0m in \u001b[0;36mloadChemkinFile\u001b[0;34m(path, dictionaryPath, transportPath, readComments, thermoPath, useChemkinNames)\u001b[0m\n\u001b[1;32m    857\u001b[0m     \u001b[0;31m# HTML output.\u001b[0m\u001b[0;34m\u001b[0m\u001b[0;34m\u001b[0m\u001b[0m\n\u001b[1;32m    858\u001b[0m     \u001b[0;32mif\u001b[0m \u001b[0mdictionaryPath\u001b[0m\u001b[0;34m:\u001b[0m\u001b[0;34m\u001b[0m\u001b[0m\n\u001b[0;32m--> 859\u001b[0;31m         \u001b[0mspeciesDict\u001b[0m \u001b[0;34m=\u001b[0m \u001b[0mloadSpeciesDictionary\u001b[0m\u001b[0;34m(\u001b[0m\u001b[0mdictionaryPath\u001b[0m\u001b[0;34m)\u001b[0m\u001b[0;34m\u001b[0m\u001b[0m\n\u001b[0m\u001b[1;32m    860\u001b[0m \u001b[0;34m\u001b[0m\u001b[0m\n\u001b[1;32m    861\u001b[0m     \u001b[0;32mwith\u001b[0m \u001b[0mopen\u001b[0m\u001b[0;34m(\u001b[0m\u001b[0mpath\u001b[0m\u001b[0;34m,\u001b[0m \u001b[0;34m'r+b'\u001b[0m\u001b[0;34m)\u001b[0m \u001b[0;32mas\u001b[0m \u001b[0mf\u001b[0m\u001b[0;34m:\u001b[0m\u001b[0;34m\u001b[0m\u001b[0m\n",
      "\u001b[0;32m/home/alongd/Code/RMG-Py/rmgpy/chemkin.pyc\u001b[0m in \u001b[0;36mloadSpeciesDictionary\u001b[0;34m(path)\u001b[0m\n\u001b[1;32m    756\u001b[0m                 \u001b[0;31m# Finish this adjacency list\u001b[0m\u001b[0;34m\u001b[0m\u001b[0;34m\u001b[0m\u001b[0m\n\u001b[1;32m    757\u001b[0m                 \u001b[0mspecies\u001b[0m \u001b[0;34m=\u001b[0m \u001b[0mSpecies\u001b[0m\u001b[0;34m(\u001b[0m\u001b[0;34m)\u001b[0m\u001b[0;34m.\u001b[0m\u001b[0mfromAdjacencyList\u001b[0m\u001b[0;34m(\u001b[0m\u001b[0madjlist\u001b[0m\u001b[0;34m)\u001b[0m\u001b[0;34m\u001b[0m\u001b[0m\n\u001b[0;32m--> 758\u001b[0;31m                 \u001b[0mspecies\u001b[0m\u001b[0;34m.\u001b[0m\u001b[0mgenerateResonanceIsomers\u001b[0m\u001b[0;34m(\u001b[0m\u001b[0;34m)\u001b[0m\u001b[0;34m\u001b[0m\u001b[0m\n\u001b[0m\u001b[1;32m    759\u001b[0m                 \u001b[0mlabel\u001b[0m \u001b[0;34m=\u001b[0m \u001b[0mspecies\u001b[0m\u001b[0;34m.\u001b[0m\u001b[0mlabel\u001b[0m\u001b[0;34m\u001b[0m\u001b[0m\n\u001b[1;32m    760\u001b[0m                 \u001b[0;32mfor\u001b[0m \u001b[0minert\u001b[0m \u001b[0;32min\u001b[0m \u001b[0minerts\u001b[0m\u001b[0;34m:\u001b[0m\u001b[0;34m\u001b[0m\u001b[0m\n",
      "\u001b[0;31mKeyboardInterrupt\u001b[0m: "
     ]
    }
   ],
   "source": [
    "# loadChemkinFile\n",
    "species, reactions = chemkin.loadChemkinFile_tst(chemkinPath, dictionaryPath, useChemkinNames=True)"
   ]
  },
  {
   "cell_type": "code",
   "execution_count": null,
   "metadata": {
    "collapsed": true
   },
   "outputs": [],
   "source": []
  }
 ],
 "metadata": {
  "kernelspec": {
   "display_name": "rmg_env",
   "language": "python",
   "name": "rmg_env"
  },
  "language_info": {
   "codemirror_mode": {
    "name": "ipython",
    "version": 2
   },
   "file_extension": ".py",
   "mimetype": "text/x-python",
   "name": "python",
   "nbconvert_exporter": "python",
   "pygments_lexer": "ipython2",
   "version": "2.7.13"
  }
 },
 "nbformat": 4,
 "nbformat_minor": 2
}
