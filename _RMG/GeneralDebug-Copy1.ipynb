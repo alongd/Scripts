{
 "cells": [
  {
   "cell_type": "code",
   "execution_count": 3,
   "metadata": {
    "collapsed": true
   },
   "outputs": [],
   "source": [
    "from rmgpy.data.rmg import RMGDatabase\n",
    "from rmgpy.chemkin import saveChemkinFile, saveSpeciesDictionary\n",
    "from rmgpy.rmg.model import Species\n",
    "from rmgpy import settings\n",
    "\n",
    "import os.path\n",
    "import logging\n",
    "import codecs\n",
    "from copy import deepcopy\n",
    "from IPython.display import display\n",
    "\n",
    "from rmgpy.constraints import failsSpeciesConstraints\n",
    "from rmgpy.data.base import Database, Entry, LogicNode, LogicOr, ForbiddenStructures,\\\n",
    "                            getAllCombinations\n",
    "from rmgpy.reaction import Reaction\n",
    "from rmgpy.kinetics import Arrhenius\n",
    "from rmgpy.molecule import Bond, GroupBond, Group, Molecule\n",
    "from rmgpy.species import Species\n",
    "import rmgpy.species as species\n",
    "\n",
    "from rmgpy.data.kinetics.common import saveEntry\n",
    "from rmgpy.data.kinetics.depository import KineticsDepository\n",
    "from rmgpy.data.kinetics.groups import KineticsGroups\n",
    "from rmgpy.data.kinetics.rules import KineticsRules\n",
    "import rmgpy.data.thermo as thermo\n",
    "from rmgpy.exceptions import InvalidActionError, ReactionPairsError, KineticsError,\\\n",
    "                             UndeterminableKineticsError, ForbiddenStructureException,\\\n",
    "                             KekulizationError, ActionError"
   ]
  },
  {
   "cell_type": "code",
   "execution_count": 21,
   "metadata": {},
   "outputs": [
    {
     "data": {
      "image/png": "[encoded data removed]",
      "text/plain": [
       "Species(label=\"\", molecule=[Molecule(SMILES=\"C=O\")])"
      ]
     },
     "metadata": {},
     "output_type": "display_data"
    },
    {
     "data": {
      "image/png": "[encoded data removed]",
      "text/plain": [
       "Molecule(SMILES=\"C=O\", multiplicity=-187)"
      ]
     },
     "metadata": {},
     "output_type": "display_data"
    },
    {
     "name": "stdout",
     "output_type": "stream",
     "text": [
      "C\n",
      "1.5\n",
      "1.0\n",
      "1.0\n",
      "O\n",
      "1.5\n"
     ]
    }
   ],
   "source": [
    "adj=\"\"\"1 C u0 p0 c0 {2,D} {3,S} {4,S}\n",
    "2 O u0 p2 c0 {1,D}\n",
    "3 H u0 p0 c0 {1,S}\n",
    "4 H u0 p0 c0 {1,S}\"\"\"\n",
    "\n",
    "spc = Species().fromAdjacencyList(adj)\n",
    "display(spc)\n",
    "\n",
    "newMol = spc.getResonanceHybrid()\n",
    "display(newMol)\n",
    "for atom in newMol.vertices:\n",
    "    if atom.isNonHydrogen():\n",
    "        print atom\n",
    "        for atom2, bond in atom.edges.items():\n",
    "            print bond.order"
   ]
  },
  {
   "cell_type": "code",
   "execution_count": 2,
   "metadata": {},
   "outputs": [
    {
     "data": {
      "image/png": "[encoded data removed]",
      "text/plain": [
       "Species(label=\"\", molecule=[Molecule(SMILES=\"C=O\")])"
      ]
     },
     "metadata": {},
     "output_type": "display_data"
    },
    {
     "data": {
      "image/png": "[encoded data removed]",
      "text/plain": [
       "Molecule(SMILES=\"C=O\")"
      ]
     },
     "metadata": {},
     "output_type": "display_data"
    },
    {
     "name": "stdout",
     "output_type": "stream",
     "text": [
      "C\n",
      "1.0\n",
      "1.0\n",
      "2.0\n",
      "O\n",
      "2.0\n"
     ]
    }
   ],
   "source": [
    "adj=\"\"\"1 C u0 p0 c0 {2,D} {3,S} {4,S}\n",
    "2 O u0 p2 c0 {1,D}\n",
    "3 H u0 p0 c0 {1,S}\n",
    "4 H u0 p0 c0 {1,S}\"\"\"\n",
    "\n",
    "spc = Species().fromAdjacencyList(adj)\n",
    "display(spc)\n",
    "\n",
    "newMol = spc.getResonanceHybrid()\n",
    "display(newMol)\n",
    "for atom in newMol.vertices:\n",
    "    if atom.isNonHydrogen():\n",
    "        print atom\n",
    "        for atom2, bond in atom.edges.items():\n",
    "            print bond.order"
   ]
  },
  {
   "cell_type": "code",
   "execution_count": 23,
   "metadata": {},
   "outputs": [
    {
     "data": {
      "text/plain": [
       "2"
      ]
     },
     "execution_count": 23,
     "metadata": {},
     "output_type": "execute_result"
    }
   ],
   "source": [
    "len([[Species(label=\"[O]\", molecule=[Molecule(SMILES=\"[O]\")])], [Species(label=\"O=S=O\", molecule=[Molecule(SMILES=\"O=S=O\")])]])\n"
   ]
  },
  {
   "cell_type": "code",
   "execution_count": 12,
   "metadata": {},
   "outputs": [],
   "source": [
    "smiles = 'O[N]'\n",
    "adj=\"\"\"multiplicity 3\n",
    "1 O u0 p2 c0 {2,S} {3,S}\n",
    "2 H u0 p0 c0 {1,S}\n",
    "3 N u2 p1 c0 {1,S}\"\"\"\n",
    "# mol = Molecule(SMILES=smiles)\n",
    "mol = Molecule().fromAdjacencyList(adj)"
   ]
  },
  {
   "cell_type": "code",
   "execution_count": 20,
   "metadata": {},
   "outputs": [
    {
     "name": "stdout",
     "output_type": "stream",
     "text": [
      "exploring:\n"
     ]
    },
    {
     "data": {
      "image/png": "[encoded data removed]",
      "text/plain": [
       "Molecule(SMILES=\"[OH-2][N+2]\")"
      ]
     },
     "metadata": {},
     "output_type": "display_data"
    },
    {
     "name": "stdout",
     "output_type": "stream",
     "text": [
      "\n",
      "\n",
      "\n",
      "molList:\n"
     ]
    },
    {
     "data": {
      "image/png": "[encoded data removed]",
      "text/plain": [
       "Molecule(SMILES=\"[OH-2][N+2]\")"
      ]
     },
     "metadata": {},
     "output_type": "display_data"
    }
   ],
   "source": [
    "molList = [mol]\n",
    "\n",
    "index = 0\n",
    "while index < len(molList):\n",
    "    molecule = molList[index]\n",
    "    newMolList = []\n",
    "    m = molList[index]\n",
    "    \n",
    "    print \"exploring:\"\n",
    "    display(m)\n",
    "    \n",
    "    isomers = []\n",
    "    \n",
    "    # findAllDelocalizationPaths\n",
    "    paths = []\n",
    "    for atom1 in m.vertices:\n",
    "        for atom2, bond12 in atom1.edges.items():\n",
    "            # Vinyl bond must be capable of gaining an order\n",
    "            if (bond12.isSingle() or bond12.isDouble()) and (atom1.radicalElectrons in [1, 2]):\n",
    "                for atom3, bond23 in atom2.edges.items():\n",
    "                    # Allyl bond must be capable of losing an order without breaking\n",
    "                    if atom1 is not atom3 and (bond23.isDouble() or bond23.isTriple()):\n",
    "                        paths.append([atom1, atom2, atom3, bond12, bond23])\n",
    "    \n",
    "    for atom1, atom2, atom3, bond12, bond23 in paths:\n",
    "        # Adjust to (potentially) new resonance isomer\n",
    "        atom1.decrementRadical()\n",
    "        atom3.incrementRadical()\n",
    "        bond12.incrementOrder()\n",
    "        bond23.decrementOrder()\n",
    "        # Make a copy of isomer\n",
    "        isomer = m.copy(deep=True)\n",
    "        # Also copy the connectivity values, since they are the same\n",
    "        # for all resonance forms\n",
    "        for index in range(len(mol.vertices)):\n",
    "            v1 = m.vertices[index]\n",
    "            v2 = isomer.vertices[index]\n",
    "            v2.connectivity1 = v1.connectivity1\n",
    "            v2.connectivity2 = v1.connectivity2\n",
    "            v2.connectivity3 = v1.connectivity3\n",
    "            v2.sortingLabel = v1.sortingLabel\n",
    "        # Restore current isomer\n",
    "        atom1.incrementRadical()\n",
    "        atom3.decrementRadical()\n",
    "        bond12.decrementOrder()\n",
    "        bond23.incrementOrder()\n",
    "#         print \"allyl isomer:\"\n",
    "#         display(isomer)\n",
    "        try:\n",
    "            isomer.updateAtomTypes(logSpecies=False)\n",
    "        except:\n",
    "            pass  # Don't append resonance structure if it creates an undefined atomType\n",
    "        else:\n",
    "            for atom in isomer.atoms:\n",
    "                print atom.atomType.label\n",
    "            isomers.append(isomer)\n",
    "    \n",
    "    \n",
    "    # findAllDelocalizationPathsLonePairRadical\n",
    "    paths = []\n",
    "    for atom1 in m.vertices:\n",
    "        if (atom1.isNitrogen() and atom1.radicalElectrons >= 1 and atom1.lonePairs in [0, 1]\n",
    "            or atom1.isSulfur() and atom1.radicalElectrons >= 1 and atom1.lonePairs in [0, 1, 2]):\n",
    "            for atom2, bond12 in atom1.edges.items():\n",
    "                if bond12.isSingle():\n",
    "                    if ((atom2.isNitrogen() and atom2.radicalElectrons == 0 and atom2.lonePairs in [1, 2])\n",
    "                        or (atom2.isOxygen() and atom2.radicalElectrons == 0 and atom2.lonePairs == 3)\n",
    "                        or (atom2.isSulfur() and atom2.radicalElectrons == 0 and atom2.lonePairs in [1, 2, 3])):\n",
    "                        paths.append([atom1, atom2])\n",
    "        # O is treated separately to avoid RO[::O.] <-> R[:O.+][:::O-]\n",
    "        elif atom1.isOxygen() and atom1.radicalElectrons >= 1 and atom1.lonePairs == 2:\n",
    "            for atom2, bond12 in atom1.edges.items():\n",
    "                if bond12.isSingle():\n",
    "                    if ((atom2.isNitrogen() and atom2.radicalElectrons == 0 and atom2.lonePairs in [1, 2])\n",
    "                        or (atom2.isSulfur() and atom2.radicalElectrons == 0 and atom2.lonePairs in [1, 2, 3])):\n",
    "                        paths.append([atom1, atom2])\n",
    "        \n",
    "    for atom1, atom2 in paths:\n",
    "        # Adjust to (potentially) new resonance isomer\n",
    "        atom1.decrementRadical()\n",
    "        atom1.incrementLonePairs()\n",
    "        atom1.updateCharge()\n",
    "        atom2.incrementRadical()\n",
    "        atom2.decrementLonePairs()\n",
    "        atom2.updateCharge()\n",
    "        # Make a copy of isomer\n",
    "        isomer = m.copy(deep=True)\n",
    "        # Also copy the connectivity values, since they are the same\n",
    "        # for all resonance forms\n",
    "        for index in range(len(mol.vertices)):\n",
    "            v1 = m.vertices[index]\n",
    "            v2 = isomer.vertices[index]\n",
    "            v2.connectivity1 = v1.connectivity1\n",
    "            v2.connectivity2 = v1.connectivity2\n",
    "            v2.connectivity3 = v1.connectivity3\n",
    "            v2.sortingLabel = v1.sortingLabel\n",
    "        # Restore current isomer\n",
    "        atom1.incrementRadical()\n",
    "        atom1.decrementLonePairs()\n",
    "        atom1.updateCharge()\n",
    "        atom2.decrementRadical()\n",
    "        atom2.incrementLonePairs()\n",
    "        atom2.updateCharge()\n",
    "#         print \"LPrad isomer:\"\n",
    "#         display(isomer)\n",
    "        try:\n",
    "            isomer.updateAtomTypes(logSpecies=False)\n",
    "        except:\n",
    "            pass  # Don't append resonance structure if it creates an undefined atomType\n",
    "        else:\n",
    "            for atom in isomer.atoms:\n",
    "                print atom.atomType.label\n",
    "            isomers.append(isomer)\n",
    "        \n",
    "        \n",
    "        \n",
    "    # findAllDelocalizationPathsLonePairMultipleBond\n",
    "    paths = []\n",
    "    for atom1 in m.vertices:\n",
    "        for atom2, bond12 in atom1.edges.items():\n",
    "            if (not (atom1.radicalElectrons and atom2.radicalElectrons)  # not allowing both atom1, atom2 to be radicals\n",
    "                and atom2.isNonHydrogen()):  # don't bother with hydrogen atoms\n",
    "                if bond12.isSingle() or bond12.isDouble():\n",
    "                    # Find paths in the direction <increasing> the bond order\n",
    "                    # atom1 must posses at least one lone pair to loose it\n",
    "                    if (((atom1.isNitrogen() or atom1.isSulfur()) and atom1.lonePairs in [1, 2, 3])\n",
    "                        or (atom1.isOxygen() and atom1.lonePairs in [2, 3])  # not allowing O p0\n",
    "                        and (atom2.radicalElectrons or atom2.charge > 0)):  # to increase the bond order atom2 must\n",
    "                        # either be a radical or have a positive charge\n",
    "                        paths.append([atom1, atom2, bond12, 1])  # direction = 1\n",
    "                    for atom3, bond23 in atom2.edges.items():  # check whether this is the two subsequent transformation case\n",
    "                        if (not (atom1.radicalElectrons or atom2.radicalElectrons or atom3.radicalElectrons)\n",
    "                                and (((atom3.isNitrogen() or atom3.isSulfur()) and atom3.lonePairs in [0, 1, 2])\n",
    "                                or (atom3.isOxygen() and atom3.lonePairs in [1, 2]))\n",
    "                                and not atom1 is atom3):  # not allowing O p0\n",
    "                            if atom2.atomType.label in ['N5ddc','N5tc']:\n",
    "                                paths.append([atom1, atom2, atom3, bond12, bond23, 3])  # direction = 3\n",
    "                if bond12.isDouble() or bond12.isTriple():\n",
    "                    # Find paths in the direction <decreasing> the bond order\n",
    "                    # atom1 gains a lone pair, hence cannot have more than two lone pairs\n",
    "                    if (((atom1.isNitrogen() or atom1.isSulfur()) and atom1.lonePairs in [0, 1, 2])\n",
    "                        or (atom1.isOxygen() and atom1.lonePairs in [1, 2])):  # not allowing O p0\n",
    "                        paths.append([atom1, atom2, bond12, 2])  # direction = 2\n",
    "                  \n",
    "    for atom1, atom2, bond12, direction in paths:\n",
    "        if atom1.radicalElectrons:  # the radical could be on either atom\n",
    "            atom1.decrementRadical()\n",
    "            atom2.incrementRadical()\n",
    "        elif atom2.radicalElectrons:\n",
    "            atom2.decrementRadical()\n",
    "            atom1.incrementRadical()\n",
    "        if direction == 1:  # The direction <increasing> the bond order\n",
    "            atom1.decrementLonePairs()\n",
    "            bond12.incrementOrder()\n",
    "        elif direction == 2:  # The direction <decreasing> the bond order\n",
    "            atom1.incrementLonePairs()\n",
    "            bond12.decrementOrder()\n",
    "        elif direction == 3:  # The two subsequent transformation case\n",
    "            atom1.decrementLonePairs()\n",
    "            bond12.incrementOrder()\n",
    "            atom3.incrementLonePairs()\n",
    "            bond23.decrementOrder()\n",
    "            atom3.updateCharge()\n",
    "        atom1.updateCharge()\n",
    "        atom2.updateCharge()\n",
    "        # Make a copy of isomer\n",
    "        isomer = m.copy(deep=True)\n",
    "        # Also copy the connectivity values, since they are the same\n",
    "        # for all resonance forms\n",
    "        for index in range(len(mol.vertices)):\n",
    "            v1 = m.vertices[index]\n",
    "            v2 = isomer.vertices[index]\n",
    "            v2.connectivity1 = v1.connectivity1\n",
    "            v2.connectivity2 = v1.connectivity2\n",
    "            v2.connectivity3 = v1.connectivity3\n",
    "            v2.sortingLabel = v1.sortingLabel\n",
    "        # Restore current isomer\n",
    "        if atom1.radicalElectrons:  # the radical could be on either atom\n",
    "            atom1.decrementRadical()\n",
    "            atom2.incrementRadical()\n",
    "        elif atom2.radicalElectrons:\n",
    "            atom2.decrementRadical()\n",
    "            atom1.incrementRadical()\n",
    "        if direction == 1:  # The direction <increasing> the bond order\n",
    "            atom1.incrementLonePairs()\n",
    "            bond12.decrementOrder()\n",
    "        elif direction == 2:  # The direction <decreasing> the bond order\n",
    "            atom1.decrementLonePairs()\n",
    "            bond12.incrementOrder()\n",
    "        elif direction == 3:  # The two subsequent transformation case, N5ddc <=> N5tc\n",
    "            atom1.incrementLonePairs()\n",
    "            bond12.decrementOrder()\n",
    "            atom3.decrementLonePairs()\n",
    "            bond23.incrementOrder()\n",
    "            atom3.updateCharge()\n",
    "        atom1.updateCharge()\n",
    "        atom2.updateCharge()\n",
    "#         print \"LPMB isomer:\"\n",
    "#         display(isomer)\n",
    "        try:\n",
    "            isomer.updateAtomTypes(logSpecies=False)\n",
    "        except:\n",
    "            pass  # Don't append resonance structure if it creates an undefined atomType\n",
    "        else:\n",
    "            for atom in isomer.atoms:\n",
    "                print atom.atomType.label\n",
    "            isomers.append(isomer)\n",
    "\n",
    "            \n",
    "            \n",
    "            \n",
    "    newMolList = isomers\n",
    "\n",
    "    for newMol in newMolList:\n",
    "        # Append to isomer list if unique\n",
    "        for mol in molList:\n",
    "            if mol.isIsomorphic(newMol):\n",
    "                print \"isomofphic:\"\n",
    "                display(newMol)\n",
    "                break\n",
    "        else:\n",
    "            molList.append(newMol)\n",
    "            print \"appending newMol:\"\n",
    "            display(newMol)\n",
    "            print \"len(newMol) = {0}\".format(len(newMol))\n",
    "\n",
    "    # Move to next resonance isomer\n",
    "    index += 1\n",
    "\n",
    "print \"\\n\\n\\nmolList:\"\n",
    "for molecule1 in molList:\n",
    "    display(molecule1)\n",
    "\n"
   ]
  },
  {
   "cell_type": "code",
   "execution_count": null,
   "metadata": {
    "collapsed": true
   },
   "outputs": [],
   "source": [
    "[[<Atom 'S'>, <Atom 'C'>, <Bond \"1.0\">, 1],\n",
    " [<Atom 'S'>, <Atom 'C.'>, <Bond \"1.0\">, 1],\n",
    " [<Atom 'S.'>, <Atom 'C'>, <Bond \"1.0\">, 1],\n",
    " [<Atom 'O'>, <Atom 'C'>, <Bond \"2.0\">, 2]]\n",
    "\n",
    "\n",
    "[[<Atom 'S'>, <Atom 'C'>, <Bond \"1.0\">, 1], \n",
    " [<Atom 'S'>, <Atom 'C.'>, <Bond \"1.0\">, 1], \n",
    " [<Atom 'S.'>, <Atom 'C'>, <Bond \"1.0\">, 1], \n",
    " [<Atom 'O'>, <Atom 'C'>, <Bond \"2.0\">, 2]]"
   ]
  },
  {
   "cell_type": "code",
   "execution_count": null,
   "metadata": {
    "collapsed": true
   },
   "outputs": [],
   "source": [
    "for isomer in isomers:\n",
    "    print mol1.isIsomorphic(isomer)"
   ]
  },
  {
   "cell_type": "code",
   "execution_count": null,
   "metadata": {
    "collapsed": true
   },
   "outputs": [],
   "source": [
    "display(mol)\n",
    "print mol.toAdjacencyList()\n",
    "display(mol1)\n",
    "print mol1.toAdjacencyList()"
   ]
  },
  {
   "cell_type": "code",
   "execution_count": null,
   "metadata": {
    "collapsed": true
   },
   "outputs": [],
   "source": []
  },
  {
   "cell_type": "code",
   "execution_count": null,
   "metadata": {
    "collapsed": true
   },
   "outputs": [],
   "source": []
  },
  {
   "cell_type": "code",
   "execution_count": null,
   "metadata": {
    "collapsed": true
   },
   "outputs": [],
   "source": []
  },
  {
   "cell_type": "code",
   "execution_count": null,
   "metadata": {
    "collapsed": true
   },
   "outputs": [],
   "source": [
    "database = RMGDatabase()\n",
    "database.load(\n",
    "            path = '/home/alongd/Code/RMG-database/input/',\n",
    "            thermoLibraries = '',\n",
    "            transportLibraries = '',\n",
    "            reactionLibraries = '',\n",
    "            seedMechanisms = '',\n",
    "            kineticsFamilies = ['CO_Disproportionation'],\n",
    "            kineticsDepositories = ['training'],\n",
    "            depository = False, # Don't bother loading the depository information, as we don't use it\n",
    ")"
   ]
  },
  {
   "cell_type": "code",
   "execution_count": null,
   "metadata": {
    "collapsed": true
   },
   "outputs": [],
   "source": []
  },
  {
   "cell_type": "code",
   "execution_count": null,
   "metadata": {
    "collapsed": true
   },
   "outputs": [],
   "source": [
    "for self in database.kinetics.families.values():\n",
    "    depository = self.getTrainingDepository()\n",
    "index = max([e.index for e in self.rules.getEntries()] or [0]) + 1\n",
    "\n",
    "entries = depository.entries.values()\n",
    "entries.sort(key=lambda x: x.index)\n",
    "reverse_entries = []\n",
    "\n",
    "for entry in entries:\n",
    "    reaction = entry.item\n",
    "    \n",
    "    if True:\n",
    "    \n",
    " #   def getReactionTemplate(self, reaction):\n",
    "        \"\"\"\n",
    "        For a given `reaction` with properly-labeled :class:`Molecule` objects\n",
    "        as the reactants, determine the most specific nodes in the tree that\n",
    "        describe the reaction.\n",
    "        \"\"\"\n",
    "    \n",
    "        # Get forward reaction template and remove any duplicates\n",
    "        forwardTemplate = self.top[:]\n",
    "\n",
    "        temporary = []\n",
    "        symmetricTree = False\n",
    "        for entry in forwardTemplate:\n",
    "            if entry not in temporary:\n",
    "                temporary.append(entry)\n",
    "            else:\n",
    "                # duplicate node found at top of tree\n",
    "                # eg. R_recombination: ['Y_rad', 'Y_rad']\n",
    "                assert len(forwardTemplate)==2 , 'Can currently only do symmetric trees with nothing else in them'\n",
    "                symmetricTree = True\n",
    "        forwardTemplate = temporary\n",
    "\n",
    "        # Descend reactant trees as far as possible\n",
    "        template = []\n",
    "        for entry in forwardTemplate:\n",
    "            # entry is a top-level node that should be matched\n",
    "            group = entry.item\n",
    "\n",
    "            # Identify the atom labels in a group if it is not a logical node\n",
    "            atomList = []\n",
    "            if not isinstance(entry.item, LogicNode):\n",
    "                atomList = group.getLabeledAtoms()\n",
    "\n",
    "            for reactant in reaction.reactants:\n",
    "                if isinstance(reactant, Species):\n",
    "                    reactant = reactant.molecule[0]\n",
    "                # Match labeled atoms\n",
    "                # Check that this reactant has each of the atom labels in this group. If it is a LogicNode,\n",
    "                # the atomList is empty and it will proceed directly to the descendTree step.\n",
    "                if not all([reactant.containsLabeledAtom(label) for label in atomList]):\n",
    "                    continue # don't try to match this structure - the atoms aren't there!\n",
    "                # Match structures\n",
    "                atoms = reactant.getLabeledAtoms()\n",
    "                # Descend the tree, making sure to match atomlabels exactly using strict = True\n",
    "                matched_node = self.descendTree(reactant, atoms, root=entry, strict=True)\n",
    "                if matched_node is not None:\n",
    "                    template.append(matched_node)\n",
    "                #else:\n",
    "                #    logging.warning(\"Couldn't find match for {0} in {1}\".format(entry,atomList))\n",
    "                #    logging.warning(reactant.toAdjacencyList())\n",
    "\n",
    "        # Get fresh templates (with duplicate nodes back in)\n",
    "        forwardTemplate = self.top[:]\n",
    "        if self.label.lower().startswith('r_recombination'):\n",
    "            forwardTemplate.append(forwardTemplate[0])\n",
    "\n",
    "        # Check that we were able to match the template.\n",
    "        # template is a list of the actual matched nodes\n",
    "        # forwardTemplate is a list of the top level nodes that should be matched\n",
    "        if len(template) != len(forwardTemplate):\n",
    "#            print 'len(template):', len(template)\n",
    "#            print 'len(forwardTemplate):', len(forwardTemplate)\n",
    "            msg = 'Unable to find matching template for reaction {0} in reaction family {1}.'.format(str(reaction), str(self)) \n",
    "            msg += 'Trying to match {0} but matched {1}'.format(str(forwardTemplate),str(template))\n",
    "#            print 'reactants'\n",
    "#            for reactant in reaction.reactants:\n",
    "#                print reactant.toAdjacencyList() + '\\n'\n",
    "#            print 'products'\n",
    "#            for product in reaction.products:\n",
    "#                print product.toAdjacencyList() + '\\n'\n",
    "            raise UndeterminableKineticsError(reaction, message=msg)\n",
    "\n",
    "        print \"template: \", template\n",
    "    \n",
    "    "
   ]
  },
  {
   "cell_type": "code",
   "execution_count": null,
   "metadata": {
    "collapsed": true
   },
   "outputs": [],
   "source": [
    "self"
   ]
  },
  {
   "cell_type": "code",
   "execution_count": null,
   "metadata": {
    "collapsed": true
   },
   "outputs": [],
   "source": [
    "import rmgpy.molecule as molecule\n",
    "\n",
    "adj=\"\"\"multiplicity 2\n",
    "1    O u0 p2 c0 {2,D}\n",
    "2    N u0 p1 c0 {1,D} {3,S}\n",
    "3 *1 O u1 p2 c0 {2,S}\"\"\"\n",
    "\n",
    "reactant = molecule.Molecule().fromAdjacencyList(adj)\n",
    "\n",
    "atoms = reactant.getLabeledAtoms()\n",
    "\n",
    "atoms"
   ]
  },
  {
   "cell_type": "code",
   "execution_count": null,
   "metadata": {
    "collapsed": true
   },
   "outputs": [],
   "source": []
  },
  {
   "cell_type": "code",
   "execution_count": null,
   "metadata": {
    "collapsed": true
   },
   "outputs": [],
   "source": []
  },
  {
   "cell_type": "code",
   "execution_count": null,
   "metadata": {
    "collapsed": true
   },
   "outputs": [],
   "source": []
  }
 ],
 "metadata": {
  "kernelspec": {
   "display_name": "rmg_env",
   "language": "python",
   "name": "rmg_env"
  },
  "language_info": {
   "codemirror_mode": {
    "name": "ipython",
    "version": 2
   },
   "file_extension": ".py",
   "mimetype": "text/x-python",
   "name": "python",
   "nbconvert_exporter": "python",
   "pygments_lexer": "ipython2",
   "version": "2.7.13"
  }
 },
 "nbformat": 4,
 "nbformat_minor": 2
}
