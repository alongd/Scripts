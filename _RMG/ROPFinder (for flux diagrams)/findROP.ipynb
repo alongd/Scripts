{
 "cells": [
  {
   "cell_type": "markdown",
   "metadata": {},
   "source": [
    "## finds top ROP"
   ]
  },
  {
   "cell_type": "code",
   "execution_count": 5,
   "metadata": {
    "collapsed": true
   },
   "outputs": [],
   "source": [
    "#filename = 'xa1606Pyr.csv'\n",
    "filename = 'xa1609Oxi.csv'\n",
    "factor = 0.95 # the fraction above which the script stops adding reactions\n",
    "deadEnd = 0.1 # if consumption/totalROP is lower than this, then this species is a deadEnd\n",
    "time = 0.000350 # make sure this exact time appears in the ROP file\n",
    "minWidth = 0.25\n",
    "maxWidth = 7.0\n",
    "rtol = 1e-16"
   ]
  },
  {
   "cell_type": "code",
   "execution_count": 6,
   "metadata": {
    "collapsed": false
   },
   "outputs": [],
   "source": [
    "# read file\n",
    "import csv, re, math\n",
    "from operator import itemgetter\n",
    "ROP = []\n",
    "with open(filename) as f:\n",
    "    csvReader = csv.reader(f)\n",
    "    for row in csvReader:\n",
    "        if 'Time (sec)' in row[0]:\n",
    "            ROP.append(row) # ROP[0] is the headers row\n",
    "        else:\n",
    "            if time == float(row[0]):\n",
    "                ROP.append(row) # ROP[1] is the data row"
   ]
  },
  {
   "cell_type": "code",
   "execution_count": 7,
   "metadata": {
    "collapsed": false
   },
   "outputs": [],
   "source": [
    "# get species\n",
    "species = ['Time (sec)']\n",
    "for col in ROP[0]:\n",
    "    name = re.search('[^_]*', col).group(0)\n",
    "    if name != species[-1]:\n",
    "        species.append(name)\n",
    "\n",
    "# extract data\n",
    "output = {} # output dictionary. level 1: species; level 2: significantRates, normalizedRates, significantRxns, totalROP\n",
    "col = 1 # skip the Time column\n",
    "for spc in species[1:]:\n",
    "    totalROP = ROP[1][col] # this is saved in the original sign (positive for net generation and vice versa);\n",
    "    col += 1 # skip the ROP_total column, it includes production and consumption, we only care about consumption\n",
    "    totalConsumption = 0\n",
    "    rates = []\n",
    "    rxns = []\n",
    "    while re.search('[^_]*', ROP[0][col]).group(0) == spc:\n",
    "        if float(ROP[1][col]) < 0: # only look at consumption rates\n",
    "            totalConsumption -= float(ROP[1][col])# but report in positive terms for further processing\n",
    "            rates.append(-float(ROP[1][col]))\n",
    "            rxns.append(ROP[0][col])\n",
    "        col += 1\n",
    "        if col == len(ROP[0]):\n",
    "            break\n",
    "    combined = zip(rates,rxns)\n",
    "    rated = sorted(combined, key=itemgetter(0),reverse=True)\n",
    "    significantRates = []\n",
    "    normalizedRates = [] # space saver; will be calculated later on\n",
    "    significantRxns = []\n",
    "    cummulativeRate = 0\n",
    "    for rateRxnCuople in rated:\n",
    "        cummulativeRate += rateRxnCuople[0] # always add at least the first one\n",
    "        significantRates.append(rateRxnCuople[0])\n",
    "        normalizedRates.append(-1/math.log(rateRxnCuople[0])) # normalized = -1/ln(rate) at first\n",
    "        significantRxns.append(rateRxnCuople[1])\n",
    "        if cummulativeRate / totalConsumption > factor: # check if we're above definded percentage\n",
    "            break\n",
    "    output[spc] = [significantRates, normalizedRates, significantRxns, float(totalROP), -totalConsumption]\n",
    "\n",
    "# get overall min and max normalizedRates for final normalization\n",
    "maxRate = 0.00001\n",
    "minspc = ''\n",
    "minRate = 1.0\n",
    "for spc in species[1:]:\n",
    "    for i in xrange(len(output[spc][1])):\n",
    "        if output[spc][0][i] < maxRate * rtol:\n",
    "            output[spc][1][i] = 0.0\n",
    "        Nrate = output[spc][1][i]\n",
    "        # for min rate make sure this isn't a deadEnd species\n",
    "        if output[spc][3] > 0 and abs(output[spc][4]) / abs(output[spc][3]) > deadEnd and Nrate < minRate and Nrate:\n",
    "            minRate = Nrate\n",
    "            minspc = spc\n",
    "        elif Nrate > maxRate:\n",
    "            maxRate = Nrate\n",
    "\n",
    "# finalize normalization\n",
    "for spc in species[1:]:\n",
    "    for i in xrange(len(output[spc][1])):\n",
    "        if output[spc][1][i]:\n",
    "            output[spc][1][i] = minWidth + (output[spc][1][i]-minRate)*(maxWidth-minWidth)/(maxRate-minRate)"
   ]
  },
  {
   "cell_type": "code",
   "execution_count": 43,
   "metadata": {
    "collapsed": false
   },
   "outputs": [
    {
     "name": "stdout",
     "output_type": "stream",
     "text": [
      "Species: H(5)\n",
      "Total significant reactions: 2\n",
      "\n",
      "\n",
      "1.  Width: 7.0 for rxn: H(5)_ROP_H(5)+O2(2)<=>O(6)+OH(3)_GasRxn#1 (mole/cm3-sec)\n",
      "\n",
      "2.  Width: 5.25 for rxn: H(5)_ROP_H(5)+CH2O(36)<=>H2(7)+HCO(32)_GasRxn#430 (mole/cm3-sec)\n",
      "\n",
      "\n",
      "Consumption ratio: 4.34\n"
     ]
    }
   ],
   "source": [
    "spc = 'H(5)' # species to process\n",
    "\n",
    "print \"Species: {0}\".format(spc)\n",
    "print \"Total significant reactions: {0}\\n\".format(len(output[spc][2]))\n",
    "\n",
    "for i in xrange(len(output[spc][2])):\n",
    "    print \"\\n{0}.  Width: {1:.3} for rxn: {2}\".format(i+1, output[spc][1][i], output[spc][2][i])\n",
    "\n",
    "print \"\\n\\nConsumption ratio: {0:.3}\".format(abs(output[spc][4]) / abs(output[spc][3]))\n",
    "if output[spc][3] > 0 and abs(output[spc][4]) / abs(output[spc][3]) < deadEnd:\n",
    "    print \"\\n{0} is a dead end species!\".format(spc)"
   ]
  },
  {
   "cell_type": "code",
   "execution_count": null,
   "metadata": {
    "collapsed": true
   },
   "outputs": [],
   "source": [
    "# output['C2H4(24)']"
   ]
  },
  {
   "cell_type": "code",
   "execution_count": null,
   "metadata": {
    "collapsed": false
   },
   "outputs": [],
   "source": [
    "minspc"
   ]
  },
  {
   "cell_type": "code",
   "execution_count": null,
   "metadata": {
    "collapsed": false
   },
   "outputs": [],
   "source": [
    "minRate"
   ]
  },
  {
   "cell_type": "code",
   "execution_count": null,
   "metadata": {
    "collapsed": true
   },
   "outputs": [],
   "source": [
    "output[spc][3] > 0 and abs(output[spc][4]) / abs(output[spc][3])"
   ]
  },
  {
   "cell_type": "code",
   "execution_count": null,
   "metadata": {
    "collapsed": false
   },
   "outputs": [],
   "source": [
    "output['CH3OO(128)']"
   ]
  },
  {
   "cell_type": "code",
   "execution_count": null,
   "metadata": {
    "collapsed": false
   },
   "outputs": [],
   "source": [
    "abs(output['CH3OO(128)'][4]) / abs(output['CH3OO(128)'][3])"
   ]
  },
  {
   "cell_type": "code",
   "execution_count": null,
   "metadata": {
    "collapsed": false
   },
   "outputs": [],
   "source": [
    "output"
   ]
  },
  {
   "cell_type": "code",
   "execution_count": null,
   "metadata": {
    "collapsed": true
   },
   "outputs": [],
   "source": []
  }
 ],
 "metadata": {
  "anaconda-cloud": {},
  "kernelspec": {
   "display_name": "Python [default]",
   "language": "python",
   "name": "python2"
  },
  "language_info": {
   "codemirror_mode": {
    "name": "ipython",
    "version": 2
   },
   "file_extension": ".py",
   "mimetype": "text/x-python",
   "name": "python",
   "nbconvert_exporter": "python",
   "pygments_lexer": "ipython2",
   "version": "2.7.12"
  }
 },
 "nbformat": 4,
 "nbformat_minor": 1
}
