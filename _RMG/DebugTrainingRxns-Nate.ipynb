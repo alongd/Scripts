{
 "cells": [
  {
   "cell_type": "code",
   "execution_count": 1,
   "metadata": {
    "collapsed": true
   },
   "outputs": [],
   "source": [
    "from rmgpy.data.rmg import RMGDatabase\n",
    "from rmgpy.chemkin import saveChemkinFile, saveSpeciesDictionary\n",
    "from rmgpy.rmg.model import Species\n",
    "from rmgpy import settings"
   ]
  },
  {
   "cell_type": "code",
   "execution_count": 2,
   "metadata": {
    "collapsed": true
   },
   "outputs": [],
   "source": [
    "database = RMGDatabase()\n",
    "database.load(\n",
    "    path = settings['database.directory'], \n",
    "    thermoLibraries = ['primaryThermoLibrary'], # can add others if necessary\n",
    "    kineticsFamilies = 'all', \n",
    "    reactionLibraries = [],\n",
    "    kineticsDepositories = 'all'\n",
    ")"
   ]
  },
  {
   "cell_type": "code",
   "execution_count": 3,
   "metadata": {
    "collapsed": true
   },
   "outputs": [],
   "source": [
    "def getEntry(label):\n",
    "    return database.kinetics.families['H_Abstraction'].groups.entries[label]\n",
    "\n",
    "database.kinetics.families['H_Abstraction'].fillKineticsRulesByAveragingUp()"
   ]
  },
  {
   "cell_type": "code",
   "execution_count": 4,
   "metadata": {},
   "outputs": [
    {
     "data": {
      "text/plain": [
       "(ArrheniusEP(A=(0.0213757,'m^3/(mol*s)'), n=2.06825, alpha=0, E0=(8.46842,'kJ/mol'), comment=\"\"\"Average of [Average of [O_H;OOC + Cs_H;OOC] + Orad_O_H;O_rad/NonDeO]\n",
       " Estimated using average of templates [X_H;OOC] + [Orad_O_H;O_rad/NonDeO] for rate rule [Orad_O_H;OOC]\n",
       " Euclidian distance = 1.0\n",
       " family: H_Abstraction\"\"\"), None)"
      ]
     },
     "execution_count": 4,
     "metadata": {},
     "output_type": "execute_result"
    }
   ],
   "source": [
    "# database.kinetics.families['H_Abstraction'].rules.entries['Orad_O_H;OOC']\n",
    "database.kinetics.families['H_Abstraction'].getKineticsForTemplate([getEntry(\"Orad_O_H\"), getEntry(\"OOC\")])"
   ]
  },
  {
   "cell_type": "code",
   "execution_count": 8,
   "metadata": {},
   "outputs": [
    {
     "data": {
      "text/plain": [
       "ArrheniusEP(A=(2.61098e-08,'m^3/(mol*s)'), n=4.1365, alpha=0, E0=(30.6394,'kJ/mol'), comment=\"\"\"Average of [O_H;OOC + Cs_H;OOC]\"\"\")"
      ]
     },
     "execution_count": 8,
     "metadata": {},
     "output_type": "execute_result"
    }
   ],
   "source": [
    "database.kinetics.families['H_Abstraction'].rules.entries['X_H;OOC'][0].data"
   ]
  },
  {
   "cell_type": "code",
   "execution_count": null,
   "metadata": {
    "collapsed": true
   },
   "outputs": [],
   "source": [
    "dir(database.kinetics.families['H_Abstraction'])"
   ]
  },
  {
   "cell_type": "code",
   "execution_count": null,
   "metadata": {
    "collapsed": true
   },
   "outputs": [],
   "source": []
  }
 ],
 "metadata": {
  "kernelspec": {
   "display_name": "rmg_env",
   "language": "python",
   "name": "rmg_env"
  },
  "language_info": {
   "codemirror_mode": {
    "name": "ipython",
    "version": 2
   },
   "file_extension": ".py",
   "mimetype": "text/x-python",
   "name": "python",
   "nbconvert_exporter": "python",
   "pygments_lexer": "ipython2",
   "version": "2.7.13"
  }
 },
 "nbformat": 4,
 "nbformat_minor": 2
}
