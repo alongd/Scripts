{
 "cells": [
  {
   "cell_type": "code",
   "execution_count": null,
   "metadata": {
    "collapsed": true
   },
   "outputs": [],
   "source": [
    "%matplotlib inline\n",
    "import numpy as np\n",
    "import matplotlib.pyplot as plt\n",
    "\n",
    "from rmgpy.chemkin import readThermoEntry"
   ]
  },
  {
   "cell_type": "code",
   "execution_count": null,
   "metadata": {
    "collapsed": true
   },
   "outputs": [],
   "source": [
    "# NASA polynomials\n",
    "\n",
    "data = [\n",
    "    \"\"\"S(16662)                H   8C  12          G   100.000  5000.000 1048.84      1\n",
    " 1.72305567E+01 4.27330689E-02-1.86066312E-05 3.65472188E-09-2.66190366E-13    2\n",
    " 1.74743699E+04-6.77110252E+01 3.34031214E-01 6.05669789E-02 2.25406696E-05    3\n",
    "-6.48654752E-08 2.61645367E-11 2.35821360E+04 2.68309196E+01                   4\n",
    "    \"\"\",\n",
    "    \"\"\"S(14876)                H  10C  14          G   100.000  5000.000  987.00      1\n",
    " 2.24758673E+01 4.51466886E-02-1.71295179E-05 3.25529909E-09-2.38522805E-13    2\n",
    " 1.41347653E+04-1.02120795E+02-4.98473374E-01 7.10259377E-02 4.57103844E-05    3\n",
    "-1.08199644E-07 4.54717625E-11 2.19445266E+04 2.50052046E+01                   4\n",
    "    \"\"\"\n",
    "]\n",
    "\n",
    "labels = [\n",
    "    'Acenaphtylene',\n",
    "    'Phenanthrene',\n",
    "]"
   ]
  },
  {
   "cell_type": "code",
   "execution_count": null,
   "metadata": {
    "collapsed": false
   },
   "outputs": [],
   "source": [
    "thermo = []\n",
    "for entry in data:\n",
    "    thermo.append(readThermoEntry(entry)[1])"
   ]
  },
  {
   "cell_type": "code",
   "execution_count": null,
   "metadata": {
    "collapsed": false
   },
   "outputs": [],
   "source": [
    "tlist = np.linspace(300, 3000, 100)\n",
    "Cpall = []\n",
    "Hall = []\n",
    "Sall = []\n",
    "Gall = []\n",
    "for entry in thermo:\n",
    "    Cplist = np.zeros_like(tlist)\n",
    "    Hlist = np.zeros_like(tlist)\n",
    "    Slist = np.zeros_like(tlist)\n",
    "    Glist = np.zeros_like(tlist)\n",
    "    for i, t in enumerate(tlist):\n",
    "        Cplist[i] = entry.getHeatCapacity(t) / 4.184\n",
    "        Hlist[i] = entry.getEnthalpy(t) / 4184\n",
    "        Slist[i] = entry.getEntropy(t) / 4.184\n",
    "        Glist[i] = entry.getFreeEnergy(t) / 4184\n",
    "    Cpall.append(Cplist)\n",
    "    Hall.append(Hlist)\n",
    "    Sall.append(Slist)\n",
    "    Gall.append(Glist)"
   ]
  },
  {
   "cell_type": "code",
   "execution_count": null,
   "metadata": {
    "collapsed": false
   },
   "outputs": [],
   "source": [
    "for item, label in zip(Cpall, labels):\n",
    "    plt.plot(tlist, item, label=label)\n",
    "plt.xlabel('Temperature (K)')\n",
    "plt.ylabel('Heat Capacity (cal/mol-K)')\n",
    "plt.legend(loc=4)\n",
    "plt.show()"
   ]
  },
  {
   "cell_type": "code",
   "execution_count": null,
   "metadata": {
    "collapsed": false
   },
   "outputs": [],
   "source": [
    "for item, label in zip(Hall, labels):\n",
    "    plt.plot(tlist, item, label=label)\n",
    "plt.xlabel('Temperature (K)')\n",
    "plt.ylabel('Enthalpy (kcal/mol-K)')\n",
    "plt.legend(loc=2)\n",
    "plt.show()"
   ]
  },
  {
   "cell_type": "code",
   "execution_count": null,
   "metadata": {
    "collapsed": false
   },
   "outputs": [],
   "source": [
    "for item, label in zip(Sall, labels):\n",
    "    plt.plot(tlist, item, label=label)\n",
    "plt.xlabel('Temperature (K)')\n",
    "plt.ylabel('Entropy (cal/mol-K)')\n",
    "plt.legend(loc=4)\n",
    "plt.show()"
   ]
  },
  {
   "cell_type": "code",
   "execution_count": null,
   "metadata": {
    "collapsed": false
   },
   "outputs": [],
   "source": [
    "for item, label in zip(Gall, labels):\n",
    "    plt.plot(tlist, item, label=label)\n",
    "plt.xlabel('Temperature (K)')\n",
    "plt.ylabel('Free Energy (kcal/mol-K)')\n",
    "plt.legend(loc=3)\n",
    "plt.show()"
   ]
  },
  {
   "cell_type": "code",
   "execution_count": null,
   "metadata": {
    "collapsed": true
   },
   "outputs": [],
   "source": []
  }
 ],
 "metadata": {
  "anaconda-cloud": {},
  "kernelspec": {
   "display_name": "Python [conda env:rmg_env]",
   "language": "python",
   "name": "conda-env-rmg_env-py"
  },
  "language_info": {
   "codemirror_mode": {
    "name": "ipython",
    "version": 2
   },
   "file_extension": ".py",
   "mimetype": "text/x-python",
   "name": "python",
   "nbconvert_exporter": "python",
   "pygments_lexer": "ipython2",
   "version": "2.7.12"
  }
 },
 "nbformat": 4,
 "nbformat_minor": 1
}
