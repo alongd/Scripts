{
 "cells": [
  {
   "cell_type": "code",
   "execution_count": 22,
   "metadata": {
    "collapsed": true
   },
   "outputs": [],
   "source": [
    "libraryName = ['NG_HTP','NG_HTP_PDep']"
   ]
  },
  {
   "cell_type": "code",
   "execution_count": 7,
   "metadata": {},
   "outputs": [],
   "source": [
    "from rmgpy.data.kinetics.library import LibraryReaction, KineticsLibrary\n",
    "from rmgpy.data.kinetics.database import KineticsDatabase\n",
    "\n",
    "database = KineticsDatabase()\n",
    "\n",
    "\n",
    "library_file = '/home/alongd/Code/RMG-database/input/kinetics/libraries/'+libraryName[0]+'/reactions.py'\n",
    "\n",
    "library = KineticsLibrary(label=libraryName[0])\n",
    "library.load(library_file, database.local_context, database.global_context)\n"
   ]
  },
  {
   "cell_type": "code",
   "execution_count": 23,
   "metadata": {},
   "outputs": [],
   "source": [
    "newLibrary = KineticsLibrary(label=libraryName[1])\n",
    "\n",
    "newi = 0\n",
    "for i, entry in library.entries.iteritems():\n",
    "    if entry.item.isUnimolecular():\n",
    "        newi += 1\n",
    "        newLibrary.entries[newi] = library.entries[i]\n",
    "        "
   ]
  },
  {
   "cell_type": "code",
   "execution_count": 24,
   "metadata": {},
   "outputs": [],
   "source": [
    "import os\n",
    "path = os.getcwd()\n",
    "newLibrary.save(path+'/output/output.py')"
   ]
  },
  {
   "cell_type": "code",
   "execution_count": null,
   "metadata": {
    "collapsed": true
   },
   "outputs": [],
   "source": []
  }
 ],
 "metadata": {
  "kernelspec": {
   "display_name": "rmg_env",
   "language": "python",
   "name": "rmg_env"
  },
  "language_info": {
   "codemirror_mode": {
    "name": "ipython",
    "version": 2
   },
   "file_extension": ".py",
   "mimetype": "text/x-python",
   "name": "python",
   "nbconvert_exporter": "python",
   "pygments_lexer": "ipython2",
   "version": "2.7.13"
  }
 },
 "nbformat": 4,
 "nbformat_minor": 2
}
