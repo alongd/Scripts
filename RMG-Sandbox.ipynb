{
 "cells": [
  {
   "cell_type": "code",
   "execution_count": 1,
   "metadata": {
    "collapsed": true
   },
   "outputs": [],
   "source": [
    "from rmgpy.data.rmg import getDB"
   ]
  },
  {
   "cell_type": "code",
   "execution_count": 3,
   "metadata": {},
   "outputs": [
    {
     "ename": "DatabaseError",
     "evalue": "",
     "output_type": "error",
     "traceback": [
      "\u001b[0;31m---------------------------------------------------------------------------\u001b[0m",
      "\u001b[0;31mDatabaseError\u001b[0m                             Traceback (most recent call last)",
      "\u001b[0;32m<ipython-input-3-4a96edfae375>\u001b[0m in \u001b[0;36m<module>\u001b[0;34m()\u001b[0m\n\u001b[0;32m----> 1\u001b[0;31m \u001b[0mtransportDB\u001b[0m \u001b[0;34m=\u001b[0m \u001b[0mgetDB\u001b[0m\u001b[0;34m(\u001b[0m\u001b[0;34m'kinetics'\u001b[0m\u001b[0;34m)\u001b[0m\u001b[0;34m\u001b[0m\u001b[0m\n\u001b[0m",
      "\u001b[0;32m/home/alongd/Code/RMG-Py/rmgpy/data/rmg.pyc\u001b[0m in \u001b[0;36mgetDB\u001b[0;34m(name)\u001b[0m\n\u001b[1;32m    269\u001b[0m         \u001b[0;32mexcept\u001b[0m \u001b[0mDatabaseError\u001b[0m\u001b[0;34m,\u001b[0m \u001b[0me\u001b[0m\u001b[0;34m:\u001b[0m\u001b[0;34m\u001b[0m\u001b[0m\n\u001b[1;32m    270\u001b[0m             \u001b[0mlogging\u001b[0m\u001b[0;34m.\u001b[0m\u001b[0mdebug\u001b[0m\u001b[0;34m(\u001b[0m\u001b[0;34m\"Did not find a way to obtain the broadcasted database for {}.\"\u001b[0m\u001b[0;34m.\u001b[0m\u001b[0mformat\u001b[0m\u001b[0;34m(\u001b[0m\u001b[0mname\u001b[0m\u001b[0;34m)\u001b[0m\u001b[0;34m)\u001b[0m\u001b[0;34m\u001b[0m\u001b[0m\n\u001b[0;32m--> 271\u001b[0;31m             \u001b[0;32mraise\u001b[0m \u001b[0me\u001b[0m\u001b[0;34m\u001b[0m\u001b[0m\n\u001b[0m\u001b[1;32m    272\u001b[0m \u001b[0;34m\u001b[0m\u001b[0m\n\u001b[1;32m    273\u001b[0m     \u001b[0;32mraise\u001b[0m \u001b[0mDatabaseError\u001b[0m\u001b[0;34m(\u001b[0m\u001b[0;34m'Could not get database with name: {}'\u001b[0m\u001b[0;34m.\u001b[0m\u001b[0mformat\u001b[0m\u001b[0;34m(\u001b[0m\u001b[0mname\u001b[0m\u001b[0;34m)\u001b[0m\u001b[0;34m)\u001b[0m\u001b[0;34m\u001b[0m\u001b[0m\n",
      "\u001b[0;31mDatabaseError\u001b[0m: "
     ]
    }
   ],
   "source": [
    "transportDB = getDB('kinetics')"
   ]
  },
  {
   "cell_type": "code",
   "execution_count": null,
   "metadata": {
    "collapsed": true
   },
   "outputs": [],
   "source": []
  },
  {
   "cell_type": "code",
   "execution_count": null,
   "metadata": {
    "collapsed": true
   },
   "outputs": [],
   "source": []
  },
  {
   "cell_type": "code",
   "execution_count": null,
   "metadata": {
    "collapsed": true
   },
   "outputs": [],
   "source": []
  },
  {
   "cell_type": "code",
   "execution_count": null,
   "metadata": {
    "collapsed": true
   },
   "outputs": [],
   "source": []
  },
  {
   "cell_type": "code",
   "execution_count": 1,
   "metadata": {},
   "outputs": [
    {
     "data": {
      "image/png": "[encoded data removed]",
      "text/plain": [
       "Molecule(SMILES=\"S(=O)(S(=O)[O])[O]\")"
      ]
     },
     "metadata": {},
     "output_type": "display_data"
    },
    {
     "data": {
      "image/png": "[encoded data removed]",
      "text/plain": [
       "Molecule(SMILES=\"S(=O)(S(=O)[O])[O]\")"
      ]
     },
     "metadata": {},
     "output_type": "display_data"
    },
    {
     "data": {
      "image/png": "[encoded data removed]",
      "text/plain": [
       "Molecule(SMILES=\"C(#N)[N]\")"
      ]
     },
     "metadata": {},
     "output_type": "display_data"
    }
   ],
   "source": [
    "import rmgpy.molecule as molecule\n",
    "from IPython.display import display\n",
    "\n",
    "mol1 = \"\"\"multiplicity 3\n",
    "1 S u0 p1 c0 {2,S} {3,D} {6,S}\n",
    "2 S u0 p1 c0 {1,S} {4,D} {5,S}\n",
    "3 O u0 p2 c0 {1,D}\n",
    "4 O u0 p2 c0 {2,D}\n",
    "5 O u1 p2 c0 {2,S}\n",
    "6 O u1 p2 c0 {1,S}\"\"\"\n",
    "\n",
    "mol2 = \"\"\"multiplicity 3\n",
    "1 S u0 p1 c0 {2,S} {3,D} {6,S}\n",
    "2 S u0 p1 c0 {1,S} {4,S} {5,D}\n",
    "3 O u0 p2 c0 {1,D}\n",
    "4 O u1 p2 c0 {2,S}\n",
    "5 O u0 p2 c0 {2,D}\n",
    "6 O u1 p2 c0 {1,S}\"\"\"\n",
    "\n",
    "mol3 = \"\"\"1 C u0 p0 c0 {2,T} {3,S}\n",
    "2 N u0 p1 c0 {1,T}\n",
    "3 N u0 p2 c0 {1,S}\"\"\"\n",
    "\n",
    "mol1 = molecule.Molecule().fromAdjacencyList(mol1)\n",
    "mol2 = molecule.Molecule().fromAdjacencyList(mol2)\n",
    "mol3 = molecule.Molecule().fromAdjacencyList(mol3)\n",
    "\n",
    "display(mol1)\n",
    "display(mol2)\n",
    "display(mol3)"
   ]
  },
  {
   "cell_type": "code",
   "execution_count": 2,
   "metadata": {},
   "outputs": [
    {
     "data": {
      "text/plain": [
       "True"
      ]
     },
     "execution_count": 2,
     "metadata": {},
     "output_type": "execute_result"
    }
   ],
   "source": [
    "mol1.isIsomorphic(mol2)"
   ]
  },
  {
   "cell_type": "code",
   "execution_count": 5,
   "metadata": {},
   "outputs": [
    {
     "name": "stdout",
     "output_type": "stream",
     "text": [
      "0\n",
      "1\n"
     ]
    }
   ],
   "source": [
    "molList = [5,9]\n",
    "for index in xrange(len(molList)):\n",
    "    print index"
   ]
  },
  {
   "cell_type": "code",
   "execution_count": 14,
   "metadata": {},
   "outputs": [
    {
     "name": "stdout",
     "output_type": "stream",
     "text": [
      "True\n",
      "\n",
      "\n",
      "\n",
      "\n",
      "(Species(index=1, label=\"multiplicity 3\", molecule=[Molecule(SMILES=\"C(=[N])=[N]\"), Molecule(SMILES=\"C(#N)[N]\"), Molecule(SMILES=\"C(#N)[N]\"), Molecule(SMILES=\"C(#N)[N]\"), Molecule(SMILES=\"C(#N)[N]\"), Molecule(SMILES=\"C(#N)[N]\"), Molecule(SMILES=\"C(#N)[N]\")], molecularWeight=(40.0242,'amu'), energyTransferModel=SingleExponentialDown(alpha0=(3.5886,'kJ/mol'), T0=(300,'K'), n=0.85)), False)\n",
      "False\n",
      "False\n",
      "False\n",
      "False\n",
      "True\n",
      "False\n",
      "True\n"
     ]
    }
   ],
   "source": [
    "import rmgpy.rmg.model as model\n",
    "import rmgpy.species as species\n",
    "\n",
    "adj = \"\"\"multiplicity 3\n",
    "1 N u1 p1 c0 {2,D}\n",
    "2 C u0 p0 c0 {1,D} {3,D}\n",
    "3 N u1 p1 c0 {2,D}\"\"\"\n",
    "\n",
    "spc = species.Species().fromAdjacencyList(adj)\n",
    "\n",
    "for mol in spc.molecule:\n",
    "    print mol.reactive\n",
    "print '\\n\\n\\n'\n",
    "\n",
    "cerm = model.CoreEdgeReactionModel()\n",
    "out1 = cerm.makeNewSpecies(spc)\n",
    "\n",
    "out2 = cerm.makeNewSpecies(spc)\n",
    "\n",
    "print out2\n",
    "for mol in out2[0].molecule:\n",
    "    print mol.reactive\n",
    "\n",
    "\n",
    "\n"
   ]
  },
  {
   "cell_type": "code",
   "execution_count": 25,
   "metadata": {},
   "outputs": [
    {
     "name": "stdout",
     "output_type": "stream",
     "text": [
      "[Molecule(SMILES=\"C\"), Molecule(SMILES=\"CC\"), Molecule(SMILES=\"CCC\"), Molecule(SMILES=\"CCCC\"), Molecule(SMILES=\"CCCCC\")]\n",
      "[Molecule(SMILES=\"CC\"), Molecule(SMILES=\"CCC\"), Molecule(SMILES=\"CCCCC\"), Molecule(SMILES=\"C\"), Molecule(SMILES=\"CCCC\")]\n",
      "True\n",
      "True\n",
      "True\n",
      "False\n",
      "False\n"
     ]
    }
   ],
   "source": [
    "from rmgpy.molecule.molecule import Molecule\n",
    "mol1 = Molecule(SMILES='C')\n",
    "mol1.reactive=False\n",
    "mol2 = Molecule(SMILES='CC')\n",
    "mol3 = Molecule(SMILES='CCC')\n",
    "mol4 = Molecule(SMILES='CCCC')\n",
    "mol4.reactive=False\n",
    "mol5 = Molecule(SMILES='CCCCC')\n",
    "\n",
    "list = [mol1,mol2,mol3,mol4,mol5]\n",
    "print list\n",
    "list.sort(key=lambda x: x.reactive, reverse=True)\n",
    "print list\n",
    "for mol in list:\n",
    "    print mol.reactive"
   ]
  },
  {
   "cell_type": "code",
   "execution_count": 84,
   "metadata": {},
   "outputs": [
    {
     "name": "stdout",
     "output_type": "stream",
     "text": [
      "[ 384162.  332875.  332875.  331410.  331410.]\n",
      "[3 4 1 2 0]\n",
      "[4 1 0 3 2]\n"
     ]
    }
   ],
   "source": [
    "from rmgpy.molecule.molecule import Molecule\n",
    "mol1 = Molecule(SMILES='C')\n",
    "mol1.reactive=False\n",
    "mol2 = Molecule(SMILES='CC')\n",
    "mol3 = Molecule(SMILES='CCC')\n",
    "mol4 = Molecule(SMILES='CCCC')\n",
    "mol4.reactive=False\n",
    "mol5 = Molecule(SMILES='CCCCC')\n",
    "\n",
    "list1 = [mol1,mol2,mol3,mol4,mol5]\n",
    "\n",
    "from rmgpy.thermo import ThermoData\n",
    "import numpy\n",
    "thermoDataList = [ThermoData(Tdata=([300,400,500,600,800,1000,1500],'K'), Cpdata=([152.948,200.041,243.133,279.061,333.115,370.984,428],'J/(mol*K)'), H298=(384.162,'kJ/mol'), S298=(410.829,'J/(mol*K)'), comment=\"\"\"Thermo group additivity estimation: group(Cs-CsCsCsH) + group(Cs-(Cds-Cds)(Cds-Cds)CsH) + group(Cs-(Cds-Cds)CsHH) + group(Cs-(Cds-Cds)CsHH) + group(Cds-CdsCsH) + group(Cds-CdsCsH) + group(Cds-CdsCsH) + group(Cds-CdsCsH) + group(Cds-Cds(Cds-Cds)H) + group(Cds-Cds(Cds-Cds)H) + ring(Cyclopentene) + ring(Cyclopentadiene) + radical(Tertalkyl)\"\"\"), ThermoData(Tdata=([300,400,500,600,800,1000,1500],'K'), Cpdata=([160.969,213.103,254.401,284.893,332.985,376.913,430.28],'J/(mol*K)'), H298=(332.875,'kJ/mol'), S298=(391.344,'J/(mol*K)'), comment=\"\"\"Thermo group additivity estimation: group(Cs-(Cds-Cds)CsCsH) + group(Cs-(Cds-Cds)CsHH) + group(Cs-(Cds-Cds)CsHH) + group(Cs-(Cds-Cds)(Cds-Cds)HH) + group(Cds-Cds(Cds-Cds)Cs) + group(Cds-CdsCsH) + group(Cds-CdsCsH) + group(Cds-CdsCsH) + group(Cds-CdsCsH) + group(Cds-Cds(Cds-Cds)H) + ring(Cyclopentadiene) + ring(Cyclopentene) + radical(1,3-cyclopentadiene-allyl)\"\"\"), ThermoData(Tdata=([300,400,500,600,800,1000,1500],'K'), Cpdata=([160.969,213.103,254.401,284.893,332.985,376.913,430.28],'J/(mol*K)'), H298=(332.875,'kJ/mol'), S298=(391.344,'J/(mol*K)'), comment=\"\"\"Thermo group additivity estimation: group(Cs-(Cds-Cds)CsCsH) + group(Cs-(Cds-Cds)CsHH) + group(Cs-(Cds-Cds)CsHH) + group(Cs-(Cds-Cds)(Cds-Cds)HH) + group(Cds-Cds(Cds-Cds)Cs) + group(Cds-CdsCsH) + group(Cds-CdsCsH) + group(Cds-CdsCsH) + group(Cds-CdsCsH) + group(Cds-Cds(Cds-Cds)H) + ring(Cyclopentadiene) + ring(Cyclopentene) + radical(1,3-cyclopentadiene-allyl)\"\"\"), ThermoData(Tdata=([300,400,500,600,800,1000,1500],'K'), Cpdata=([160.969,213.103,254.401,284.893,332.985,376.913,430.28],'J/(mol*K)'), H298=(331.41,'kJ/mol'), S298=(392.641,'J/(mol*K)'), comment=\"\"\"Thermo group additivity estimation: group(Cs-(Cds-Cds)CsCsH) + group(Cs-(Cds-Cds)CsHH) + group(Cs-(Cds-Cds)CsHH) + group(Cs-(Cds-Cds)(Cds-Cds)HH) + group(Cds-CdsCsCs) + group(Cds-CdsCsH) + group(Cds-CdsCsH) + group(Cds-CdsCsH) + group(Cds-Cds(Cds-Cds)H) + group(Cds-Cds(Cds-Cds)H) + ring(Cyclopentene) + ring(Cyclopentadiene) + radical(1,3-cyclopentadiene-allyl)\"\"\"), ThermoData(Tdata=([300,400,500,600,800,1000,1500],'K'), Cpdata=([160.969,213.103,254.401,284.893,332.985,376.913,430.28],'J/(mol*K)'), H298=(331.41,'kJ/mol'), S298=(392.641,'J/(mol*K)'), comment=\"\"\"Thermo group additivity estimation: group(Cs-(Cds-Cds)CsCsH) + group(Cs-(Cds-Cds)CsHH) + group(Cs-(Cds-Cds)CsHH) + group(Cs-(Cds-Cds)(Cds-Cds)HH) + group(Cds-CdsCsCs) + group(Cds-CdsCsH) + group(Cds-CdsCsH) + group(Cds-CdsCsH) + group(Cds-Cds(Cds-Cds)H) + group(Cds-Cds(Cds-Cds)H) + ring(Cyclopentene) + ring(Cyclopentadiene) + radical(1,3-cyclopentadiene-allyl)\"\"\")]\n",
    "\n",
    "H298 = numpy.array([t.getEnthalpy(298.) for t in thermoDataList])\n",
    "\n",
    "print H298\n",
    "\n",
    "indices = H298.argsort()\n",
    "\n",
    "print indices\n",
    "\n",
    "# indices_copy = indices\n",
    "# for i in xrange(len(indices)):\n",
    "#     if list[i].reactive == False:\n",
    "#         for j in xrange(len(indices)):\n",
    "#             if i == indices[j]:\n",
    "#                 indices_copy = numpy.append(numpy.delete(indices_copy, indices[j]), indices[j])\n",
    "                \n",
    "indices = numpy.array([indices[i] for i in xrange(len(indices)) if list1[i].reactive] +\n",
    "                            [indices[i] for i in xrange(len(indices)) if not list1[i].reactive])\n",
    "\n",
    "\n",
    "\n",
    "print indices\n",
    "\n",
    "\n",
    "# indices = numpy.append(indices, numpy.delete(indices, numpy.argwhere(i)))"
   ]
  },
  {
   "cell_type": "code",
   "execution_count": 62,
   "metadata": {},
   "outputs": [
    {
     "name": "stdout",
     "output_type": "stream",
     "text": [
      "[4 1 2 5]\n"
     ]
    }
   ],
   "source": [
    "print numpy.append(indices_copy, 5)"
   ]
  },
  {
   "cell_type": "code",
   "execution_count": 60,
   "metadata": {},
   "outputs": [
    {
     "name": "stdout",
     "output_type": "stream",
     "text": [
      "0\n"
     ]
    }
   ],
   "source": [
    "print indices[j]"
   ]
  },
  {
   "cell_type": "code",
   "execution_count": 63,
   "metadata": {},
   "outputs": [
    {
     "name": "stdout",
     "output_type": "stream",
     "text": [
      "[4 1 2]\n"
     ]
    }
   ],
   "source": [
    "print indices_copy"
   ]
  }
 ],
 "metadata": {
  "kernelspec": {
   "display_name": "rmg_env",
   "language": "python",
   "name": "rmg_env"
  },
  "language_info": {
   "codemirror_mode": {
    "name": "ipython",
    "version": 2
   },
   "file_extension": ".py",
   "mimetype": "text/x-python",
   "name": "python",
   "nbconvert_exporter": "python",
   "pygments_lexer": "ipython2",
   "version": "2.7.13"
  }
 },
 "nbformat": 4,
 "nbformat_minor": 2
}
